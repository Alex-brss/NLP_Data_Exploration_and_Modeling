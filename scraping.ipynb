{
 "cells": [
  {
   "cell_type": "code",
   "execution_count": 3,
   "metadata": {},
   "outputs": [],
   "source": [
    "import requests\n",
    "import json\n",
    "import time"
   ]
  },
  {
   "cell_type": "code",
   "execution_count": 4,
   "metadata": {},
   "outputs": [
    {
     "name": "stdout",
     "output_type": "stream",
     "text": [
      "['ETgJqJHV7BW6pIr9Ox74sA', 'DGhWO1sUWydVeR5j5ZZaMw', 'KgpOYAG-r_eDsQXFXt0nnQ', 'ZjU9qd-RR55cEEKufmdN5Q', 'FiRB9Ek3Xo9JHwXgBYITYg', 's3jou_L_LVYGkNHiuhjlew', 'npiIhpcWePbVT3JYEcy3zg', '8XHbZIKDQbXhyKIGiukVeQ', 'PflHKSowWSsR-a76Ne7nzg', 'EF4M55USa1ZNy1rP5Kuk2w', 'V3dHB6xAdd8_dH7t481PAw', 'wDLHOgux_G8Y82Y6D9rSog', 'gtXP0CmOnBbgfnff7VXa7A', 'TQzGf4k3HXyMbnNkYKKQSw', 'PYcL2z9gHj6-ZTlViT9Nqw', 'aTFkjo0scqmOgsFF5kuGXg', 'P2CTp4xyaNCe2AXSiLeOSQ', 'cHvd_fnNqbcR4EdyodzGzw', 'obFs12x7mgYPGxgalBd22w', 'nBkSqOhZMa1A7Yk3q8VPaA', 'mxDfu4bHwSXoCr3FRpyMsw', 'CcxreLJbZsO6Z775-hMWpw', 'C6f_MQaRwIbJ8diailVaCA', 'g5f6p9jfzB30Mhcu6d5OWA', 'GBJOu9Rk4JqqWjB8ddYudw', 'HJg9TbpyWvb6-AFPdb7NCA', 'q-QEwZi32JCnjb7zbY-PQw', 'mjGdtrh0tX7I91GM9dlMNg', 'tmzWZtu9Nimn7Hfas9XmcA', 'OMv26_R8kaek1G7_QhBPkg', '7N6Jle8ovxzAiiwwtE77Yw', 'qLL_x4uzDHCgXd9lwaGxjw', 'kMljfja7weqfl_lzspjzHA', '50fWXrNECQQYght4ZWeBXQ', 'NMVRHrkdp68twl4CWo1I5A', '2VpurA2lb-q90nmALklNcA', 'l2b6HJGarUxoeLnM9syTmg', 'BA6wd1pZTVu1DmrtiyTs8g', 'FON3TceJNsTC0I0mzBwOKg', 'DZaN3bNWfwcm__sNw5bvDg', 'NIX9YFX1taOkm1J9IGuLqA', 'myYOl6CDu1fieWKxXn-1Og', 'sBL7J7s4Rnul40-MB0hXbA', 'vRrVSB-LegwUwIxpkeRVtQ', 'QvQilClGyuKFz08TBsoJNA', 'aKweUFx_E1KR4DoXIzcPxA', 'jt_mFVGnAcPx27vIz4o29A', 'K_RLEEEkMmlis5hteYlYUQ', 'UJDb0M1eF4KkxJdCTh67cw', 'UJe9_p6NEl0kA6xHVo5PKw', 'CsdS-L70jLn-exz34j8h5Q', '1DfbZ0VsSCg9g1KILmnvzQ', 'pV-f6jq8mqNWymbPyPNmzg', 'fSQ3CCtFSJ2S8VXDi02-3Q', 'Hnj8w5j6eaIt2NiSQc7TGg', 'xtfKAP7X36CCZrJm_Ta6Cg', 'y5b85IZGLxNdksDBFm1GBw', 'nRO136GRieGtxz18uD61DA', 'HUEj_yVB1E2mNNxW5PqUtQ', 'aUakHsv3bAk6tDtLe96rIA', 'A8zppFZvBDGUKRSUrzJWMg', 'xEDD2ScBU3jHhWxlMC7dkQ', 'pDwhlX9jNBGnjvyGR9jYWQ', 'kmcgUxWhwlbmC-FAMTEF2g', 'bEXTA_Gwo2oVg4gnFd9fNA', '3PabSEZ2ESexVFZznyozVw', 'EaNRl3vlDOsNF-gkCR5mBA', 'uuDvk4EsRUkeTj4jVKJOpw', '844H9r0tRQZmxiEtjeTW0A', 'a0AvIH1UnFmqAXhZDEQtrw', 'PBUIaPtgnhmdHE3KHglK-g', '7uGPAk8ELYABSzZhXhj7tA', 'bTyyPU8A4pz9dieLSZPMdA', 'Ih7hLJl-UiGSrBEI3A12gA', 'WS0ipFMNDJDy_MOylP-JGw', 'hD55NUiGDK7STQ8oy9QDPA', 'mosd9Voq5Ws6k6Uduii_ww', 'lw4ZMgn-QBh_5W1ipNHjaw', 'oyxtaqfFZkP_vC0M6GfkbA', 'yvhhKv2CDjuJsC4ecG848g', 'eoz2NahxyivVRs8Ll9Ljjg', 'kuSkLiSq9gHuytBBOOYeeQ', 'yNC4kI9Md0Csd6zqr3oeFw', 'KIIYvTOc0Uv90aUHEGvoSg', 'qfeCYi9MMD6I7jQLFqngPg', 'XDMtYVpUQag-uay9DHMm9A', 'V69n3YrAs59GenGB2jLVrA', 'XzrRw4d399gaCBuon1XwSw', 'jvuwuo6UWC5HtPRsFhm-iA', 'zV5u8sr2u9x_oxq7BNuKKw', 'qEbQbYZxurnuVxDrNHQUJg', '3gtheZvv3Or0YzWXIl3SJg', '59dXrRQE3JVItSneV3a1bg', 'e4YHihk1HFJ1EB7oD7dKDw', 'zOTRYxeyHl1vRMyDkzGqog', 'Om3bGjj6f4t2b2in7vwikA', 'N4V9aeManzL4PhjZX7iKKw']\n"
     ]
    }
   ],
   "source": [
    "def get_all_business_ids(base_url):\n",
    "    \n",
    "    all_business_ids = []\n",
    "\n",
    "    while True:\n",
    "        response = requests.get(base_url, headers=headers)\n",
    "        if response.status_code != 200:\n",
    "            break  \n",
    "\n",
    "        data = response.json()\n",
    "        businesses = data.get('businesses', [])\n",
    "        if not businesses:\n",
    "            break  # Break the loop if no more businesses are returned\n",
    "\n",
    "        for business in businesses:\n",
    "            business_id = business.get('id')\n",
    "            if business_id:\n",
    "                all_business_ids.append(business_id)\n",
    "\n",
    "        # Update the offset in the URL for the next request\n",
    "        if 'offset=' in base_url:\n",
    "            base_url = base_url.rsplit('offset=', 1)[0] + f'offset={len(all_business_ids)}'\n",
    "        else:\n",
    "            base_url += f'&offset={len(all_business_ids)}'\n",
    "\n",
    "        time.sleep(1)  \n",
    "\n",
    "    return all_business_ids\n"
   ]
  },
  {
   "cell_type": "code",
   "execution_count": null,
   "metadata": {},
   "outputs": [],
   "source": [
    "api_key = 'rjj-CYij9D5rBs0P7jLtSGO6u2hBp38A5jMZTGELqjvvojBqfepQac4jprE6LhD84IuHE9UuswLpOL46Ou8IA04Jd4Ije97e5rv5Q4Ifag8tQrMlJirC2-eTUH58ZXYx'\n",
    "base_url = (\n",
    "    'https://api.yelp.com/v3/businesses/search?'\n",
    "    'location=New+York+City&term=restaurants&categories=french'\n",
    "    '&price=3&price=4&sort_by=best_match&limit=50'\n",
    ")\n",
    "headers = {'Authorization': 'Bearer ' + api_key}\n",
    "nyc_restaurant_ids = get_all_business_ids(base_url)\n",
    "print(nyc_restaurant_ids)"
   ]
  },
  {
   "cell_type": "code",
   "execution_count": 36,
   "metadata": {},
   "outputs": [
    {
     "data": {
      "text/plain": [
       "97"
      ]
     },
     "execution_count": 36,
     "metadata": {},
     "output_type": "execute_result"
    }
   ],
   "source": [
    "len(nyc_restaurant_ids)"
   ]
  },
  {
   "cell_type": "code",
   "execution_count": 11,
   "metadata": {},
   "outputs": [],
   "source": [
    "def get_reviews(restaurant_ids):\n",
    "    list_of_reviews = []\n",
    "    for i in range(len(restaurant_ids)):\n",
    "        url2 = \"https://api.yelp.com/v3/businesses/\" + restaurant_ids[i] + \"/reviews?limit=50\"\n",
    "        print(url2)\n",
    "        response = requests.get(url2, headers=headers)\n",
    "        reviews_data = response.json()\n",
    "        try:\n",
    "            reviews_text = [review['text'] for review in reviews_data['reviews']]\n",
    "            for review_text in reviews_text:\n",
    "                list_of_reviews.append(review_text)\n",
    "        except:\n",
    "            print(\"No reviews for this restaurant\")\n",
    "        \n",
    "    return list_of_reviews\n"
   ]
  },
  {
   "cell_type": "code",
   "execution_count": null,
   "metadata": {},
   "outputs": [],
   "source": [
    "nyc_list_of_reviews = get_reviews(nyc_restaurant_ids)"
   ]
  },
  {
   "cell_type": "markdown",
   "metadata": {},
   "source": [
    "### San Francisco"
   ]
  },
  {
   "cell_type": "code",
   "execution_count": 12,
   "metadata": {},
   "outputs": [
    {
     "name": "stdout",
     "output_type": "stream",
     "text": [
      "https://api.yelp.com/v3/businesses/cCVR9W_L2rqexfKAjfBTzQ/reviews?limit=50\n",
      "https://api.yelp.com/v3/businesses/9yM20-7fj4LMrOO30nqkBw/reviews?limit=50\n",
      "https://api.yelp.com/v3/businesses/WavvLdfdP6g8aZTtbBQHTw/reviews?limit=50\n",
      "https://api.yelp.com/v3/businesses/L5vSeC_sa3TUQW_lticqyA/reviews?limit=50\n",
      "https://api.yelp.com/v3/businesses/muX0aRES6vsp5DEuJaW_uw/reviews?limit=50\n",
      "https://api.yelp.com/v3/businesses/9e2UrZrwbWsTyN3hWyS6Ig/reviews?limit=50\n",
      "https://api.yelp.com/v3/businesses/c3khi7kxBaA2ATUuMjtMZA/reviews?limit=50\n",
      "https://api.yelp.com/v3/businesses/oqsu3pKpgRMGHj9QItsx0A/reviews?limit=50\n",
      "https://api.yelp.com/v3/businesses/353bun0151fMbR3ut2d-nw/reviews?limit=50\n",
      "https://api.yelp.com/v3/businesses/SG2-29u7Uw1VR9e1xCAT5w/reviews?limit=50\n",
      "https://api.yelp.com/v3/businesses/tpuKzQh5d6veDB-M9qU6Fw/reviews?limit=50\n",
      "https://api.yelp.com/v3/businesses/mfD5wlWS6tY92FJHDcBwJA/reviews?limit=50\n",
      "https://api.yelp.com/v3/businesses/xO2V0wkXP3Na-mWhLo1ZxQ/reviews?limit=50\n",
      "https://api.yelp.com/v3/businesses/WWekv34vniav2trhbb2DaA/reviews?limit=50\n",
      "https://api.yelp.com/v3/businesses/1P8K-4e333xzfb8rBEkUog/reviews?limit=50\n",
      "https://api.yelp.com/v3/businesses/ohWlEV89ljnbDXAHJM6_GQ/reviews?limit=50\n",
      "https://api.yelp.com/v3/businesses/WmWgt493wTIUqncsizmAZw/reviews?limit=50\n",
      "https://api.yelp.com/v3/businesses/zFxD8QinHt69Bs7M2mgB-Q/reviews?limit=50\n",
      "https://api.yelp.com/v3/businesses/QINiEjMRGA7pKfvhPQtfBg/reviews?limit=50\n",
      "https://api.yelp.com/v3/businesses/y6hiTZnMSoH6UnvWCCbI4w/reviews?limit=50\n",
      "https://api.yelp.com/v3/businesses/xZIar7Wc8YCUiAz7S_0Gdg/reviews?limit=50\n",
      "https://api.yelp.com/v3/businesses/gwuCZV_4nIwevDenicG8tw/reviews?limit=50\n",
      "https://api.yelp.com/v3/businesses/JJnkXwf96vh1Uu7XZWZZAg/reviews?limit=50\n",
      "https://api.yelp.com/v3/businesses/gFcSLTJo3HXdkXScg0FgcA/reviews?limit=50\n",
      "https://api.yelp.com/v3/businesses/13mL2ubsel9-BB4oxa6MBw/reviews?limit=50\n",
      "https://api.yelp.com/v3/businesses/pDnwBfO1baTQDnJdznyQMQ/reviews?limit=50\n",
      "No reviews for this restaurant\n"
     ]
    }
   ],
   "source": [
    "sf_url = \"https://api.yelp.com/v3/businesses/search?location=San+Francisco&term=restaurants&categories=french&price=4&price=3&sort_by=best_match&limit=50\"\n",
    "\n",
    "san_francisco_restaurants = get_all_business_ids(sf_url)\n",
    "\n",
    "sf_list_of_reviews = get_reviews(san_francisco_restaurants)"
   ]
  },
  {
   "cell_type": "code",
   "execution_count": 13,
   "metadata": {},
   "outputs": [
    {
     "name": "stdout",
     "output_type": "stream",
     "text": [
      "75\n"
     ]
    }
   ],
   "source": [
    "print(len(sf_list_of_reviews))"
   ]
  },
  {
   "cell_type": "markdown",
   "metadata": {},
   "source": [
    "### Miami"
   ]
  },
  {
   "cell_type": "code",
   "execution_count": 6,
   "metadata": {},
   "outputs": [
    {
     "name": "stdout",
     "output_type": "stream",
     "text": [
      "https://api.yelp.com/v3/businesses/-QtB-fGXYKdaEQySVO28wg/reviews?limit=50\n",
      "https://api.yelp.com/v3/businesses/uyaz8BMIp2n7lhSpjZ8quA/reviews?limit=50\n",
      "https://api.yelp.com/v3/businesses/GRZpClfFf3otLO2ridn5iA/reviews?limit=50\n",
      "https://api.yelp.com/v3/businesses/B2-pidnIEJcI4-sy97BJww/reviews?limit=50\n",
      "https://api.yelp.com/v3/businesses/K6RzqmTJ5yaI35Bw1BAE3g/reviews?limit=50\n"
     ]
    }
   ],
   "source": [
    "miami_url = \"https://api.yelp.com/v3/businesses/search?location=Miami&term=restaurants&categories=french&price=4&price=3&sort_by=best_match&limit=50\"\n",
    "\n",
    "miami_restaurants = get_all_business_ids(miami_url)\n",
    "\n",
    "miami_list_of_reviews = get_reviews(miami_restaurants)"
   ]
  },
  {
   "cell_type": "code",
   "execution_count": 7,
   "metadata": {},
   "outputs": [
    {
     "name": "stdout",
     "output_type": "stream",
     "text": [
      "15\n"
     ]
    }
   ],
   "source": [
    "print(len(miami_list_of_reviews))"
   ]
  },
  {
   "cell_type": "markdown",
   "metadata": {},
   "source": [
    "### Los Angeles"
   ]
  },
  {
   "cell_type": "code",
   "execution_count": 8,
   "metadata": {},
   "outputs": [
    {
     "name": "stdout",
     "output_type": "stream",
     "text": [
      "https://api.yelp.com/v3/businesses/K-Fbh2WCHlqR56H9TnfpNA/reviews?limit=50\n",
      "https://api.yelp.com/v3/businesses/LJEsTC6Juzr0lL-hla7nVw/reviews?limit=50\n",
      "https://api.yelp.com/v3/businesses/-ZcCFCdqMwOPXItB3REecA/reviews?limit=50\n",
      "https://api.yelp.com/v3/businesses/gCFw0Tx6h4E8oNwDYkIRTg/reviews?limit=50\n",
      "https://api.yelp.com/v3/businesses/XrPVlXXa4cHLm7qKWFkfCg/reviews?limit=50\n",
      "https://api.yelp.com/v3/businesses/fDYbMJqg7WZ4wek2QN3t1w/reviews?limit=50\n",
      "https://api.yelp.com/v3/businesses/SREXeeGWWQwKP54fCljwZg/reviews?limit=50\n",
      "https://api.yelp.com/v3/businesses/OVYbBxiA-MFNE3wSKlSlgg/reviews?limit=50\n",
      "https://api.yelp.com/v3/businesses/6RptZH8sx1vnQ_io_HrmeA/reviews?limit=50\n",
      "https://api.yelp.com/v3/businesses/lq1MXuvw45E9SfpQL-LMgw/reviews?limit=50\n",
      "https://api.yelp.com/v3/businesses/kBJdl7y-MALnpKwU_HcYkA/reviews?limit=50\n",
      "https://api.yelp.com/v3/businesses/cjOPYO30o3HBDhVvsy7Hbw/reviews?limit=50\n",
      "https://api.yelp.com/v3/businesses/LY7ERi0y0OPzk-pNhFadDw/reviews?limit=50\n",
      "https://api.yelp.com/v3/businesses/UJhIXf50IsxSTKh4qfbudQ/reviews?limit=50\n",
      "https://api.yelp.com/v3/businesses/JI5nDSILR7XPY5T7xTQ1VA/reviews?limit=50\n",
      "https://api.yelp.com/v3/businesses/Cbi-gvzS75V2xef4xcwnxQ/reviews?limit=50\n",
      "https://api.yelp.com/v3/businesses/Fcxm2Wnz8lLDi6doGcAMTw/reviews?limit=50\n",
      "https://api.yelp.com/v3/businesses/yqfZcttHy2WdYFzMQQaXoA/reviews?limit=50\n",
      "https://api.yelp.com/v3/businesses/UCIxkz2Yd7DdN-Pw24W74A/reviews?limit=50\n",
      "https://api.yelp.com/v3/businesses/bvGa6BccKGxBfDXBKr6ReQ/reviews?limit=50\n",
      "https://api.yelp.com/v3/businesses/3PIXmPkEvfDfPLBZZjznaw/reviews?limit=50\n",
      "https://api.yelp.com/v3/businesses/wxHjh5QX-YzYTwc_dVz3lQ/reviews?limit=50\n",
      "https://api.yelp.com/v3/businesses/Nrt1dZ_a8dk7zAA4L47-_w/reviews?limit=50\n",
      "https://api.yelp.com/v3/businesses/VB9-IUhiToEhirKHh7M7AA/reviews?limit=50\n",
      "https://api.yelp.com/v3/businesses/fG3ZYefTE3xPp0ca2SYlHg/reviews?limit=50\n",
      "https://api.yelp.com/v3/businesses/2yTisMkNDVEvrwrkDwYv4g/reviews?limit=50\n",
      "https://api.yelp.com/v3/businesses/fZt2vAYJEEYw94P6lddtgw/reviews?limit=50\n",
      "https://api.yelp.com/v3/businesses/Pm2XIvuYeOXa_FxoGdMEQg/reviews?limit=50\n",
      "https://api.yelp.com/v3/businesses/rqEyfQSNMjf76iyv75fYnw/reviews?limit=50\n",
      "https://api.yelp.com/v3/businesses/iTLSVLEcErPNQW2k_iGr_g/reviews?limit=50\n",
      "https://api.yelp.com/v3/businesses/sQvMFqvQrdi2mnWkavf3tA/reviews?limit=50\n"
     ]
    }
   ],
   "source": [
    "los_angeles_url = \"https://api.yelp.com/v3/businesses/search?location=Los+Angeles&term=restaurants&categories=french&price=4&price=3&sort_by=best_match&limit=50\"\n",
    "\n",
    "los_angeles_restaurants = get_all_business_ids(los_angeles_url)\n",
    "\n",
    "los_angeles_list_of_reviews = get_reviews(los_angeles_restaurants)"
   ]
  },
  {
   "cell_type": "code",
   "execution_count": 9,
   "metadata": {},
   "outputs": [
    {
     "name": "stdout",
     "output_type": "stream",
     "text": [
      "93\n"
     ]
    }
   ],
   "source": [
    "print(len(los_angeles_list_of_reviews))"
   ]
  },
  {
   "cell_type": "code",
   "execution_count": 27,
   "metadata": {},
   "outputs": [],
   "source": [
    "seattle_url = \"https://api.yelp.com/v3/businesses/search?location=Washington&term=restaurants&categories=french&price=4&price=3&sort_by=best_match&limit=50\"\n",
    "\n",
    "seattle_restaurants = get_all_business_ids(seattle_url)"
   ]
  },
  {
   "cell_type": "code",
   "execution_count": 28,
   "metadata": {},
   "outputs": [
    {
     "name": "stdout",
     "output_type": "stream",
     "text": [
      "17\n"
     ]
    }
   ],
   "source": [
    "print(len(seattle_restaurants))"
   ]
  }
 ],
 "metadata": {
  "kernelspec": {
   "display_name": "base",
   "language": "python",
   "name": "python3"
  },
  "language_info": {
   "codemirror_mode": {
    "name": "ipython",
    "version": 3
   },
   "file_extension": ".py",
   "mimetype": "text/x-python",
   "name": "python",
   "nbconvert_exporter": "python",
   "pygments_lexer": "ipython3",
   "version": "3.11.5"
  }
 },
 "nbformat": 4,
 "nbformat_minor": 2
}
