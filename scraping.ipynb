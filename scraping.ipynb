{
 "cells": [
  {
   "cell_type": "code",
   "execution_count": 2,
   "metadata": {},
   "outputs": [],
   "source": [
    "import requests\n",
    "import json\n",
    "import time\n",
    "import pandas as pd"
   ]
  },
  {
   "cell_type": "code",
   "execution_count": null,
   "metadata": {},
   "outputs": [],
   "source": [
    "api_key = 'rjj-CYij9D5rBs0P7jLtSGO6u2hBp38A5jMZTGELqjvvojBqfepQac4jprE6LhD84IuHE9UuswLpOL46Ou8IA04Jd4Ije97e5rv5Q4Ifag8tQrMlJirC2-eTUH58ZXYx'\n",
    "headers = {'Authorization': 'Bearer ' + api_key}"
   ]
  },
  {
   "cell_type": "code",
   "execution_count": 26,
   "metadata": {},
   "outputs": [],
   "source": [
    "def get_all_business_ids(base_url):\n",
    "    \n",
    "    all_business_ids = []\n",
    "\n",
    "    while True:\n",
    "        response = requests.get(base_url, headers=headers)\n",
    "        if response.status_code != 200:\n",
    "            break  \n",
    "\n",
    "        data = response.json()\n",
    "        businesses = data.get('businesses', [])\n",
    "        if not businesses:\n",
    "            break  # Break the loop if no more businesses are returned\n",
    "\n",
    "        for business in businesses:\n",
    "            business_id = business.get('id')\n",
    "            if business_id:\n",
    "                all_business_ids.append(business_id)\n",
    "\n",
    "        # Update the offset in the URL for the next request\n",
    "        if 'offset=' in base_url:\n",
    "            base_url = base_url.rsplit('offset=', 1)[0] + f'offset={len(all_business_ids)}'\n",
    "        else:\n",
    "            base_url += f'&offset={len(all_business_ids)}'\n",
    "\n",
    "        time.sleep(1)  \n",
    "\n",
    "    return all_business_ids\n"
   ]
  },
  {
   "cell_type": "code",
   "execution_count": 27,
   "metadata": {},
   "outputs": [
    {
     "name": "stdout",
     "output_type": "stream",
     "text": [
      "['ETgJqJHV7BW6pIr9Ox74sA', 'DGhWO1sUWydVeR5j5ZZaMw', 'KgpOYAG-r_eDsQXFXt0nnQ', 'ZjU9qd-RR55cEEKufmdN5Q', 'FiRB9Ek3Xo9JHwXgBYITYg', 's3jou_L_LVYGkNHiuhjlew', '8XHbZIKDQbXhyKIGiukVeQ', 'npiIhpcWePbVT3JYEcy3zg', 'gtXP0CmOnBbgfnff7VXa7A', 'PflHKSowWSsR-a76Ne7nzg', 'EF4M55USa1ZNy1rP5Kuk2w', 'V3dHB6xAdd8_dH7t481PAw', 'TQzGf4k3HXyMbnNkYKKQSw', 'wDLHOgux_G8Y82Y6D9rSog', 'PYcL2z9gHj6-ZTlViT9Nqw', 'P2CTp4xyaNCe2AXSiLeOSQ', 'cHvd_fnNqbcR4EdyodzGzw', 'aTFkjo0scqmOgsFF5kuGXg', 'obFs12x7mgYPGxgalBd22w', 'nBkSqOhZMa1A7Yk3q8VPaA', 'CcxreLJbZsO6Z775-hMWpw', 'mxDfu4bHwSXoCr3FRpyMsw', 'C6f_MQaRwIbJ8diailVaCA', 'g5f6p9jfzB30Mhcu6d5OWA', 'GBJOu9Rk4JqqWjB8ddYudw', 'tmzWZtu9Nimn7Hfas9XmcA', 'HJg9TbpyWvb6-AFPdb7NCA', 'qLL_x4uzDHCgXd9lwaGxjw', 'OMv26_R8kaek1G7_QhBPkg', 'mjGdtrh0tX7I91GM9dlMNg', 'q-QEwZi32JCnjb7zbY-PQw', 'kMljfja7weqfl_lzspjzHA', '7N6Jle8ovxzAiiwwtE77Yw', 'NMVRHrkdp68twl4CWo1I5A', 'FON3TceJNsTC0I0mzBwOKg', 'DZaN3bNWfwcm__sNw5bvDg', '50fWXrNECQQYght4ZWeBXQ', 'sBL7J7s4Rnul40-MB0hXbA', 'UJe9_p6NEl0kA6xHVo5PKw', 'K_RLEEEkMmlis5hteYlYUQ', 'QvQilClGyuKFz08TBsoJNA', 'UJDb0M1eF4KkxJdCTh67cw', 'aKweUFx_E1KR4DoXIzcPxA', 'l2b6HJGarUxoeLnM9syTmg', 'vRrVSB-LegwUwIxpkeRVtQ', 'jt_mFVGnAcPx27vIz4o29A', 'fSQ3CCtFSJ2S8VXDi02-3Q', '2VpurA2lb-q90nmALklNcA', 'myYOl6CDu1fieWKxXn-1Og', 'NIX9YFX1taOkm1J9IGuLqA', 'Hnj8w5j6eaIt2NiSQc7TGg', 'xtfKAP7X36CCZrJm_Ta6Cg', 'BA6wd1pZTVu1DmrtiyTs8g', '1DfbZ0VsSCg9g1KILmnvzQ', 'HUEj_yVB1E2mNNxW5PqUtQ', 'CsdS-L70jLn-exz34j8h5Q', 'A8zppFZvBDGUKRSUrzJWMg', 'kmcgUxWhwlbmC-FAMTEF2g', 'pV-f6jq8mqNWymbPyPNmzg', 'y5b85IZGLxNdksDBFm1GBw', 'nRO136GRieGtxz18uD61DA', 'xEDD2ScBU3jHhWxlMC7dkQ', 'bEXTA_Gwo2oVg4gnFd9fNA', 'aUakHsv3bAk6tDtLe96rIA', 'pDwhlX9jNBGnjvyGR9jYWQ', 'EaNRl3vlDOsNF-gkCR5mBA', '3PabSEZ2ESexVFZznyozVw', 'uuDvk4EsRUkeTj4jVKJOpw', 'Ih7hLJl-UiGSrBEI3A12gA', '844H9r0tRQZmxiEtjeTW0A', 'bTyyPU8A4pz9dieLSZPMdA', 'hD55NUiGDK7STQ8oy9QDPA', 'PBUIaPtgnhmdHE3KHglK-g', 'lw4ZMgn-QBh_5W1ipNHjaw', 'mosd9Voq5Ws6k6Uduii_ww', 'WS0ipFMNDJDy_MOylP-JGw', 'a0AvIH1UnFmqAXhZDEQtrw', '7uGPAk8ELYABSzZhXhj7tA', 'kuSkLiSq9gHuytBBOOYeeQ', 'yNC4kI9Md0Csd6zqr3oeFw', 'yvhhKv2CDjuJsC4ecG848g', 'KIIYvTOc0Uv90aUHEGvoSg', 'oyxtaqfFZkP_vC0M6GfkbA', 'V69n3YrAs59GenGB2jLVrA', 'qfeCYi9MMD6I7jQLFqngPg', 'eoz2NahxyivVRs8Ll9Ljjg', 'XDMtYVpUQag-uay9DHMm9A', 'jvuwuo6UWC5HtPRsFhm-iA', 'XzrRw4d399gaCBuon1XwSw', 'zV5u8sr2u9x_oxq7BNuKKw', 'qEbQbYZxurnuVxDrNHQUJg', '59dXrRQE3JVItSneV3a1bg', '3gtheZvv3Or0YzWXIl3SJg', 'e4YHihk1HFJ1EB7oD7dKDw', 'zOTRYxeyHl1vRMyDkzGqog', 'Om3bGjj6f4t2b2in7vwikA', 'N4V9aeManzL4PhjZX7iKKw']\n"
     ]
    }
   ],
   "source": [
    "base_url = (\n",
    "    'https://api.yelp.com/v3/businesses/search?'\n",
    "    'location=New+York+City&term=restaurants&categories=french'\n",
    "    '&price=3&price=4&sort_by=best_match&limit=50'\n",
    ")\n",
    "nyc_restaurant_ids = get_all_business_ids(base_url)\n",
    "print(nyc_restaurant_ids)"
   ]
  },
  {
   "cell_type": "code",
   "execution_count": 28,
   "metadata": {},
   "outputs": [
    {
     "data": {
      "text/plain": [
       "97"
      ]
     },
     "execution_count": 28,
     "metadata": {},
     "output_type": "execute_result"
    }
   ],
   "source": [
    "len(nyc_restaurant_ids)"
   ]
  },
  {
   "cell_type": "code",
   "execution_count": 29,
   "metadata": {},
   "outputs": [],
   "source": [
    "def get_reviews(restaurant_ids,city):\n",
    "    list_of_reviews = []\n",
    "    for i in range(len(restaurant_ids)):\n",
    "        url2 = \"https://api.yelp.com/v3/businesses/\" + restaurant_ids[i] + \"/reviews?limit=50\"\n",
    "        #print(url2)\n",
    "        response = requests.get(url2, headers=headers)\n",
    "        reviews_data = response.json()\n",
    "        \n",
    "        try:\n",
    "            for review in reviews_data['reviews']:\n",
    "                review_dict = {'text': review['text'], 'rating': review['rating'],'location':city}\n",
    "                list_of_reviews.append(review_dict)\n",
    "        except:\n",
    "            print(\"No reviews for this restaurant\")\n",
    "        \n",
    "    return list_of_reviews\n"
   ]
  },
  {
   "cell_type": "code",
   "execution_count": 30,
   "metadata": {},
   "outputs": [],
   "source": [
    "nyc_list_of_reviews = get_reviews(nyc_restaurant_ids,'New York City')"
   ]
  },
  {
   "cell_type": "markdown",
   "metadata": {},
   "source": [
    "### San Francisco"
   ]
  },
  {
   "cell_type": "code",
   "execution_count": 31,
   "metadata": {},
   "outputs": [
    {
     "name": "stdout",
     "output_type": "stream",
     "text": [
      "No reviews for this restaurant\n"
     ]
    }
   ],
   "source": [
    "sf_url = \"https://api.yelp.com/v3/businesses/search?location=San+Francisco&term=restaurants&categories=french&price=4&price=3&sort_by=best_match&limit=50\"\n",
    "\n",
    "san_francisco_restaurants = get_all_business_ids(sf_url)\n",
    "\n",
    "sf_list_of_reviews = get_reviews(san_francisco_restaurants,'San Francisco')"
   ]
  },
  {
   "cell_type": "code",
   "execution_count": 32,
   "metadata": {},
   "outputs": [
    {
     "name": "stdout",
     "output_type": "stream",
     "text": [
      "75\n"
     ]
    }
   ],
   "source": [
    "print(len(sf_list_of_reviews))"
   ]
  },
  {
   "cell_type": "markdown",
   "metadata": {},
   "source": [
    "### Miami"
   ]
  },
  {
   "cell_type": "code",
   "execution_count": 33,
   "metadata": {},
   "outputs": [],
   "source": [
    "miami_url = \"https://api.yelp.com/v3/businesses/search?location=Miami&term=restaurants&categories=french&price=4&price=3&sort_by=best_match&limit=50\"\n",
    "\n",
    "miami_restaurants = get_all_business_ids(miami_url)\n",
    "\n",
    "miami_list_of_reviews = get_reviews(miami_restaurants,'Miami')"
   ]
  },
  {
   "cell_type": "code",
   "execution_count": 34,
   "metadata": {},
   "outputs": [
    {
     "name": "stdout",
     "output_type": "stream",
     "text": [
      "15\n"
     ]
    }
   ],
   "source": [
    "print(len(miami_list_of_reviews))"
   ]
  },
  {
   "cell_type": "markdown",
   "metadata": {},
   "source": [
    "### Los Angeles"
   ]
  },
  {
   "cell_type": "code",
   "execution_count": 35,
   "metadata": {},
   "outputs": [],
   "source": [
    "los_angeles_url = \"https://api.yelp.com/v3/businesses/search?location=Los+Angeles&term=restaurants&categories=french&price=4&price=3&sort_by=best_match&limit=50\"\n",
    "\n",
    "los_angeles_restaurants = get_all_business_ids(los_angeles_url)\n",
    "\n",
    "los_angeles_list_of_reviews = get_reviews(los_angeles_restaurants,'Los Angeles')"
   ]
  },
  {
   "cell_type": "code",
   "execution_count": 36,
   "metadata": {},
   "outputs": [
    {
     "name": "stdout",
     "output_type": "stream",
     "text": [
      "93\n"
     ]
    }
   ],
   "source": [
    "print(len(los_angeles_list_of_reviews))"
   ]
  },
  {
   "cell_type": "markdown",
   "metadata": {},
   "source": [
    "#### Merge"
   ]
  },
  {
   "cell_type": "code",
   "execution_count": 49,
   "metadata": {},
   "outputs": [],
   "source": [
    "# Assuming the lists are named los_angeles_list_of_reviews, new_york_list_of_reviews, etc.\n",
    "df1 = pd.DataFrame(los_angeles_list_of_reviews, columns=['text', 'rating', 'location'])\n",
    "df2 = pd.DataFrame(nyc_list_of_reviews, columns=['text', 'rating', 'location'])\n",
    "df3 = pd.DataFrame(sf_list_of_reviews, columns=['text', 'rating', 'location'])\n",
    "df4 = pd.DataFrame(miami_list_of_reviews, columns=['text', 'rating', 'location'])\n",
    "# Add more dataframes as needed\n",
    "\n",
    "# Concatenate all the dataframes\n",
    "df = pd.concat([df1, df2,df3,df4], ignore_index=True)\n",
    "\n",
    "# Save the dataframe to a CSV file\n",
    "df.to_csv('yelp_reviews.csv', index=False)"
   ]
  },
  {
   "cell_type": "code",
   "execution_count": 51,
   "metadata": {},
   "outputs": [
    {
     "data": {
      "text/plain": [
       "rating\n",
       "5    267\n",
       "4    104\n",
       "3     59\n",
       "2     25\n",
       "1     15\n",
       "Name: count, dtype: int64"
      ]
     },
     "execution_count": 51,
     "metadata": {},
     "output_type": "execute_result"
    }
   ],
   "source": [
    "df['rating'].value_counts()"
   ]
  },
  {
   "cell_type": "code",
   "execution_count": 52,
   "metadata": {},
   "outputs": [
    {
     "data": {
      "text/html": [
       "<div>\n",
       "<style scoped>\n",
       "    .dataframe tbody tr th:only-of-type {\n",
       "        vertical-align: middle;\n",
       "    }\n",
       "\n",
       "    .dataframe tbody tr th {\n",
       "        vertical-align: top;\n",
       "    }\n",
       "\n",
       "    .dataframe thead th {\n",
       "        text-align: right;\n",
       "    }\n",
       "</style>\n",
       "<table border=\"1\" class=\"dataframe\">\n",
       "  <thead>\n",
       "    <tr style=\"text-align: right;\">\n",
       "      <th></th>\n",
       "      <th>text</th>\n",
       "      <th>rating</th>\n",
       "      <th>location</th>\n",
       "    </tr>\n",
       "  </thead>\n",
       "  <tbody>\n",
       "    <tr>\n",
       "      <th>0</th>\n",
       "      <td>Robyn gave amazing service! So attentive and f...</td>\n",
       "      <td>5</td>\n",
       "      <td>Los Angeles</td>\n",
       "    </tr>\n",
       "    <tr>\n",
       "      <th>1</th>\n",
       "      <td>Headed downtown on a Thursday evening for a Ki...</td>\n",
       "      <td>5</td>\n",
       "      <td>Los Angeles</td>\n",
       "    </tr>\n",
       "    <tr>\n",
       "      <th>2</th>\n",
       "      <td>Been here a few times, in just recent weeks. T...</td>\n",
       "      <td>4</td>\n",
       "      <td>Los Angeles</td>\n",
       "    </tr>\n",
       "    <tr>\n",
       "      <th>3</th>\n",
       "      <td>Service is fast. Staff is friendly. The food i...</td>\n",
       "      <td>5</td>\n",
       "      <td>Los Angeles</td>\n",
       "    </tr>\n",
       "    <tr>\n",
       "      <th>4</th>\n",
       "      <td>Walked by and asked to see a menu. Very helpfu...</td>\n",
       "      <td>3</td>\n",
       "      <td>Los Angeles</td>\n",
       "    </tr>\n",
       "    <tr>\n",
       "      <th>...</th>\n",
       "      <td>...</td>\n",
       "      <td>...</td>\n",
       "      <td>...</td>\n",
       "    </tr>\n",
       "    <tr>\n",
       "      <th>465</th>\n",
       "      <td>Food amazing! Service and integrity 0.  Dined ...</td>\n",
       "      <td>1</td>\n",
       "      <td>Miami</td>\n",
       "    </tr>\n",
       "    <tr>\n",
       "      <th>466</th>\n",
       "      <td>We were fortunate enough to be invited to the ...</td>\n",
       "      <td>5</td>\n",
       "      <td>Miami</td>\n",
       "    </tr>\n",
       "    <tr>\n",
       "      <th>467</th>\n",
       "      <td>I've dined here twice, both times for a work r...</td>\n",
       "      <td>5</td>\n",
       "      <td>Miami</td>\n",
       "    </tr>\n",
       "    <tr>\n",
       "      <th>468</th>\n",
       "      <td>This is two reviews at once having been there ...</td>\n",
       "      <td>4</td>\n",
       "      <td>Miami</td>\n",
       "    </tr>\n",
       "    <tr>\n",
       "      <th>469</th>\n",
       "      <td>We used to enjoy going to Two Chefs but had no...</td>\n",
       "      <td>3</td>\n",
       "      <td>Miami</td>\n",
       "    </tr>\n",
       "  </tbody>\n",
       "</table>\n",
       "<p>470 rows × 3 columns</p>\n",
       "</div>"
      ],
      "text/plain": [
       "                                                  text  rating     location\n",
       "0    Robyn gave amazing service! So attentive and f...       5  Los Angeles\n",
       "1    Headed downtown on a Thursday evening for a Ki...       5  Los Angeles\n",
       "2    Been here a few times, in just recent weeks. T...       4  Los Angeles\n",
       "3    Service is fast. Staff is friendly. The food i...       5  Los Angeles\n",
       "4    Walked by and asked to see a menu. Very helpfu...       3  Los Angeles\n",
       "..                                                 ...     ...          ...\n",
       "465  Food amazing! Service and integrity 0.  Dined ...       1        Miami\n",
       "466  We were fortunate enough to be invited to the ...       5        Miami\n",
       "467  I've dined here twice, both times for a work r...       5        Miami\n",
       "468  This is two reviews at once having been there ...       4        Miami\n",
       "469  We used to enjoy going to Two Chefs but had no...       3        Miami\n",
       "\n",
       "[470 rows x 3 columns]"
      ]
     },
     "execution_count": 52,
     "metadata": {},
     "output_type": "execute_result"
    }
   ],
   "source": [
    "df"
   ]
  },
  {
   "cell_type": "markdown",
   "metadata": {},
   "source": [
    "## Data Cleaning"
   ]
  },
  {
   "cell_type": "code",
   "execution_count": 46,
   "metadata": {},
   "outputs": [],
   "source": [
    "import nltk\n",
    "import re\n",
    "from nltk.corpus import stopwords\n",
    "from nltk.tokenize import word_tokenize\n",
    "from nltk.util import ngrams\n",
    "from textblob import TextBlob\n",
    "from textblob import Word\n",
    "from collections import Counter\n",
    "from nltk.stem import WordNetLemmatizer"
   ]
  },
  {
   "cell_type": "code",
   "execution_count": 47,
   "metadata": {},
   "outputs": [],
   "source": [
    "df = pd.read_csv('yelp_reviews.csv')"
   ]
  },
  {
   "cell_type": "code",
   "execution_count": 48,
   "metadata": {},
   "outputs": [],
   "source": [
    "df.drop_duplicates(inplace=True)\n",
    "df.dropna(subset=['text', 'rating', 'location'], inplace=True)"
   ]
  },
  {
   "cell_type": "markdown",
   "metadata": {},
   "source": [
    "Do we need to to the spelling correction before ot after the tokenization ?? <br>"
   ]
  },
  {
   "cell_type": "code",
   "execution_count": 49,
   "metadata": {},
   "outputs": [],
   "source": [
    "stop_words = set(stopwords.words('english'))\n",
    "lemmatizer = WordNetLemmatizer()\n",
    "\n",
    "def preprocess_text(text):\n",
    "    # Lowercase\n",
    "    lowercase_text = text.lower()\n",
    "\n",
    "    # Remove punctuation and digits\n",
    "    text = re.sub(r'[^\\w\\s]', '', text)\n",
    "    text = re.sub(r'\\d', '', text)\n",
    "\n",
    "    # Tokenization\n",
    "    tokens = word_tokenize(lowercase_text)\n",
    "\n",
    "    # Remove punctuation and stop words\n",
    "    tokens = [word for word in tokens if word.isalpha() and word not in stop_words]\n",
    "\n",
    "    # Lemmatization\n",
    "    tokens = [lemmatizer.lemmatize(word) for word in tokens]\n",
    "    \n",
    "    return tokens\n",
    "\n",
    "df['text'] = df['text'].astype(str)  # Convert the column to string\n",
    "df['text'] = df['text'].apply(lambda x: str(TextBlob(x)))  # Apply TextBlob to each element\n",
    "\n",
    "df['tokens'] = df['text'].apply(preprocess_text)\n",
    "#df['tokens'] = df['tokens'].apply(lambda x: [Word(word).spellcheck() for word in x])  \n"
   ]
  },
  {
   "cell_type": "code",
   "execution_count": 50,
   "metadata": {},
   "outputs": [
    {
     "name": "stdout",
     "output_type": "stream",
     "text": [
      "[('food', 139), ('service', 106), ('restaurant', 102), ('place', 79), ('great', 77), ('french', 71), ('came', 67), ('dinner', 62), ('good', 57), ('time', 51)]\n",
      "[(('french', 'onion'), 18), (('onion', 'soup'), 18), (('new', 'york'), 14), (('food', 'service'), 13), (('service', 'great'), 12), (('first', 'time'), 10), (('amazing', 'service'), 9), (('dining', 'experience'), 9), (('service', 'excellent'), 9), (('french', 'restaurant'), 9)]\n"
     ]
    }
   ],
   "source": [
    "# Word Frequency Analysis\n",
    "all_words = [word for tokens in df['tokens'] for word in tokens]\n",
    "word_freq = Counter(all_words)\n",
    "\n",
    "# N-gram Analysis\n",
    "bigrams = ngrams(all_words, 2)\n",
    "bigram_freq = Counter(bigrams)\n",
    "\n",
    "# Example: Display most common words and bigrams\n",
    "print(word_freq.most_common(10))\n",
    "print(bigram_freq.most_common(10))"
   ]
  }
 ],
 "metadata": {
  "kernelspec": {
   "display_name": "base",
   "language": "python",
   "name": "python3"
  },
  "language_info": {
   "codemirror_mode": {
    "name": "ipython",
    "version": 3
   },
   "file_extension": ".py",
   "mimetype": "text/x-python",
   "name": "python",
   "nbconvert_exporter": "python",
   "pygments_lexer": "ipython3",
   "version": "3.11.6"
  }
 },
 "nbformat": 4,
 "nbformat_minor": 2
}
