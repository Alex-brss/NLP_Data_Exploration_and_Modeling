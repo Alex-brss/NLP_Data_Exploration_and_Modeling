{
 "cells": [
  {
   "cell_type": "markdown",
   "metadata": {},
   "source": [
    "# Data Exploration and NLP Modeling \n",
    "## By BROSSEAU Alexandre & COGORDAN Alexandre"
   ]
  },
  {
   "cell_type": "code",
   "execution_count": 90,
   "metadata": {},
   "outputs": [
    {
     "data": {
      "text/plain": [
       "True"
      ]
     },
     "execution_count": 90,
     "metadata": {},
     "output_type": "execute_result"
    }
   ],
   "source": [
    "import nltk\n",
    "import requests\n",
    "import time\n",
    "import pandas as pd\n",
    "import os\n",
    "import re\n",
    "import gensim\n",
    "import gensim.corpora as corpora\n",
    "import spacy\n",
    "import pyLDAvis\n",
    "import pyLDAvis.gensim\n",
    "import matplotlib.pyplot as plt\n",
    "import streamlit as st\n",
    "import numpy as np\n",
    "import tensorflow as tf\n",
    "import tensorboard as tb\n",
    "\n",
    "from scipy.spatial.distance import euclidean\n",
    "from scipy.spatial.distance import cosine\n",
    "from nltk.corpus import stopwords\n",
    "from nltk.tokenize import word_tokenize\n",
    "from nltk.util import ngrams\n",
    "from textblob import TextBlob\n",
    "from collections import Counter\n",
    "from transformers import pipeline\n",
    "from langchain import PromptTemplate, LLMChain\n",
    "from dotenv import find_dotenv, load_dotenv\n",
    "from gensim.utils import simple_preprocess\n",
    "from gensim.models import CoherenceModel, Word2Vec\n",
    "from sklearn.manifold import TSNE\n",
    "from tensorboard.plugins import projector\n",
    "\n",
    "load_dotenv()"
   ]
  },
  {
   "cell_type": "markdown",
   "metadata": {},
   "source": [
    "## Web scraping"
   ]
  },
  {
   "cell_type": "markdown",
   "metadata": {},
   "source": [
    "### We get the requests and the dataframe we've created so far"
   ]
  },
  {
   "cell_type": "code",
   "execution_count": 91,
   "metadata": {},
   "outputs": [],
   "source": [
    "df = pd.read_csv('yelp_reviews.csv', usecols=['text', 'rating', 'location'])"
   ]
  },
  {
   "cell_type": "markdown",
   "metadata": {},
   "source": [
    "### We call our API key to start web scraping"
   ]
  },
  {
   "cell_type": "code",
   "execution_count": 92,
   "metadata": {},
   "outputs": [],
   "source": [
    "api_key = os.getenv('YELP_API_KEY')\n",
    "headers = {'Authorization': 'Bearer ' + api_key}"
   ]
  },
  {
   "cell_type": "markdown",
   "metadata": {},
   "source": [
    "### We get the businesses' IDs"
   ]
  },
  {
   "cell_type": "code",
   "execution_count": 93,
   "metadata": {},
   "outputs": [],
   "source": [
    "def get_all_business_data(base_url):\n",
    "    \n",
    "    #all_business_ids = []\n",
    "    list_of_businesses = []\n",
    "\n",
    "    while True:\n",
    "        response = requests.get(base_url, headers=headers)\n",
    "        if response.status_code != 200:\n",
    "            break  \n",
    "\n",
    "        data = response.json()\n",
    "        businesses = data.get('businesses', [])\n",
    "\n",
    "        # business_info = data.get('businesses')\n",
    "\n",
    "        if not businesses:\n",
    "            break  # Break the loop if no more businesses are returned\n",
    "\n",
    "        for business in businesses:\n",
    "            #business_id = business.get('id') # 'name', 'price', 'url', 'review_count', 'display_address', 'image_url', 'display_phone', 'categories'\n",
    "            business_dict = {'restaurant_id': business.get('id'), 'business_name': business.get('name'), 'business_price': business.get('price'), 'business_url': business.get('url'), 'business_review_count': business.get('review_count'), 'business_display_address': business.get('location').get('display_address'), 'business_image_url': business.get('image_url'), 'business_display_phone': business.get('display_phone'), 'business_categories': business.get('categories')}\n",
    "            list_of_businesses.append(business_dict)\n",
    "            #if business_id:\n",
    "                #all_business_ids.append(business_id)\n",
    "\n",
    "        # Update the offset in the URL for the next request\n",
    "        if 'offset=' in base_url:\n",
    "            base_url = base_url.rsplit('offset=', 1)[0] + f'offset={len(list_of_businesses)}'\n",
    "        else:\n",
    "            base_url += f'&offset={len(list_of_businesses)}'\n",
    "\n",
    "        time.sleep(1)  \n",
    "\n",
    "    return list_of_businesses"
   ]
  },
  {
   "cell_type": "markdown",
   "metadata": {},
   "source": [
    "### We get the reviews from the business"
   ]
  },
  {
   "cell_type": "code",
   "execution_count": 94,
   "metadata": {},
   "outputs": [],
   "source": [
    "def get_reviews(business_data, city):\n",
    "    restaurant_ids = [restaurant['restaurant_id'] for restaurant in business_data]\n",
    "\n",
    "    business_df = pd.DataFrame()\n",
    "    count = 0\n",
    "    \n",
    "    for restaurant_id in restaurant_ids:\n",
    "        url2 = \"https://api.yelp.com/v3/businesses/\" + restaurant_id + \"/reviews?sort_by=yelp_sort\"\n",
    "        response = requests.get(url2, headers=headers)\n",
    "        reviews_data = response.json()\n",
    "        \n",
    "        try:\n",
    "            for review in reviews_data['reviews']:\n",
    "                business_df.loc[count, 'text'] = review['text']\n",
    "                business_df.loc[count, 'rating'] = review['rating']\n",
    "                business_df.loc[count, 'location'] = city\n",
    "                business_df.loc[count, 'restaurant_id'] = restaurant_id\n",
    "                count += 1\n",
    "\n",
    "        except:\n",
    "            print(\"No reviews for this restaurant\")\n",
    "        \n",
    "    return business_df"
   ]
  },
  {
   "cell_type": "code",
   "execution_count": 95,
   "metadata": {},
   "outputs": [
    {
     "name": "stderr",
     "output_type": "stream",
     "text": [
      "/var/folders/p9/flhwy6kx3s75yh91rftjm9dr0000gn/T/ipykernel_40662/2927359860.py:14: FutureWarning: Setting an item of incompatible dtype is deprecated and will raise in a future error of pandas. Value 'I Love everything about this restaurant!\n",
      "From the moment you're greeted! Ambiance is amazing! Love the decor, it's intimate and beautiful!\n",
      "\n",
      "Food is...' has dtype incompatible with float64, please explicitly cast to a compatible dtype first.\n",
      "  business_df.loc[count, 'text'] = review['text']\n",
      "/var/folders/p9/flhwy6kx3s75yh91rftjm9dr0000gn/T/ipykernel_40662/2927359860.py:16: FutureWarning: Setting an item of incompatible dtype is deprecated and will raise in a future error of pandas. Value 'Atlanta' has dtype incompatible with float64, please explicitly cast to a compatible dtype first.\n",
      "  business_df.loc[count, 'location'] = city\n",
      "/var/folders/p9/flhwy6kx3s75yh91rftjm9dr0000gn/T/ipykernel_40662/2927359860.py:17: FutureWarning: Setting an item of incompatible dtype is deprecated and will raise in a future error of pandas. Value '85s4Qh0VUxKCRFnEkHeXRA' has dtype incompatible with float64, please explicitly cast to a compatible dtype first.\n",
      "  business_df.loc[count, 'restaurant_id'] = restaurant_id\n",
      "/var/folders/p9/flhwy6kx3s75yh91rftjm9dr0000gn/T/ipykernel_40662/2927359860.py:14: FutureWarning: Setting an item of incompatible dtype is deprecated and will raise in a future error of pandas. Value 'Came here for a friend's birthday dinner after hearing many great things over the years. Thankfully, it lived up to the hype. \n",
      "\n",
      "When you walk in, the...' has dtype incompatible with float64, please explicitly cast to a compatible dtype first.\n",
      "  business_df.loc[count, 'text'] = review['text']\n",
      "/var/folders/p9/flhwy6kx3s75yh91rftjm9dr0000gn/T/ipykernel_40662/2927359860.py:16: FutureWarning: Setting an item of incompatible dtype is deprecated and will raise in a future error of pandas. Value 'Raleigh' has dtype incompatible with float64, please explicitly cast to a compatible dtype first.\n",
      "  business_df.loc[count, 'location'] = city\n",
      "/var/folders/p9/flhwy6kx3s75yh91rftjm9dr0000gn/T/ipykernel_40662/2927359860.py:17: FutureWarning: Setting an item of incompatible dtype is deprecated and will raise in a future error of pandas. Value '0vlHTZCatpZiO9CgO4bu4w' has dtype incompatible with float64, please explicitly cast to a compatible dtype first.\n",
      "  business_df.loc[count, 'restaurant_id'] = restaurant_id\n",
      "/var/folders/p9/flhwy6kx3s75yh91rftjm9dr0000gn/T/ipykernel_40662/2927359860.py:14: FutureWarning: Setting an item of incompatible dtype is deprecated and will raise in a future error of pandas. Value 'Wow ! Just awesome the zebra pattern chairs the decor is beautiful. Our server was Fletcher and Mikey.  My recommendations are the Gold dollar drink,...' has dtype incompatible with float64, please explicitly cast to a compatible dtype first.\n",
      "  business_df.loc[count, 'text'] = review['text']\n",
      "/var/folders/p9/flhwy6kx3s75yh91rftjm9dr0000gn/T/ipykernel_40662/2927359860.py:16: FutureWarning: Setting an item of incompatible dtype is deprecated and will raise in a future error of pandas. Value 'Miami' has dtype incompatible with float64, please explicitly cast to a compatible dtype first.\n",
      "  business_df.loc[count, 'location'] = city\n",
      "/var/folders/p9/flhwy6kx3s75yh91rftjm9dr0000gn/T/ipykernel_40662/2927359860.py:17: FutureWarning: Setting an item of incompatible dtype is deprecated and will raise in a future error of pandas. Value '-QtB-fGXYKdaEQySVO28wg' has dtype incompatible with float64, please explicitly cast to a compatible dtype first.\n",
      "  business_df.loc[count, 'restaurant_id'] = restaurant_id\n",
      "/var/folders/p9/flhwy6kx3s75yh91rftjm9dr0000gn/T/ipykernel_40662/2927359860.py:14: FutureWarning: Setting an item of incompatible dtype is deprecated and will raise in a future error of pandas. Value '1million stars! Food, service, and the complete restaurant vibe is everything! I really enjoy the boeuf bourguignon, I think my mom likes the roasted...' has dtype incompatible with float64, please explicitly cast to a compatible dtype first.\n",
      "  business_df.loc[count, 'text'] = review['text']\n",
      "/var/folders/p9/flhwy6kx3s75yh91rftjm9dr0000gn/T/ipykernel_40662/2927359860.py:16: FutureWarning: Setting an item of incompatible dtype is deprecated and will raise in a future error of pandas. Value 'Omaha' has dtype incompatible with float64, please explicitly cast to a compatible dtype first.\n",
      "  business_df.loc[count, 'location'] = city\n",
      "/var/folders/p9/flhwy6kx3s75yh91rftjm9dr0000gn/T/ipykernel_40662/2927359860.py:17: FutureWarning: Setting an item of incompatible dtype is deprecated and will raise in a future error of pandas. Value 'wWcWiYwesW7KEsKycEYYRg' has dtype incompatible with float64, please explicitly cast to a compatible dtype first.\n",
      "  business_df.loc[count, 'restaurant_id'] = restaurant_id\n",
      "/var/folders/p9/flhwy6kx3s75yh91rftjm9dr0000gn/T/ipykernel_40662/2927359860.py:14: FutureWarning: Setting an item of incompatible dtype is deprecated and will raise in a future error of pandas. Value 'The food is very good but their response was not good at all to an incident involving them not securing their take-out packaging which reeked havoc on the...' has dtype incompatible with float64, please explicitly cast to a compatible dtype first.\n",
      "  business_df.loc[count, 'text'] = review['text']\n",
      "/var/folders/p9/flhwy6kx3s75yh91rftjm9dr0000gn/T/ipykernel_40662/2927359860.py:16: FutureWarning: Setting an item of incompatible dtype is deprecated and will raise in a future error of pandas. Value 'Oakland' has dtype incompatible with float64, please explicitly cast to a compatible dtype first.\n",
      "  business_df.loc[count, 'location'] = city\n",
      "/var/folders/p9/flhwy6kx3s75yh91rftjm9dr0000gn/T/ipykernel_40662/2927359860.py:17: FutureWarning: Setting an item of incompatible dtype is deprecated and will raise in a future error of pandas. Value 'u0xH3J_XRPpOpr80L3fcCA' has dtype incompatible with float64, please explicitly cast to a compatible dtype first.\n",
      "  business_df.loc[count, 'restaurant_id'] = restaurant_id\n"
     ]
    },
    {
     "name": "stdout",
     "output_type": "stream",
     "text": [
      "No reviews for this restaurant\n"
     ]
    },
    {
     "name": "stderr",
     "output_type": "stream",
     "text": [
      "/var/folders/p9/flhwy6kx3s75yh91rftjm9dr0000gn/T/ipykernel_40662/2927359860.py:14: FutureWarning: Setting an item of incompatible dtype is deprecated and will raise in a future error of pandas. Value 'We loved French Hen at their 71st & Yale location so finally tried the one on Archer... wow! Just wow!\n",
      "\n",
      "I loved everything. The wine was phenomenal. \n",
      "I...' has dtype incompatible with float64, please explicitly cast to a compatible dtype first.\n",
      "  business_df.loc[count, 'text'] = review['text']\n",
      "/var/folders/p9/flhwy6kx3s75yh91rftjm9dr0000gn/T/ipykernel_40662/2927359860.py:16: FutureWarning: Setting an item of incompatible dtype is deprecated and will raise in a future error of pandas. Value 'Tulsa' has dtype incompatible with float64, please explicitly cast to a compatible dtype first.\n",
      "  business_df.loc[count, 'location'] = city\n",
      "/var/folders/p9/flhwy6kx3s75yh91rftjm9dr0000gn/T/ipykernel_40662/2927359860.py:17: FutureWarning: Setting an item of incompatible dtype is deprecated and will raise in a future error of pandas. Value 'QAfanCyvIk1JrpKSiAWN5Q' has dtype incompatible with float64, please explicitly cast to a compatible dtype first.\n",
      "  business_df.loc[count, 'restaurant_id'] = restaurant_id\n",
      "/var/folders/p9/flhwy6kx3s75yh91rftjm9dr0000gn/T/ipykernel_40662/2927359860.py:14: FutureWarning: Setting an item of incompatible dtype is deprecated and will raise in a future error of pandas. Value 'Went here for my husbands birthday. It was amazing!! Great service and great food! The bartender made some excellent cocktails and the server was superb....' has dtype incompatible with float64, please explicitly cast to a compatible dtype first.\n",
      "  business_df.loc[count, 'text'] = review['text']\n",
      "/var/folders/p9/flhwy6kx3s75yh91rftjm9dr0000gn/T/ipykernel_40662/2927359860.py:16: FutureWarning: Setting an item of incompatible dtype is deprecated and will raise in a future error of pandas. Value 'Minneapolis' has dtype incompatible with float64, please explicitly cast to a compatible dtype first.\n",
      "  business_df.loc[count, 'location'] = city\n",
      "/var/folders/p9/flhwy6kx3s75yh91rftjm9dr0000gn/T/ipykernel_40662/2927359860.py:17: FutureWarning: Setting an item of incompatible dtype is deprecated and will raise in a future error of pandas. Value 'z50s-RzKyEnAdHtusrEXpw' has dtype incompatible with float64, please explicitly cast to a compatible dtype first.\n",
      "  business_df.loc[count, 'restaurant_id'] = restaurant_id\n",
      "/var/folders/p9/flhwy6kx3s75yh91rftjm9dr0000gn/T/ipykernel_40662/2927359860.py:14: FutureWarning: Setting an item of incompatible dtype is deprecated and will raise in a future error of pandas. Value 'This was one of the most beautiful dinners I have had! My father has always wanted to try this place, so we were very excited!\n",
      "\n",
      "We made reservations beacuse...' has dtype incompatible with float64, please explicitly cast to a compatible dtype first.\n",
      "  business_df.loc[count, 'text'] = review['text']\n",
      "/var/folders/p9/flhwy6kx3s75yh91rftjm9dr0000gn/T/ipykernel_40662/2927359860.py:16: FutureWarning: Setting an item of incompatible dtype is deprecated and will raise in a future error of pandas. Value 'Cleveland' has dtype incompatible with float64, please explicitly cast to a compatible dtype first.\n",
      "  business_df.loc[count, 'location'] = city\n",
      "/var/folders/p9/flhwy6kx3s75yh91rftjm9dr0000gn/T/ipykernel_40662/2927359860.py:17: FutureWarning: Setting an item of incompatible dtype is deprecated and will raise in a future error of pandas. Value 'SzcCJJmreMlWCsNjupdVAA' has dtype incompatible with float64, please explicitly cast to a compatible dtype first.\n",
      "  business_df.loc[count, 'restaurant_id'] = restaurant_id\n",
      "/var/folders/p9/flhwy6kx3s75yh91rftjm9dr0000gn/T/ipykernel_40662/2927359860.py:14: FutureWarning: Setting an item of incompatible dtype is deprecated and will raise in a future error of pandas. Value 'We had the restaurant week dinner.  $45 is generous for the meal. I started with tuna tartar that had other components to give it balance.  My spouse had...' has dtype incompatible with float64, please explicitly cast to a compatible dtype first.\n",
      "  business_df.loc[count, 'text'] = review['text']\n",
      "/var/folders/p9/flhwy6kx3s75yh91rftjm9dr0000gn/T/ipykernel_40662/2927359860.py:16: FutureWarning: Setting an item of incompatible dtype is deprecated and will raise in a future error of pandas. Value 'New+York' has dtype incompatible with float64, please explicitly cast to a compatible dtype first.\n",
      "  business_df.loc[count, 'location'] = city\n",
      "/var/folders/p9/flhwy6kx3s75yh91rftjm9dr0000gn/T/ipykernel_40662/2927359860.py:17: FutureWarning: Setting an item of incompatible dtype is deprecated and will raise in a future error of pandas. Value 'ETgJqJHV7BW6pIr9Ox74sA' has dtype incompatible with float64, please explicitly cast to a compatible dtype first.\n",
      "  business_df.loc[count, 'restaurant_id'] = restaurant_id\n",
      "/var/folders/p9/flhwy6kx3s75yh91rftjm9dr0000gn/T/ipykernel_40662/2927359860.py:14: FutureWarning: Setting an item of incompatible dtype is deprecated and will raise in a future error of pandas. Value 'The experience at this rooftop is always pleasurable with views and the scenic buildings in La, \n",
      "Great drinks are provided on the menu as well as great food...' has dtype incompatible with float64, please explicitly cast to a compatible dtype first.\n",
      "  business_df.loc[count, 'text'] = review['text']\n",
      "/var/folders/p9/flhwy6kx3s75yh91rftjm9dr0000gn/T/ipykernel_40662/2927359860.py:16: FutureWarning: Setting an item of incompatible dtype is deprecated and will raise in a future error of pandas. Value 'Los+Angeles' has dtype incompatible with float64, please explicitly cast to a compatible dtype first.\n",
      "  business_df.loc[count, 'location'] = city\n",
      "/var/folders/p9/flhwy6kx3s75yh91rftjm9dr0000gn/T/ipykernel_40662/2927359860.py:17: FutureWarning: Setting an item of incompatible dtype is deprecated and will raise in a future error of pandas. Value 'K-Fbh2WCHlqR56H9TnfpNA' has dtype incompatible with float64, please explicitly cast to a compatible dtype first.\n",
      "  business_df.loc[count, 'restaurant_id'] = restaurant_id\n",
      "/var/folders/p9/flhwy6kx3s75yh91rftjm9dr0000gn/T/ipykernel_40662/2927359860.py:14: FutureWarning: Setting an item of incompatible dtype is deprecated and will raise in a future error of pandas. Value 'Fantastic French restaurant - very tight / busy but for good reason. The French onion soup and steak frites were phenomenal. Great wine selection \n",
      "\n",
      "Highly...' has dtype incompatible with float64, please explicitly cast to a compatible dtype first.\n",
      "  business_df.loc[count, 'text'] = review['text']\n",
      "/var/folders/p9/flhwy6kx3s75yh91rftjm9dr0000gn/T/ipykernel_40662/2927359860.py:16: FutureWarning: Setting an item of incompatible dtype is deprecated and will raise in a future error of pandas. Value 'Chicago' has dtype incompatible with float64, please explicitly cast to a compatible dtype first.\n",
      "  business_df.loc[count, 'location'] = city\n",
      "/var/folders/p9/flhwy6kx3s75yh91rftjm9dr0000gn/T/ipykernel_40662/2927359860.py:17: FutureWarning: Setting an item of incompatible dtype is deprecated and will raise in a future error of pandas. Value 'gAp38M1cLRkFHbemMhaNAQ' has dtype incompatible with float64, please explicitly cast to a compatible dtype first.\n",
      "  business_df.loc[count, 'restaurant_id'] = restaurant_id\n",
      "/var/folders/p9/flhwy6kx3s75yh91rftjm9dr0000gn/T/ipykernel_40662/2927359860.py:14: FutureWarning: Setting an item of incompatible dtype is deprecated and will raise in a future error of pandas. Value 'This restaurant is located in the Galleria area, Valet parking is available! This restaurant is very well decorated, elegant and would be a cute lunch or...' has dtype incompatible with float64, please explicitly cast to a compatible dtype first.\n",
      "  business_df.loc[count, 'text'] = review['text']\n",
      "/var/folders/p9/flhwy6kx3s75yh91rftjm9dr0000gn/T/ipykernel_40662/2927359860.py:16: FutureWarning: Setting an item of incompatible dtype is deprecated and will raise in a future error of pandas. Value 'Houston' has dtype incompatible with float64, please explicitly cast to a compatible dtype first.\n",
      "  business_df.loc[count, 'location'] = city\n",
      "/var/folders/p9/flhwy6kx3s75yh91rftjm9dr0000gn/T/ipykernel_40662/2927359860.py:17: FutureWarning: Setting an item of incompatible dtype is deprecated and will raise in a future error of pandas. Value 'oaFc5ZrzOa-xOXuM1StqxA' has dtype incompatible with float64, please explicitly cast to a compatible dtype first.\n",
      "  business_df.loc[count, 'restaurant_id'] = restaurant_id\n",
      "/var/folders/p9/flhwy6kx3s75yh91rftjm9dr0000gn/T/ipykernel_40662/2927359860.py:14: FutureWarning: Setting an item of incompatible dtype is deprecated and will raise in a future error of pandas. Value 'You must try this Restaurant!! My son was celebrating a birthday and really wanted some Escargot. Janet the event planner went out of her way to help make...' has dtype incompatible with float64, please explicitly cast to a compatible dtype first.\n",
      "  business_df.loc[count, 'text'] = review['text']\n",
      "/var/folders/p9/flhwy6kx3s75yh91rftjm9dr0000gn/T/ipykernel_40662/2927359860.py:16: FutureWarning: Setting an item of incompatible dtype is deprecated and will raise in a future error of pandas. Value 'Phoenix' has dtype incompatible with float64, please explicitly cast to a compatible dtype first.\n",
      "  business_df.loc[count, 'location'] = city\n",
      "/var/folders/p9/flhwy6kx3s75yh91rftjm9dr0000gn/T/ipykernel_40662/2927359860.py:17: FutureWarning: Setting an item of incompatible dtype is deprecated and will raise in a future error of pandas. Value 'eY8nmR9IhjU4Q90FrZu66w' has dtype incompatible with float64, please explicitly cast to a compatible dtype first.\n",
      "  business_df.loc[count, 'restaurant_id'] = restaurant_id\n",
      "/var/folders/p9/flhwy6kx3s75yh91rftjm9dr0000gn/T/ipykernel_40662/2927359860.py:14: FutureWarning: Setting an item of incompatible dtype is deprecated and will raise in a future error of pandas. Value 'I cannot say enough good things about this venue. For the life of me, I cannot remember if I had ever been here before but it truly didn't matter;...' has dtype incompatible with float64, please explicitly cast to a compatible dtype first.\n",
      "  business_df.loc[count, 'text'] = review['text']\n",
      "/var/folders/p9/flhwy6kx3s75yh91rftjm9dr0000gn/T/ipykernel_40662/2927359860.py:16: FutureWarning: Setting an item of incompatible dtype is deprecated and will raise in a future error of pandas. Value 'Philadelphia' has dtype incompatible with float64, please explicitly cast to a compatible dtype first.\n",
      "  business_df.loc[count, 'location'] = city\n",
      "/var/folders/p9/flhwy6kx3s75yh91rftjm9dr0000gn/T/ipykernel_40662/2927359860.py:17: FutureWarning: Setting an item of incompatible dtype is deprecated and will raise in a future error of pandas. Value 'j-qtdD55OLfSqfsWuQTDJg' has dtype incompatible with float64, please explicitly cast to a compatible dtype first.\n",
      "  business_df.loc[count, 'restaurant_id'] = restaurant_id\n",
      "/var/folders/p9/flhwy6kx3s75yh91rftjm9dr0000gn/T/ipykernel_40662/2927359860.py:14: FutureWarning: Setting an item of incompatible dtype is deprecated and will raise in a future error of pandas. Value 'We wanted to see the lights at The Pearl so I made reservations for @brasseriemonchouchou . \n",
      "\n",
      "Lori, our server, welcomed us warmly, and brought Ryan's...' has dtype incompatible with float64, please explicitly cast to a compatible dtype first.\n",
      "  business_df.loc[count, 'text'] = review['text']\n",
      "/var/folders/p9/flhwy6kx3s75yh91rftjm9dr0000gn/T/ipykernel_40662/2927359860.py:16: FutureWarning: Setting an item of incompatible dtype is deprecated and will raise in a future error of pandas. Value 'San+Antonio' has dtype incompatible with float64, please explicitly cast to a compatible dtype first.\n",
      "  business_df.loc[count, 'location'] = city\n",
      "/var/folders/p9/flhwy6kx3s75yh91rftjm9dr0000gn/T/ipykernel_40662/2927359860.py:17: FutureWarning: Setting an item of incompatible dtype is deprecated and will raise in a future error of pandas. Value '_Bdq44cyoj0CIaDpZIucDw' has dtype incompatible with float64, please explicitly cast to a compatible dtype first.\n",
      "  business_df.loc[count, 'restaurant_id'] = restaurant_id\n",
      "/var/folders/p9/flhwy6kx3s75yh91rftjm9dr0000gn/T/ipykernel_40662/2927359860.py:14: FutureWarning: Setting an item of incompatible dtype is deprecated and will raise in a future error of pandas. Value 'Amazing food, service, and ambiance! \n",
      "\n",
      "My friend and I shared the pork chop, banana bread, and mussels. Every dish was well prepared and presented. I'd...' has dtype incompatible with float64, please explicitly cast to a compatible dtype first.\n",
      "  business_df.loc[count, 'text'] = review['text']\n",
      "/var/folders/p9/flhwy6kx3s75yh91rftjm9dr0000gn/T/ipykernel_40662/2927359860.py:16: FutureWarning: Setting an item of incompatible dtype is deprecated and will raise in a future error of pandas. Value 'San+Diego' has dtype incompatible with float64, please explicitly cast to a compatible dtype first.\n",
      "  business_df.loc[count, 'location'] = city\n",
      "/var/folders/p9/flhwy6kx3s75yh91rftjm9dr0000gn/T/ipykernel_40662/2927359860.py:17: FutureWarning: Setting an item of incompatible dtype is deprecated and will raise in a future error of pandas. Value 'YLV7ZZoyOAXW3eqidGXBZA' has dtype incompatible with float64, please explicitly cast to a compatible dtype first.\n",
      "  business_df.loc[count, 'restaurant_id'] = restaurant_id\n",
      "/var/folders/p9/flhwy6kx3s75yh91rftjm9dr0000gn/T/ipykernel_40662/2927359860.py:14: FutureWarning: Setting an item of incompatible dtype is deprecated and will raise in a future error of pandas. Value 'I really liked this spot. It's beautiful, quaint and exactly what you'd look for in a brunch spot.\n",
      "\n",
      "The service was excellent. Their breakfast crepe was...' has dtype incompatible with float64, please explicitly cast to a compatible dtype first.\n",
      "  business_df.loc[count, 'text'] = review['text']\n",
      "/var/folders/p9/flhwy6kx3s75yh91rftjm9dr0000gn/T/ipykernel_40662/2927359860.py:16: FutureWarning: Setting an item of incompatible dtype is deprecated and will raise in a future error of pandas. Value 'Dallas' has dtype incompatible with float64, please explicitly cast to a compatible dtype first.\n",
      "  business_df.loc[count, 'location'] = city\n",
      "/var/folders/p9/flhwy6kx3s75yh91rftjm9dr0000gn/T/ipykernel_40662/2927359860.py:17: FutureWarning: Setting an item of incompatible dtype is deprecated and will raise in a future error of pandas. Value 'mEgczh_FVcbBfW3qk10BIg' has dtype incompatible with float64, please explicitly cast to a compatible dtype first.\n",
      "  business_df.loc[count, 'restaurant_id'] = restaurant_id\n",
      "/var/folders/p9/flhwy6kx3s75yh91rftjm9dr0000gn/T/ipykernel_40662/2927359860.py:14: FutureWarning: Setting an item of incompatible dtype is deprecated and will raise in a future error of pandas. Value 'My friend and I came here to celebrate her birthday! We wanted to find a fancy place to dress up at. First impression, the place is very nice from the...' has dtype incompatible with float64, please explicitly cast to a compatible dtype first.\n",
      "  business_df.loc[count, 'text'] = review['text']\n",
      "/var/folders/p9/flhwy6kx3s75yh91rftjm9dr0000gn/T/ipykernel_40662/2927359860.py:16: FutureWarning: Setting an item of incompatible dtype is deprecated and will raise in a future error of pandas. Value 'San+Jose' has dtype incompatible with float64, please explicitly cast to a compatible dtype first.\n",
      "  business_df.loc[count, 'location'] = city\n",
      "/var/folders/p9/flhwy6kx3s75yh91rftjm9dr0000gn/T/ipykernel_40662/2927359860.py:17: FutureWarning: Setting an item of incompatible dtype is deprecated and will raise in a future error of pandas. Value '6Bsqo2SLjtSn_cwwD-4RAg' has dtype incompatible with float64, please explicitly cast to a compatible dtype first.\n",
      "  business_df.loc[count, 'restaurant_id'] = restaurant_id\n",
      "/var/folders/p9/flhwy6kx3s75yh91rftjm9dr0000gn/T/ipykernel_40662/2927359860.py:14: FutureWarning: Setting an item of incompatible dtype is deprecated and will raise in a future error of pandas. Value 'Came here for dinner on my actual bday on a Monday, since they have the $25 steak frites special. It ended up being amazing, and better than the \"nicer\"...' has dtype incompatible with float64, please explicitly cast to a compatible dtype first.\n",
      "  business_df.loc[count, 'text'] = review['text']\n",
      "/var/folders/p9/flhwy6kx3s75yh91rftjm9dr0000gn/T/ipykernel_40662/2927359860.py:16: FutureWarning: Setting an item of incompatible dtype is deprecated and will raise in a future error of pandas. Value 'Austin' has dtype incompatible with float64, please explicitly cast to a compatible dtype first.\n",
      "  business_df.loc[count, 'location'] = city\n",
      "/var/folders/p9/flhwy6kx3s75yh91rftjm9dr0000gn/T/ipykernel_40662/2927359860.py:17: FutureWarning: Setting an item of incompatible dtype is deprecated and will raise in a future error of pandas. Value 'eL_JhE6smEo128qAdiUr0Q' has dtype incompatible with float64, please explicitly cast to a compatible dtype first.\n",
      "  business_df.loc[count, 'restaurant_id'] = restaurant_id\n",
      "/var/folders/p9/flhwy6kx3s75yh91rftjm9dr0000gn/T/ipykernel_40662/2927359860.py:14: FutureWarning: Setting an item of incompatible dtype is deprecated and will raise in a future error of pandas. Value 'First time going was for lunch. For appetizers, we got shrimp cocktail, bang bang shrimp, calamari, and arancini. It was all really good. The bang bang...' has dtype incompatible with float64, please explicitly cast to a compatible dtype first.\n",
      "  business_df.loc[count, 'text'] = review['text']\n",
      "/var/folders/p9/flhwy6kx3s75yh91rftjm9dr0000gn/T/ipykernel_40662/2927359860.py:16: FutureWarning: Setting an item of incompatible dtype is deprecated and will raise in a future error of pandas. Value 'Jacksonville' has dtype incompatible with float64, please explicitly cast to a compatible dtype first.\n",
      "  business_df.loc[count, 'location'] = city\n",
      "/var/folders/p9/flhwy6kx3s75yh91rftjm9dr0000gn/T/ipykernel_40662/2927359860.py:17: FutureWarning: Setting an item of incompatible dtype is deprecated and will raise in a future error of pandas. Value 'aC29uVIaw0rSrMmd16z22g' has dtype incompatible with float64, please explicitly cast to a compatible dtype first.\n",
      "  business_df.loc[count, 'restaurant_id'] = restaurant_id\n",
      "/var/folders/p9/flhwy6kx3s75yh91rftjm9dr0000gn/T/ipykernel_40662/2927359860.py:14: FutureWarning: Setting an item of incompatible dtype is deprecated and will raise in a future error of pandas. Value 'The staff is wonderful and the Bistro has the best food in town. No one else is even close...\n",
      "A very eclectic menu that changes regularly.\n",
      "It's my go to...' has dtype incompatible with float64, please explicitly cast to a compatible dtype first.\n",
      "  business_df.loc[count, 'text'] = review['text']\n",
      "/var/folders/p9/flhwy6kx3s75yh91rftjm9dr0000gn/T/ipykernel_40662/2927359860.py:16: FutureWarning: Setting an item of incompatible dtype is deprecated and will raise in a future error of pandas. Value 'Indianapolis' has dtype incompatible with float64, please explicitly cast to a compatible dtype first.\n",
      "  business_df.loc[count, 'location'] = city\n",
      "/var/folders/p9/flhwy6kx3s75yh91rftjm9dr0000gn/T/ipykernel_40662/2927359860.py:17: FutureWarning: Setting an item of incompatible dtype is deprecated and will raise in a future error of pandas. Value '_UxTQIGh45sCp_LDYfVMsg' has dtype incompatible with float64, please explicitly cast to a compatible dtype first.\n",
      "  business_df.loc[count, 'restaurant_id'] = restaurant_id\n",
      "/var/folders/p9/flhwy6kx3s75yh91rftjm9dr0000gn/T/ipykernel_40662/2927359860.py:14: FutureWarning: Setting an item of incompatible dtype is deprecated and will raise in a future error of pandas. Value 'I loved it  AAA+ .\n",
      "great location , tall windows and tall ceilings but warm & very cozy .\n",
      "The food is carefully choosen & well assembled. The results are...' has dtype incompatible with float64, please explicitly cast to a compatible dtype first.\n",
      "  business_df.loc[count, 'text'] = review['text']\n",
      "/var/folders/p9/flhwy6kx3s75yh91rftjm9dr0000gn/T/ipykernel_40662/2927359860.py:16: FutureWarning: Setting an item of incompatible dtype is deprecated and will raise in a future error of pandas. Value 'San+Francisco' has dtype incompatible with float64, please explicitly cast to a compatible dtype first.\n",
      "  business_df.loc[count, 'location'] = city\n",
      "/var/folders/p9/flhwy6kx3s75yh91rftjm9dr0000gn/T/ipykernel_40662/2927359860.py:17: FutureWarning: Setting an item of incompatible dtype is deprecated and will raise in a future error of pandas. Value 'cCVR9W_L2rqexfKAjfBTzQ' has dtype incompatible with float64, please explicitly cast to a compatible dtype first.\n",
      "  business_df.loc[count, 'restaurant_id'] = restaurant_id\n"
     ]
    },
    {
     "name": "stdout",
     "output_type": "stream",
     "text": [
      "No reviews for this restaurant\n"
     ]
    },
    {
     "name": "stderr",
     "output_type": "stream",
     "text": [
      "/var/folders/p9/flhwy6kx3s75yh91rftjm9dr0000gn/T/ipykernel_40662/2927359860.py:14: FutureWarning: Setting an item of incompatible dtype is deprecated and will raise in a future error of pandas. Value 'You won't find better service in Columbus.  The Refectory is a special place to celebrate special events or just enjoy a fine dinner in a beautiful venue...' has dtype incompatible with float64, please explicitly cast to a compatible dtype first.\n",
      "  business_df.loc[count, 'text'] = review['text']\n",
      "/var/folders/p9/flhwy6kx3s75yh91rftjm9dr0000gn/T/ipykernel_40662/2927359860.py:16: FutureWarning: Setting an item of incompatible dtype is deprecated and will raise in a future error of pandas. Value 'Columbus' has dtype incompatible with float64, please explicitly cast to a compatible dtype first.\n",
      "  business_df.loc[count, 'location'] = city\n",
      "/var/folders/p9/flhwy6kx3s75yh91rftjm9dr0000gn/T/ipykernel_40662/2927359860.py:17: FutureWarning: Setting an item of incompatible dtype is deprecated and will raise in a future error of pandas. Value 'B_W4Nq3-iFWV2ato5AjXTw' has dtype incompatible with float64, please explicitly cast to a compatible dtype first.\n",
      "  business_df.loc[count, 'restaurant_id'] = restaurant_id\n",
      "/var/folders/p9/flhwy6kx3s75yh91rftjm9dr0000gn/T/ipykernel_40662/2927359860.py:14: FutureWarning: Setting an item of incompatible dtype is deprecated and will raise in a future error of pandas. Value 'Amazing food and service. I tend to steer away from celebrity owned restaurants but Le Margot was an experience from beginning to end. \n",
      "\n",
      "I would honestly...' has dtype incompatible with float64, please explicitly cast to a compatible dtype first.\n",
      "  business_df.loc[count, 'text'] = review['text']\n",
      "/var/folders/p9/flhwy6kx3s75yh91rftjm9dr0000gn/T/ipykernel_40662/2927359860.py:16: FutureWarning: Setting an item of incompatible dtype is deprecated and will raise in a future error of pandas. Value 'Fort+Worth' has dtype incompatible with float64, please explicitly cast to a compatible dtype first.\n",
      "  business_df.loc[count, 'location'] = city\n",
      "/var/folders/p9/flhwy6kx3s75yh91rftjm9dr0000gn/T/ipykernel_40662/2927359860.py:17: FutureWarning: Setting an item of incompatible dtype is deprecated and will raise in a future error of pandas. Value 'XscM4rCwSli5LfrKGJuz-A' has dtype incompatible with float64, please explicitly cast to a compatible dtype first.\n",
      "  business_df.loc[count, 'restaurant_id'] = restaurant_id\n",
      "/var/folders/p9/flhwy6kx3s75yh91rftjm9dr0000gn/T/ipykernel_40662/2927359860.py:14: FutureWarning: Setting an item of incompatible dtype is deprecated and will raise in a future error of pandas. Value 'Wonderful first time experience thanks to a wonderfully attentive and vibrant staff, charmingly decorated design and a Menu nearly impossible to choose...' has dtype incompatible with float64, please explicitly cast to a compatible dtype first.\n",
      "  business_df.loc[count, 'text'] = review['text']\n",
      "/var/folders/p9/flhwy6kx3s75yh91rftjm9dr0000gn/T/ipykernel_40662/2927359860.py:16: FutureWarning: Setting an item of incompatible dtype is deprecated and will raise in a future error of pandas. Value 'Charlotte' has dtype incompatible with float64, please explicitly cast to a compatible dtype first.\n",
      "  business_df.loc[count, 'location'] = city\n",
      "/var/folders/p9/flhwy6kx3s75yh91rftjm9dr0000gn/T/ipykernel_40662/2927359860.py:17: FutureWarning: Setting an item of incompatible dtype is deprecated and will raise in a future error of pandas. Value 'USleI8g1UVN9-9jm-b4uIg' has dtype incompatible with float64, please explicitly cast to a compatible dtype first.\n",
      "  business_df.loc[count, 'restaurant_id'] = restaurant_id\n",
      "/var/folders/p9/flhwy6kx3s75yh91rftjm9dr0000gn/T/ipykernel_40662/2927359860.py:14: FutureWarning: Setting an item of incompatible dtype is deprecated and will raise in a future error of pandas. Value 'My first five stars of 2024! \n",
      "After my last few downtown restaurant visits I will be honest that my expectation was not very high\n",
      ". From the time we walked...' has dtype incompatible with float64, please explicitly cast to a compatible dtype first.\n",
      "  business_df.loc[count, 'text'] = review['text']\n",
      "/var/folders/p9/flhwy6kx3s75yh91rftjm9dr0000gn/T/ipykernel_40662/2927359860.py:16: FutureWarning: Setting an item of incompatible dtype is deprecated and will raise in a future error of pandas. Value 'Detroit' has dtype incompatible with float64, please explicitly cast to a compatible dtype first.\n",
      "  business_df.loc[count, 'location'] = city\n",
      "/var/folders/p9/flhwy6kx3s75yh91rftjm9dr0000gn/T/ipykernel_40662/2927359860.py:17: FutureWarning: Setting an item of incompatible dtype is deprecated and will raise in a future error of pandas. Value 'T7ogL8nw-Apzq4lkWq4_Pw' has dtype incompatible with float64, please explicitly cast to a compatible dtype first.\n",
      "  business_df.loc[count, 'restaurant_id'] = restaurant_id\n",
      "/var/folders/p9/flhwy6kx3s75yh91rftjm9dr0000gn/T/ipykernel_40662/2927359860.py:14: FutureWarning: Setting an item of incompatible dtype is deprecated and will raise in a future error of pandas. Value 'This was my first time at Entrecôte in El Paso.  We don't live here (yet) but we like the city in general and have family there.  After a long day dealing...' has dtype incompatible with float64, please explicitly cast to a compatible dtype first.\n",
      "  business_df.loc[count, 'text'] = review['text']\n",
      "/var/folders/p9/flhwy6kx3s75yh91rftjm9dr0000gn/T/ipykernel_40662/2927359860.py:16: FutureWarning: Setting an item of incompatible dtype is deprecated and will raise in a future error of pandas. Value 'El+Paso' has dtype incompatible with float64, please explicitly cast to a compatible dtype first.\n",
      "  business_df.loc[count, 'location'] = city\n",
      "/var/folders/p9/flhwy6kx3s75yh91rftjm9dr0000gn/T/ipykernel_40662/2927359860.py:17: FutureWarning: Setting an item of incompatible dtype is deprecated and will raise in a future error of pandas. Value 'MXkPmUlYwGEYmRbfsqG6Aw' has dtype incompatible with float64, please explicitly cast to a compatible dtype first.\n",
      "  business_df.loc[count, 'restaurant_id'] = restaurant_id\n",
      "/var/folders/p9/flhwy6kx3s75yh91rftjm9dr0000gn/T/ipykernel_40662/2927359860.py:14: FutureWarning: Setting an item of incompatible dtype is deprecated and will raise in a future error of pandas. Value 'Amazing food and service. I tend to steer away from celebrity owned restaurants but Le Margot was an experience from beginning to end. \n",
      "\n",
      "I would honestly...' has dtype incompatible with float64, please explicitly cast to a compatible dtype first.\n",
      "  business_df.loc[count, 'text'] = review['text']\n",
      "/var/folders/p9/flhwy6kx3s75yh91rftjm9dr0000gn/T/ipykernel_40662/2927359860.py:16: FutureWarning: Setting an item of incompatible dtype is deprecated and will raise in a future error of pandas. Value 'Arlington' has dtype incompatible with float64, please explicitly cast to a compatible dtype first.\n",
      "  business_df.loc[count, 'location'] = city\n",
      "/var/folders/p9/flhwy6kx3s75yh91rftjm9dr0000gn/T/ipykernel_40662/2927359860.py:17: FutureWarning: Setting an item of incompatible dtype is deprecated and will raise in a future error of pandas. Value 'XscM4rCwSli5LfrKGJuz-A' has dtype incompatible with float64, please explicitly cast to a compatible dtype first.\n",
      "  business_df.loc[count, 'restaurant_id'] = restaurant_id\n",
      "/var/folders/p9/flhwy6kx3s75yh91rftjm9dr0000gn/T/ipykernel_40662/2927359860.py:14: FutureWarning: Setting an item of incompatible dtype is deprecated and will raise in a future error of pandas. Value 'I went on a date with my partner and I got something 'To Share', the Pate of Louisiana Rabbit & Chicken Livers which is described as \"perfumes with...' has dtype incompatible with float64, please explicitly cast to a compatible dtype first.\n",
      "  business_df.loc[count, 'text'] = review['text']\n",
      "/var/folders/p9/flhwy6kx3s75yh91rftjm9dr0000gn/T/ipykernel_40662/2927359860.py:16: FutureWarning: Setting an item of incompatible dtype is deprecated and will raise in a future error of pandas. Value 'New+Orleans' has dtype incompatible with float64, please explicitly cast to a compatible dtype first.\n",
      "  business_df.loc[count, 'location'] = city\n",
      "/var/folders/p9/flhwy6kx3s75yh91rftjm9dr0000gn/T/ipykernel_40662/2927359860.py:17: FutureWarning: Setting an item of incompatible dtype is deprecated and will raise in a future error of pandas. Value 'GBTPC53ZrG1ZBY3DT8Mbcw' has dtype incompatible with float64, please explicitly cast to a compatible dtype first.\n",
      "  business_df.loc[count, 'restaurant_id'] = restaurant_id\n",
      "/var/folders/p9/flhwy6kx3s75yh91rftjm9dr0000gn/T/ipykernel_40662/2927359860.py:14: FutureWarning: Setting an item of incompatible dtype is deprecated and will raise in a future error of pandas. Value 'I absolutely loved my experience at Boulon. From the moment I walked in to a live musician, to the ambiance of the establishment, to the perfect people...' has dtype incompatible with float64, please explicitly cast to a compatible dtype first.\n",
      "  business_df.loc[count, 'text'] = review['text']\n",
      "/var/folders/p9/flhwy6kx3s75yh91rftjm9dr0000gn/T/ipykernel_40662/2927359860.py:16: FutureWarning: Setting an item of incompatible dtype is deprecated and will raise in a future error of pandas. Value 'Tampa' has dtype incompatible with float64, please explicitly cast to a compatible dtype first.\n",
      "  business_df.loc[count, 'location'] = city\n",
      "/var/folders/p9/flhwy6kx3s75yh91rftjm9dr0000gn/T/ipykernel_40662/2927359860.py:17: FutureWarning: Setting an item of incompatible dtype is deprecated and will raise in a future error of pandas. Value 'tMun39Q-mY0Nxa5jMHepbg' has dtype incompatible with float64, please explicitly cast to a compatible dtype first.\n",
      "  business_df.loc[count, 'restaurant_id'] = restaurant_id\n",
      "/var/folders/p9/flhwy6kx3s75yh91rftjm9dr0000gn/T/ipykernel_40662/2927359860.py:14: FutureWarning: Setting an item of incompatible dtype is deprecated and will raise in a future error of pandas. Value 'La vie! Merveilleuse! Le café est la meilleure partie.Un personnel aimable. Le stationnement est facile, ils proposent un service de voiturier à travers...' has dtype incompatible with float64, please explicitly cast to a compatible dtype first.\n",
      "  business_df.loc[count, 'text'] = review['text']\n",
      "/var/folders/p9/flhwy6kx3s75yh91rftjm9dr0000gn/T/ipykernel_40662/2927359860.py:16: FutureWarning: Setting an item of incompatible dtype is deprecated and will raise in a future error of pandas. Value 'Honolulu' has dtype incompatible with float64, please explicitly cast to a compatible dtype first.\n",
      "  business_df.loc[count, 'location'] = city\n",
      "/var/folders/p9/flhwy6kx3s75yh91rftjm9dr0000gn/T/ipykernel_40662/2927359860.py:17: FutureWarning: Setting an item of incompatible dtype is deprecated and will raise in a future error of pandas. Value 'NvHjE7pj5QRdg9JV4Zw3ug' has dtype incompatible with float64, please explicitly cast to a compatible dtype first.\n",
      "  business_df.loc[count, 'restaurant_id'] = restaurant_id\n",
      "/var/folders/p9/flhwy6kx3s75yh91rftjm9dr0000gn/T/ipykernel_40662/2927359860.py:14: FutureWarning: Setting an item of incompatible dtype is deprecated and will raise in a future error of pandas. Value 'Pure magic. A Disney fan's dreams come true. \n",
      "\n",
      "We were fortunate enough to know someone who was kind enough to make reservations for us. Tucked away in New...' has dtype incompatible with float64, please explicitly cast to a compatible dtype first.\n",
      "  business_df.loc[count, 'text'] = review['text']\n",
      "/var/folders/p9/flhwy6kx3s75yh91rftjm9dr0000gn/T/ipykernel_40662/2927359860.py:16: FutureWarning: Setting an item of incompatible dtype is deprecated and will raise in a future error of pandas. Value 'Anaheim' has dtype incompatible with float64, please explicitly cast to a compatible dtype first.\n",
      "  business_df.loc[count, 'location'] = city\n",
      "/var/folders/p9/flhwy6kx3s75yh91rftjm9dr0000gn/T/ipykernel_40662/2927359860.py:17: FutureWarning: Setting an item of incompatible dtype is deprecated and will raise in a future error of pandas. Value 'NhozCxrs2zC-tOLszGpVjg' has dtype incompatible with float64, please explicitly cast to a compatible dtype first.\n",
      "  business_df.loc[count, 'restaurant_id'] = restaurant_id\n",
      "/var/folders/p9/flhwy6kx3s75yh91rftjm9dr0000gn/T/ipykernel_40662/2927359860.py:14: FutureWarning: Setting an item of incompatible dtype is deprecated and will raise in a future error of pandas. Value 'The experience at this rooftop is always pleasurable with views and the scenic buildings in La, \n",
      "Great drinks are provided on the menu as well as great food...' has dtype incompatible with float64, please explicitly cast to a compatible dtype first.\n",
      "  business_df.loc[count, 'text'] = review['text']\n",
      "/var/folders/p9/flhwy6kx3s75yh91rftjm9dr0000gn/T/ipykernel_40662/2927359860.py:16: FutureWarning: Setting an item of incompatible dtype is deprecated and will raise in a future error of pandas. Value 'Santa+Ana' has dtype incompatible with float64, please explicitly cast to a compatible dtype first.\n",
      "  business_df.loc[count, 'location'] = city\n",
      "/var/folders/p9/flhwy6kx3s75yh91rftjm9dr0000gn/T/ipykernel_40662/2927359860.py:17: FutureWarning: Setting an item of incompatible dtype is deprecated and will raise in a future error of pandas. Value 'K-Fbh2WCHlqR56H9TnfpNA' has dtype incompatible with float64, please explicitly cast to a compatible dtype first.\n",
      "  business_df.loc[count, 'restaurant_id'] = restaurant_id\n",
      "/var/folders/p9/flhwy6kx3s75yh91rftjm9dr0000gn/T/ipykernel_40662/2927359860.py:14: FutureWarning: Setting an item of incompatible dtype is deprecated and will raise in a future error of pandas. Value 'The Crossing was the first fancy dinner date night my partner and I went on so it holds a special place for us and our relationship as a milestone, however,...' has dtype incompatible with float64, please explicitly cast to a compatible dtype first.\n",
      "  business_df.loc[count, 'text'] = review['text']\n",
      "/var/folders/p9/flhwy6kx3s75yh91rftjm9dr0000gn/T/ipykernel_40662/2927359860.py:16: FutureWarning: Setting an item of incompatible dtype is deprecated and will raise in a future error of pandas. Value 'St.+Louis' has dtype incompatible with float64, please explicitly cast to a compatible dtype first.\n",
      "  business_df.loc[count, 'location'] = city\n",
      "/var/folders/p9/flhwy6kx3s75yh91rftjm9dr0000gn/T/ipykernel_40662/2927359860.py:17: FutureWarning: Setting an item of incompatible dtype is deprecated and will raise in a future error of pandas. Value '73ZXjIfdHJs59XOzKHQ45g' has dtype incompatible with float64, please explicitly cast to a compatible dtype first.\n",
      "  business_df.loc[count, 'restaurant_id'] = restaurant_id\n",
      "/var/folders/p9/flhwy6kx3s75yh91rftjm9dr0000gn/T/ipykernel_40662/2927359860.py:14: FutureWarning: Setting an item of incompatible dtype is deprecated and will raise in a future error of pandas. Value 'The food is super delicious, the fish always super fresh and the sauces are incredible. A lot of typical French dishes but not exclusively. The service is...' has dtype incompatible with float64, please explicitly cast to a compatible dtype first.\n",
      "  business_df.loc[count, 'text'] = review['text']\n",
      "/var/folders/p9/flhwy6kx3s75yh91rftjm9dr0000gn/T/ipykernel_40662/2927359860.py:16: FutureWarning: Setting an item of incompatible dtype is deprecated and will raise in a future error of pandas. Value 'Riverside' has dtype incompatible with float64, please explicitly cast to a compatible dtype first.\n",
      "  business_df.loc[count, 'location'] = city\n",
      "/var/folders/p9/flhwy6kx3s75yh91rftjm9dr0000gn/T/ipykernel_40662/2927359860.py:17: FutureWarning: Setting an item of incompatible dtype is deprecated and will raise in a future error of pandas. Value 'EupItiepZ3S9u5rduO_Xlw' has dtype incompatible with float64, please explicitly cast to a compatible dtype first.\n",
      "  business_df.loc[count, 'restaurant_id'] = restaurant_id\n"
     ]
    },
    {
     "name": "stdout",
     "output_type": "stream",
     "text": [
      "No reviews for this restaurant\n",
      "No reviews for this restaurant\n",
      "No reviews for this restaurant\n",
      "No reviews for this restaurant\n"
     ]
    }
   ],
   "source": [
    "# cities = ['San+Diego', 'San+Jose', 'Seattle', 'Maryville', 'Salt+Lake+City', 'Oklahoma+City', 'Austin', 'Louisville', 'Indianapolis', 'Portland', 'Santa+Cruz', 'Jacksonville', 'Hudson', 'Dallas', 'Phoenix', 'Asheville']\n",
    "# 'Memphis', 'Boston', 'Seattle', 'Denver', 'Washington', 'Nashville', 'Baltimore', 'Oklahoma+City', 'Louisville', 'Portland', 'Las+Vegas', 'Milwaukee', 'Albuquerque', 'Tucson', 'Fresno', 'Sacramento', 'Long+Beach', 'Kansas+City', 'Mesa'\n",
    "# 'Atlanta', 'Raleigh', 'Miami', 'Omaha', 'Oakland', 'Tulsa', 'Minneapolis', 'Cleveland', 'Wichita', 'New+York', 'Los+Angeles', 'Chicago', 'Houston', 'Phoenix', 'Philadelphia', 'San+Antonio', 'San+Diego', 'Dallas', 'San+Jose', 'Austin', 'Jacksonville', 'Indianapolis', 'San+Francisco', 'Columbus', 'Fort+Worth', 'Charlotte', 'Detroit', 'El+Paso', 'Arlington', 'New+Orleans', 'Bakersfield', 'Tampa', 'Honolulu', 'Aurora', 'Anaheim', 'Santa+Ana', 'St.+Louis',\n",
    "\n",
    "cities = [\n",
    "    'Riverside', 'Corpus+Christi', 'Lexington', 'Pittsburgh', 'Anchorage', 'Stockton', 'Cincinnati', 'Saint+Paul',\n",
    "    'Toledo', 'Newark', 'Greensboro', 'Plano', 'Henderson', 'Lincoln', 'Buffalo', 'Fort+Wayne', 'Jersey+City',\n",
    "    'Chula+Vista', 'Orlando', 'St.+Petersburg', 'Norfolk', 'Chandler', 'Laredo', 'Madison', 'Durham', 'Lubbock',\n",
    "    'Winston-Salem', 'Garland', 'Glendale', 'Hialeah', 'Reno', 'Baton+Rouge', 'Irvine', 'Chesapeake', 'Irving',\n",
    "    'Scottsdale', 'North+Las+Vegas', 'Fremont', 'Gilbert', 'San+Bernardino', 'Boise', 'Birmingham', 'Rochester',\n",
    "    'Richmond', 'Spokane', 'Des+Moines', 'Montgomery', 'Modesto', 'Fayetteville', 'Tacoma', 'Shreveport', 'Fontana',\n",
    "    'Oxnard', 'Aurora', 'Moreno+Valley', 'Akron', 'Yonkers', 'Columbus', 'Augusta', 'Little+Rock', 'Amarillo', 'Mobile',\n",
    "    'Huntington+Beach', 'Glendale', 'Grand+Rapids', 'Salt+Lake+City', 'Tallahassee', 'Huntsville', 'Worcester',\n",
    "    'Knoxville', 'Grand+Prairie', 'Newport+News', 'Brownsville', 'Santa+Clarita', 'Overland+Park', 'Providence',\n",
    "    'Garden+Grove', 'Chattanooga', 'Oceanside', 'Santa+Rosa', 'Fort+Lauderdale', 'Rancho+Cucamonga', 'Port+St.+Lucie',\n",
    "    'Ontario', 'Vancouver', 'Tempe', 'Springfield', 'Lancaster', 'Eugene', 'Pembroke+Pines', 'Salem', 'Cape+Coral',\n",
    "    'Peoria', 'Sioux+Falls', 'Springfield', 'Elk+Grove', 'Rockford', 'Palmdale', 'Corona', 'Salinas', 'Pomona', 'Pasadena',\n",
    "    'Joliet', 'Paterson', 'Kansas+City', 'Torrance', 'Syracuse', 'Bridgeport', 'Hayward', 'Fort+Collins', 'Escondido',\n",
    "    'Lakewood', 'Naperville', 'Dayton', 'Hollywood', 'Sunnyvale', 'Alexandria', 'Mesquite', 'Hampton', 'Pasadena',\n",
    "    'Orange', 'Savannah', 'Cary', 'Fullerton', 'Warren', 'Clarksville', 'McKinney', 'McAllen', 'New+Haven', 'Sterling+Heights',\n",
    "    'West+Valley+City', 'Columbia', 'Killeen', 'Topeka', 'Thousand+Oaks', 'Cedar+Rapids', 'Olathe', 'Elizabeth', 'Waco',\n",
    "    'Hartford', 'Visalia', 'Gainesville', 'Simi+Valley', 'Stamford', 'Bellevue', 'Concord', 'Miramar', 'Coral+Springs',\n",
    "    'Lafayette', 'Charleston', 'Carrollton', 'Roseville', 'Thornton', 'Beaumont', 'Allentown', 'Surprise', 'Evansville',\n",
    "    'Abilene', 'Frisco', 'Independence', 'Santa+Clara', 'Springfield', 'Vallejo', 'Victorville', 'Athens', 'Peoria',\n",
    "    'Lansing', 'Ann+Arbor', 'El+Monte', 'Denton', 'Berkeley', 'Provo', 'Downey', 'Midland', 'Norman', 'Waterbury',\n",
    "    'Costa+Mesa', 'Inglewood', 'Manchester', 'Murfreesboro', 'Columbia', 'Elgin', 'Clearwater', 'Miami+Gardens',\n",
    "    'Rochester', 'Pueblo', 'Lowell', 'Wilmington', 'Arvada', 'Ventura', 'Westminster', 'West+Covina', 'Gresham',\n",
    "    'Fargo', 'Norwalk', 'Carlsbad', 'Fairfield', 'Cambridge', 'Wichita+Falls', 'High+Point', 'Billings', 'Green+Bay',\n",
    "    'West+Jordan', 'Richmond', 'Murrieta', 'Burbank', 'Palm+Bay', 'Everett', 'Flint', 'Antioch', 'Erie', 'South+Bend',\n",
    "    'Daly+City', 'Centennial', 'Temecula', 'Rialto', 'Thornton', 'El+Paso', 'San+Mateo', 'Midland', 'Davenport', 'Santa+Monica',\n",
    "    'Sandy+Springs', 'Boulder', 'Hillsboro', 'Frisco', 'Greeley', 'San+Bernardino', 'Jurupa+Valley', 'Kenosha', 'Rochester',\n",
    "    'Olathe', 'Newport+Beach', 'Topeka', 'Athens', 'Santa+Clarita', 'Simi+Valley', 'Columbia', 'Concord', 'Lafayette',\n",
    "    'Charleston', 'Carrollton', 'Roseville', 'Thornton'\n",
    "]\n",
    "\n",
    "business_df = pd.DataFrame()\n",
    "business_data = pd.DataFrame()\n",
    "\n",
    "for city in cities:\n",
    "    url = (f'https://api.yelp.com/v3/businesses/search?location={city}&term=restaurants&categories=french&price=3&price=4&sort_by=best_match')\n",
    "    business_id = get_all_business_data(url)\n",
    "    business_data = pd.concat([business_data, pd.DataFrame(business_id)], ignore_index=True)\n",
    "    business_df = pd.concat([business_df, get_reviews(business_id, city)], ignore_index=True)"
   ]
  },
  {
   "cell_type": "markdown",
   "metadata": {},
   "source": [
    "Il faudra juste faire un merge demain!"
   ]
  },
  {
   "cell_type": "code",
   "execution_count": 96,
   "metadata": {},
   "outputs": [
    {
     "data": {
      "text/plain": [
       "array(['Atlanta', 'Raleigh', 'Miami', 'Omaha', 'Oakland', 'Tulsa',\n",
       "       'Minneapolis', 'Cleveland', 'New+York', 'Los+Angeles', 'Chicago',\n",
       "       'Houston', 'Phoenix', 'Philadelphia', 'San+Antonio', 'San+Diego',\n",
       "       'Dallas', 'San+Jose', 'Austin', 'Jacksonville', 'Indianapolis',\n",
       "       'San+Francisco', 'Columbus', 'Fort+Worth', 'Charlotte', 'Detroit',\n",
       "       'El+Paso', 'Arlington', 'New+Orleans', 'Tampa', 'Honolulu',\n",
       "       'Anaheim', 'Santa+Ana', 'St.+Louis', 'Riverside'], dtype=object)"
      ]
     },
     "execution_count": 96,
     "metadata": {},
     "output_type": "execute_result"
    }
   ],
   "source": [
    "business_df['location'].unique()\n",
    "# 2-Ba1KvwdY7MZQ3CSqB_1b1G8L_yFEHMN3GKT9wJYQD7rcI6GMzwEH1Q9p_fkJ-SdB01Nd63EcOZrMtiEC63V9zLLqRIpwrz7q2ne5mUwZ-utvwdbEbIntIkAdKjZXYx"
   ]
  },
  {
   "cell_type": "code",
   "execution_count": 97,
   "metadata": {},
   "outputs": [],
   "source": [
    "business_df.to_csv('df-export-three.csv', index=False)\n",
    "business_data.to_csv('id-export-three.csv', index=False)"
   ]
  },
  {
   "cell_type": "markdown",
   "metadata": {},
   "source": [
    "#### New Orleans"
   ]
  },
  {
   "cell_type": "code",
   "execution_count": 7,
   "metadata": {},
   "outputs": [
    {
     "name": "stdout",
     "output_type": "stream",
     "text": [
      "No reviews for this restaurant\n",
      "No reviews for this restaurant\n",
      "No reviews for this restaurant\n",
      "No reviews for this restaurant\n",
      "No reviews for this restaurant\n",
      "No reviews for this restaurant\n",
      "No reviews for this restaurant\n",
      "No reviews for this restaurant\n",
      "No reviews for this restaurant\n",
      "No reviews for this restaurant\n",
      "No reviews for this restaurant\n",
      "No reviews for this restaurant\n",
      "No reviews for this restaurant\n",
      "No reviews for this restaurant\n",
      "No reviews for this restaurant\n",
      "0\n"
     ]
    }
   ],
   "source": [
    "import requests\n",
    "\n",
    "new_orleans_url = ('https://api.yelp.com/v3/businesses/search?location=New+Orleans&term=restaurants&categories=french&price=3&price=4&sort_by=best_match')\n",
    "\n",
    "new_orleans_restaurants_data = get_all_business_data(new_orleans_url)\n",
    "\n",
    "new_orleans_restaurants_ids = [restaurant['business_id'] for restaurant in new_orleans_restaurants_data]\n",
    "\n",
    "new_orleans_list_of_reviews = get_reviews(new_orleans_restaurants_ids,'New Orleans')\n",
    "\n",
    "print(len(new_orleans_list_of_reviews))"
   ]
  },
  {
   "cell_type": "markdown",
   "metadata": {},
   "source": [
    "#### New York City"
   ]
  },
  {
   "cell_type": "code",
   "execution_count": 8,
   "metadata": {},
   "outputs": [
    {
     "name": "stdout",
     "output_type": "stream",
     "text": [
      "No reviews for this restaurant\n",
      "No reviews for this restaurant\n",
      "No reviews for this restaurant\n",
      "No reviews for this restaurant\n"
     ]
    },
    {
     "ename": "KeyboardInterrupt",
     "evalue": "",
     "output_type": "error",
     "traceback": [
      "\u001b[0;31m---------------------------------------------------------------------------\u001b[0m",
      "\u001b[0;31mKeyboardInterrupt\u001b[0m                         Traceback (most recent call last)",
      "Cell \u001b[0;32mIn[8], line 7\u001b[0m\n\u001b[1;32m      3\u001b[0m nyc_restaurants_data \u001b[38;5;241m=\u001b[39m get_all_business_data(nyc_url)\n\u001b[1;32m      5\u001b[0m nyc_restaurants_ids \u001b[38;5;241m=\u001b[39m [restaurant[\u001b[38;5;124m'\u001b[39m\u001b[38;5;124mbusiness_id\u001b[39m\u001b[38;5;124m'\u001b[39m] \u001b[38;5;28;01mfor\u001b[39;00m restaurant \u001b[38;5;129;01min\u001b[39;00m nyc_restaurants_data]\n\u001b[0;32m----> 7\u001b[0m nyc_list_of_reviews \u001b[38;5;241m=\u001b[39m \u001b[43mget_reviews\u001b[49m\u001b[43m(\u001b[49m\u001b[43mnyc_restaurants_ids\u001b[49m\u001b[43m,\u001b[49m\u001b[38;5;124;43m'\u001b[39;49m\u001b[38;5;124;43mNew York City\u001b[39;49m\u001b[38;5;124;43m'\u001b[39;49m\u001b[43m)\u001b[49m\n\u001b[1;32m      9\u001b[0m \u001b[38;5;28mprint\u001b[39m(\u001b[38;5;28mlen\u001b[39m(nyc_list_of_reviews))\n",
      "Cell \u001b[0;32mIn[6], line 7\u001b[0m, in \u001b[0;36mget_reviews\u001b[0;34m(restaurant_ids, city)\u001b[0m\n\u001b[1;32m      5\u001b[0m \u001b[38;5;28;01mfor\u001b[39;00m i \u001b[38;5;129;01min\u001b[39;00m \u001b[38;5;28mrange\u001b[39m(\u001b[38;5;28mlen\u001b[39m(restaurant_ids)):\n\u001b[1;32m      6\u001b[0m     url2 \u001b[38;5;241m=\u001b[39m \u001b[38;5;124m\"\u001b[39m\u001b[38;5;124mhttps://api.yelp.com/v3/businesses/\u001b[39m\u001b[38;5;124m\"\u001b[39m \u001b[38;5;241m+\u001b[39m restaurant_ids[\u001b[38;5;241m0\u001b[39m][i] \u001b[38;5;241m+\u001b[39m \u001b[38;5;124m\"\u001b[39m\u001b[38;5;124m/reviews?sort_by=yelp_sort\u001b[39m\u001b[38;5;124m\"\u001b[39m\n\u001b[0;32m----> 7\u001b[0m     response \u001b[38;5;241m=\u001b[39m \u001b[43mrequests\u001b[49m\u001b[38;5;241;43m.\u001b[39;49m\u001b[43mget\u001b[49m\u001b[43m(\u001b[49m\u001b[43murl2\u001b[49m\u001b[43m,\u001b[49m\u001b[43m \u001b[49m\u001b[43mheaders\u001b[49m\u001b[38;5;241;43m=\u001b[39;49m\u001b[43mheaders\u001b[49m\u001b[43m)\u001b[49m\n\u001b[1;32m      8\u001b[0m     reviews_data \u001b[38;5;241m=\u001b[39m response\u001b[38;5;241m.\u001b[39mjson()\n\u001b[1;32m     10\u001b[0m     \u001b[38;5;28;01mtry\u001b[39;00m:\n",
      "File \u001b[0;32m~/miniconda3/envs/tensorflow/lib/python3.10/site-packages/requests/api.py:73\u001b[0m, in \u001b[0;36mget\u001b[0;34m(url, params, **kwargs)\u001b[0m\n\u001b[1;32m     62\u001b[0m \u001b[38;5;28;01mdef\u001b[39;00m \u001b[38;5;21mget\u001b[39m(url, params\u001b[38;5;241m=\u001b[39m\u001b[38;5;28;01mNone\u001b[39;00m, \u001b[38;5;241m*\u001b[39m\u001b[38;5;241m*\u001b[39mkwargs):\n\u001b[1;32m     63\u001b[0m \u001b[38;5;250m    \u001b[39m\u001b[38;5;124mr\u001b[39m\u001b[38;5;124;03m\"\"\"Sends a GET request.\u001b[39;00m\n\u001b[1;32m     64\u001b[0m \n\u001b[1;32m     65\u001b[0m \u001b[38;5;124;03m    :param url: URL for the new :class:`Request` object.\u001b[39;00m\n\u001b[0;32m   (...)\u001b[0m\n\u001b[1;32m     70\u001b[0m \u001b[38;5;124;03m    :rtype: requests.Response\u001b[39;00m\n\u001b[1;32m     71\u001b[0m \u001b[38;5;124;03m    \"\"\"\u001b[39;00m\n\u001b[0;32m---> 73\u001b[0m     \u001b[38;5;28;01mreturn\u001b[39;00m \u001b[43mrequest\u001b[49m\u001b[43m(\u001b[49m\u001b[38;5;124;43m\"\u001b[39;49m\u001b[38;5;124;43mget\u001b[39;49m\u001b[38;5;124;43m\"\u001b[39;49m\u001b[43m,\u001b[49m\u001b[43m \u001b[49m\u001b[43murl\u001b[49m\u001b[43m,\u001b[49m\u001b[43m \u001b[49m\u001b[43mparams\u001b[49m\u001b[38;5;241;43m=\u001b[39;49m\u001b[43mparams\u001b[49m\u001b[43m,\u001b[49m\u001b[43m \u001b[49m\u001b[38;5;241;43m*\u001b[39;49m\u001b[38;5;241;43m*\u001b[39;49m\u001b[43mkwargs\u001b[49m\u001b[43m)\u001b[49m\n",
      "File \u001b[0;32m~/miniconda3/envs/tensorflow/lib/python3.10/site-packages/requests/api.py:59\u001b[0m, in \u001b[0;36mrequest\u001b[0;34m(method, url, **kwargs)\u001b[0m\n\u001b[1;32m     55\u001b[0m \u001b[38;5;66;03m# By using the 'with' statement we are sure the session is closed, thus we\u001b[39;00m\n\u001b[1;32m     56\u001b[0m \u001b[38;5;66;03m# avoid leaving sockets open which can trigger a ResourceWarning in some\u001b[39;00m\n\u001b[1;32m     57\u001b[0m \u001b[38;5;66;03m# cases, and look like a memory leak in others.\u001b[39;00m\n\u001b[1;32m     58\u001b[0m \u001b[38;5;28;01mwith\u001b[39;00m sessions\u001b[38;5;241m.\u001b[39mSession() \u001b[38;5;28;01mas\u001b[39;00m session:\n\u001b[0;32m---> 59\u001b[0m     \u001b[38;5;28;01mreturn\u001b[39;00m \u001b[43msession\u001b[49m\u001b[38;5;241;43m.\u001b[39;49m\u001b[43mrequest\u001b[49m\u001b[43m(\u001b[49m\u001b[43mmethod\u001b[49m\u001b[38;5;241;43m=\u001b[39;49m\u001b[43mmethod\u001b[49m\u001b[43m,\u001b[49m\u001b[43m \u001b[49m\u001b[43murl\u001b[49m\u001b[38;5;241;43m=\u001b[39;49m\u001b[43murl\u001b[49m\u001b[43m,\u001b[49m\u001b[43m \u001b[49m\u001b[38;5;241;43m*\u001b[39;49m\u001b[38;5;241;43m*\u001b[39;49m\u001b[43mkwargs\u001b[49m\u001b[43m)\u001b[49m\n",
      "File \u001b[0;32m~/miniconda3/envs/tensorflow/lib/python3.10/site-packages/requests/sessions.py:589\u001b[0m, in \u001b[0;36mSession.request\u001b[0;34m(self, method, url, params, data, headers, cookies, files, auth, timeout, allow_redirects, proxies, hooks, stream, verify, cert, json)\u001b[0m\n\u001b[1;32m    584\u001b[0m send_kwargs \u001b[38;5;241m=\u001b[39m {\n\u001b[1;32m    585\u001b[0m     \u001b[38;5;124m\"\u001b[39m\u001b[38;5;124mtimeout\u001b[39m\u001b[38;5;124m\"\u001b[39m: timeout,\n\u001b[1;32m    586\u001b[0m     \u001b[38;5;124m\"\u001b[39m\u001b[38;5;124mallow_redirects\u001b[39m\u001b[38;5;124m\"\u001b[39m: allow_redirects,\n\u001b[1;32m    587\u001b[0m }\n\u001b[1;32m    588\u001b[0m send_kwargs\u001b[38;5;241m.\u001b[39mupdate(settings)\n\u001b[0;32m--> 589\u001b[0m resp \u001b[38;5;241m=\u001b[39m \u001b[38;5;28;43mself\u001b[39;49m\u001b[38;5;241;43m.\u001b[39;49m\u001b[43msend\u001b[49m\u001b[43m(\u001b[49m\u001b[43mprep\u001b[49m\u001b[43m,\u001b[49m\u001b[43m \u001b[49m\u001b[38;5;241;43m*\u001b[39;49m\u001b[38;5;241;43m*\u001b[39;49m\u001b[43msend_kwargs\u001b[49m\u001b[43m)\u001b[49m\n\u001b[1;32m    591\u001b[0m \u001b[38;5;28;01mreturn\u001b[39;00m resp\n",
      "File \u001b[0;32m~/miniconda3/envs/tensorflow/lib/python3.10/site-packages/requests/sessions.py:703\u001b[0m, in \u001b[0;36mSession.send\u001b[0;34m(self, request, **kwargs)\u001b[0m\n\u001b[1;32m    700\u001b[0m start \u001b[38;5;241m=\u001b[39m preferred_clock()\n\u001b[1;32m    702\u001b[0m \u001b[38;5;66;03m# Send the request\u001b[39;00m\n\u001b[0;32m--> 703\u001b[0m r \u001b[38;5;241m=\u001b[39m \u001b[43madapter\u001b[49m\u001b[38;5;241;43m.\u001b[39;49m\u001b[43msend\u001b[49m\u001b[43m(\u001b[49m\u001b[43mrequest\u001b[49m\u001b[43m,\u001b[49m\u001b[43m \u001b[49m\u001b[38;5;241;43m*\u001b[39;49m\u001b[38;5;241;43m*\u001b[39;49m\u001b[43mkwargs\u001b[49m\u001b[43m)\u001b[49m\n\u001b[1;32m    705\u001b[0m \u001b[38;5;66;03m# Total elapsed time of the request (approximately)\u001b[39;00m\n\u001b[1;32m    706\u001b[0m elapsed \u001b[38;5;241m=\u001b[39m preferred_clock() \u001b[38;5;241m-\u001b[39m start\n",
      "File \u001b[0;32m~/miniconda3/envs/tensorflow/lib/python3.10/site-packages/requests/adapters.py:486\u001b[0m, in \u001b[0;36mHTTPAdapter.send\u001b[0;34m(self, request, stream, timeout, verify, cert, proxies)\u001b[0m\n\u001b[1;32m    483\u001b[0m     timeout \u001b[38;5;241m=\u001b[39m TimeoutSauce(connect\u001b[38;5;241m=\u001b[39mtimeout, read\u001b[38;5;241m=\u001b[39mtimeout)\n\u001b[1;32m    485\u001b[0m \u001b[38;5;28;01mtry\u001b[39;00m:\n\u001b[0;32m--> 486\u001b[0m     resp \u001b[38;5;241m=\u001b[39m \u001b[43mconn\u001b[49m\u001b[38;5;241;43m.\u001b[39;49m\u001b[43murlopen\u001b[49m\u001b[43m(\u001b[49m\n\u001b[1;32m    487\u001b[0m \u001b[43m        \u001b[49m\u001b[43mmethod\u001b[49m\u001b[38;5;241;43m=\u001b[39;49m\u001b[43mrequest\u001b[49m\u001b[38;5;241;43m.\u001b[39;49m\u001b[43mmethod\u001b[49m\u001b[43m,\u001b[49m\n\u001b[1;32m    488\u001b[0m \u001b[43m        \u001b[49m\u001b[43murl\u001b[49m\u001b[38;5;241;43m=\u001b[39;49m\u001b[43murl\u001b[49m\u001b[43m,\u001b[49m\n\u001b[1;32m    489\u001b[0m \u001b[43m        \u001b[49m\u001b[43mbody\u001b[49m\u001b[38;5;241;43m=\u001b[39;49m\u001b[43mrequest\u001b[49m\u001b[38;5;241;43m.\u001b[39;49m\u001b[43mbody\u001b[49m\u001b[43m,\u001b[49m\n\u001b[1;32m    490\u001b[0m \u001b[43m        \u001b[49m\u001b[43mheaders\u001b[49m\u001b[38;5;241;43m=\u001b[39;49m\u001b[43mrequest\u001b[49m\u001b[38;5;241;43m.\u001b[39;49m\u001b[43mheaders\u001b[49m\u001b[43m,\u001b[49m\n\u001b[1;32m    491\u001b[0m \u001b[43m        \u001b[49m\u001b[43mredirect\u001b[49m\u001b[38;5;241;43m=\u001b[39;49m\u001b[38;5;28;43;01mFalse\u001b[39;49;00m\u001b[43m,\u001b[49m\n\u001b[1;32m    492\u001b[0m \u001b[43m        \u001b[49m\u001b[43massert_same_host\u001b[49m\u001b[38;5;241;43m=\u001b[39;49m\u001b[38;5;28;43;01mFalse\u001b[39;49;00m\u001b[43m,\u001b[49m\n\u001b[1;32m    493\u001b[0m \u001b[43m        \u001b[49m\u001b[43mpreload_content\u001b[49m\u001b[38;5;241;43m=\u001b[39;49m\u001b[38;5;28;43;01mFalse\u001b[39;49;00m\u001b[43m,\u001b[49m\n\u001b[1;32m    494\u001b[0m \u001b[43m        \u001b[49m\u001b[43mdecode_content\u001b[49m\u001b[38;5;241;43m=\u001b[39;49m\u001b[38;5;28;43;01mFalse\u001b[39;49;00m\u001b[43m,\u001b[49m\n\u001b[1;32m    495\u001b[0m \u001b[43m        \u001b[49m\u001b[43mretries\u001b[49m\u001b[38;5;241;43m=\u001b[39;49m\u001b[38;5;28;43mself\u001b[39;49m\u001b[38;5;241;43m.\u001b[39;49m\u001b[43mmax_retries\u001b[49m\u001b[43m,\u001b[49m\n\u001b[1;32m    496\u001b[0m \u001b[43m        \u001b[49m\u001b[43mtimeout\u001b[49m\u001b[38;5;241;43m=\u001b[39;49m\u001b[43mtimeout\u001b[49m\u001b[43m,\u001b[49m\n\u001b[1;32m    497\u001b[0m \u001b[43m        \u001b[49m\u001b[43mchunked\u001b[49m\u001b[38;5;241;43m=\u001b[39;49m\u001b[43mchunked\u001b[49m\u001b[43m,\u001b[49m\n\u001b[1;32m    498\u001b[0m \u001b[43m    \u001b[49m\u001b[43m)\u001b[49m\n\u001b[1;32m    500\u001b[0m \u001b[38;5;28;01mexcept\u001b[39;00m (ProtocolError, \u001b[38;5;167;01mOSError\u001b[39;00m) \u001b[38;5;28;01mas\u001b[39;00m err:\n\u001b[1;32m    501\u001b[0m     \u001b[38;5;28;01mraise\u001b[39;00m \u001b[38;5;167;01mConnectionError\u001b[39;00m(err, request\u001b[38;5;241m=\u001b[39mrequest)\n",
      "File \u001b[0;32m~/miniconda3/envs/tensorflow/lib/python3.10/site-packages/urllib3/connectionpool.py:703\u001b[0m, in \u001b[0;36mHTTPConnectionPool.urlopen\u001b[0;34m(self, method, url, body, headers, retries, redirect, assert_same_host, timeout, pool_timeout, release_conn, chunked, body_pos, **response_kw)\u001b[0m\n\u001b[1;32m    700\u001b[0m     \u001b[38;5;28mself\u001b[39m\u001b[38;5;241m.\u001b[39m_prepare_proxy(conn)\n\u001b[1;32m    702\u001b[0m \u001b[38;5;66;03m# Make the request on the httplib connection object.\u001b[39;00m\n\u001b[0;32m--> 703\u001b[0m httplib_response \u001b[38;5;241m=\u001b[39m \u001b[38;5;28;43mself\u001b[39;49m\u001b[38;5;241;43m.\u001b[39;49m\u001b[43m_make_request\u001b[49m\u001b[43m(\u001b[49m\n\u001b[1;32m    704\u001b[0m \u001b[43m    \u001b[49m\u001b[43mconn\u001b[49m\u001b[43m,\u001b[49m\n\u001b[1;32m    705\u001b[0m \u001b[43m    \u001b[49m\u001b[43mmethod\u001b[49m\u001b[43m,\u001b[49m\n\u001b[1;32m    706\u001b[0m \u001b[43m    \u001b[49m\u001b[43murl\u001b[49m\u001b[43m,\u001b[49m\n\u001b[1;32m    707\u001b[0m \u001b[43m    \u001b[49m\u001b[43mtimeout\u001b[49m\u001b[38;5;241;43m=\u001b[39;49m\u001b[43mtimeout_obj\u001b[49m\u001b[43m,\u001b[49m\n\u001b[1;32m    708\u001b[0m \u001b[43m    \u001b[49m\u001b[43mbody\u001b[49m\u001b[38;5;241;43m=\u001b[39;49m\u001b[43mbody\u001b[49m\u001b[43m,\u001b[49m\n\u001b[1;32m    709\u001b[0m \u001b[43m    \u001b[49m\u001b[43mheaders\u001b[49m\u001b[38;5;241;43m=\u001b[39;49m\u001b[43mheaders\u001b[49m\u001b[43m,\u001b[49m\n\u001b[1;32m    710\u001b[0m \u001b[43m    \u001b[49m\u001b[43mchunked\u001b[49m\u001b[38;5;241;43m=\u001b[39;49m\u001b[43mchunked\u001b[49m\u001b[43m,\u001b[49m\n\u001b[1;32m    711\u001b[0m \u001b[43m\u001b[49m\u001b[43m)\u001b[49m\n\u001b[1;32m    713\u001b[0m \u001b[38;5;66;03m# If we're going to release the connection in ``finally:``, then\u001b[39;00m\n\u001b[1;32m    714\u001b[0m \u001b[38;5;66;03m# the response doesn't need to know about the connection. Otherwise\u001b[39;00m\n\u001b[1;32m    715\u001b[0m \u001b[38;5;66;03m# it will also try to release it and we'll have a double-release\u001b[39;00m\n\u001b[1;32m    716\u001b[0m \u001b[38;5;66;03m# mess.\u001b[39;00m\n\u001b[1;32m    717\u001b[0m response_conn \u001b[38;5;241m=\u001b[39m conn \u001b[38;5;28;01mif\u001b[39;00m \u001b[38;5;129;01mnot\u001b[39;00m release_conn \u001b[38;5;28;01melse\u001b[39;00m \u001b[38;5;28;01mNone\u001b[39;00m\n",
      "File \u001b[0;32m~/miniconda3/envs/tensorflow/lib/python3.10/site-packages/urllib3/connectionpool.py:449\u001b[0m, in \u001b[0;36mHTTPConnectionPool._make_request\u001b[0;34m(self, conn, method, url, timeout, chunked, **httplib_request_kw)\u001b[0m\n\u001b[1;32m    444\u001b[0m             httplib_response \u001b[38;5;241m=\u001b[39m conn\u001b[38;5;241m.\u001b[39mgetresponse()\n\u001b[1;32m    445\u001b[0m         \u001b[38;5;28;01mexcept\u001b[39;00m \u001b[38;5;167;01mBaseException\u001b[39;00m \u001b[38;5;28;01mas\u001b[39;00m e:\n\u001b[1;32m    446\u001b[0m             \u001b[38;5;66;03m# Remove the TypeError from the exception chain in\u001b[39;00m\n\u001b[1;32m    447\u001b[0m             \u001b[38;5;66;03m# Python 3 (including for exceptions like SystemExit).\u001b[39;00m\n\u001b[1;32m    448\u001b[0m             \u001b[38;5;66;03m# Otherwise it looks like a bug in the code.\u001b[39;00m\n\u001b[0;32m--> 449\u001b[0m             \u001b[43msix\u001b[49m\u001b[38;5;241;43m.\u001b[39;49m\u001b[43mraise_from\u001b[49m\u001b[43m(\u001b[49m\u001b[43me\u001b[49m\u001b[43m,\u001b[49m\u001b[43m \u001b[49m\u001b[38;5;28;43;01mNone\u001b[39;49;00m\u001b[43m)\u001b[49m\n\u001b[1;32m    450\u001b[0m \u001b[38;5;28;01mexcept\u001b[39;00m (SocketTimeout, BaseSSLError, SocketError) \u001b[38;5;28;01mas\u001b[39;00m e:\n\u001b[1;32m    451\u001b[0m     \u001b[38;5;28mself\u001b[39m\u001b[38;5;241m.\u001b[39m_raise_timeout(err\u001b[38;5;241m=\u001b[39me, url\u001b[38;5;241m=\u001b[39murl, timeout_value\u001b[38;5;241m=\u001b[39mread_timeout)\n",
      "File \u001b[0;32m<string>:3\u001b[0m, in \u001b[0;36mraise_from\u001b[0;34m(value, from_value)\u001b[0m\n",
      "File \u001b[0;32m~/miniconda3/envs/tensorflow/lib/python3.10/site-packages/urllib3/connectionpool.py:444\u001b[0m, in \u001b[0;36mHTTPConnectionPool._make_request\u001b[0;34m(self, conn, method, url, timeout, chunked, **httplib_request_kw)\u001b[0m\n\u001b[1;32m    441\u001b[0m \u001b[38;5;28;01mexcept\u001b[39;00m \u001b[38;5;167;01mTypeError\u001b[39;00m:\n\u001b[1;32m    442\u001b[0m     \u001b[38;5;66;03m# Python 3\u001b[39;00m\n\u001b[1;32m    443\u001b[0m     \u001b[38;5;28;01mtry\u001b[39;00m:\n\u001b[0;32m--> 444\u001b[0m         httplib_response \u001b[38;5;241m=\u001b[39m \u001b[43mconn\u001b[49m\u001b[38;5;241;43m.\u001b[39;49m\u001b[43mgetresponse\u001b[49m\u001b[43m(\u001b[49m\u001b[43m)\u001b[49m\n\u001b[1;32m    445\u001b[0m     \u001b[38;5;28;01mexcept\u001b[39;00m \u001b[38;5;167;01mBaseException\u001b[39;00m \u001b[38;5;28;01mas\u001b[39;00m e:\n\u001b[1;32m    446\u001b[0m         \u001b[38;5;66;03m# Remove the TypeError from the exception chain in\u001b[39;00m\n\u001b[1;32m    447\u001b[0m         \u001b[38;5;66;03m# Python 3 (including for exceptions like SystemExit).\u001b[39;00m\n\u001b[1;32m    448\u001b[0m         \u001b[38;5;66;03m# Otherwise it looks like a bug in the code.\u001b[39;00m\n\u001b[1;32m    449\u001b[0m         six\u001b[38;5;241m.\u001b[39mraise_from(e, \u001b[38;5;28;01mNone\u001b[39;00m)\n",
      "File \u001b[0;32m~/miniconda3/envs/tensorflow/lib/python3.10/http/client.py:1375\u001b[0m, in \u001b[0;36mHTTPConnection.getresponse\u001b[0;34m(self)\u001b[0m\n\u001b[1;32m   1373\u001b[0m \u001b[38;5;28;01mtry\u001b[39;00m:\n\u001b[1;32m   1374\u001b[0m     \u001b[38;5;28;01mtry\u001b[39;00m:\n\u001b[0;32m-> 1375\u001b[0m         \u001b[43mresponse\u001b[49m\u001b[38;5;241;43m.\u001b[39;49m\u001b[43mbegin\u001b[49m\u001b[43m(\u001b[49m\u001b[43m)\u001b[49m\n\u001b[1;32m   1376\u001b[0m     \u001b[38;5;28;01mexcept\u001b[39;00m \u001b[38;5;167;01mConnectionError\u001b[39;00m:\n\u001b[1;32m   1377\u001b[0m         \u001b[38;5;28mself\u001b[39m\u001b[38;5;241m.\u001b[39mclose()\n",
      "File \u001b[0;32m~/miniconda3/envs/tensorflow/lib/python3.10/http/client.py:318\u001b[0m, in \u001b[0;36mHTTPResponse.begin\u001b[0;34m(self)\u001b[0m\n\u001b[1;32m    316\u001b[0m \u001b[38;5;66;03m# read until we get a non-100 response\u001b[39;00m\n\u001b[1;32m    317\u001b[0m \u001b[38;5;28;01mwhile\u001b[39;00m \u001b[38;5;28;01mTrue\u001b[39;00m:\n\u001b[0;32m--> 318\u001b[0m     version, status, reason \u001b[38;5;241m=\u001b[39m \u001b[38;5;28;43mself\u001b[39;49m\u001b[38;5;241;43m.\u001b[39;49m\u001b[43m_read_status\u001b[49m\u001b[43m(\u001b[49m\u001b[43m)\u001b[49m\n\u001b[1;32m    319\u001b[0m     \u001b[38;5;28;01mif\u001b[39;00m status \u001b[38;5;241m!=\u001b[39m CONTINUE:\n\u001b[1;32m    320\u001b[0m         \u001b[38;5;28;01mbreak\u001b[39;00m\n",
      "File \u001b[0;32m~/miniconda3/envs/tensorflow/lib/python3.10/http/client.py:279\u001b[0m, in \u001b[0;36mHTTPResponse._read_status\u001b[0;34m(self)\u001b[0m\n\u001b[1;32m    278\u001b[0m \u001b[38;5;28;01mdef\u001b[39;00m \u001b[38;5;21m_read_status\u001b[39m(\u001b[38;5;28mself\u001b[39m):\n\u001b[0;32m--> 279\u001b[0m     line \u001b[38;5;241m=\u001b[39m \u001b[38;5;28mstr\u001b[39m(\u001b[38;5;28;43mself\u001b[39;49m\u001b[38;5;241;43m.\u001b[39;49m\u001b[43mfp\u001b[49m\u001b[38;5;241;43m.\u001b[39;49m\u001b[43mreadline\u001b[49m\u001b[43m(\u001b[49m\u001b[43m_MAXLINE\u001b[49m\u001b[43m \u001b[49m\u001b[38;5;241;43m+\u001b[39;49m\u001b[43m \u001b[49m\u001b[38;5;241;43m1\u001b[39;49m\u001b[43m)\u001b[49m, \u001b[38;5;124m\"\u001b[39m\u001b[38;5;124miso-8859-1\u001b[39m\u001b[38;5;124m\"\u001b[39m)\n\u001b[1;32m    280\u001b[0m     \u001b[38;5;28;01mif\u001b[39;00m \u001b[38;5;28mlen\u001b[39m(line) \u001b[38;5;241m>\u001b[39m _MAXLINE:\n\u001b[1;32m    281\u001b[0m         \u001b[38;5;28;01mraise\u001b[39;00m LineTooLong(\u001b[38;5;124m\"\u001b[39m\u001b[38;5;124mstatus line\u001b[39m\u001b[38;5;124m\"\u001b[39m)\n",
      "File \u001b[0;32m~/miniconda3/envs/tensorflow/lib/python3.10/socket.py:705\u001b[0m, in \u001b[0;36mSocketIO.readinto\u001b[0;34m(self, b)\u001b[0m\n\u001b[1;32m    703\u001b[0m \u001b[38;5;28;01mwhile\u001b[39;00m \u001b[38;5;28;01mTrue\u001b[39;00m:\n\u001b[1;32m    704\u001b[0m     \u001b[38;5;28;01mtry\u001b[39;00m:\n\u001b[0;32m--> 705\u001b[0m         \u001b[38;5;28;01mreturn\u001b[39;00m \u001b[38;5;28;43mself\u001b[39;49m\u001b[38;5;241;43m.\u001b[39;49m\u001b[43m_sock\u001b[49m\u001b[38;5;241;43m.\u001b[39;49m\u001b[43mrecv_into\u001b[49m\u001b[43m(\u001b[49m\u001b[43mb\u001b[49m\u001b[43m)\u001b[49m\n\u001b[1;32m    706\u001b[0m     \u001b[38;5;28;01mexcept\u001b[39;00m timeout:\n\u001b[1;32m    707\u001b[0m         \u001b[38;5;28mself\u001b[39m\u001b[38;5;241m.\u001b[39m_timeout_occurred \u001b[38;5;241m=\u001b[39m \u001b[38;5;28;01mTrue\u001b[39;00m\n",
      "File \u001b[0;32m~/miniconda3/envs/tensorflow/lib/python3.10/ssl.py:1274\u001b[0m, in \u001b[0;36mSSLSocket.recv_into\u001b[0;34m(self, buffer, nbytes, flags)\u001b[0m\n\u001b[1;32m   1270\u001b[0m     \u001b[38;5;28;01mif\u001b[39;00m flags \u001b[38;5;241m!=\u001b[39m \u001b[38;5;241m0\u001b[39m:\n\u001b[1;32m   1271\u001b[0m         \u001b[38;5;28;01mraise\u001b[39;00m \u001b[38;5;167;01mValueError\u001b[39;00m(\n\u001b[1;32m   1272\u001b[0m           \u001b[38;5;124m\"\u001b[39m\u001b[38;5;124mnon-zero flags not allowed in calls to recv_into() on \u001b[39m\u001b[38;5;132;01m%s\u001b[39;00m\u001b[38;5;124m\"\u001b[39m \u001b[38;5;241m%\u001b[39m\n\u001b[1;32m   1273\u001b[0m           \u001b[38;5;28mself\u001b[39m\u001b[38;5;241m.\u001b[39m\u001b[38;5;18m__class__\u001b[39m)\n\u001b[0;32m-> 1274\u001b[0m     \u001b[38;5;28;01mreturn\u001b[39;00m \u001b[38;5;28;43mself\u001b[39;49m\u001b[38;5;241;43m.\u001b[39;49m\u001b[43mread\u001b[49m\u001b[43m(\u001b[49m\u001b[43mnbytes\u001b[49m\u001b[43m,\u001b[49m\u001b[43m \u001b[49m\u001b[43mbuffer\u001b[49m\u001b[43m)\u001b[49m\n\u001b[1;32m   1275\u001b[0m \u001b[38;5;28;01melse\u001b[39;00m:\n\u001b[1;32m   1276\u001b[0m     \u001b[38;5;28;01mreturn\u001b[39;00m \u001b[38;5;28msuper\u001b[39m()\u001b[38;5;241m.\u001b[39mrecv_into(buffer, nbytes, flags)\n",
      "File \u001b[0;32m~/miniconda3/envs/tensorflow/lib/python3.10/ssl.py:1130\u001b[0m, in \u001b[0;36mSSLSocket.read\u001b[0;34m(self, len, buffer)\u001b[0m\n\u001b[1;32m   1128\u001b[0m \u001b[38;5;28;01mtry\u001b[39;00m:\n\u001b[1;32m   1129\u001b[0m     \u001b[38;5;28;01mif\u001b[39;00m buffer \u001b[38;5;129;01mis\u001b[39;00m \u001b[38;5;129;01mnot\u001b[39;00m \u001b[38;5;28;01mNone\u001b[39;00m:\n\u001b[0;32m-> 1130\u001b[0m         \u001b[38;5;28;01mreturn\u001b[39;00m \u001b[38;5;28;43mself\u001b[39;49m\u001b[38;5;241;43m.\u001b[39;49m\u001b[43m_sslobj\u001b[49m\u001b[38;5;241;43m.\u001b[39;49m\u001b[43mread\u001b[49m\u001b[43m(\u001b[49m\u001b[38;5;28;43mlen\u001b[39;49m\u001b[43m,\u001b[49m\u001b[43m \u001b[49m\u001b[43mbuffer\u001b[49m\u001b[43m)\u001b[49m\n\u001b[1;32m   1131\u001b[0m     \u001b[38;5;28;01melse\u001b[39;00m:\n\u001b[1;32m   1132\u001b[0m         \u001b[38;5;28;01mreturn\u001b[39;00m \u001b[38;5;28mself\u001b[39m\u001b[38;5;241m.\u001b[39m_sslobj\u001b[38;5;241m.\u001b[39mread(\u001b[38;5;28mlen\u001b[39m)\n",
      "\u001b[0;31mKeyboardInterrupt\u001b[0m: "
     ]
    }
   ],
   "source": [
    "nyc_url = ('https://api.yelp.com/v3/businesses/search?location=New+York+City&term=restaurants&categories=french&price=3&price=4&sort_by=best_match')\n",
    "\n",
    "nyc_restaurants_data = get_all_business_data(nyc_url)\n",
    "\n",
    "nyc_restaurants_ids = [restaurant['business_id'] for restaurant in nyc_restaurants_data]\n",
    "\n",
    "nyc_list_of_reviews = get_reviews(nyc_restaurants_ids,'New York City')\n",
    "\n",
    "print(len(nyc_list_of_reviews))"
   ]
  },
  {
   "cell_type": "markdown",
   "metadata": {},
   "source": [
    "#### Chicago"
   ]
  },
  {
   "cell_type": "code",
   "execution_count": 135,
   "metadata": {},
   "outputs": [
    {
     "name": "stdout",
     "output_type": "stream",
     "text": [
      "25\n"
     ]
    }
   ],
   "source": [
    "chicago_url = ('https://api.yelp.com/v3/businesses/search?location=Chicago&term=restaurants&categories=french&price=3&price=4&sort_by=best_match')\n",
    "\n",
    "chicago_restaurants_data = get_all_business_data(chicago_url)\n",
    "\n",
    "chicago_restaurants_ids = [restaurant['business_id'] for restaurant in chicago_restaurants_data]   \n",
    "\n",
    "chicago_list_of_reviews = get_reviews(chicago_restaurants_ids,'Chicago')\n",
    "\n",
    "print(len(chicago_list_of_reviews))"
   ]
  },
  {
   "cell_type": "markdown",
   "metadata": {},
   "source": [
    "#### Los Angeles"
   ]
  },
  {
   "cell_type": "code",
   "execution_count": 136,
   "metadata": {},
   "outputs": [
    {
     "name": "stdout",
     "output_type": "stream",
     "text": [
      "25\n"
     ]
    }
   ],
   "source": [
    "los_angeles_url = \"https://api.yelp.com/v3/businesses/search?location=Los+Angeles&term=restaurants&categories=french&price=4&price=3&sort_by=best_match\"\n",
    "\n",
    "los_angeles_restaurants_data = get_all_business_data(los_angeles_url)\n",
    "\n",
    "los_angeles_restaurants_ids = [restaurant['business_id'] for restaurant in los_angeles_restaurants_data]\n",
    "\n",
    "los_angeles_list_of_reviews = get_reviews(los_angeles_restaurants_ids,'Los Angeles')\n",
    "\n",
    "print(len(los_angeles_list_of_reviews))"
   ]
  },
  {
   "cell_type": "markdown",
   "metadata": {},
   "source": [
    "#### San Francisco"
   ]
  },
  {
   "cell_type": "code",
   "execution_count": 137,
   "metadata": {},
   "outputs": [
    {
     "name": "stdout",
     "output_type": "stream",
     "text": [
      "25\n"
     ]
    }
   ],
   "source": [
    "sf_url = \"https://api.yelp.com/v3/businesses/search?location=San+Francisco&term=restaurants&categories=french&price=4&price=3&sort_by=best_match\"\n",
    "\n",
    "san_francisco_restaurants = get_all_business_data(sf_url)\n",
    "\n",
    "san_francisco_restaurants_ids = [restaurant['business_id'] for restaurant in san_francisco_restaurants]\n",
    "\n",
    "sf_list_of_reviews = get_reviews(san_francisco_restaurants_ids,'San Francisco')\n",
    "\n",
    "print(len(sf_list_of_reviews))"
   ]
  },
  {
   "cell_type": "markdown",
   "metadata": {},
   "source": [
    "#### Philadelphia"
   ]
  },
  {
   "cell_type": "code",
   "execution_count": 138,
   "metadata": {},
   "outputs": [
    {
     "name": "stdout",
     "output_type": "stream",
     "text": [
      "24\n"
     ]
    }
   ],
   "source": [
    "philadelphia_url = \"https://api.yelp.com/v3/businesses/search?location=Philadelphia&term=restaurants&categories=french&price=4&price=3&sort_by=best_match\"\n",
    "\n",
    "philadelphia_restaurants = get_all_business_data(philadelphia_url)\n",
    "\n",
    "philadelphia_restaurants_ids = [restaurant['business_id'] for restaurant in philadelphia_restaurants]\n",
    "\n",
    "philadelphia_list_of_reviews = get_reviews(philadelphia_restaurants_ids,'Philadelphia')\n",
    "\n",
    "print(len(philadelphia_list_of_reviews))"
   ]
  },
  {
   "cell_type": "markdown",
   "metadata": {},
   "source": [
    "#### Las Vegas"
   ]
  },
  {
   "cell_type": "code",
   "execution_count": 139,
   "metadata": {},
   "outputs": [
    {
     "name": "stdout",
     "output_type": "stream",
     "text": [
      "25\n"
     ]
    }
   ],
   "source": [
    "las_vegas_url = \"https://api.yelp.com/v3/businesses/search?location=Las+Vegas&term=restaurants&categories=french&price=4&price=3&sort_by=best_match\"\n",
    "\n",
    "las_vegas_restaurants = get_all_business_data(las_vegas_url)\n",
    "\n",
    "las_vegas_restaurants_ids = [restaurant['business_id'] for restaurant in las_vegas_restaurants]\n",
    "\n",
    "las_vegas_list_of_reviews = get_reviews(las_vegas_restaurants_ids,'Las Vegas')\n",
    "\n",
    "print(len(las_vegas_list_of_reviews))"
   ]
  },
  {
   "cell_type": "markdown",
   "metadata": {},
   "source": [
    "#### Houston"
   ]
  },
  {
   "cell_type": "code",
   "execution_count": 140,
   "metadata": {},
   "outputs": [
    {
     "name": "stdout",
     "output_type": "stream",
     "text": [
      "25\n"
     ]
    }
   ],
   "source": [
    "houston_url = \"https://api.yelp.com/v3/businesses/search?location=Houston&term=restaurants&categories=french&price=4&price=3&sort_by=best_match\"\n",
    "\n",
    "houston_restaurants = get_all_business_data(houston_url)\n",
    "\n",
    "houston_restaurants_ids = [restaurant['business_id'] for restaurant in houston_restaurants]\n",
    "\n",
    "houston_list_of_reviews = get_reviews(houston_restaurants_ids,'Houston')\n",
    "\n",
    "print(len(houston_list_of_reviews))"
   ]
  },
  {
   "cell_type": "markdown",
   "metadata": {},
   "source": [
    "#### Phoenix"
   ]
  },
  {
   "cell_type": "code",
   "execution_count": 141,
   "metadata": {},
   "outputs": [
    {
     "name": "stdout",
     "output_type": "stream",
     "text": [
      "12\n"
     ]
    }
   ],
   "source": [
    "phoenix_url = \"https://api.yelp.com/v3/businesses/search?location=Phoenix&term=restaurants&categories=french&price=4&price=3&sort_by=best_match\"\n",
    "\n",
    "phoenix_restaurants = get_all_business_data(phoenix_url)\n",
    "\n",
    "phoenix_restaurants_ids = [restaurant['business_id'] for restaurant in phoenix_restaurants]\n",
    "\n",
    "phoenix_list_of_reviews = get_reviews(phoenix_restaurants_ids,'Phoenix')\n",
    "\n",
    "print(len(phoenix_list_of_reviews))"
   ]
  },
  {
   "cell_type": "markdown",
   "metadata": {},
   "source": [
    "#### Miami"
   ]
  },
  {
   "cell_type": "code",
   "execution_count": 142,
   "metadata": {},
   "outputs": [
    {
     "name": "stdout",
     "output_type": "stream",
     "text": [
      "15\n"
     ]
    }
   ],
   "source": [
    "miami_url = \"https://api.yelp.com/v3/businesses/search?location=Miami&term=restaurants&categories=french&price=4&price=3&sort_by=best_match\"\n",
    "\n",
    "miami_restaurants = get_all_business_data(miami_url)\n",
    "\n",
    "miami_restaurants_ids = [restaurant['business_id'] for restaurant in miami_restaurants]\n",
    "\n",
    "miami_list_of_reviews = get_reviews(miami_restaurants_ids,'Miami')\n",
    "\n",
    "print(len(miami_list_of_reviews))"
   ]
  },
  {
   "cell_type": "markdown",
   "metadata": {},
   "source": [
    "### Merge"
   ]
  },
  {
   "cell_type": "code",
   "execution_count": 153,
   "metadata": {},
   "outputs": [],
   "source": [
    "ouput_dfs = []\n",
    "\n",
    "cities = ['new_orleans', 'nyc', 'chicago', 'los_angeles', 'sf', 'philadelphia', 'las_vegas', 'houston', 'phoenix', 'miami']\n",
    "\n",
    "for city in cities:\n",
    "    reviews_list = globals()[f'{city}_list_of_reviews']\n",
    "    ouput_df = pd.DataFrame(reviews_list, columns=['text', 'rating', 'location'])\n",
    "    ouput_dfs.append(ouput_df)\n",
    "\n",
    "output = pd.concat(ouput_dfs, ignore_index=True)\n",
    "df = pd.concat([df, output], ignore_index=True)"
   ]
  },
  {
   "cell_type": "code",
   "execution_count": 157,
   "metadata": {},
   "outputs": [
    {
     "data": {
      "text/plain": [
       "rating\n",
       "5    367\n",
       "4    134\n",
       "3     69\n",
       "2     29\n",
       "1     19\n",
       "Name: count, dtype: int64"
      ]
     },
     "execution_count": 157,
     "metadata": {},
     "output_type": "execute_result"
    }
   ],
   "source": [
    "df.drop_duplicates(inplace=True)\n",
    "df['rating'].value_counts()"
   ]
  },
  {
   "cell_type": "code",
   "execution_count": 158,
   "metadata": {},
   "outputs": [
    {
     "data": {
      "text/html": [
       "<div>\n",
       "<style scoped>\n",
       "    .dataframe tbody tr th:only-of-type {\n",
       "        vertical-align: middle;\n",
       "    }\n",
       "\n",
       "    .dataframe tbody tr th {\n",
       "        vertical-align: top;\n",
       "    }\n",
       "\n",
       "    .dataframe thead th {\n",
       "        text-align: right;\n",
       "    }\n",
       "</style>\n",
       "<table border=\"1\" class=\"dataframe\">\n",
       "  <thead>\n",
       "    <tr style=\"text-align: right;\">\n",
       "      <th></th>\n",
       "      <th>text</th>\n",
       "      <th>rating</th>\n",
       "      <th>location</th>\n",
       "    </tr>\n",
       "  </thead>\n",
       "  <tbody>\n",
       "    <tr>\n",
       "      <th>0</th>\n",
       "      <td>Robyn gave amazing service! So attentive and f...</td>\n",
       "      <td>5</td>\n",
       "      <td>Los Angeles</td>\n",
       "    </tr>\n",
       "    <tr>\n",
       "      <th>1</th>\n",
       "      <td>Headed downtown on a Thursday evening for a Ki...</td>\n",
       "      <td>5</td>\n",
       "      <td>Los Angeles</td>\n",
       "    </tr>\n",
       "    <tr>\n",
       "      <th>2</th>\n",
       "      <td>Been here a few times, in just recent weeks. T...</td>\n",
       "      <td>4</td>\n",
       "      <td>Los Angeles</td>\n",
       "    </tr>\n",
       "    <tr>\n",
       "      <th>3</th>\n",
       "      <td>Service is fast. Staff is friendly. The food i...</td>\n",
       "      <td>5</td>\n",
       "      <td>Los Angeles</td>\n",
       "    </tr>\n",
       "    <tr>\n",
       "      <th>4</th>\n",
       "      <td>Walked by and asked to see a menu. Very helpfu...</td>\n",
       "      <td>3</td>\n",
       "      <td>Los Angeles</td>\n",
       "    </tr>\n",
       "    <tr>\n",
       "      <th>...</th>\n",
       "      <td>...</td>\n",
       "      <td>...</td>\n",
       "      <td>...</td>\n",
       "    </tr>\n",
       "    <tr>\n",
       "      <th>613</th>\n",
       "      <td>The Steak Tartare is absolutely yummy! Just as...</td>\n",
       "      <td>5</td>\n",
       "      <td>Phoenix</td>\n",
       "    </tr>\n",
       "    <tr>\n",
       "      <th>614</th>\n",
       "      <td>The culinary journey begins right at your tabl...</td>\n",
       "      <td>5</td>\n",
       "      <td>Miami</td>\n",
       "    </tr>\n",
       "    <tr>\n",
       "      <th>615</th>\n",
       "      <td>Very nice ambiance. We went there at night, an...</td>\n",
       "      <td>4</td>\n",
       "      <td>New York City</td>\n",
       "    </tr>\n",
       "    <tr>\n",
       "      <th>616</th>\n",
       "      <td>M. whatever ... this is a hard pass.... I know...</td>\n",
       "      <td>1</td>\n",
       "      <td>New York City</td>\n",
       "    </tr>\n",
       "    <tr>\n",
       "      <th>617</th>\n",
       "      <td>Food and service are over the moo wonderful, s...</td>\n",
       "      <td>5</td>\n",
       "      <td>New Orleans</td>\n",
       "    </tr>\n",
       "  </tbody>\n",
       "</table>\n",
       "<p>618 rows × 3 columns</p>\n",
       "</div>"
      ],
      "text/plain": [
       "                                                  text  rating       location\n",
       "0    Robyn gave amazing service! So attentive and f...       5    Los Angeles\n",
       "1    Headed downtown on a Thursday evening for a Ki...       5    Los Angeles\n",
       "2    Been here a few times, in just recent weeks. T...       4    Los Angeles\n",
       "3    Service is fast. Staff is friendly. The food i...       5    Los Angeles\n",
       "4    Walked by and asked to see a menu. Very helpfu...       3    Los Angeles\n",
       "..                                                 ...     ...            ...\n",
       "613  The Steak Tartare is absolutely yummy! Just as...       5        Phoenix\n",
       "614  The culinary journey begins right at your tabl...       5          Miami\n",
       "615  Very nice ambiance. We went there at night, an...       4  New York City\n",
       "616  M. whatever ... this is a hard pass.... I know...       1  New York City\n",
       "617  Food and service are over the moo wonderful, s...       5    New Orleans\n",
       "\n",
       "[618 rows x 3 columns]"
      ]
     },
     "execution_count": 158,
     "metadata": {},
     "output_type": "execute_result"
    }
   ],
   "source": [
    "df.to_csv('pre-yelp_reviews.csv', index=False)\n",
    "df"
   ]
  }
 ],
 "metadata": {
  "kernelspec": {
   "display_name": "base",
   "language": "python",
   "name": "python3"
  },
  "language_info": {
   "codemirror_mode": {
    "name": "ipython",
    "version": 3
   },
   "file_extension": ".py",
   "mimetype": "text/x-python",
   "name": "python",
   "nbconvert_exporter": "python",
   "pygments_lexer": "ipython3",
   "version": "3.10.12"
  }
 },
 "nbformat": 4,
 "nbformat_minor": 2
}
