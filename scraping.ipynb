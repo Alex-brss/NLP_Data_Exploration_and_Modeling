{
 "cells": [
  {
   "cell_type": "markdown",
   "metadata": {},
   "source": [
    "# Data Exploration and NLP Modeling \n",
    "## By BROSSEAU Alexandre & COGORDAN Alexandre"
   ]
  },
  {
   "cell_type": "code",
   "execution_count": 3,
   "metadata": {},
   "outputs": [
    {
     "name": "stderr",
     "output_type": "stream",
     "text": [
      "/Users/alexandrecogordan/miniconda3/envs/tensorflow/lib/python3.10/site-packages/huggingface_hub/inference/_text_generation.py:121: PydanticDeprecatedSince20: Pydantic V1 style `@validator` validators are deprecated. You should migrate to Pydantic V2 style `@field_validator` validators, see the migration guide for more details. Deprecated in Pydantic V2.0 to be removed in V3.0. See Pydantic V2 Migration Guide at https://errors.pydantic.dev/2.5/migration/\n",
      "  @validator(\"best_of\")\n",
      "/Users/alexandrecogordan/miniconda3/envs/tensorflow/lib/python3.10/site-packages/huggingface_hub/inference/_text_generation.py:140: PydanticDeprecatedSince20: Pydantic V1 style `@validator` validators are deprecated. You should migrate to Pydantic V2 style `@field_validator` validators, see the migration guide for more details. Deprecated in Pydantic V2.0 to be removed in V3.0. See Pydantic V2 Migration Guide at https://errors.pydantic.dev/2.5/migration/\n",
      "  @validator(\"repetition_penalty\")\n",
      "/Users/alexandrecogordan/miniconda3/envs/tensorflow/lib/python3.10/site-packages/huggingface_hub/inference/_text_generation.py:146: PydanticDeprecatedSince20: Pydantic V1 style `@validator` validators are deprecated. You should migrate to Pydantic V2 style `@field_validator` validators, see the migration guide for more details. Deprecated in Pydantic V2.0 to be removed in V3.0. See Pydantic V2 Migration Guide at https://errors.pydantic.dev/2.5/migration/\n",
      "  @validator(\"seed\")\n",
      "/Users/alexandrecogordan/miniconda3/envs/tensorflow/lib/python3.10/site-packages/huggingface_hub/inference/_text_generation.py:152: PydanticDeprecatedSince20: Pydantic V1 style `@validator` validators are deprecated. You should migrate to Pydantic V2 style `@field_validator` validators, see the migration guide for more details. Deprecated in Pydantic V2.0 to be removed in V3.0. See Pydantic V2 Migration Guide at https://errors.pydantic.dev/2.5/migration/\n",
      "  @validator(\"temperature\")\n",
      "/Users/alexandrecogordan/miniconda3/envs/tensorflow/lib/python3.10/site-packages/huggingface_hub/inference/_text_generation.py:158: PydanticDeprecatedSince20: Pydantic V1 style `@validator` validators are deprecated. You should migrate to Pydantic V2 style `@field_validator` validators, see the migration guide for more details. Deprecated in Pydantic V2.0 to be removed in V3.0. See Pydantic V2 Migration Guide at https://errors.pydantic.dev/2.5/migration/\n",
      "  @validator(\"top_k\")\n",
      "/Users/alexandrecogordan/miniconda3/envs/tensorflow/lib/python3.10/site-packages/huggingface_hub/inference/_text_generation.py:164: PydanticDeprecatedSince20: Pydantic V1 style `@validator` validators are deprecated. You should migrate to Pydantic V2 style `@field_validator` validators, see the migration guide for more details. Deprecated in Pydantic V2.0 to be removed in V3.0. See Pydantic V2 Migration Guide at https://errors.pydantic.dev/2.5/migration/\n",
      "  @validator(\"top_p\")\n",
      "/Users/alexandrecogordan/miniconda3/envs/tensorflow/lib/python3.10/site-packages/huggingface_hub/inference/_text_generation.py:170: PydanticDeprecatedSince20: Pydantic V1 style `@validator` validators are deprecated. You should migrate to Pydantic V2 style `@field_validator` validators, see the migration guide for more details. Deprecated in Pydantic V2.0 to be removed in V3.0. See Pydantic V2 Migration Guide at https://errors.pydantic.dev/2.5/migration/\n",
      "  @validator(\"truncate\")\n",
      "/Users/alexandrecogordan/miniconda3/envs/tensorflow/lib/python3.10/site-packages/huggingface_hub/inference/_text_generation.py:176: PydanticDeprecatedSince20: Pydantic V1 style `@validator` validators are deprecated. You should migrate to Pydantic V2 style `@field_validator` validators, see the migration guide for more details. Deprecated in Pydantic V2.0 to be removed in V3.0. See Pydantic V2 Migration Guide at https://errors.pydantic.dev/2.5/migration/\n",
      "  @validator(\"typical_p\")\n",
      "/Users/alexandrecogordan/miniconda3/envs/tensorflow/lib/python3.10/site-packages/huggingface_hub/inference/_text_generation.py:204: PydanticDeprecatedSince20: Pydantic V1 style `@validator` validators are deprecated. You should migrate to Pydantic V2 style `@field_validator` validators, see the migration guide for more details. Deprecated in Pydantic V2.0 to be removed in V3.0. See Pydantic V2 Migration Guide at https://errors.pydantic.dev/2.5/migration/\n",
      "  @validator(\"inputs\")\n",
      "/Users/alexandrecogordan/miniconda3/envs/tensorflow/lib/python3.10/site-packages/huggingface_hub/inference/_text_generation.py:210: PydanticDeprecatedSince20: Pydantic V1 style `@validator` validators are deprecated. You should migrate to Pydantic V2 style `@field_validator` validators, see the migration guide for more details. Deprecated in Pydantic V2.0 to be removed in V3.0. See Pydantic V2 Migration Guide at https://errors.pydantic.dev/2.5/migration/\n",
      "  @validator(\"stream\")\n"
     ]
    },
    {
     "data": {
      "text/plain": [
       "True"
      ]
     },
     "execution_count": 3,
     "metadata": {},
     "output_type": "execute_result"
    }
   ],
   "source": [
    "import nltk\n",
    "import requests\n",
    "import time\n",
    "import pandas as pd\n",
    "import os\n",
    "import re\n",
    "import gensim\n",
    "import gensim.corpora as corpora\n",
    "import spacy\n",
    "import pyLDAvis\n",
    "import pyLDAvis.gensim\n",
    "import matplotlib.pyplot as plt\n",
    "import streamlit as st\n",
    "import numpy as np\n",
    "import tensorflow as tf\n",
    "import tensorboard as tb\n",
    "\n",
    "from scipy.spatial.distance import euclidean\n",
    "from scipy.spatial.distance import cosine\n",
    "from nltk.corpus import stopwords\n",
    "from nltk.tokenize import word_tokenize\n",
    "from nltk.util import ngrams\n",
    "from textblob import TextBlob\n",
    "from collections import Counter\n",
    "from transformers import pipeline\n",
    "from langchain import PromptTemplate, LLMChain\n",
    "from dotenv import find_dotenv, load_dotenv\n",
    "from gensim.utils import simple_preprocess\n",
    "from gensim.models import CoherenceModel, Word2Vec\n",
    "from sklearn.manifold import TSNE\n",
    "from tensorboard.plugins import projector\n",
    "\n",
    "load_dotenv()"
   ]
  },
  {
   "cell_type": "markdown",
   "metadata": {},
   "source": [
    "## Parameters"
   ]
  },
  {
   "cell_type": "code",
   "execution_count": 4,
   "metadata": {},
   "outputs": [],
   "source": [
    "max_length_coef = 1.5\n",
    "min_length_coef = 2"
   ]
  },
  {
   "cell_type": "markdown",
   "metadata": {},
   "source": [
    "## Web scraping"
   ]
  },
  {
   "cell_type": "markdown",
   "metadata": {},
   "source": [
    "### We get the requests and the dataframe we've created so far"
   ]
  },
  {
   "cell_type": "code",
   "execution_count": 2,
   "metadata": {},
   "outputs": [
    {
     "ename": "NameError",
     "evalue": "name 'pd' is not defined",
     "output_type": "error",
     "traceback": [
      "\u001b[0;31m---------------------------------------------------------------------------\u001b[0m",
      "\u001b[0;31mNameError\u001b[0m                                 Traceback (most recent call last)",
      "Cell \u001b[0;32mIn[2], line 1\u001b[0m\n\u001b[0;32m----> 1\u001b[0m df \u001b[38;5;241m=\u001b[39m \u001b[43mpd\u001b[49m\u001b[38;5;241m.\u001b[39mread_csv(\u001b[38;5;124m'\u001b[39m\u001b[38;5;124myelp_reviews.csv\u001b[39m\u001b[38;5;124m'\u001b[39m)\n",
      "\u001b[0;31mNameError\u001b[0m: name 'pd' is not defined"
     ]
    }
   ],
   "source": [
    "df = pd.read_csv('yelp_reviews.csv')"
   ]
  },
  {
   "cell_type": "markdown",
   "metadata": {},
   "source": [
    "### We call our API key to start web scraping"
   ]
  },
  {
   "cell_type": "code",
   "execution_count": 3,
   "metadata": {},
   "outputs": [],
   "source": [
    "api_key = os.getenv('YELP_API_KEY')\n",
    "headers = {'Authorization': 'Bearer ' + api_key}"
   ]
  },
  {
   "cell_type": "markdown",
   "metadata": {},
   "source": [
    "### We get the businesses' IDs"
   ]
  },
  {
   "cell_type": "code",
   "execution_count": 32,
   "metadata": {},
   "outputs": [],
   "source": [
    "def get_all_business_data(base_url):\n",
    "    \n",
    "    #all_business_ids = []\n",
    "    list_of_businesses = []\n",
    "\n",
    "    while True:\n",
    "        response = requests.get(base_url, headers=headers)\n",
    "        if response.status_code != 200:\n",
    "            break  \n",
    "\n",
    "        data = response.json()\n",
    "        businesses = data.get('businesses', [])\n",
    "\n",
    "        # business_info = data.get('businesses')\n",
    "\n",
    "        if not businesses:\n",
    "            break  # Break the loop if no more businesses are returned\n",
    "\n",
    "        for business in businesses:\n",
    "            #business_id = business.get('id') # 'name', 'price', 'url', 'review_count', 'display_address', 'image_url', 'display_phone', 'categories'\n",
    "            business_dict = {'business_id': business.get('id'), 'business_name': business.get('name'), 'business_price': business.get('price'), 'business_url': business.get('url'), 'business_review_count': business.get('review_count'), 'business_display_address': business.get('location').get('display_address'), 'business_image_url': business.get('image_url'), 'business_display_phone': business.get('display_phone'), 'business_categories': business.get('categories')}\n",
    "            list_of_businesses.append(business_dict)\n",
    "            #if business_id:\n",
    "                #all_business_ids.append(business_id)\n",
    "\n",
    "        # Update the offset in the URL for the next request\n",
    "        if 'offset=' in base_url:\n",
    "            base_url = base_url.rsplit('offset=', 1)[0] + f'offset={len(list_of_businesses)}'\n",
    "        else:\n",
    "            base_url += f'&offset={len(list_of_businesses)}'\n",
    "\n",
    "        time.sleep(1)  \n",
    "\n",
    "    return list_of_businesses\n"
   ]
  },
  {
   "cell_type": "code",
   "execution_count": 33,
   "metadata": {},
   "outputs": [
    {
     "name": "stdout",
     "output_type": "stream",
     "text": [
      "{'businesses': [{'id': 'veq1Bl1DW3UWMekZJUsG1Q', 'alias': 'gramercy-tavern-new-york', 'name': 'Gramercy Tavern', 'image_url': 'https://s3-media2.fl.yelpcdn.com/bphoto/l2oSnhyvJfWT6bufumBMzw/o.jpg', 'is_closed': False, 'url': 'https://www.yelp.com/biz/gramercy-tavern-new-york?adjust_creative=cM1zrjoabjXir-vOTu86eg&utm_campaign=yelp_api_v3&utm_medium=api_v3_business_search&utm_source=cM1zrjoabjXir-vOTu86eg', 'review_count': 3441, 'categories': [{'alias': 'newamerican', 'title': 'New American'}], 'rating': 4.5, 'coordinates': {'latitude': 40.73844, 'longitude': -73.98825}, 'transactions': ['pickup'], 'price': '$$$$', 'location': {'address1': '42 E 20th St', 'address2': '', 'address3': '', 'city': 'New York', 'zip_code': '10003', 'country': 'US', 'state': 'NY', 'display_address': ['42 E 20th St', 'New York, NY 10003']}, 'phone': '+12124770777', 'display_phone': '(212) 477-0777', 'distance': 3695.6399277648}, {'id': 'B3_K2kUVbYOU0VaLcj_LTw', 'alias': 'thai-villa-new-york-2', 'name': 'Thai Villa', 'image_url': 'https://s3-media2.fl.yelpcdn.com/bphoto/PYopFnTm-C0yA-v0lePQcQ/o.jpg', 'is_closed': False, 'url': 'https://www.yelp.com/biz/thai-villa-new-york-2?adjust_creative=cM1zrjoabjXir-vOTu86eg&utm_campaign=yelp_api_v3&utm_medium=api_v3_business_search&utm_source=cM1zrjoabjXir-vOTu86eg', 'review_count': 4920, 'categories': [{'alias': 'thai', 'title': 'Thai'}], 'rating': 4.5, 'coordinates': {'latitude': 40.73902, 'longitude': -73.99065}, 'transactions': ['pickup', 'delivery'], 'price': '$$', 'location': {'address1': '5 E 19th St', 'address2': 'G Floor', 'address3': '', 'city': 'New York', 'zip_code': '10003', 'country': 'US', 'state': 'NY', 'display_address': ['5 E 19th St', 'G Floor', 'New York, NY 10003']}, 'phone': '+12128029999', 'display_phone': '(212) 802-9999', 'distance': 3733.2340039118267}, {'id': 'nRO136GRieGtxz18uD61DA', 'alias': 'eleven-madison-park-new-york', 'name': 'Eleven Madison Park', 'image_url': 'https://s3-media1.fl.yelpcdn.com/bphoto/s_H7gm_Hwmz--O6bo1iU-A/o.jpg', 'is_closed': False, 'url': 'https://www.yelp.com/biz/eleven-madison-park-new-york?adjust_creative=cM1zrjoabjXir-vOTu86eg&utm_campaign=yelp_api_v3&utm_medium=api_v3_business_search&utm_source=cM1zrjoabjXir-vOTu86eg', 'review_count': 2473, 'categories': [{'alias': 'newamerican', 'title': 'New American'}, {'alias': 'french', 'title': 'French'}, {'alias': 'cocktailbars', 'title': 'Cocktail Bars'}], 'rating': 4.5, 'coordinates': {'latitude': 40.7416907417333, 'longitude': -73.9872074872255}, 'transactions': [], 'price': '$$$$', 'location': {'address1': '11 Madison Ave', 'address2': '', 'address3': '', 'city': 'New York', 'zip_code': '10010', 'country': 'US', 'state': 'NY', 'display_address': ['11 Madison Ave', 'New York, NY 10010']}, 'phone': '+12128890905', 'display_phone': '(212) 889-0905', 'distance': 4062.929570044286}, {'id': 'A_YpTLbAlEqeLVSs9bxbEA', 'alias': 'club-a-steakhouse-new-york', 'name': 'Club A Steakhouse', 'image_url': 'https://s3-media1.fl.yelpcdn.com/bphoto/KOAzq3JLOh-wxcAGV5_Bfw/o.jpg', 'is_closed': False, 'url': 'https://www.yelp.com/biz/club-a-steakhouse-new-york?adjust_creative=cM1zrjoabjXir-vOTu86eg&utm_campaign=yelp_api_v3&utm_medium=api_v3_business_search&utm_source=cM1zrjoabjXir-vOTu86eg', 'review_count': 3378, 'categories': [{'alias': 'steak', 'title': 'Steakhouses'}], 'rating': 4.5, 'coordinates': {'latitude': 40.76006, 'longitude': -73.96557}, 'transactions': ['pickup', 'delivery'], 'price': '$$$', 'location': {'address1': '240 E 58th St', 'address2': '', 'address3': '', 'city': 'New York', 'zip_code': '10022', 'country': 'US', 'state': 'NY', 'display_address': ['240 E 58th St', 'New York, NY 10022']}, 'phone': '+12126884190', 'display_phone': '(212) 688-4190', 'distance': 6525.903460021827}, {'id': 'ysqgdbSrezXgVwER2kQWKA', 'alias': 'julianas-brooklyn-3', 'name': \"Juliana's\", 'image_url': 'https://s3-media2.fl.yelpcdn.com/bphoto/od36nFW220aMFAnNP00ocw/o.jpg', 'is_closed': False, 'url': 'https://www.yelp.com/biz/julianas-brooklyn-3?adjust_creative=cM1zrjoabjXir-vOTu86eg&utm_campaign=yelp_api_v3&utm_medium=api_v3_business_search&utm_source=cM1zrjoabjXir-vOTu86eg', 'review_count': 2746, 'categories': [{'alias': 'pizza', 'title': 'Pizza'}], 'rating': 4.5, 'coordinates': {'latitude': 40.70274718768062, 'longitude': -73.99343490196397}, 'transactions': ['delivery'], 'price': '$$', 'location': {'address1': '19 Old Fulton St', 'address2': '', 'address3': '', 'city': 'Brooklyn', 'zip_code': '11201', 'country': 'US', 'state': 'NY', 'display_address': ['19 Old Fulton St', 'Brooklyn, NY 11201']}, 'phone': '+17185966700', 'display_phone': '(718) 596-6700', 'distance': 318.8762608116642}, {'id': '1DfbZ0VsSCg9g1KILmnvzQ', 'alias': 'per-se-new-york', 'name': 'Per Se', 'image_url': 'https://s3-media3.fl.yelpcdn.com/bphoto/531LmZ0PjJD523UNhldWjw/o.jpg', 'is_closed': False, 'url': 'https://www.yelp.com/biz/per-se-new-york?adjust_creative=cM1zrjoabjXir-vOTu86eg&utm_campaign=yelp_api_v3&utm_medium=api_v3_business_search&utm_source=cM1zrjoabjXir-vOTu86eg', 'review_count': 1884, 'categories': [{'alias': 'french', 'title': 'French'}], 'rating': 4.5, 'coordinates': {'latitude': 40.7681528889558, 'longitude': -73.9827629623657}, 'transactions': [], 'price': '$$$$', 'location': {'address1': '10 Columbus Cir', 'address2': 'Fl 4', 'address3': None, 'city': 'New York', 'zip_code': '10019', 'country': 'US', 'state': 'NY', 'display_address': ['10 Columbus Cir', 'Fl 4', 'New York, NY 10019']}, 'phone': '+12128239335', 'display_phone': '(212) 823-9335', 'distance': 7028.746060156897}, {'id': 'h37t9rA06Sr4EetJjKrfzw', 'alias': 'don-angie-new-york', 'name': 'Don Angie', 'image_url': 'https://s3-media2.fl.yelpcdn.com/bphoto/onJX6_vaMPHXUqIbMrq79A/o.jpg', 'is_closed': False, 'url': 'https://www.yelp.com/biz/don-angie-new-york?adjust_creative=cM1zrjoabjXir-vOTu86eg&utm_campaign=yelp_api_v3&utm_medium=api_v3_business_search&utm_source=cM1zrjoabjXir-vOTu86eg', 'review_count': 834, 'categories': [{'alias': 'italian', 'title': 'Italian'}, {'alias': 'newamerican', 'title': 'New American'}], 'rating': 4.5, 'coordinates': {'latitude': 40.73778, 'longitude': -74.00197}, 'transactions': ['delivery'], 'price': '$$$', 'location': {'address1': '103 Greenwich Ave', 'address2': '', 'address3': None, 'city': 'New York', 'zip_code': '10014', 'country': 'US', 'state': 'NY', 'display_address': ['103 Greenwich Ave', 'New York, NY 10014']}, 'phone': '+12128898884', 'display_phone': '(212) 889-8884', 'distance': 3646.541688095945}, {'id': 'ypqK8DWM8Bcs43YveSJnNw', 'alias': 'manhatta-new-york', 'name': 'Manhatta', 'image_url': 'https://s3-media3.fl.yelpcdn.com/bphoto/uHQHaX-Q6_Z0ptEGNFenIw/o.jpg', 'is_closed': False, 'url': 'https://www.yelp.com/biz/manhatta-new-york?adjust_creative=cM1zrjoabjXir-vOTu86eg&utm_campaign=yelp_api_v3&utm_medium=api_v3_business_search&utm_source=cM1zrjoabjXir-vOTu86eg', 'review_count': 696, 'categories': [{'alias': 'newamerican', 'title': 'New American'}], 'rating': 4.5, 'coordinates': {'latitude': 40.70800627689857, 'longitude': -74.00888226517013}, 'transactions': [], 'price': '$$$$', 'location': {'address1': '28 Liberty St', 'address2': 'Fl 60', 'address3': None, 'city': 'New York', 'zip_code': '10005', 'country': 'US', 'state': 'NY', 'display_address': ['28 Liberty St', 'Fl 60', 'New York, NY 10005']}, 'phone': '+12122305788', 'display_phone': '(212) 230-5788', 'distance': 1262.2789968123395}, {'id': 'ehUuSk5gPTCQmwS_ubgKRA', 'alias': 'upstate-craft-beer-and-oyster-bar-new-york-4', 'name': 'Upstate Craft Beer & Oyster Bar', 'image_url': 'https://s3-media2.fl.yelpcdn.com/bphoto/V3pVDPhGZdbBueIMxkc8uw/o.jpg', 'is_closed': False, 'url': 'https://www.yelp.com/biz/upstate-craft-beer-and-oyster-bar-new-york-4?adjust_creative=cM1zrjoabjXir-vOTu86eg&utm_campaign=yelp_api_v3&utm_medium=api_v3_business_search&utm_source=cM1zrjoabjXir-vOTu86eg', 'review_count': 2088, 'categories': [{'alias': 'seafood', 'title': 'Seafood'}], 'rating': 4.5, 'coordinates': {'latitude': 40.726373, 'longitude': -73.986557}, 'transactions': ['restaurant_reservation', 'delivery'], 'price': '$$', 'location': {'address1': '95 1st Ave', 'address2': None, 'address3': '', 'city': 'New York', 'zip_code': '10003', 'country': 'US', 'state': 'NY', 'display_address': ['95 1st Ave', 'New York, NY 10003']}, 'phone': '+16467915400', 'display_phone': '(646) 791-5400', 'distance': 2405.2814943834474}, {'id': '_LJFf9YqpYxvExTvVxb7Rw', 'alias': 'the-modern-new-york-3', 'name': 'The Modern', 'image_url': 'https://s3-media4.fl.yelpcdn.com/bphoto/Y25Ig0-ejUSJHoFnobCR2w/o.jpg', 'is_closed': False, 'url': 'https://www.yelp.com/biz/the-modern-new-york-3?adjust_creative=cM1zrjoabjXir-vOTu86eg&utm_campaign=yelp_api_v3&utm_medium=api_v3_business_search&utm_source=cM1zrjoabjXir-vOTu86eg', 'review_count': 1196, 'categories': [{'alias': 'newamerican', 'title': 'New American'}], 'rating': 4.5, 'coordinates': {'latitude': 40.761106128269006, 'longitude': -73.97670872686992}, 'transactions': [], 'price': '$$$$', 'location': {'address1': '9 W 53rd St', 'address2': '', 'address3': '', 'city': 'New York', 'zip_code': '10019', 'country': 'US', 'state': 'NY', 'display_address': ['9 W 53rd St', 'New York, NY 10019']}, 'phone': '+12123331220', 'display_phone': '(212) 333-1220', 'distance': 6352.669745324919}, {'id': 'OFfZUS-nu6NDnsWe1B2bUQ', 'alias': 'tonchin-new-york-2', 'name': 'Tonchin', 'image_url': 'https://s3-media2.fl.yelpcdn.com/bphoto/BgQKNO97PzwQSsvmAKHIkA/o.jpg', 'is_closed': False, 'url': 'https://www.yelp.com/biz/tonchin-new-york-2?adjust_creative=cM1zrjoabjXir-vOTu86eg&utm_campaign=yelp_api_v3&utm_medium=api_v3_business_search&utm_source=cM1zrjoabjXir-vOTu86eg', 'review_count': 2068, 'categories': [{'alias': 'ramen', 'title': 'Ramen'}, {'alias': 'cocktailbars', 'title': 'Cocktail Bars'}, {'alias': 'chicken_wings', 'title': 'Chicken Wings'}], 'rating': 4.5, 'coordinates': {'latitude': 40.7502727, 'longitude': -73.9844951}, 'transactions': ['pickup', 'delivery'], 'price': '$$', 'location': {'address1': '13 W 36th St', 'address2': None, 'address3': '', 'city': 'New York', 'zip_code': '10018', 'country': 'US', 'state': 'NY', 'display_address': ['13 W 36th St', 'New York, NY 10018']}, 'phone': '+16466929912', 'display_phone': '(646) 692-9912', 'distance': 5041.108503217421}, {'id': 'liZmIO0FqZwslLJfLDkfgw', 'alias': 'wayla-new-york', 'name': 'Wayla', 'image_url': 'https://s3-media2.fl.yelpcdn.com/bphoto/u17PWWBYzqe3p1uEPgKVuQ/o.jpg', 'is_closed': False, 'url': 'https://www.yelp.com/biz/wayla-new-york?adjust_creative=cM1zrjoabjXir-vOTu86eg&utm_campaign=yelp_api_v3&utm_medium=api_v3_business_search&utm_source=cM1zrjoabjXir-vOTu86eg', 'review_count': 680, 'categories': [{'alias': 'thai', 'title': 'Thai'}], 'rating': 4.5, 'coordinates': {'latitude': 40.7183, 'longitude': -73.9926038}, 'transactions': ['delivery'], 'price': '$$$', 'location': {'address1': '100 Forsyth St', 'address2': 'Basement', 'address3': None, 'city': 'New York', 'zip_code': '10002', 'country': 'US', 'state': 'NY', 'display_address': ['100 Forsyth St', 'Basement', 'New York, NY 10002']}, 'phone': '+12122062500', 'display_phone': '(212) 206-2500', 'distance': 1425.1367257566037}, {'id': 'DRitJoNGTkHXZvH_YpLIAw', 'alias': 'marc-forgione-new-york-2', 'name': 'Marc Forgione', 'image_url': 'https://s3-media3.fl.yelpcdn.com/bphoto/f_rrhoaW8XBineAC9IsVMA/o.jpg', 'is_closed': False, 'url': 'https://www.yelp.com/biz/marc-forgione-new-york-2?adjust_creative=cM1zrjoabjXir-vOTu86eg&utm_campaign=yelp_api_v3&utm_medium=api_v3_business_search&utm_source=cM1zrjoabjXir-vOTu86eg', 'review_count': 1020, 'categories': [{'alias': 'newamerican', 'title': 'New American'}], 'rating': 4.5, 'coordinates': {'latitude': 40.71647, 'longitude': -74.0095599}, 'transactions': ['pickup', 'delivery'], 'price': '$$$', 'location': {'address1': '134 Reade St', 'address2': '', 'address3': '', 'city': 'New York', 'zip_code': '10013', 'country': 'US', 'state': 'NY', 'display_address': ['134 Reade St', 'New York, NY 10013']}, 'phone': '+12129419401', 'display_phone': '(212) 941-9401', 'distance': 1775.8377525676901}, {'id': 'rp8S7scxOkVVeG7dNneMGQ', 'alias': 'l-artusi-new-york', 'name': \"L'Artusi\", 'image_url': 'https://s3-media3.fl.yelpcdn.com/bphoto/f3cXjK22cC0obBDUR3TzjA/o.jpg', 'is_closed': False, 'url': 'https://www.yelp.com/biz/l-artusi-new-york?adjust_creative=cM1zrjoabjXir-vOTu86eg&utm_campaign=yelp_api_v3&utm_medium=api_v3_business_search&utm_source=cM1zrjoabjXir-vOTu86eg', 'review_count': 2422, 'categories': [{'alias': 'italian', 'title': 'Italian'}, {'alias': 'cocktailbars', 'title': 'Cocktail Bars'}], 'rating': 4.5, 'coordinates': {'latitude': 40.73372, 'longitude': -74.00513}, 'transactions': ['pickup', 'delivery'], 'price': '$$$', 'location': {'address1': '228 W 10th St', 'address2': '', 'address3': '', 'city': 'New York', 'zip_code': '10014', 'country': 'US', 'state': 'NY', 'display_address': ['228 W 10th St', 'New York, NY 10014']}, 'phone': '+12122555757', 'display_phone': '(212) 255-5757', 'distance': 3262.979446879521}, {'id': '-Q8MYIWoE4EsGQtudIOY0w', 'alias': 'bua-thai-ramen-and-robata-grill-new-york', 'name': 'Bua Thai Ramen & Robata Grill', 'image_url': 'https://s3-media3.fl.yelpcdn.com/bphoto/STPkeCnzxNZTax2QYGhe-g/o.jpg', 'is_closed': False, 'url': 'https://www.yelp.com/biz/bua-thai-ramen-and-robata-grill-new-york?adjust_creative=cM1zrjoabjXir-vOTu86eg&utm_campaign=yelp_api_v3&utm_medium=api_v3_business_search&utm_source=cM1zrjoabjXir-vOTu86eg', 'review_count': 2650, 'categories': [{'alias': 'thai', 'title': 'Thai'}, {'alias': 'ramen', 'title': 'Ramen'}, {'alias': 'vegetarian', 'title': 'Vegetarian'}], 'rating': 4.5, 'coordinates': {'latitude': 40.7763615, 'longitude': -73.95308}, 'transactions': ['restaurant_reservation', 'pickup', 'delivery'], 'price': '$$', 'location': {'address1': '1611 2nd Ave', 'address2': None, 'address3': '', 'city': 'New York', 'zip_code': '10028', 'country': 'US', 'state': 'NY', 'display_address': ['1611 2nd Ave', 'New York, NY 10028']}, 'phone': '+12128797999', 'display_phone': '(212) 879-7999', 'distance': 8604.910580262833}, {'id': 'zj8Lq1T8KIC5zwFief15jg', 'alias': 'prince-street-pizza-new-york-2', 'name': 'Prince Street Pizza', 'image_url': 'https://s3-media4.fl.yelpcdn.com/bphoto/bckPg7Lznyf4rQSqvCJ2WA/o.jpg', 'is_closed': False, 'url': 'https://www.yelp.com/biz/prince-street-pizza-new-york-2?adjust_creative=cM1zrjoabjXir-vOTu86eg&utm_campaign=yelp_api_v3&utm_medium=api_v3_business_search&utm_source=cM1zrjoabjXir-vOTu86eg', 'review_count': 5171, 'categories': [{'alias': 'pizza', 'title': 'Pizza'}, {'alias': 'italian', 'title': 'Italian'}], 'rating': 4.5, 'coordinates': {'latitude': 40.72308755605564, 'longitude': -73.99453001177575}, 'transactions': ['pickup', 'delivery'], 'price': '$', 'location': {'address1': '27 Prince St', 'address2': None, 'address3': '', 'city': 'New York', 'zip_code': '10012', 'country': 'US', 'state': 'NY', 'display_address': ['27 Prince St', 'New York, NY 10012']}, 'phone': '+12129664100', 'display_phone': '(212) 966-4100', 'distance': 1950.7368390479296}, {'id': 'qY1o1MhoRyN84RRhUJtvpQ', 'alias': 'her-name-is-han-new-york-3', 'name': 'Her Name Is Han', 'image_url': 'https://s3-media4.fl.yelpcdn.com/bphoto/yTJ5aCvzs0nMfDUUzHK1XQ/o.jpg', 'is_closed': False, 'url': 'https://www.yelp.com/biz/her-name-is-han-new-york-3?adjust_creative=cM1zrjoabjXir-vOTu86eg&utm_campaign=yelp_api_v3&utm_medium=api_v3_business_search&utm_source=cM1zrjoabjXir-vOTu86eg', 'review_count': 1920, 'categories': [{'alias': 'korean', 'title': 'Korean'}, {'alias': 'breakfast_brunch', 'title': 'Breakfast & Brunch'}], 'rating': 4.5, 'coordinates': {'latitude': 40.7462615966797, 'longitude': -73.984733581543}, 'transactions': ['pickup', 'delivery'], 'price': '$$', 'location': {'address1': '17 E 31st St', 'address2': '', 'address3': '', 'city': 'New York', 'zip_code': '10016', 'country': 'US', 'state': 'NY', 'display_address': ['17 E 31st St', 'New York, NY 10016']}, 'phone': '+12127799990', 'display_phone': '(212) 779-9990', 'distance': 4593.676507866168}, {'id': 'klAhw3xLQi9GF1tf_HnS7w', 'alias': 'izakaya-mew-new-york-3', 'name': 'Izakaya MEW', 'image_url': 'https://s3-media4.fl.yelpcdn.com/bphoto/-56mpvzUi0nfYADw2uQXhg/o.jpg', 'is_closed': False, 'url': 'https://www.yelp.com/biz/izakaya-mew-new-york-3?adjust_creative=cM1zrjoabjXir-vOTu86eg&utm_campaign=yelp_api_v3&utm_medium=api_v3_business_search&utm_source=cM1zrjoabjXir-vOTu86eg', 'review_count': 2932, 'categories': [{'alias': 'tapas', 'title': 'Tapas Bars'}, {'alias': 'sushi', 'title': 'Sushi Bars'}, {'alias': 'izakaya', 'title': 'Izakaya'}], 'rating': 4.5, 'coordinates': {'latitude': 40.750148, 'longitude': -73.9863203465939}, 'transactions': ['pickup', 'delivery'], 'price': '$$', 'location': {'address1': '53 W 35th St', 'address2': '', 'address3': '', 'city': 'New York', 'zip_code': '10001', 'country': 'US', 'state': 'NY', 'display_address': ['53 W 35th St', 'New York, NY 10001']}, 'phone': '+16463689384', 'display_phone': '(646) 368-9384', 'distance': 5004.54792484731}, {'id': 'OgM6WwztLVavBQBmb_g5aw', 'alias': 'tara-rose-new-york', 'name': 'Tara Rose', 'image_url': 'https://s3-media3.fl.yelpcdn.com/bphoto/Pwf134BvgMWmd3Op6NhuKQ/o.jpg', 'is_closed': False, 'url': 'https://www.yelp.com/biz/tara-rose-new-york?adjust_creative=cM1zrjoabjXir-vOTu86eg&utm_campaign=yelp_api_v3&utm_medium=api_v3_business_search&utm_source=cM1zrjoabjXir-vOTu86eg', 'review_count': 796, 'categories': [{'alias': 'cocktailbars', 'title': 'Cocktail Bars'}, {'alias': 'newamerican', 'title': 'New American'}, {'alias': 'breakfast_brunch', 'title': 'Breakfast & Brunch'}], 'rating': 4.5, 'coordinates': {'latitude': 40.741803261063986, 'longitude': -73.98122457328056}, 'transactions': ['restaurant_reservation', 'pickup', 'delivery'], 'price': '$$', 'location': {'address1': '384 3rd Ave', 'address2': '', 'address3': '', 'city': 'New York', 'zip_code': '10016', 'country': 'US', 'state': 'NY', 'display_address': ['384 3rd Ave', 'New York, NY 10016']}, 'phone': '+19296025983', 'display_phone': '(929) 602-5983', 'distance': 4178.744042124024}, {'id': 'nI1UYDCYUTt23TpGxqnLKg', 'alias': 'buddakan-new-york', 'name': 'Buddakan', 'image_url': 'https://s3-media4.fl.yelpcdn.com/bphoto/JJ6WiHxZmX3gKyllSteBmA/o.jpg', 'is_closed': False, 'url': 'https://www.yelp.com/biz/buddakan-new-york?adjust_creative=cM1zrjoabjXir-vOTu86eg&utm_campaign=yelp_api_v3&utm_medium=api_v3_business_search&utm_source=cM1zrjoabjXir-vOTu86eg', 'review_count': 4608, 'categories': [{'alias': 'chinese', 'title': 'Chinese'}, {'alias': 'bars', 'title': 'Bars'}, {'alias': 'asianfusion', 'title': 'Asian Fusion'}], 'rating': 4.0, 'coordinates': {'latitude': 40.7422762672197, 'longitude': -74.0048000961542}, 'transactions': ['pickup', 'delivery'], 'price': '$$$$', 'location': {'address1': '75 9th Ave', 'address2': None, 'address3': '', 'city': 'New York', 'zip_code': '10011', 'country': 'US', 'state': 'NY', 'display_address': ['75 9th Ave', 'New York, NY 10011']}, 'phone': '+12129896699', 'display_phone': '(212) 989-6699', 'distance': 4179.698118919742}, {'id': '__EvomQ2tE1NtkWn32WEXg', 'alias': 'au-cheval-new-york-7', 'name': 'Au Cheval', 'image_url': 'https://s3-media3.fl.yelpcdn.com/bphoto/i3kwsfrNgtxP4L6nJE9lxQ/o.jpg', 'is_closed': False, 'url': 'https://www.yelp.com/biz/au-cheval-new-york-7?adjust_creative=cM1zrjoabjXir-vOTu86eg&utm_campaign=yelp_api_v3&utm_medium=api_v3_business_search&utm_source=cM1zrjoabjXir-vOTu86eg', 'review_count': 940, 'categories': [{'alias': 'burgers', 'title': 'Burgers'}, {'alias': 'newamerican', 'title': 'New American'}, {'alias': 'cocktailbars', 'title': 'Cocktail Bars'}], 'rating': 4.5, 'coordinates': {'latitude': 40.71812171604106, 'longitude': -74.00196237391103}, 'transactions': [], 'price': '$$$', 'location': {'address1': '33 Cortlandt Aly', 'address2': '', 'address3': None, 'city': 'New York', 'zip_code': '10013', 'country': 'US', 'state': 'NY', 'display_address': ['33 Cortlandt Aly', 'New York, NY 10013']}, 'phone': '+16463502429', 'display_phone': '(646) 350-2429', 'distance': 1541.6574236538356}, {'id': 'FiRB9Ek3Xo9JHwXgBYITYg', 'alias': 'la-sirene-new-york-4', 'name': 'La Sirene', 'image_url': 'https://s3-media4.fl.yelpcdn.com/bphoto/sin7wofXSXozdrxpuA4PhA/o.jpg', 'is_closed': False, 'url': 'https://www.yelp.com/biz/la-sirene-new-york-4?adjust_creative=cM1zrjoabjXir-vOTu86eg&utm_campaign=yelp_api_v3&utm_medium=api_v3_business_search&utm_source=cM1zrjoabjXir-vOTu86eg', 'review_count': 1713, 'categories': [{'alias': 'french', 'title': 'French'}], 'rating': 4.5, 'coordinates': {'latitude': 40.7243642217227, 'longitude': -74.005708694458}, 'transactions': ['pickup', 'delivery'], 'price': '$$$', 'location': {'address1': '558 Broome St', 'address2': '', 'address3': '', 'city': 'New York', 'zip_code': '10013', 'country': 'US', 'state': 'NY', 'display_address': ['558 Broome St', 'New York, NY 10013']}, 'phone': '+12129253061', 'display_phone': '(212) 925-3061', 'distance': 2304.203318775593}, {'id': 'mESab-FqL5QqSVsnX72asQ', 'alias': 'zen-ramen-and-sushi-new-york', 'name': 'Zen Ramen & Sushi', 'image_url': 'https://s3-media1.fl.yelpcdn.com/bphoto/lZ5lOYihsojZmYjnvSZGPg/o.jpg', 'is_closed': False, 'url': 'https://www.yelp.com/biz/zen-ramen-and-sushi-new-york?adjust_creative=cM1zrjoabjXir-vOTu86eg&utm_campaign=yelp_api_v3&utm_medium=api_v3_business_search&utm_source=cM1zrjoabjXir-vOTu86eg', 'review_count': 2739, 'categories': [{'alias': 'sushi', 'title': 'Sushi Bars'}, {'alias': 'ramen', 'title': 'Ramen'}, {'alias': 'salad', 'title': 'Salad'}], 'rating': 4.5, 'coordinates': {'latitude': 40.75177475474212, 'longitude': -73.98897630211589}, 'transactions': ['pickup', 'delivery'], 'price': '$$', 'location': {'address1': '150 W 36th street', 'address2': '', 'address3': '', 'city': 'New York', 'zip_code': '10018', 'country': 'US', 'state': 'NY', 'display_address': ['150 W 36th street', 'New York, NY 10018']}, 'phone': '+16468707509', 'display_phone': '(646) 870-7509', 'distance': 5159.743917374788}, {'id': 'V7lXZKBDzScDeGB8JmnzSA', 'alias': 'katzs-delicatessen-new-york', 'name': \"Katz's Delicatessen\", 'image_url': 'https://s3-media3.fl.yelpcdn.com/bphoto/CkSfFJLJbUItcMxIakKVjw/o.jpg', 'is_closed': False, 'url': 'https://www.yelp.com/biz/katzs-delicatessen-new-york?adjust_creative=cM1zrjoabjXir-vOTu86eg&utm_campaign=yelp_api_v3&utm_medium=api_v3_business_search&utm_source=cM1zrjoabjXir-vOTu86eg', 'review_count': 15361, 'categories': [{'alias': 'delis', 'title': 'Delis'}, {'alias': 'sandwiches', 'title': 'Sandwiches'}, {'alias': 'soup', 'title': 'Soup'}], 'rating': 4.0, 'coordinates': {'latitude': 40.722237, 'longitude': -73.9875259}, 'transactions': ['pickup', 'delivery'], 'price': '$$', 'location': {'address1': '205 E Houston St', 'address2': '', 'address3': '', 'city': 'New York', 'zip_code': '10002', 'country': 'US', 'state': 'NY', 'display_address': ['205 E Houston St', 'New York, NY 10002']}, 'phone': '+12122542246', 'display_phone': '(212) 254-2246', 'distance': 1940.9536370777244}, {'id': 'NN3mOWF5e_pnR1ArqM2bHQ', 'alias': 'obao-new-york-3', 'name': 'OBAO', 'image_url': 'https://s3-media4.fl.yelpcdn.com/bphoto/CpVI2XJLrvg09Fm83bfPog/o.jpg', 'is_closed': False, 'url': 'https://www.yelp.com/biz/obao-new-york-3?adjust_creative=cM1zrjoabjXir-vOTu86eg&utm_campaign=yelp_api_v3&utm_medium=api_v3_business_search&utm_source=cM1zrjoabjXir-vOTu86eg', 'review_count': 4113, 'categories': [{'alias': 'vietnamese', 'title': 'Vietnamese'}, {'alias': 'thai', 'title': 'Thai'}, {'alias': 'asianfusion', 'title': 'Asian Fusion'}], 'rating': 4.0, 'coordinates': {'latitude': 40.7606544, 'longitude': -73.991332}, 'transactions': ['pickup', 'delivery'], 'price': '$$', 'location': {'address1': '647 9th Ave', 'address2': '', 'address3': '', 'city': 'New York', 'zip_code': '10036', 'country': 'US', 'state': 'NY', 'display_address': ['647 9th Ave', 'New York, NY 10036']}, 'phone': '+12122458880', 'display_phone': '(212) 245-8880', 'distance': 6132.820728042439}, {'id': '4yPqqJDJOQX69gC66YUDkA', 'alias': 'peter-luger-brooklyn-2', 'name': 'Peter Luger', 'image_url': 'https://s3-media3.fl.yelpcdn.com/bphoto/rL7gJudmnBVLw3268m4Lcg/o.jpg', 'is_closed': False, 'url': 'https://www.yelp.com/biz/peter-luger-brooklyn-2?adjust_creative=cM1zrjoabjXir-vOTu86eg&utm_campaign=yelp_api_v3&utm_medium=api_v3_business_search&utm_source=cM1zrjoabjXir-vOTu86eg', 'review_count': 6915, 'categories': [{'alias': 'steak', 'title': 'Steakhouses'}], 'rating': 4.0, 'coordinates': {'latitude': 40.709945, 'longitude': -73.962478}, 'transactions': [], 'price': '$$$$', 'location': {'address1': '178 Broadway', 'address2': '', 'address3': '', 'city': 'Brooklyn', 'zip_code': '11211', 'country': 'US', 'state': 'NY', 'display_address': ['178 Broadway', 'Brooklyn, NY 11211']}, 'phone': '+17183877400', 'display_phone': '(718) 387-7400', 'distance': 2723.5099306751026}, {'id': 'obFs12x7mgYPGxgalBd22w', 'alias': 'le-coucou-new-york', 'name': 'Le Coucou', 'image_url': 'https://s3-media3.fl.yelpcdn.com/bphoto/jthA6f2P9SOzmIdAaol1gQ/o.jpg', 'is_closed': False, 'url': 'https://www.yelp.com/biz/le-coucou-new-york?adjust_creative=cM1zrjoabjXir-vOTu86eg&utm_campaign=yelp_api_v3&utm_medium=api_v3_business_search&utm_source=cM1zrjoabjXir-vOTu86eg', 'review_count': 730, 'categories': [{'alias': 'french', 'title': 'French'}], 'rating': 4.0, 'coordinates': {'latitude': 40.71909, 'longitude': -74.00013}, 'transactions': [], 'price': '$$$$', 'location': {'address1': '138 Lafayette St', 'address2': '', 'address3': '', 'city': 'New York', 'zip_code': '10013', 'country': 'US', 'state': 'NY', 'display_address': ['138 Lafayette St', 'New York, NY 10013']}, 'phone': '+12122714252', 'display_phone': '(212) 271-4252', 'distance': 1588.5172935450066}, {'id': 'Rc1lxc5lSKJYd162JHNMfQ', 'alias': 'bea-new-york', 'name': 'Bea', 'image_url': 'https://s3-media3.fl.yelpcdn.com/bphoto/Xti3b8-6LP8UnG016hJfVQ/o.jpg', 'is_closed': False, 'url': 'https://www.yelp.com/biz/bea-new-york?adjust_creative=cM1zrjoabjXir-vOTu86eg&utm_campaign=yelp_api_v3&utm_medium=api_v3_business_search&utm_source=cM1zrjoabjXir-vOTu86eg', 'review_count': 2924, 'categories': [{'alias': 'newamerican', 'title': 'New American'}, {'alias': 'cocktailbars', 'title': 'Cocktail Bars'}], 'rating': 4.0, 'coordinates': {'latitude': 40.7591968, 'longitude': -73.9923361}, 'transactions': ['restaurant_reservation', 'delivery'], 'price': '$$', 'location': {'address1': '403 W 43rd St', 'address2': '', 'address3': '', 'city': 'New York', 'zip_code': '10036', 'country': 'US', 'state': 'NY', 'display_address': ['403 W 43rd St', 'New York, NY 10036']}, 'phone': '+12126021910', 'display_phone': '(212) 602-1910', 'distance': 5967.977278673551}, {'id': 'An1_BlhLJDZomxI91SBv7g', 'alias': 'oiji-mi-new-york-2', 'name': 'Oiji Mi', 'image_url': 'https://s3-media1.fl.yelpcdn.com/bphoto/nDEv_tWcQNC8bIbcgSU1uw/o.jpg', 'is_closed': False, 'url': 'https://www.yelp.com/biz/oiji-mi-new-york-2?adjust_creative=cM1zrjoabjXir-vOTu86eg&utm_campaign=yelp_api_v3&utm_medium=api_v3_business_search&utm_source=cM1zrjoabjXir-vOTu86eg', 'review_count': 246, 'categories': [{'alias': 'korean', 'title': 'Korean'}, {'alias': 'bars', 'title': 'Bars'}], 'rating': 4.5, 'coordinates': {'latitude': 40.73966, 'longitude': -73.99247}, 'transactions': [], 'price': '$$$$', 'location': {'address1': '17 W 19th St', 'address2': None, 'address3': '', 'city': 'New York', 'zip_code': '10011', 'country': 'US', 'state': 'NY', 'display_address': ['17 W 19th St', 'New York, NY 10011']}, 'phone': '+12122561259', 'display_phone': '(212) 256-1259', 'distance': 3797.321060995411}, {'id': '_0WFGjXuenlBixOlbSlGeQ', 'alias': 'crown-shy-new-york-2', 'name': 'Crown Shy', 'image_url': 'https://s3-media2.fl.yelpcdn.com/bphoto/-OfMjpri7i5Ym2awNmCG_A/o.jpg', 'is_closed': False, 'url': 'https://www.yelp.com/biz/crown-shy-new-york-2?adjust_creative=cM1zrjoabjXir-vOTu86eg&utm_campaign=yelp_api_v3&utm_medium=api_v3_business_search&utm_source=cM1zrjoabjXir-vOTu86eg', 'review_count': 588, 'categories': [{'alias': 'newamerican', 'title': 'New American'}, {'alias': 'cocktailbars', 'title': 'Cocktail Bars'}], 'rating': 4.0, 'coordinates': {'latitude': 40.7063449, 'longitude': -74.0076944}, 'transactions': [], 'price': '$$$$', 'location': {'address1': '70 Pine St', 'address2': None, 'address3': '', 'city': 'New York', 'zip_code': '10005', 'country': 'US', 'state': 'NY', 'display_address': ['70 Pine St', 'New York, NY 10005']}, 'phone': '+12125171932', 'display_phone': '(212) 517-1932', 'distance': 1143.6309631425356}, {'id': 'TN4RnyqHMSupRFot4Q-_EA', 'alias': 'ippudo-westside-new-york', 'name': 'Ippudo Westside', 'image_url': 'https://s3-media2.fl.yelpcdn.com/bphoto/EmJBZo1FvHemEBgyJknEOQ/o.jpg', 'is_closed': False, 'url': 'https://www.yelp.com/biz/ippudo-westside-new-york?adjust_creative=cM1zrjoabjXir-vOTu86eg&utm_campaign=yelp_api_v3&utm_medium=api_v3_business_search&utm_source=cM1zrjoabjXir-vOTu86eg', 'review_count': 4081, 'categories': [{'alias': 'ramen', 'title': 'Ramen'}], 'rating': 4.0, 'coordinates': {'latitude': 40.76344, 'longitude': -73.98661}, 'transactions': ['pickup', 'delivery'], 'price': '$$', 'location': {'address1': '321 W 51st St', 'address2': None, 'address3': '', 'city': 'New York', 'zip_code': '10019', 'country': 'US', 'state': 'NY', 'display_address': ['321 W 51st St', 'New York, NY 10019']}, 'phone': '+12129742500', 'display_phone': '(212) 974-2500', 'distance': 6475.42528003275}, {'id': 'VoAuIReq_cPUrFwxbWqG_Q', 'alias': 'sala-thai-restaurant-new-york-2', 'name': 'Sala Thai Restaurant', 'image_url': 'https://s3-media1.fl.yelpcdn.com/bphoto/tRqbnqW8GA5RZHJ61gGOOA/o.jpg', 'is_closed': False, 'url': 'https://www.yelp.com/biz/sala-thai-restaurant-new-york-2?adjust_creative=cM1zrjoabjXir-vOTu86eg&utm_campaign=yelp_api_v3&utm_medium=api_v3_business_search&utm_source=cM1zrjoabjXir-vOTu86eg', 'review_count': 889, 'categories': [{'alias': 'thai', 'title': 'Thai'}], 'rating': 4.5, 'coordinates': {'latitude': 40.78012, 'longitude': -73.98032}, 'transactions': ['pickup', 'delivery'], 'price': '$$', 'location': {'address1': '307 Amsterdam Ave', 'address2': '', 'address3': '', 'city': 'New York', 'zip_code': '10023', 'country': 'US', 'state': 'NY', 'display_address': ['307 Amsterdam Ave', 'New York, NY 10023']}, 'phone': '+12124333999', 'display_phone': '(212) 433-3999', 'distance': 8372.40933719598}, {'id': 'FgPvSR_42MtGKy0_n055iw', 'alias': 'double-chicken-please-new-york', 'name': 'Double Chicken Please', 'image_url': 'https://s3-media4.fl.yelpcdn.com/bphoto/A7EJl6APwPzsbePi3fjDeg/o.jpg', 'is_closed': False, 'url': 'https://www.yelp.com/biz/double-chicken-please-new-york?adjust_creative=cM1zrjoabjXir-vOTu86eg&utm_campaign=yelp_api_v3&utm_medium=api_v3_business_search&utm_source=cM1zrjoabjXir-vOTu86eg', 'review_count': 590, 'categories': [{'alias': 'cocktailbars', 'title': 'Cocktail Bars'}, {'alias': 'burgers', 'title': 'Burgers'}, {'alias': 'sandwiches', 'title': 'Sandwiches'}], 'rating': 4.5, 'coordinates': {'latitude': 40.719584, 'longitude': -73.990486}, 'transactions': ['pickup', 'delivery'], 'price': '$$$', 'location': {'address1': '115 Allen St', 'address2': None, 'address3': '', 'city': 'New York', 'zip_code': '10002', 'country': 'US', 'state': 'NY', 'display_address': ['115 Allen St', 'New York, NY 10002']}, 'phone': '+16466785452', 'display_phone': '(646) 678-5452', 'distance': 1592.6679656244833}, {'id': 'iTj5T_jPYvznd1QTgs7NZw', 'alias': 'nai-new-york', 'name': 'Nai ', 'image_url': 'https://s3-media2.fl.yelpcdn.com/bphoto/YOINY6MFVayDl9v_M3RH8A/o.jpg', 'is_closed': False, 'url': 'https://www.yelp.com/biz/nai-new-york?adjust_creative=cM1zrjoabjXir-vOTu86eg&utm_campaign=yelp_api_v3&utm_medium=api_v3_business_search&utm_source=cM1zrjoabjXir-vOTu86eg', 'review_count': 1095, 'categories': [{'alias': 'tapasmallplates', 'title': 'Tapas/Small Plates'}, {'alias': 'spanish', 'title': 'Spanish'}], 'rating': 4.5, 'coordinates': {'latitude': 40.726512, 'longitude': -73.988796}, 'transactions': ['delivery'], 'price': '$$$', 'location': {'address1': '84 2nd Ave', 'address2': None, 'address3': '', 'city': 'New York', 'zip_code': '10003', 'country': 'US', 'state': 'NY', 'display_address': ['84 2nd Ave', 'New York, NY 10003']}, 'phone': '+12126771030', 'display_phone': '(212) 677-1030', 'distance': 2377.6711888511013}, {'id': 'RfxOtJ4SQmEeVX_XjFLWUQ', 'alias': 'otis-brooklyn-2', 'name': 'Otis', 'image_url': 'https://s3-media4.fl.yelpcdn.com/bphoto/rC5FzcJOLElAgQvWAcKi9w/o.jpg', 'is_closed': False, 'url': 'https://www.yelp.com/biz/otis-brooklyn-2?adjust_creative=cM1zrjoabjXir-vOTu86eg&utm_campaign=yelp_api_v3&utm_medium=api_v3_business_search&utm_source=cM1zrjoabjXir-vOTu86eg', 'review_count': 549, 'categories': [{'alias': 'newamerican', 'title': 'New American'}, {'alias': 'cocktailbars', 'title': 'Cocktail Bars'}], 'rating': 5.0, 'coordinates': {'latitude': 40.706011, 'longitude': -73.932598}, 'transactions': ['pickup', 'delivery'], 'price': '$$$', 'location': {'address1': '18 Harrison Pl', 'address2': None, 'address3': '', 'city': 'Brooklyn', 'zip_code': '11206', 'country': 'US', 'state': 'NY', 'display_address': ['18 Harrison Pl', 'Brooklyn, NY 11206']}, 'phone': '+16468860601', 'display_phone': '(646) 886-0601', 'distance': 5198.230452860656}, {'id': 'XsElXaLxUPKquI78poB8yw', 'alias': 'maison-pickle-new-york', 'name': 'Maison Pickle', 'image_url': 'https://s3-media3.fl.yelpcdn.com/bphoto/b4A2TY2SSJTeu7jkwvGJFw/o.jpg', 'is_closed': False, 'url': 'https://www.yelp.com/biz/maison-pickle-new-york?adjust_creative=cM1zrjoabjXir-vOTu86eg&utm_campaign=yelp_api_v3&utm_medium=api_v3_business_search&utm_source=cM1zrjoabjXir-vOTu86eg', 'review_count': 1848, 'categories': [{'alias': 'cocktailbars', 'title': 'Cocktail Bars'}, {'alias': 'comfortfood', 'title': 'Comfort Food'}, {'alias': 'breakfast_brunch', 'title': 'Breakfast & Brunch'}], 'rating': 4.5, 'coordinates': {'latitude': 40.7870473, 'longitude': -73.9781361}, 'transactions': ['pickup', 'delivery'], 'price': '$$', 'location': {'address1': '2315 Broadway', 'address2': '', 'address3': None, 'city': 'New York', 'zip_code': '10024', 'country': 'US', 'state': 'NY', 'display_address': ['2315 Broadway', 'New York, NY 10024']}, 'phone': '+12124969100', 'display_phone': '(212) 496-9100', 'distance': 9163.866806804153}, {'id': 'Xjswj531-FkRZPpcccU6kQ', 'alias': 'vida-verde-new-york', 'name': 'Vida Verde', 'image_url': 'https://s3-media2.fl.yelpcdn.com/bphoto/7GRTlHLkohNPrnNVETi1IQ/o.jpg', 'is_closed': False, 'url': 'https://www.yelp.com/biz/vida-verde-new-york?adjust_creative=cM1zrjoabjXir-vOTu86eg&utm_campaign=yelp_api_v3&utm_medium=api_v3_business_search&utm_source=cM1zrjoabjXir-vOTu86eg', 'review_count': 1625, 'categories': [{'alias': 'cocktailbars', 'title': 'Cocktail Bars'}, {'alias': 'mexican', 'title': 'Mexican'}, {'alias': 'venues', 'title': 'Venues & Event Spaces'}], 'rating': 4.5, 'coordinates': {'latitude': 40.7649503286729, 'longitude': -73.9828372257363}, 'transactions': ['pickup', 'delivery'], 'price': '$$', 'location': {'address1': '248 W 55th St', 'address2': '', 'address3': None, 'city': 'New York', 'zip_code': '10019', 'country': 'US', 'state': 'NY', 'display_address': ['248 W 55th St', 'New York, NY 10019']}, 'phone': '+16466570565', 'display_phone': '(646) 657-0565', 'distance': 6675.373290350414}, {'id': 'fVsH6QIJPzXpVbgmeiolsA', 'alias': 'jungsik-new-york', 'name': 'Jungsik', 'image_url': 'https://s3-media1.fl.yelpcdn.com/bphoto/_ncio5vx-9Xtd_7epbLB-g/o.jpg', 'is_closed': False, 'url': 'https://www.yelp.com/biz/jungsik-new-york?adjust_creative=cM1zrjoabjXir-vOTu86eg&utm_campaign=yelp_api_v3&utm_medium=api_v3_business_search&utm_source=cM1zrjoabjXir-vOTu86eg', 'review_count': 769, 'categories': [{'alias': 'korean', 'title': 'Korean'}], 'rating': 4.5, 'coordinates': {'latitude': 40.7188032533572, 'longitude': -74.0090829725856}, 'transactions': [], 'price': '$$$$', 'location': {'address1': '2 Harrison St', 'address2': '', 'address3': '', 'city': 'New York', 'zip_code': '10013', 'country': 'US', 'state': 'NY', 'display_address': ['2 Harrison St', 'New York, NY 10013']}, 'phone': '+12122190900', 'display_phone': '(212) 219-0900', 'distance': 1932.2276428730465}, {'id': 'pBNMZp_tKCAfRNx7-ybcHQ', 'alias': 'calle-dao-chelsea-new-york-3', 'name': 'Calle Dao Chelsea', 'image_url': 'https://s3-media1.fl.yelpcdn.com/bphoto/OI1LX38k0O11bu0ZLVZFaQ/o.jpg', 'is_closed': False, 'url': 'https://www.yelp.com/biz/calle-dao-chelsea-new-york-3?adjust_creative=cM1zrjoabjXir-vOTu86eg&utm_campaign=yelp_api_v3&utm_medium=api_v3_business_search&utm_source=cM1zrjoabjXir-vOTu86eg', 'review_count': 1072, 'categories': [{'alias': 'cuban', 'title': 'Cuban'}, {'alias': 'chinese', 'title': 'Chinese'}, {'alias': 'asianfusion', 'title': 'Asian Fusion'}], 'rating': 4.5, 'coordinates': {'latitude': 40.74765439999999, 'longitude': -74.00352547055276}, 'transactions': ['pickup', 'delivery'], 'price': '$$', 'location': {'address1': '461 W 23rd St', 'address2': '', 'address3': None, 'city': 'New York', 'zip_code': '10011', 'country': 'US', 'state': 'NY', 'display_address': ['461 W 23rd St', 'New York, NY 10011']}, 'phone': '+12124144104', 'display_phone': '(212) 414-4104', 'distance': 4746.917025282627}, {'id': 'FlZ1zdVEKWv7dwqm8Uw8-w', 'alias': 'raku-new-york-7', 'name': 'Raku', 'image_url': 'https://s3-media4.fl.yelpcdn.com/bphoto/GEbZnH1jR4n7D5WOJ3urPg/o.jpg', 'is_closed': False, 'url': 'https://www.yelp.com/biz/raku-new-york-7?adjust_creative=cM1zrjoabjXir-vOTu86eg&utm_campaign=yelp_api_v3&utm_medium=api_v3_business_search&utm_source=cM1zrjoabjXir-vOTu86eg', 'review_count': 1608, 'categories': [{'alias': 'japanese', 'title': 'Japanese'}, {'alias': 'noodles', 'title': 'Noodles'}], 'rating': 4.5, 'coordinates': {'latitude': 40.7264988089246, 'longitude': -73.9866526052356}, 'transactions': ['pickup', 'delivery'], 'price': '$$', 'location': {'address1': '342 E 6th St', 'address2': '', 'address3': '', 'city': 'New York', 'zip_code': '10003', 'country': 'US', 'state': 'NY', 'display_address': ['342 E 6th St', 'New York, NY 10003']}, 'phone': '+12122281324', 'display_phone': '(212) 228-1324', 'distance': 2416.6027147072045}, {'id': 'h0pRCiJDrCN7tm3VX5tILQ', 'alias': 'chili-new-york', 'name': 'CHILI', 'image_url': 'https://s3-media2.fl.yelpcdn.com/bphoto/kXEGv1n69TKeZuvkQxyKGw/o.jpg', 'is_closed': False, 'url': 'https://www.yelp.com/biz/chili-new-york?adjust_creative=cM1zrjoabjXir-vOTu86eg&utm_campaign=yelp_api_v3&utm_medium=api_v3_business_search&utm_source=cM1zrjoabjXir-vOTu86eg', 'review_count': 747, 'categories': [{'alias': 'szechuan', 'title': 'Szechuan'}, {'alias': 'dimsum', 'title': 'Dim Sum'}, {'alias': 'cocktailbars', 'title': 'Cocktail Bars'}], 'rating': 4.5, 'coordinates': {'latitude': 40.75002, 'longitude': -73.98215}, 'transactions': ['pickup', 'delivery'], 'price': '$$', 'location': {'address1': '13 E 37th St', 'address2': None, 'address3': '', 'city': 'New York', 'zip_code': '10016', 'country': 'US', 'state': 'NY', 'display_address': ['13 E 37th St', 'New York, NY 10016']}, 'phone': '+16468820666', 'display_phone': '(646) 882-0666', 'distance': 5060.03531662798}, {'id': 'oTL_nPII6x0HfPVpEQklUg', 'alias': 'planta-queen-nomad-new-york', 'name': 'PLANTA Queen Nomad', 'image_url': 'https://s3-media3.fl.yelpcdn.com/bphoto/3VhsoOZADtBaCLVNF--NnA/o.jpg', 'is_closed': False, 'url': 'https://www.yelp.com/biz/planta-queen-nomad-new-york?adjust_creative=cM1zrjoabjXir-vOTu86eg&utm_campaign=yelp_api_v3&utm_medium=api_v3_business_search&utm_source=cM1zrjoabjXir-vOTu86eg', 'review_count': 701, 'categories': [{'alias': 'vegetarian', 'title': 'Vegetarian'}, {'alias': 'sushi', 'title': 'Sushi Bars'}, {'alias': 'asianfusion', 'title': 'Asian Fusion'}], 'rating': 4.5, 'coordinates': {'latitude': 40.744435, 'longitude': -73.98832}, 'transactions': ['pickup', 'delivery'], 'price': '$$', 'location': {'address1': '15 W 27th St', 'address2': None, 'address3': None, 'city': 'New York', 'zip_code': '10001', 'country': 'US', 'state': 'NY', 'display_address': ['15 W 27th St', 'New York, NY 10001']}, 'phone': '+19176757700', 'display_phone': '(917) 675-7700', 'distance': 4357.073704322944}, {'id': 'pfmAcS-g6SiNG0KlLvrqnA', 'alias': 'beauty-and-essex-new-york-city', 'name': 'Beauty & Essex', 'image_url': 'https://s3-media3.fl.yelpcdn.com/bphoto/T0KCvQyqHSClgUQhO02slQ/o.jpg', 'is_closed': False, 'url': 'https://www.yelp.com/biz/beauty-and-essex-new-york-city?adjust_creative=cM1zrjoabjXir-vOTu86eg&utm_campaign=yelp_api_v3&utm_medium=api_v3_business_search&utm_source=cM1zrjoabjXir-vOTu86eg', 'review_count': 3895, 'categories': [{'alias': 'newamerican', 'title': 'New American'}], 'rating': 4.0, 'coordinates': {'latitude': 40.720434786101286, 'longitude': -73.98686057623863}, 'transactions': ['pickup', 'delivery'], 'price': '$$$', 'location': {'address1': '146 Essex St', 'address2': None, 'address3': None, 'city': 'New York City', 'zip_code': '10002', 'country': 'US', 'state': 'NY', 'display_address': ['146 Essex St', 'New York City, NY 10002']}, 'phone': '+12126140146', 'display_phone': '(212) 614-0146', 'distance': 1769.2978508996712}, {'id': 'E9NMNWvV70HV5gB369N0EA', 'alias': 'nerai-new-york', 'name': 'Nerai', 'image_url': 'https://s3-media3.fl.yelpcdn.com/bphoto/c1ApdiUwJ9MDh4x_eLwBPw/o.jpg', 'is_closed': False, 'url': 'https://www.yelp.com/biz/nerai-new-york?adjust_creative=cM1zrjoabjXir-vOTu86eg&utm_campaign=yelp_api_v3&utm_medium=api_v3_business_search&utm_source=cM1zrjoabjXir-vOTu86eg', 'review_count': 708, 'categories': [{'alias': 'greek', 'title': 'Greek'}, {'alias': 'seafood', 'title': 'Seafood'}, {'alias': 'mediterranean', 'title': 'Mediterranean'}], 'rating': 4.5, 'coordinates': {'latitude': 40.7602, 'longitude': -73.97308}, 'transactions': ['pickup', 'delivery'], 'price': '$$$', 'location': {'address1': '55 E 54th St', 'address2': None, 'address3': '', 'city': 'New York', 'zip_code': '10022', 'country': 'US', 'state': 'NY', 'display_address': ['55 E 54th St', 'New York, NY 10022']}, 'phone': '+12127595554', 'display_phone': '(212) 759-5554', 'distance': 6346.478371459573}, {'id': 'e5wK3I_THzF4Ce_OgoSCQw', 'alias': 'mokyo-new-york-2', 'name': 'Mokyo', 'image_url': 'https://s3-media2.fl.yelpcdn.com/bphoto/tIO2leoOqXxL6E-C1fwJvw/o.jpg', 'is_closed': False, 'url': 'https://www.yelp.com/biz/mokyo-new-york-2?adjust_creative=cM1zrjoabjXir-vOTu86eg&utm_campaign=yelp_api_v3&utm_medium=api_v3_business_search&utm_source=cM1zrjoabjXir-vOTu86eg', 'review_count': 356, 'categories': [{'alias': 'korean', 'title': 'Korean'}, {'alias': 'tapasmallplates', 'title': 'Tapas/Small Plates'}, {'alias': 'cocktailbars', 'title': 'Cocktail Bars'}], 'rating': 4.5, 'coordinates': {'latitude': 40.72714401116084, 'longitude': -73.98395721296154}, 'transactions': ['pickup', 'delivery'], 'location': {'address1': '109 St Marks Pl', 'address2': '', 'address3': None, 'city': 'New York', 'zip_code': '10009', 'country': 'US', 'state': 'NY', 'display_address': ['109 St Marks Pl', 'New York, NY 10009']}, 'phone': '', 'display_phone': '', 'distance': 2553.90929951772}, {'id': 'XgiG7K7ubHsj2JJ-c2sXnw', 'alias': 'thai-diner-new-york', 'name': 'Thai Diner', 'image_url': 'https://s3-media3.fl.yelpcdn.com/bphoto/ETLYsc6NuurL0X3aLpzrcw/o.jpg', 'is_closed': False, 'url': 'https://www.yelp.com/biz/thai-diner-new-york?adjust_creative=cM1zrjoabjXir-vOTu86eg&utm_campaign=yelp_api_v3&utm_medium=api_v3_business_search&utm_source=cM1zrjoabjXir-vOTu86eg', 'review_count': 814, 'categories': [{'alias': 'thai', 'title': 'Thai'}], 'rating': 4.0, 'coordinates': {'latitude': 40.72071042964739, 'longitude': -73.9956057}, 'transactions': ['delivery'], 'price': '$$', 'location': {'address1': '186 Mott St', 'address2': None, 'address3': None, 'city': 'New York', 'zip_code': '10012', 'country': 'US', 'state': 'NY', 'display_address': ['186 Mott St', 'New York, NY 10012']}, 'phone': '+16465594140', 'display_phone': '(646) 559-4140', 'distance': 1690.0745598587491}, {'id': '6Ct7OeTRn4caY9g0swFBsw', 'alias': 'la-contenta-new-york', 'name': 'La Contenta', 'image_url': 'https://s3-media2.fl.yelpcdn.com/bphoto/FwZAyPgdKdPGQ8aAGKh3-w/o.jpg', 'is_closed': False, 'url': 'https://www.yelp.com/biz/la-contenta-new-york?adjust_creative=cM1zrjoabjXir-vOTu86eg&utm_campaign=yelp_api_v3&utm_medium=api_v3_business_search&utm_source=cM1zrjoabjXir-vOTu86eg', 'review_count': 927, 'categories': [{'alias': 'mexican', 'title': 'Mexican'}, {'alias': 'bars', 'title': 'Bars'}, {'alias': 'breakfast_brunch', 'title': 'Breakfast & Brunch'}], 'rating': 4.5, 'coordinates': {'latitude': 40.71873, 'longitude': -73.98691}, 'transactions': ['pickup', 'delivery'], 'price': '$$', 'location': {'address1': '102 Norfolk St', 'address2': '', 'address3': '', 'city': 'New York', 'zip_code': '10002', 'country': 'US', 'state': 'NY', 'display_address': ['102 Norfolk St', 'New York, NY 10002']}, 'phone': '+12124324180', 'display_phone': '(212) 432-4180', 'distance': 1593.9475165549418}, {'id': 'pQuZDnefX038xurT1BhDXA', 'alias': 'keens-steakhouse-new-york', 'name': 'Keens Steakhouse', 'image_url': 'https://s3-media3.fl.yelpcdn.com/bphoto/rLz9cguf52vXFq5uE-Be7A/o.jpg', 'is_closed': False, 'url': 'https://www.yelp.com/biz/keens-steakhouse-new-york?adjust_creative=cM1zrjoabjXir-vOTu86eg&utm_campaign=yelp_api_v3&utm_medium=api_v3_business_search&utm_source=cM1zrjoabjXir-vOTu86eg', 'review_count': 3187, 'categories': [{'alias': 'steak', 'title': 'Steakhouses'}, {'alias': 'desserts', 'title': 'Desserts'}, {'alias': 'pubs', 'title': 'Pubs'}], 'rating': 4.0, 'coordinates': {'latitude': 40.75071, 'longitude': -73.98652}, 'transactions': ['delivery'], 'price': '$$$$', 'location': {'address1': '72 W 36th St', 'address2': '', 'address3': '', 'city': 'New York', 'zip_code': '10018', 'country': 'US', 'state': 'NY', 'display_address': ['72 W 36th St', 'New York, NY 10018']}, 'phone': '+12129473636', 'display_phone': '(212) 947-3636', 'distance': 5060.288143299038}, {'id': 'wx9mXol6jOrUoAK4vaFS9Q', 'alias': 'mission-ceviche-new-york-3', 'name': 'Mission Ceviche', 'image_url': 'https://s3-media3.fl.yelpcdn.com/bphoto/hvTr3j8Z-TNjZd3EQrcmbA/o.jpg', 'is_closed': False, 'url': 'https://www.yelp.com/biz/mission-ceviche-new-york-3?adjust_creative=cM1zrjoabjXir-vOTu86eg&utm_campaign=yelp_api_v3&utm_medium=api_v3_business_search&utm_source=cM1zrjoabjXir-vOTu86eg', 'review_count': 943, 'categories': [{'alias': 'peruvian', 'title': 'Peruvian'}], 'rating': 4.5, 'coordinates': {'latitude': 40.7692325, 'longitude': -73.9578759}, 'transactions': ['pickup', 'delivery'], 'price': '$$$$', 'location': {'address1': '1400 2nd Ave', 'address2': '', 'address3': None, 'city': 'New York', 'zip_code': '10021', 'country': 'US', 'state': 'NY', 'display_address': ['1400 2nd Ave', 'New York, NY 10021']}, 'phone': '+12126500014', 'display_phone': '(212) 650-0014', 'distance': 7703.772071685194}, {'id': 'YvWQMlMjtYmVmheH97tTlQ', 'alias': 'crab-house-all-you-can-eat-seafood-new-york', 'name': 'Crab House All You Can Eat Seafood', 'image_url': 'https://s3-media2.fl.yelpcdn.com/bphoto/1J0qtJbyF3aYyTobEOzjgg/o.jpg', 'is_closed': False, 'url': 'https://www.yelp.com/biz/crab-house-all-you-can-eat-seafood-new-york?adjust_creative=cM1zrjoabjXir-vOTu86eg&utm_campaign=yelp_api_v3&utm_medium=api_v3_business_search&utm_source=cM1zrjoabjXir-vOTu86eg', 'review_count': 954, 'categories': [{'alias': 'buffets', 'title': 'Buffets'}, {'alias': 'seafood', 'title': 'Seafood'}, {'alias': 'cajun', 'title': 'Cajun/Creole'}], 'rating': 4.5, 'coordinates': {'latitude': 40.759664, 'longitude': -73.969776}, 'transactions': ['pickup', 'delivery'], 'price': '$$$$', 'location': {'address1': '135 E 55th St', 'address2': None, 'address3': '', 'city': 'New York', 'zip_code': '10022', 'country': 'US', 'state': 'NY', 'display_address': ['135 E 55th St', 'New York, NY 10022']}, 'phone': '+12129330264', 'display_phone': '(212) 933-0264', 'distance': 6370.293102234111}], 'total': 15000, 'region': {'center': {'longitude': -73.99429321289062, 'latitude': 40.70544486444615}}}\n",
      "{'businesses': [{'id': 'pk89jzL1RsE9U0thf_z6tw', 'alias': 'locanda-verde-new-york', 'name': 'Locanda Verde', 'image_url': 'https://s3-media2.fl.yelpcdn.com/bphoto/jQ7yiW8VycqVXkozFiYM8Q/o.jpg', 'is_closed': False, 'url': 'https://www.yelp.com/biz/locanda-verde-new-york?adjust_creative=cM1zrjoabjXir-vOTu86eg&utm_campaign=yelp_api_v3&utm_medium=api_v3_business_search&utm_source=cM1zrjoabjXir-vOTu86eg', 'review_count': 1857, 'categories': [{'alias': 'italian', 'title': 'Italian'}, {'alias': 'cocktailbars', 'title': 'Cocktail Bars'}, {'alias': 'breakfast_brunch', 'title': 'Breakfast & Brunch'}], 'rating': 4.0, 'coordinates': {'latitude': 40.7198601300801, 'longitude': -74.010039072422}, 'transactions': ['delivery', 'pickup'], 'price': '$$$', 'location': {'address1': '377 Greenwich St', 'address2': '', 'address3': '', 'city': 'New York', 'zip_code': '10013', 'country': 'US', 'state': 'NY', 'display_address': ['377 Greenwich St', 'New York, NY 10013']}, 'phone': '+12129253797', 'display_phone': '(212) 925-3797', 'distance': 2074.0278096546217}, {'id': 'YvWQMlMjtYmVmheH97tTlQ', 'alias': 'crab-house-all-you-can-eat-seafood-new-york', 'name': 'Crab House All You Can Eat Seafood', 'image_url': 'https://s3-media2.fl.yelpcdn.com/bphoto/1J0qtJbyF3aYyTobEOzjgg/o.jpg', 'is_closed': False, 'url': 'https://www.yelp.com/biz/crab-house-all-you-can-eat-seafood-new-york?adjust_creative=cM1zrjoabjXir-vOTu86eg&utm_campaign=yelp_api_v3&utm_medium=api_v3_business_search&utm_source=cM1zrjoabjXir-vOTu86eg', 'review_count': 954, 'categories': [{'alias': 'buffets', 'title': 'Buffets'}, {'alias': 'seafood', 'title': 'Seafood'}, {'alias': 'cajun', 'title': 'Cajun/Creole'}], 'rating': 4.5, 'coordinates': {'latitude': 40.759664, 'longitude': -73.969776}, 'transactions': ['pickup', 'delivery'], 'price': '$$$$', 'location': {'address1': '135 E 55th St', 'address2': None, 'address3': '', 'city': 'New York', 'zip_code': '10022', 'country': 'US', 'state': 'NY', 'display_address': ['135 E 55th St', 'New York, NY 10022']}, 'phone': '+12129330264', 'display_phone': '(212) 933-0264', 'distance': 6370.293102234111}, {'id': 'xZ96vaoL-cQjfotmUKtjJQ', 'alias': 'barn-joo-35-new-york', 'name': 'Barn Joo 35', 'image_url': 'https://s3-media1.fl.yelpcdn.com/bphoto/R2On3eNr3a2MjgtrTCp0pA/o.jpg', 'is_closed': False, 'url': 'https://www.yelp.com/biz/barn-joo-35-new-york?adjust_creative=cM1zrjoabjXir-vOTu86eg&utm_campaign=yelp_api_v3&utm_medium=api_v3_business_search&utm_source=cM1zrjoabjXir-vOTu86eg', 'review_count': 2433, 'categories': [{'alias': 'korean', 'title': 'Korean'}, {'alias': 'gastropubs', 'title': 'Gastropubs'}, {'alias': 'tapasmallplates', 'title': 'Tapas/Small Plates'}], 'rating': 4.0, 'coordinates': {'latitude': 40.74964, 'longitude': -73.98582}, 'transactions': ['pickup', 'delivery'], 'price': '$$', 'location': {'address1': '34 W 35th St', 'address2': '', 'address3': '', 'city': 'New York', 'zip_code': '10001', 'country': 'US', 'state': 'NY', 'display_address': ['34 W 35th St', 'New York, NY 10001']}, 'phone': '+12125644430', 'display_phone': '(212) 564-4430', 'distance': 4957.058995250786}, {'id': 'axqp3pGJXnTLgq2QrPyDyQ', 'alias': 'benemon-new-york', 'name': 'Benemon', 'image_url': 'https://s3-media3.fl.yelpcdn.com/bphoto/5ZRHsFgkyoSzac8ofvhvvg/o.jpg', 'is_closed': False, 'url': 'https://www.yelp.com/biz/benemon-new-york?adjust_creative=cM1zrjoabjXir-vOTu86eg&utm_campaign=yelp_api_v3&utm_medium=api_v3_business_search&utm_source=cM1zrjoabjXir-vOTu86eg', 'review_count': 723, 'categories': [{'alias': 'japanese', 'title': 'Japanese'}, {'alias': 'tapasmallplates', 'title': 'Tapas/Small Plates'}, {'alias': 'cocktailbars', 'title': 'Cocktail Bars'}], 'rating': 4.5, 'coordinates': {'latitude': 40.72551, 'longitude': -73.98838}, 'transactions': ['pickup', 'delivery'], 'price': '$$', 'location': {'address1': '108 E 4th St', 'address2': None, 'address3': '', 'city': 'New York', 'zip_code': '10003', 'country': 'US', 'state': 'NY', 'display_address': ['108 E 4th St', 'New York, NY 10003']}, 'phone': '+12126143006', 'display_phone': '(212) 614-3006', 'distance': 2277.7549025717317}, {'id': 'zwOAiVT4pAmpNGXzj-t5MA', 'alias': 'lilia-brooklyn', 'name': 'Lilia', 'image_url': 'https://s3-media3.fl.yelpcdn.com/bphoto/iWOHtU8g0O3vvvlTlnM4vA/o.jpg', 'is_closed': False, 'url': 'https://www.yelp.com/biz/lilia-brooklyn?adjust_creative=cM1zrjoabjXir-vOTu86eg&utm_campaign=yelp_api_v3&utm_medium=api_v3_business_search&utm_source=cM1zrjoabjXir-vOTu86eg', 'review_count': 1253, 'categories': [{'alias': 'italian', 'title': 'Italian'}, {'alias': 'cocktailbars', 'title': 'Cocktail Bars'}], 'rating': 4.0, 'coordinates': {'latitude': 40.71757, 'longitude': -73.95236}, 'transactions': ['delivery'], 'price': '$$$$', 'location': {'address1': '567 Union Ave', 'address2': '', 'address3': '', 'city': 'Brooklyn', 'zip_code': '11211', 'country': 'US', 'state': 'NY', 'display_address': ['567 Union Ave', 'Brooklyn, NY 11211']}, 'phone': '+17185763095', 'display_phone': '(718) 576-3095', 'distance': 3770.1586954030954}, {'id': '4XX-zF8h5Lvrr22_tqU6-Q', 'alias': 'the-river-café-brooklyn-3', 'name': 'The River Café', 'image_url': 'https://s3-media4.fl.yelpcdn.com/bphoto/djXq8DWf8bYE9rUC3tcsxA/o.jpg', 'is_closed': False, 'url': 'https://www.yelp.com/biz/the-river-caf%C3%A9-brooklyn-3?adjust_creative=cM1zrjoabjXir-vOTu86eg&utm_campaign=yelp_api_v3&utm_medium=api_v3_business_search&utm_source=cM1zrjoabjXir-vOTu86eg', 'review_count': 1303, 'categories': [{'alias': 'newamerican', 'title': 'New American'}, {'alias': 'wine_bars', 'title': 'Wine Bars'}, {'alias': 'venues', 'title': 'Venues & Event Spaces'}], 'rating': 4.0, 'coordinates': {'latitude': 40.703866713051106, 'longitude': -73.99479360219303}, 'transactions': [], 'price': '$$$$', 'location': {'address1': '1 Water St', 'address2': '', 'address3': '', 'city': 'Brooklyn', 'zip_code': '11201', 'country': 'US', 'state': 'NY', 'display_address': ['1 Water St', 'Brooklyn, NY 11201']}, 'phone': '+17185225200', 'display_phone': '(718) 522-5200', 'distance': 191.92832823636888}, {'id': '3gqKLANaXNsHZnPDjKrcTg', 'alias': 'win-son-brooklyn-4', 'name': 'Win Son', 'image_url': 'https://s3-media1.fl.yelpcdn.com/bphoto/k_A5xz1D62WcHk4oiUuxlw/o.jpg', 'is_closed': False, 'url': 'https://www.yelp.com/biz/win-son-brooklyn-4?adjust_creative=cM1zrjoabjXir-vOTu86eg&utm_campaign=yelp_api_v3&utm_medium=api_v3_business_search&utm_source=cM1zrjoabjXir-vOTu86eg', 'review_count': 775, 'categories': [{'alias': 'taiwanese', 'title': 'Taiwanese'}, {'alias': 'newamerican', 'title': 'New American'}], 'rating': 4.0, 'coordinates': {'latitude': 40.70747, 'longitude': -73.94339}, 'transactions': ['delivery'], 'price': '$$', 'location': {'address1': '159 Graham Ave', 'address2': None, 'address3': '', 'city': 'Brooklyn', 'zip_code': '11206', 'country': 'US', 'state': 'NY', 'display_address': ['159 Graham Ave', 'Brooklyn, NY 11206']}, 'phone': '+13474576010', 'display_phone': '(347) 457-6010', 'distance': 4285.0354774254665}, {'id': 'AIKjw2QLvVNdha3TciJYzg', 'alias': 'boqueria-soho-new-york-2', 'name': 'Boqueria Soho', 'image_url': 'https://s3-media2.fl.yelpcdn.com/bphoto/Kf1_wOw2w0R_SdzMKrYiNw/o.jpg', 'is_closed': False, 'url': 'https://www.yelp.com/biz/boqueria-soho-new-york-2?adjust_creative=cM1zrjoabjXir-vOTu86eg&utm_campaign=yelp_api_v3&utm_medium=api_v3_business_search&utm_source=cM1zrjoabjXir-vOTu86eg', 'review_count': 1261, 'categories': [{'alias': 'spanish', 'title': 'Spanish'}, {'alias': 'tapas', 'title': 'Tapas Bars'}, {'alias': 'tapasmallplates', 'title': 'Tapas/Small Plates'}], 'rating': 4.0, 'coordinates': {'latitude': 40.7249227818105, 'longitude': -74.00215536627918}, 'transactions': ['delivery', 'pickup'], 'price': '$$', 'location': {'address1': '171 Spring St', 'address2': '', 'address3': '', 'city': 'New York', 'zip_code': '10012', 'country': 'US', 'state': 'NY', 'display_address': ['171 Spring St', 'New York, NY 10012']}, 'phone': '+12123434255', 'display_phone': '(212) 343-4255', 'distance': 2255.00574425852}, {'id': 'Sj3JYCbaEFrAqUzRrenQbg', 'alias': 'jora-long-island-city-5', 'name': 'Jora', 'image_url': 'https://s3-media4.fl.yelpcdn.com/bphoto/7dDVAp1mWjz_PPX88W170w/o.jpg', 'is_closed': False, 'url': 'https://www.yelp.com/biz/jora-long-island-city-5?adjust_creative=cM1zrjoabjXir-vOTu86eg&utm_campaign=yelp_api_v3&utm_medium=api_v3_business_search&utm_source=cM1zrjoabjXir-vOTu86eg', 'review_count': 953, 'categories': [{'alias': 'peruvian', 'title': 'Peruvian'}, {'alias': 'cocktailbars', 'title': 'Cocktail Bars'}], 'rating': 4.5, 'coordinates': {'latitude': 40.74378048345341, 'longitude': -73.95141330235197}, 'transactions': ['delivery', 'pickup'], 'price': '$$$', 'location': {'address1': '47-46 11th St', 'address2': '', 'address3': '', 'city': 'Long Island City', 'zip_code': '11101', 'country': 'US', 'state': 'NY', 'display_address': ['47-46 11th St', 'Long Island City, NY 11101']}, 'phone': '+17183922033', 'display_phone': '(718) 392-2033', 'distance': 5578.048459649403}, {'id': 'QhE50zhSMnQaudpHW1jp7g', 'alias': 'the-tyger-new-york-2', 'name': 'The Tyger', 'image_url': 'https://s3-media1.fl.yelpcdn.com/bphoto/3Tc6UjIZjJqalRwwFpFtJg/o.jpg', 'is_closed': False, 'url': 'https://www.yelp.com/biz/the-tyger-new-york-2?adjust_creative=cM1zrjoabjXir-vOTu86eg&utm_campaign=yelp_api_v3&utm_medium=api_v3_business_search&utm_source=cM1zrjoabjXir-vOTu86eg', 'review_count': 495, 'categories': [{'alias': 'cocktailbars', 'title': 'Cocktail Bars'}, {'alias': 'noodles', 'title': 'Noodles'}, {'alias': 'panasian', 'title': 'Pan Asian'}], 'rating': 4.0, 'coordinates': {'latitude': 40.7189, 'longitude': -73.99942}, 'transactions': ['delivery', 'pickup'], 'price': '$$$', 'location': {'address1': '1 Howard St', 'address2': None, 'address3': None, 'city': 'New York', 'zip_code': '10013', 'country': 'US', 'state': 'NY', 'display_address': ['1 Howard St', 'New York, NY 10013']}, 'phone': '+16463558693', 'display_phone': '(646) 355-8693', 'distance': 1545.9894211008036}, {'id': 'xMUZfoyzyJoTfZxrEZus4Q', 'alias': 'moms-kitchen-and-bar-new-york', 'name': \"Mom's Kitchen & Bar\", 'image_url': 'https://s3-media3.fl.yelpcdn.com/bphoto/2em4dLRX21eieAsYXp_xUw/o.jpg', 'is_closed': False, 'url': 'https://www.yelp.com/biz/moms-kitchen-and-bar-new-york?adjust_creative=cM1zrjoabjXir-vOTu86eg&utm_campaign=yelp_api_v3&utm_medium=api_v3_business_search&utm_source=cM1zrjoabjXir-vOTu86eg', 'review_count': 1867, 'categories': [{'alias': 'comfortfood', 'title': 'Comfort Food'}, {'alias': 'breakfast_brunch', 'title': 'Breakfast & Brunch'}, {'alias': 'bars', 'title': 'Bars'}], 'rating': 4.5, 'coordinates': {'latitude': 40.76247, 'longitude': -73.9901}, 'transactions': ['pickup', 'delivery'], 'price': '$$', 'location': {'address1': '701 9th Ave', 'address2': None, 'address3': '', 'city': 'New York', 'zip_code': '10019', 'country': 'US', 'state': 'NY', 'display_address': ['701 9th Ave', 'New York, NY 10019']}, 'phone': '+16466570080', 'display_phone': '(646) 657-0080', 'distance': 6337.506623388213}, {'id': 'vscYK65F_MUH8WqACKSdog', 'alias': 'the-musket-room-new-york', 'name': 'The Musket Room', 'image_url': 'https://s3-media2.fl.yelpcdn.com/bphoto/iescG5QWEy_kDlN7ERiPfg/o.jpg', 'is_closed': False, 'url': 'https://www.yelp.com/biz/the-musket-room-new-york?adjust_creative=cM1zrjoabjXir-vOTu86eg&utm_campaign=yelp_api_v3&utm_medium=api_v3_business_search&utm_source=cM1zrjoabjXir-vOTu86eg', 'review_count': 589, 'categories': [{'alias': 'newamerican', 'title': 'New American'}, {'alias': 'cocktailbars', 'title': 'Cocktail Bars'}, {'alias': 'wine_bars', 'title': 'Wine Bars'}], 'rating': 4.0, 'coordinates': {'latitude': 40.72392, 'longitude': -73.99378}, 'transactions': ['delivery'], 'price': '$$$$', 'location': {'address1': '265 Elizabeth St', 'address2': '', 'address3': '', 'city': 'New York', 'zip_code': '10012', 'country': 'US', 'state': 'NY', 'display_address': ['265 Elizabeth St', 'New York, NY 10012']}, 'phone': '+12122190764', 'display_phone': '(212) 219-0764', 'distance': 2042.898310063101}, {'id': '_gzXNKarTxagBp6_PkmQKw', 'alias': 'gotham-restaurant-new-york-city', 'name': 'Gotham Restaurant', 'image_url': 'https://s3-media3.fl.yelpcdn.com/bphoto/eK53bvWBsJbt5-jF6wEkww/o.jpg', 'is_closed': False, 'url': 'https://www.yelp.com/biz/gotham-restaurant-new-york-city?adjust_creative=cM1zrjoabjXir-vOTu86eg&utm_campaign=yelp_api_v3&utm_medium=api_v3_business_search&utm_source=cM1zrjoabjXir-vOTu86eg', 'review_count': 1692, 'categories': [{'alias': 'newamerican', 'title': 'New American'}, {'alias': 'bars', 'title': 'Bars'}], 'rating': 4.0, 'coordinates': {'latitude': 40.73419592274525, 'longitude': -73.99369554442922}, 'transactions': ['delivery', 'pickup'], 'price': '$$$$', 'location': {'address1': '12 E 12th St', 'address2': 'Flr 1', 'address3': '', 'city': 'New York City', 'zip_code': '10003', 'country': 'US', 'state': 'NY', 'display_address': ['12 E 12th St', 'Flr 1', 'New York City, NY 10003']}, 'phone': '+12123808660', 'display_phone': '(212) 380-8660', 'distance': 3186.159311750554}, {'id': 'k5NAz3-goMXKoUqPfOZ1Hw', 'alias': 'the-smith-new-york', 'name': 'The Smith', 'image_url': 'https://s3-media1.fl.yelpcdn.com/bphoto/vi1OGGZhHBnuB8pEyiuaYQ/o.jpg', 'is_closed': False, 'url': 'https://www.yelp.com/biz/the-smith-new-york?adjust_creative=cM1zrjoabjXir-vOTu86eg&utm_campaign=yelp_api_v3&utm_medium=api_v3_business_search&utm_source=cM1zrjoabjXir-vOTu86eg', 'review_count': 2197, 'categories': [{'alias': 'newamerican', 'title': 'New American'}, {'alias': 'breakfast_brunch', 'title': 'Breakfast & Brunch'}, {'alias': 'cocktailbars', 'title': 'Cocktail Bars'}], 'rating': 4.0, 'coordinates': {'latitude': 40.73101549145275, 'longitude': -73.9886217}, 'transactions': ['delivery', 'pickup'], 'price': '$$', 'location': {'address1': '55 3rd Ave', 'address2': '', 'address3': '', 'city': 'New York', 'zip_code': '10003', 'country': 'US', 'state': 'NY', 'display_address': ['55 3rd Ave', 'New York, NY 10003']}, 'phone': '+12124209800', 'display_phone': '(212) 420-9800', 'distance': 2871.7854771486172}, {'id': 'IOHaEgK1zDvUvB3SfKuGCw', 'alias': 'parker-and-quinn-new-york', 'name': 'Parker & Quinn', 'image_url': 'https://s3-media4.fl.yelpcdn.com/bphoto/6xuN0yyAi9PaxSAVVAgfrg/o.jpg', 'is_closed': False, 'url': 'https://www.yelp.com/biz/parker-and-quinn-new-york?adjust_creative=cM1zrjoabjXir-vOTu86eg&utm_campaign=yelp_api_v3&utm_medium=api_v3_business_search&utm_source=cM1zrjoabjXir-vOTu86eg', 'review_count': 1682, 'categories': [{'alias': 'newamerican', 'title': 'New American'}, {'alias': 'bars', 'title': 'Bars'}, {'alias': 'breakfast_brunch', 'title': 'Breakfast & Brunch'}], 'rating': 4.0, 'coordinates': {'latitude': 40.753260891087095, 'longitude': -73.9854967705314}, 'transactions': ['delivery', 'pickup'], 'price': '$$', 'location': {'address1': '64 W 39th St', 'address2': '', 'address3': '', 'city': 'New York', 'zip_code': '10018', 'country': 'US', 'state': 'NY', 'display_address': ['64 W 39th St', 'New York, NY 10018']}, 'phone': '+12127290277', 'display_phone': '(212) 729-0277', 'distance': 5356.901944735863}, {'id': 'BKMCAYb9EAivUm3p-vrC9w', 'alias': 'khe-yo-new-york', 'name': 'Khe-Yo', 'image_url': 'https://s3-media4.fl.yelpcdn.com/bphoto/yTPol4HKgtAa4FUhSctZMQ/o.jpg', 'is_closed': False, 'url': 'https://www.yelp.com/biz/khe-yo-new-york?adjust_creative=cM1zrjoabjXir-vOTu86eg&utm_campaign=yelp_api_v3&utm_medium=api_v3_business_search&utm_source=cM1zrjoabjXir-vOTu86eg', 'review_count': 970, 'categories': [{'alias': 'laotian', 'title': 'Laotian'}], 'rating': 4.0, 'coordinates': {'latitude': 40.716906, 'longitude': -74.008587}, 'transactions': ['delivery', 'pickup'], 'price': '$$', 'location': {'address1': '157 Duane St', 'address2': '', 'address3': '', 'city': 'New York', 'zip_code': '10013', 'country': 'US', 'state': 'NY', 'display_address': ['157 Duane St', 'New York, NY 10013']}, 'phone': '+12125871089', 'display_phone': '(212) 587-1089', 'distance': 1747.384723547762}, {'id': '0dDCDQz7DrKkSvu9h2hcQw', 'alias': 'chow-house-new-york', 'name': 'Chow House', 'image_url': 'https://s3-media3.fl.yelpcdn.com/bphoto/kzeClsI9_2tkHqKScotx1Q/o.jpg', 'is_closed': False, 'url': 'https://www.yelp.com/biz/chow-house-new-york?adjust_creative=cM1zrjoabjXir-vOTu86eg&utm_campaign=yelp_api_v3&utm_medium=api_v3_business_search&utm_source=cM1zrjoabjXir-vOTu86eg', 'review_count': 648, 'categories': [{'alias': 'szechuan', 'title': 'Szechuan'}, {'alias': 'noodles', 'title': 'Noodles'}, {'alias': 'soup', 'title': 'Soup'}], 'rating': 4.5, 'coordinates': {'latitude': 40.72915, 'longitude': -74.00072}, 'transactions': ['restaurant_reservation', 'delivery', 'pickup'], 'price': '$$', 'location': {'address1': '181 Bleecker St', 'address2': None, 'address3': '', 'city': 'New York', 'zip_code': '10012', 'country': 'US', 'state': 'NY', 'display_address': ['181 Bleecker St', 'New York, NY 10012']}, 'phone': '+12128371021', 'display_phone': '(212) 837-1021', 'distance': 2682.0146108416398}, {'id': 'PYcL2z9gHj6-ZTlViT9Nqw', 'alias': 'minetta-tavern-new-york', 'name': 'Minetta Tavern', 'image_url': 'https://s3-media1.fl.yelpcdn.com/bphoto/R1ZPWP8V2cHeKm7_EiPJ4A/o.jpg', 'is_closed': False, 'url': 'https://www.yelp.com/biz/minetta-tavern-new-york?adjust_creative=cM1zrjoabjXir-vOTu86eg&utm_campaign=yelp_api_v3&utm_medium=api_v3_business_search&utm_source=cM1zrjoabjXir-vOTu86eg', 'review_count': 2463, 'categories': [{'alias': 'french', 'title': 'French'}, {'alias': 'newamerican', 'title': 'New American'}, {'alias': 'breakfast_brunch', 'title': 'Breakfast & Brunch'}], 'rating': 4.0, 'coordinates': {'latitude': 40.72996, 'longitude': -74.00065}, 'transactions': ['delivery'], 'price': '$$$', 'location': {'address1': '113 Macdougal St', 'address2': '', 'address3': '', 'city': 'New York', 'zip_code': '10012', 'country': 'US', 'state': 'NY', 'display_address': ['113 Macdougal St', 'New York, NY 10012']}, 'phone': '+12124753850', 'display_phone': '(212) 475-3850', 'distance': 2771.545878987071}, {'id': 'x0k5kFArHLijdY8-NEQ7Xg', 'alias': 'bengal-tiger-indian-food-new-york', 'name': 'Bengal Tiger Indian Food', 'image_url': 'https://s3-media2.fl.yelpcdn.com/bphoto/65Q6vtiAqLDVFLrvu0ZdZA/o.jpg', 'is_closed': False, 'url': 'https://www.yelp.com/biz/bengal-tiger-indian-food-new-york?adjust_creative=cM1zrjoabjXir-vOTu86eg&utm_campaign=yelp_api_v3&utm_medium=api_v3_business_search&utm_source=cM1zrjoabjXir-vOTu86eg', 'review_count': 2358, 'categories': [{'alias': 'indpak', 'title': 'Indian'}], 'rating': 4.5, 'coordinates': {'latitude': 40.763167, 'longitude': -73.977131}, 'transactions': ['delivery', 'pickup'], 'price': '$$', 'location': {'address1': '58 W 56th St', 'address2': 'Fl 2', 'address3': '', 'city': 'New York', 'zip_code': '10019', 'country': 'US', 'state': 'NY', 'display_address': ['58 W 56th St', 'Fl 2', 'New York, NY 10019']}, 'phone': '+12122652703', 'display_phone': '(212) 265-2703', 'distance': 6567.829676918613}, {'id': 'X8yEmEDD9ZTkHoIRFqzcRw', 'alias': 'osamil-new-york', 'name': 'Osamil', 'image_url': 'https://s3-media2.fl.yelpcdn.com/bphoto/H6vmivma_q2fk_Vfbo9ZVA/o.jpg', 'is_closed': False, 'url': 'https://www.yelp.com/biz/osamil-new-york?adjust_creative=cM1zrjoabjXir-vOTu86eg&utm_campaign=yelp_api_v3&utm_medium=api_v3_business_search&utm_source=cM1zrjoabjXir-vOTu86eg', 'review_count': 745, 'categories': [{'alias': 'korean', 'title': 'Korean'}, {'alias': 'gastropubs', 'title': 'Gastropubs'}, {'alias': 'tapasmallplates', 'title': 'Tapas/Small Plates'}], 'rating': 4.5, 'coordinates': {'latitude': 40.74697, 'longitude': -73.9864}, 'transactions': ['delivery'], 'price': '$$$', 'location': {'address1': '5 West 31st St', 'address2': None, 'address3': '', 'city': 'New York', 'zip_code': '10001', 'country': 'US', 'state': 'NY', 'display_address': ['5 West 31st St', 'New York, NY 10001']}, 'phone': '+12123004713', 'display_phone': '(212) 300-4713', 'distance': 4652.26660359536}, {'id': '-qxQDGZc8Ejz7MUFlFWyuQ', 'alias': 'francie-brooklyn', 'name': 'Francie', 'image_url': 'https://s3-media2.fl.yelpcdn.com/bphoto/5L_jV9C0M3K0BPrbBhjaoQ/o.jpg', 'is_closed': False, 'url': 'https://www.yelp.com/biz/francie-brooklyn?adjust_creative=cM1zrjoabjXir-vOTu86eg&utm_campaign=yelp_api_v3&utm_medium=api_v3_business_search&utm_source=cM1zrjoabjXir-vOTu86eg', 'review_count': 210, 'categories': [{'alias': 'newamerican', 'title': 'New American'}, {'alias': 'brasseries', 'title': 'Brasseries'}], 'rating': 4.5, 'coordinates': {'latitude': 40.71002578663716, 'longitude': -73.96405744314846}, 'transactions': ['delivery'], 'price': '$$$$', 'location': {'address1': '136 Broadway', 'address2': None, 'address3': '', 'city': 'Brooklyn', 'zip_code': '11249', 'country': 'US', 'state': 'NY', 'display_address': ['136 Broadway', 'Brooklyn, NY 11249']}, 'phone': '+17182187572', 'display_phone': '(718) 218-7572', 'distance': 2594.3617531880454}, {'id': 'mPHPVJ2-8mOR-lFHafrc6w', 'alias': 'evelina-brooklyn-2', 'name': 'Evelina', 'image_url': 'https://s3-media1.fl.yelpcdn.com/bphoto/hG3aShzVvdnbAFm02sQgZw/o.jpg', 'is_closed': False, 'url': 'https://www.yelp.com/biz/evelina-brooklyn-2?adjust_creative=cM1zrjoabjXir-vOTu86eg&utm_campaign=yelp_api_v3&utm_medium=api_v3_business_search&utm_source=cM1zrjoabjXir-vOTu86eg', 'review_count': 384, 'categories': [{'alias': 'italian', 'title': 'Italian'}], 'rating': 4.5, 'coordinates': {'latitude': 40.689722, 'longitude': -73.971003}, 'transactions': ['delivery', 'pickup'], 'price': '$$', 'location': {'address1': '211 Dekalb Ave', 'address2': None, 'address3': '', 'city': 'Brooklyn', 'zip_code': '11205', 'country': 'US', 'state': 'NY', 'display_address': ['211 Dekalb Ave', 'Brooklyn, NY 11205']}, 'phone': '+19292980209', 'display_phone': '(929) 298-0209', 'distance': 2634.2701105554243}, {'id': '4Objcs7HXSGuzpb0SOa-Jw', 'alias': 'family-meal-at-blue-hill-new-york', 'name': 'Family Meal at Blue Hill', 'image_url': 'https://s3-media4.fl.yelpcdn.com/bphoto/6O1odo6ucUAiIiLfyxxKzg/o.jpg', 'is_closed': False, 'url': 'https://www.yelp.com/biz/family-meal-at-blue-hill-new-york?adjust_creative=cM1zrjoabjXir-vOTu86eg&utm_campaign=yelp_api_v3&utm_medium=api_v3_business_search&utm_source=cM1zrjoabjXir-vOTu86eg', 'review_count': 1090, 'categories': [{'alias': 'newamerican', 'title': 'New American'}], 'rating': 4.5, 'coordinates': {'latitude': 40.73204650000005, 'longitude': -73.99966984110456}, 'transactions': [], 'price': '$$$$', 'location': {'address1': '75 Washington Pl', 'address2': '', 'address3': '', 'city': 'New York', 'zip_code': '10011', 'country': 'US', 'state': 'NY', 'display_address': ['75 Washington Pl', 'New York, NY 10011']}, 'phone': '+12125391776', 'display_phone': '(212) 539-1776', 'distance': 2981.8139421873043}, {'id': 'FizBsTIAJwNrImIG1mPDcg', 'alias': 'barn-joo-new-york-3', 'name': 'Barn Joo', 'image_url': 'https://s3-media3.fl.yelpcdn.com/bphoto/3RuoWbbQeQGP_jOMxcJQ9g/o.jpg', 'is_closed': False, 'url': 'https://www.yelp.com/biz/barn-joo-new-york-3?adjust_creative=cM1zrjoabjXir-vOTu86eg&utm_campaign=yelp_api_v3&utm_medium=api_v3_business_search&utm_source=cM1zrjoabjXir-vOTu86eg', 'review_count': 1924, 'categories': [{'alias': 'korean', 'title': 'Korean'}, {'alias': 'cocktailbars', 'title': 'Cocktail Bars'}, {'alias': 'tapasmallplates', 'title': 'Tapas/Small Plates'}], 'rating': 4.0, 'coordinates': {'latitude': 40.73687872208401, 'longitude': -73.99076297177562}, 'transactions': ['delivery', 'pickup'], 'price': '$$', 'location': {'address1': '35 Union Sq W', 'address2': '', 'address3': None, 'city': 'New York', 'zip_code': '10003', 'country': 'US', 'state': 'NY', 'display_address': ['35 Union Sq W', 'New York, NY 10003']}, 'phone': '+16463989663', 'display_phone': '(646) 398-9663', 'distance': 3496.5788182983224}, {'id': '-bdxB20YveudeyL63chscg', 'alias': 'cull-and-pistol-oyster-bar-new-york', 'name': 'Cull & Pistol Oyster Bar', 'image_url': 'https://s3-media4.fl.yelpcdn.com/bphoto/Uvh5Uzb5LusBB2yQjAmYVA/o.jpg', 'is_closed': False, 'url': 'https://www.yelp.com/biz/cull-and-pistol-oyster-bar-new-york?adjust_creative=cM1zrjoabjXir-vOTu86eg&utm_campaign=yelp_api_v3&utm_medium=api_v3_business_search&utm_source=cM1zrjoabjXir-vOTu86eg', 'review_count': 751, 'categories': [{'alias': 'seafood', 'title': 'Seafood'}, {'alias': 'wine_bars', 'title': 'Wine Bars'}], 'rating': 4.5, 'coordinates': {'latitude': 40.742553, 'longitude': -74.006052}, 'transactions': ['delivery'], 'price': '$$', 'location': {'address1': '75 9th Ave', 'address2': '', 'address3': '', 'city': 'New York', 'zip_code': '10011', 'country': 'US', 'state': 'NY', 'display_address': ['75 9th Ave', 'New York, NY 10011']}, 'phone': '+16465681223', 'display_phone': '(646) 568-1223', 'distance': 4233.279864429955}, {'id': 'SULHf6nGQ8sK0UpG1XU30w', 'alias': 'los-tacos-no-1-new-york-3', 'name': 'Los Tacos No.1', 'image_url': 'https://s3-media4.fl.yelpcdn.com/bphoto/5wEe4FCwda16knmBHSsX0Q/o.jpg', 'is_closed': False, 'url': 'https://www.yelp.com/biz/los-tacos-no-1-new-york-3?adjust_creative=cM1zrjoabjXir-vOTu86eg&utm_campaign=yelp_api_v3&utm_medium=api_v3_business_search&utm_source=cM1zrjoabjXir-vOTu86eg', 'review_count': 2917, 'categories': [{'alias': 'tacos', 'title': 'Tacos'}], 'rating': 4.5, 'coordinates': {'latitude': 40.7575067, 'longitude': -73.9877717}, 'transactions': ['delivery'], 'price': '$$', 'location': {'address1': '229 W 43rd St', 'address2': '', 'address3': None, 'city': 'New York', 'zip_code': '10036', 'country': 'US', 'state': 'NY', 'display_address': ['229 W 43rd St', 'New York, NY 10036']}, 'phone': '+12125744696', 'display_phone': '(212) 574-4696', 'distance': 5803.671257634773}, {'id': '8YWLuLUKj0t_0_Xv06UUtw', 'alias': 'yes-apothecary-new-york-4', 'name': \"Ye's Apothecary\", 'image_url': 'https://s3-media1.fl.yelpcdn.com/bphoto/C9kLckBI7NTHBnHV-98qEw/o.jpg', 'is_closed': False, 'url': 'https://www.yelp.com/biz/yes-apothecary-new-york-4?adjust_creative=cM1zrjoabjXir-vOTu86eg&utm_campaign=yelp_api_v3&utm_medium=api_v3_business_search&utm_source=cM1zrjoabjXir-vOTu86eg', 'review_count': 499, 'categories': [{'alias': 'szechuan', 'title': 'Szechuan'}, {'alias': 'speakeasies', 'title': 'Speakeasies'}], 'rating': 4.5, 'coordinates': {'latitude': 40.71945, 'longitude': -73.9898}, 'transactions': [], 'price': '$$$', 'location': {'address1': '119 Orchard St', 'address2': None, 'address3': '', 'city': 'New York', 'zip_code': '10002', 'country': 'US', 'state': 'NY', 'display_address': ['119 Orchard St', 'New York, NY 10002']}, 'phone': '', 'display_phone': '', 'distance': 1591.3798693136603}, {'id': '9fG8-RRh1rzuCKN2TmF-QQ', 'alias': '5ive-spice-new-york-2', 'name': '5ive Spice', 'image_url': 'https://s3-media1.fl.yelpcdn.com/bphoto/Wb_tBXJVLhzwhvwLssnD5A/o.jpg', 'is_closed': False, 'url': 'https://www.yelp.com/biz/5ive-spice-new-york-2?adjust_creative=cM1zrjoabjXir-vOTu86eg&utm_campaign=yelp_api_v3&utm_medium=api_v3_business_search&utm_source=cM1zrjoabjXir-vOTu86eg', 'review_count': 735, 'categories': [{'alias': 'vietnamese', 'title': 'Vietnamese'}, {'alias': 'tacos', 'title': 'Tacos'}, {'alias': 'sandwiches', 'title': 'Sandwiches'}], 'rating': 4.5, 'coordinates': {'latitude': 40.722598, 'longitude': -73.996272}, 'transactions': ['delivery', 'pickup'], 'price': '$$', 'location': {'address1': '227 Mulberry St', 'address2': None, 'address3': '', 'city': 'New York', 'zip_code': '10012', 'country': 'US', 'state': 'NY', 'display_address': ['227 Mulberry St', 'New York, NY 10012']}, 'phone': '+19174092605', 'display_phone': '(917) 409-2605', 'distance': 1907.0352495436118}, {'id': 'jnEv25Y2DosTq2sNnvmC9g', 'alias': 'los-tacos-no-1-new-york', 'name': 'Los Tacos No.1', 'image_url': 'https://s3-media2.fl.yelpcdn.com/bphoto/FU44TYl3PzXsE06G4W5aog/o.jpg', 'is_closed': False, 'url': 'https://www.yelp.com/biz/los-tacos-no-1-new-york?adjust_creative=cM1zrjoabjXir-vOTu86eg&utm_campaign=yelp_api_v3&utm_medium=api_v3_business_search&utm_source=cM1zrjoabjXir-vOTu86eg', 'review_count': 3842, 'categories': [{'alias': 'tacos', 'title': 'Tacos'}], 'rating': 4.5, 'coordinates': {'latitude': 40.7422546402357, 'longitude': -74.0059581}, 'transactions': ['delivery'], 'price': '$$', 'location': {'address1': '75 9th Ave', 'address2': '', 'address3': 'Chelsea Market', 'city': 'New York', 'zip_code': '10011', 'country': 'US', 'state': 'NY', 'display_address': ['75 9th Ave', 'Chelsea Market', 'New York, NY 10011']}, 'phone': '', 'display_phone': '', 'distance': 4199.173831196387}, {'id': 'zGAQqDu0Ak2khVYs9WdQxw', 'alias': 'sushi-nakazawa-new-york', 'name': 'Sushi Nakazawa', 'image_url': 'https://s3-media2.fl.yelpcdn.com/bphoto/oaWPXbX-O9-duVWn50cyvQ/o.jpg', 'is_closed': False, 'url': 'https://www.yelp.com/biz/sushi-nakazawa-new-york?adjust_creative=cM1zrjoabjXir-vOTu86eg&utm_campaign=yelp_api_v3&utm_medium=api_v3_business_search&utm_source=cM1zrjoabjXir-vOTu86eg', 'review_count': 1772, 'categories': [{'alias': 'japanese', 'title': 'Japanese'}, {'alias': 'sushi', 'title': 'Sushi Bars'}], 'rating': 4.5, 'coordinates': {'latitude': 40.7317465228689, 'longitude': -74.0045493828034}, 'transactions': [], 'price': '$$$$', 'location': {'address1': '23 Commerce St', 'address2': '', 'address3': '', 'city': 'New York', 'zip_code': '10014', 'country': 'US', 'state': 'NY', 'display_address': ['23 Commerce St', 'New York, NY 10014']}, 'phone': '+12129242212', 'display_phone': '(212) 924-2212', 'distance': 3039.6722411304963}, {'id': 'EKkHfSYTm266-ZBve3SdgA', 'alias': 'yoon-haeundae-galbi-new-york-2', 'name': 'Yoon Haeundae Galbi', 'image_url': 'https://s3-media1.fl.yelpcdn.com/bphoto/BpXNPvOjoErxD5xnhBaa-A/o.jpg', 'is_closed': False, 'url': 'https://www.yelp.com/biz/yoon-haeundae-galbi-new-york-2?adjust_creative=cM1zrjoabjXir-vOTu86eg&utm_campaign=yelp_api_v3&utm_medium=api_v3_business_search&utm_source=cM1zrjoabjXir-vOTu86eg', 'review_count': 751, 'categories': [{'alias': 'korean', 'title': 'Korean'}, {'alias': 'bbq', 'title': 'Barbeque'}, {'alias': 'steak', 'title': 'Steakhouses'}], 'rating': 4.5, 'coordinates': {'latitude': 40.74996750318778, 'longitude': -73.98443095513923}, 'transactions': [], 'price': '$$$', 'location': {'address1': '8 W 36th St', 'address2': '', 'address3': None, 'city': 'New York', 'zip_code': '10018', 'country': 'US', 'state': 'NY', 'display_address': ['8 W 36th St', 'New York, NY 10018']}, 'phone': '+12126918078', 'display_phone': '(212) 691-8078', 'distance': 5008.522334412078}, {'id': 'H_KyiRhwho8rdlw_R93_0Q', 'alias': 'marea-new-york', 'name': 'Marea', 'image_url': 'https://s3-media1.fl.yelpcdn.com/bphoto/5Wn8lBnTPxx7Krir58WElg/o.jpg', 'is_closed': False, 'url': 'https://www.yelp.com/biz/marea-new-york?adjust_creative=cM1zrjoabjXir-vOTu86eg&utm_campaign=yelp_api_v3&utm_medium=api_v3_business_search&utm_source=cM1zrjoabjXir-vOTu86eg', 'review_count': 2380, 'categories': [{'alias': 'italian', 'title': 'Italian'}, {'alias': 'seafood', 'title': 'Seafood'}, {'alias': 'wine_bars', 'title': 'Wine Bars'}], 'rating': 4.0, 'coordinates': {'latitude': 40.767388, 'longitude': -73.981196}, 'transactions': ['delivery', 'pickup'], 'price': '$$$$', 'location': {'address1': '240 Central Park S', 'address2': '', 'address3': '', 'city': 'New York', 'zip_code': '10019', 'country': 'US', 'state': 'NY', 'display_address': ['240 Central Park S', 'New York, NY 10019']}, 'phone': '+12125825100', 'display_phone': '(212) 582-5100', 'distance': 6969.218632233465}, {'id': 'xtxcAUvrD4dWHJd0cwvW1A', 'alias': 'jeju-noodle-bar-new-york', 'name': 'JeJu Noodle Bar', 'image_url': 'https://s3-media2.fl.yelpcdn.com/bphoto/Y4pR--TEJCbfh8zOT0yE8g/o.jpg', 'is_closed': False, 'url': 'https://www.yelp.com/biz/jeju-noodle-bar-new-york?adjust_creative=cM1zrjoabjXir-vOTu86eg&utm_campaign=yelp_api_v3&utm_medium=api_v3_business_search&utm_source=cM1zrjoabjXir-vOTu86eg', 'review_count': 1035, 'categories': [{'alias': 'korean', 'title': 'Korean'}, {'alias': 'noodles', 'title': 'Noodles'}, {'alias': 'wine_bars', 'title': 'Wine Bars'}], 'rating': 4.0, 'coordinates': {'latitude': 40.73304, 'longitude': -74.00734}, 'transactions': ['delivery'], 'price': '$$', 'location': {'address1': '679 Greenwich St', 'address2': '', 'address3': None, 'city': 'New York', 'zip_code': '10014', 'country': 'US', 'state': 'NY', 'display_address': ['679 Greenwich St', 'New York, NY 10014']}, 'phone': '+16466660947', 'display_phone': '(646) 666-0947', 'distance': 3246.4669387254835}, {'id': '4FD0TAxe70nb3ngk3sXF9Q', 'alias': 'uluh-new-york', 'name': 'Uluh', 'image_url': 'https://s3-media3.fl.yelpcdn.com/bphoto/ebgBK2Y-BCVzwEZyDmhLsg/o.jpg', 'is_closed': False, 'url': 'https://www.yelp.com/biz/uluh-new-york?adjust_creative=cM1zrjoabjXir-vOTu86eg&utm_campaign=yelp_api_v3&utm_medium=api_v3_business_search&utm_source=cM1zrjoabjXir-vOTu86eg', 'review_count': 932, 'categories': [{'alias': 'tea', 'title': 'Tea Rooms'}, {'alias': 'asianfusion', 'title': 'Asian Fusion'}, {'alias': 'szechuan', 'title': 'Szechuan'}], 'rating': 4.5, 'coordinates': {'latitude': 40.729354, 'longitude': -73.98665}, 'transactions': ['restaurant_reservation', 'pickup', 'delivery'], 'price': '$$$', 'location': {'address1': '152 2nd Ave', 'address2': 'Ste A', 'address3': '', 'city': 'New York', 'zip_code': '10003', 'country': 'US', 'state': 'NY', 'display_address': ['152 2nd Ave', 'Ste A', 'New York, NY 10003']}, 'phone': '+19172615963', 'display_phone': '(917) 261-5963', 'distance': 2724.029106478522}, {'id': 'RYKGs45OjF-vlb2Ds2Jb_g', 'alias': 'izakaya-juraku-new-york-2', 'name': 'Izakaya Juraku', 'image_url': 'https://s3-media4.fl.yelpcdn.com/bphoto/h9MS1kCmfo-r1uPsZjoaiA/o.jpg', 'is_closed': False, 'url': 'https://www.yelp.com/biz/izakaya-juraku-new-york-2?adjust_creative=cM1zrjoabjXir-vOTu86eg&utm_campaign=yelp_api_v3&utm_medium=api_v3_business_search&utm_source=cM1zrjoabjXir-vOTu86eg', 'review_count': 217, 'categories': [{'alias': 'bars', 'title': 'Bars'}, {'alias': 'izakaya', 'title': 'Izakaya'}, {'alias': 'ramen', 'title': 'Ramen'}], 'rating': 4.5, 'coordinates': {'latitude': 40.7196796287355, 'longitude': -73.9887088537216}, 'transactions': ['delivery', 'pickup'], 'price': '$$$', 'location': {'address1': '121 Ludlow St', 'address2': '', 'address3': None, 'city': 'New York', 'zip_code': '10002', 'country': 'US', 'state': 'NY', 'display_address': ['121 Ludlow St', 'New York, NY 10002']}, 'phone': '+12124770100', 'display_phone': '(212) 477-0100', 'distance': 1639.9075076899728}, {'id': 'mlm40NxsVJUPnh3LTayaaw', 'alias': 'kimika-new-york', 'name': 'Kimika', 'image_url': 'https://s3-media2.fl.yelpcdn.com/bphoto/C9cNpM69DQ8vN-7yQfzUcw/o.jpg', 'is_closed': False, 'url': 'https://www.yelp.com/biz/kimika-new-york?adjust_creative=cM1zrjoabjXir-vOTu86eg&utm_campaign=yelp_api_v3&utm_medium=api_v3_business_search&utm_source=cM1zrjoabjXir-vOTu86eg', 'review_count': 367, 'categories': [{'alias': 'italian', 'title': 'Italian'}, {'alias': 'cocktailbars', 'title': 'Cocktail Bars'}, {'alias': 'asianfusion', 'title': 'Asian Fusion'}], 'rating': 4.0, 'coordinates': {'latitude': 40.720572, 'longitude': -73.995206}, 'transactions': ['delivery'], 'price': '$$$', 'location': {'address1': '40 Kenmare St', 'address2': '', 'address3': None, 'city': 'New York', 'zip_code': '10012', 'country': 'US', 'state': 'NY', 'display_address': ['40 Kenmare St', 'New York, NY 10012']}, 'phone': '+12122569280', 'display_phone': '(212) 256-9280', 'distance': 1677.4272173060592}, {'id': 'bEXTA_Gwo2oVg4gnFd9fNA', 'alias': 'ai-fiori-new-york', 'name': 'Ai Fiori', 'image_url': 'https://s3-media2.fl.yelpcdn.com/bphoto/9CeyBwG-Us8MaOgEwwFJaA/o.jpg', 'is_closed': False, 'url': 'https://www.yelp.com/biz/ai-fiori-new-york?adjust_creative=cM1zrjoabjXir-vOTu86eg&utm_campaign=yelp_api_v3&utm_medium=api_v3_business_search&utm_source=cM1zrjoabjXir-vOTu86eg', 'review_count': 1479, 'categories': [{'alias': 'italian', 'title': 'Italian'}, {'alias': 'french', 'title': 'French'}, {'alias': 'breakfast_brunch', 'title': 'Breakfast & Brunch'}], 'rating': 4.0, 'coordinates': {'latitude': 40.750066, 'longitude': -73.983788}, 'transactions': [], 'price': '$$$$', 'location': {'address1': '400 5th Ave', 'address2': '2nd Level', 'address3': 'The Langham', 'city': 'New York', 'zip_code': '10018', 'country': 'US', 'state': 'NY', 'display_address': ['400 5th Ave', '2nd Level', 'The Langham', 'New York, NY 10018']}, 'phone': '+12126138660', 'display_phone': '(212) 613-8660', 'distance': 5065.756870331272}, {'id': '8F81LrdFm6P5kkFpsw0n0w', 'alias': 'sweet-chick-new-york', 'name': 'Sweet Chick', 'image_url': 'https://s3-media2.fl.yelpcdn.com/bphoto/AH6EdkWp3m_Voa8YK5DFdw/o.jpg', 'is_closed': False, 'url': 'https://www.yelp.com/biz/sweet-chick-new-york?adjust_creative=cM1zrjoabjXir-vOTu86eg&utm_campaign=yelp_api_v3&utm_medium=api_v3_business_search&utm_source=cM1zrjoabjXir-vOTu86eg', 'review_count': 1928, 'categories': [{'alias': 'southern', 'title': 'Southern'}, {'alias': 'breakfast_brunch', 'title': 'Breakfast & Brunch'}, {'alias': 'chickenshop', 'title': 'Chicken Shop'}], 'rating': 4.0, 'coordinates': {'latitude': 40.7217399, 'longitude': -73.98739}, 'transactions': ['delivery', 'pickup'], 'price': '$$', 'location': {'address1': '178 Ludlow St', 'address2': '', 'address3': '', 'city': 'New York', 'zip_code': '10002', 'country': 'US', 'state': 'NY', 'display_address': ['178 Ludlow St', 'New York, NY 10002']}, 'phone': '+16466570233', 'display_phone': '(646) 657-0233', 'distance': 1889.7043577808397}, {'id': 'DoSU8IPq-Py_YV3kYmXPfQ', 'alias': 'trattoria-trecolori-new-york', 'name': 'Trattoria Trecolori', 'image_url': 'https://s3-media3.fl.yelpcdn.com/bphoto/nnfB_XDK58GS69n29d2E2A/o.jpg', 'is_closed': False, 'url': 'https://www.yelp.com/biz/trattoria-trecolori-new-york?adjust_creative=cM1zrjoabjXir-vOTu86eg&utm_campaign=yelp_api_v3&utm_medium=api_v3_business_search&utm_source=cM1zrjoabjXir-vOTu86eg', 'review_count': 2706, 'categories': [{'alias': 'italian', 'title': 'Italian'}], 'rating': 4.0, 'coordinates': {'latitude': 40.759876, 'longitude': -73.986767}, 'transactions': ['delivery', 'pickup'], 'price': '$$', 'location': {'address1': '254 West 47th St', 'address2': '', 'address3': '', 'city': 'New York', 'zip_code': '10036', 'country': 'US', 'state': 'NY', 'display_address': ['254 West 47th St', 'New York, NY 10036']}, 'phone': '+12129974540', 'display_phone': '(212) 997-4540', 'distance': 6073.019985095876}, {'id': 'AKHA6ZU8uM3vmLwH2hqH_A', 'alias': 'loring-place-new-york-2', 'name': 'Loring Place', 'image_url': 'https://s3-media3.fl.yelpcdn.com/bphoto/vB8Kr299Gno1QJ8_7Z2puQ/o.jpg', 'is_closed': False, 'url': 'https://www.yelp.com/biz/loring-place-new-york-2?adjust_creative=cM1zrjoabjXir-vOTu86eg&utm_campaign=yelp_api_v3&utm_medium=api_v3_business_search&utm_source=cM1zrjoabjXir-vOTu86eg', 'review_count': 571, 'categories': [{'alias': 'desserts', 'title': 'Desserts'}, {'alias': 'tapasmallplates', 'title': 'Tapas/Small Plates'}, {'alias': 'pizza', 'title': 'Pizza'}], 'rating': 4.5, 'coordinates': {'latitude': 40.73293764919451, 'longitude': -73.99758608256435}, 'transactions': ['delivery'], 'price': '$$$', 'location': {'address1': '21 W 8th St', 'address2': '', 'address3': None, 'city': 'New York', 'zip_code': '10011', 'country': 'US', 'state': 'NY', 'display_address': ['21 W 8th St', 'New York, NY 10011']}, 'phone': '+12123881831', 'display_phone': '(212) 388-1831', 'distance': 3058.7319705940245}, {'id': 'tnxb_qM5e7J5wIfYwJB3Ig', 'alias': 'the-elgin-new-york', 'name': 'The Elgin', 'image_url': 'https://s3-media3.fl.yelpcdn.com/bphoto/-1BDRPuwJhVh4OpIPSUCvA/o.jpg', 'is_closed': False, 'url': 'https://www.yelp.com/biz/the-elgin-new-york?adjust_creative=cM1zrjoabjXir-vOTu86eg&utm_campaign=yelp_api_v3&utm_medium=api_v3_business_search&utm_source=cM1zrjoabjXir-vOTu86eg', 'review_count': 296, 'categories': [{'alias': 'cocktailbars', 'title': 'Cocktail Bars'}, {'alias': 'beerbar', 'title': 'Beer Bar'}, {'alias': 'newamerican', 'title': 'New American'}], 'rating': 4.5, 'coordinates': {'latitude': 40.758339026848695, 'longitude': -73.98082697379752}, 'transactions': ['delivery', 'pickup'], 'price': '$$', 'location': {'address1': '64 West 48th St', 'address2': None, 'address3': '', 'city': 'New York', 'zip_code': '10036', 'country': 'US', 'state': 'NY', 'display_address': ['64 West 48th St', 'New York, NY 10036']}, 'phone': '+12122212100', 'display_phone': '(212) 221-2100', 'distance': 5978.562753243388}, {'id': 'zfiXI8AwYBRfWjPyv6oh3w', 'alias': 'lobster-place-new-york-4', 'name': 'Lobster Place', 'image_url': 'https://s3-media4.fl.yelpcdn.com/bphoto/zgCitW9dNXpxlehrZuGBTg/o.jpg', 'is_closed': False, 'url': 'https://www.yelp.com/biz/lobster-place-new-york-4?adjust_creative=cM1zrjoabjXir-vOTu86eg&utm_campaign=yelp_api_v3&utm_medium=api_v3_business_search&utm_source=cM1zrjoabjXir-vOTu86eg', 'review_count': 1528, 'categories': [{'alias': 'seafoodmarkets', 'title': 'Seafood Markets'}, {'alias': 'seafood', 'title': 'Seafood'}], 'rating': 4.0, 'coordinates': {'latitude': 40.7427413905213, 'longitude': -74.0060118057704}, 'transactions': ['delivery', 'pickup'], 'price': '$$', 'location': {'address1': '75 9th Ave', 'address2': '', 'address3': '', 'city': 'New York', 'zip_code': '10011', 'country': 'US', 'state': 'NY', 'display_address': ['75 9th Ave', 'New York, NY 10011']}, 'phone': '+12122555672', 'display_phone': '(212) 255-5672', 'distance': 4252.85564683203}, {'id': 'jc7lVTvmYMIK5RNpENtS6w', 'alias': 'szechuan-mountain-house-new-york-2', 'name': 'Szechuan Mountain House', 'image_url': 'https://s3-media3.fl.yelpcdn.com/bphoto/T6RdvGS66N-FV8EnWehx2A/o.jpg', 'is_closed': False, 'url': 'https://www.yelp.com/biz/szechuan-mountain-house-new-york-2?adjust_creative=cM1zrjoabjXir-vOTu86eg&utm_campaign=yelp_api_v3&utm_medium=api_v3_business_search&utm_source=cM1zrjoabjXir-vOTu86eg', 'review_count': 719, 'categories': [{'alias': 'szechuan', 'title': 'Szechuan'}], 'rating': 4.5, 'coordinates': {'latitude': 40.72911, 'longitude': -73.98858}, 'transactions': ['pickup', 'delivery'], 'price': '$$', 'location': {'address1': '23 St Marks Pl', 'address2': '', 'address3': None, 'city': 'New York', 'zip_code': '10003', 'country': 'US', 'state': 'NY', 'display_address': ['23 St Marks Pl', 'New York, NY 10003']}, 'phone': '+19173883866', 'display_phone': '(917) 388-3866', 'distance': 2675.1962888402086}, {'id': 'CuwHhq1MKX5hm8YyxtqukQ', 'alias': 'shukette-new-york', 'name': 'Shukette', 'image_url': 'https://s3-media2.fl.yelpcdn.com/bphoto/2QlGekOdWWrkmAKVfVPbnw/o.jpg', 'is_closed': False, 'url': 'https://www.yelp.com/biz/shukette-new-york?adjust_creative=cM1zrjoabjXir-vOTu86eg&utm_campaign=yelp_api_v3&utm_medium=api_v3_business_search&utm_source=cM1zrjoabjXir-vOTu86eg', 'review_count': 392, 'categories': [{'alias': 'mideastern', 'title': 'Middle Eastern'}], 'rating': 4.5, 'coordinates': {'latitude': 40.74745, 'longitude': -74.00041}, 'transactions': ['delivery'], 'price': '$$$', 'location': {'address1': '230 9th Ave', 'address2': '', 'address3': None, 'city': 'New York', 'zip_code': '10001', 'country': 'US', 'state': 'NY', 'display_address': ['230 9th Ave', 'New York, NY 10001']}, 'phone': '', 'display_phone': '', 'distance': 4688.284628063795}, {'id': 'nxTEuWKzkK1tCF4LrhFSUQ', 'alias': 'pig-and-khao-new-york', 'name': 'Pig and Khao', 'image_url': 'https://s3-media3.fl.yelpcdn.com/bphoto/6P2qNEUVFVk26140LmAd8g/o.jpg', 'is_closed': False, 'url': 'https://www.yelp.com/biz/pig-and-khao-new-york?adjust_creative=cM1zrjoabjXir-vOTu86eg&utm_campaign=yelp_api_v3&utm_medium=api_v3_business_search&utm_source=cM1zrjoabjXir-vOTu86eg', 'review_count': 1920, 'categories': [{'alias': 'filipino', 'title': 'Filipino'}, {'alias': 'thai', 'title': 'Thai'}, {'alias': 'panasian', 'title': 'Pan Asian'}], 'rating': 4.0, 'coordinates': {'latitude': 40.71926, 'longitude': -73.98475}, 'transactions': ['delivery', 'pickup'], 'price': '$$$', 'location': {'address1': '68 Clinton St', 'address2': '', 'address3': '', 'city': 'New York', 'zip_code': '10002', 'country': 'US', 'state': 'NY', 'display_address': ['68 Clinton St', 'New York, NY 10002']}, 'phone': '+12129204485', 'display_phone': '(212) 920-4485', 'distance': 1722.8766612704637}, {'id': '4zw8vEJNc4mcHh2ARzj2gw', 'alias': 'osteria-brooklyn-brooklyn', 'name': 'Osteria Brooklyn', 'image_url': 'https://s3-media2.fl.yelpcdn.com/bphoto/epI4tZGDoAA52iA18uNr6w/o.jpg', 'is_closed': False, 'url': 'https://www.yelp.com/biz/osteria-brooklyn-brooklyn?adjust_creative=cM1zrjoabjXir-vOTu86eg&utm_campaign=yelp_api_v3&utm_medium=api_v3_business_search&utm_source=cM1zrjoabjXir-vOTu86eg', 'review_count': 259, 'categories': [{'alias': 'italian', 'title': 'Italian'}], 'rating': 4.5, 'coordinates': {'latitude': 40.693154, 'longitude': -73.967177}, 'transactions': ['delivery', 'pickup'], 'price': '$$$', 'location': {'address1': '458 Myrtle Ave', 'address2': '', 'address3': None, 'city': 'Brooklyn', 'zip_code': '11205', 'country': 'US', 'state': 'NY', 'display_address': ['458 Myrtle Ave', 'Brooklyn, NY 11205']}, 'phone': '+16467509156', 'display_phone': '(646) 750-9156', 'distance': 2666.9182142264835}, {'id': 'G9SWgxH65OBQaJaE8dHkbw', 'alias': 'zest-ramen-new-york-8', 'name': 'Zest Ramen', 'image_url': 'https://s3-media3.fl.yelpcdn.com/bphoto/zVNJZIjOF2gd6DUWA2n_zQ/o.jpg', 'is_closed': False, 'url': 'https://www.yelp.com/biz/zest-ramen-new-york-8?adjust_creative=cM1zrjoabjXir-vOTu86eg&utm_campaign=yelp_api_v3&utm_medium=api_v3_business_search&utm_source=cM1zrjoabjXir-vOTu86eg', 'review_count': 338, 'categories': [{'alias': 'ramen', 'title': 'Ramen'}, {'alias': 'izakaya', 'title': 'Izakaya'}, {'alias': 'cocktailbars', 'title': 'Cocktail Bars'}], 'rating': 4.5, 'coordinates': {'latitude': 40.71816, 'longitude': -73.99186}, 'transactions': ['restaurant_reservation', 'pickup', 'delivery'], 'price': '$$', 'location': {'address1': '112 Eldridge St', 'address2': None, 'address3': '', 'city': 'New York', 'zip_code': '10002', 'country': 'US', 'state': 'NY', 'display_address': ['112 Eldridge St', 'New York, NY 10002']}, 'phone': '+12122262801', 'display_phone': '(212) 226-2801', 'distance': 1422.2036878286708}, {'id': 'SmLFW1Ncg26KfVRVX3GVFQ', 'alias': 'little-mad-new-york-2', 'name': 'Little Mad', 'image_url': 'https://s3-media2.fl.yelpcdn.com/bphoto/jgG9F5cbBo0F4l5i36iBgA/o.jpg', 'is_closed': False, 'url': 'https://www.yelp.com/biz/little-mad-new-york-2?adjust_creative=cM1zrjoabjXir-vOTu86eg&utm_campaign=yelp_api_v3&utm_medium=api_v3_business_search&utm_source=cM1zrjoabjXir-vOTu86eg', 'review_count': 202, 'categories': [{'alias': 'newamerican', 'title': 'New American'}, {'alias': 'korean', 'title': 'Korean'}], 'rating': 4.5, 'coordinates': {'latitude': 40.74502, 'longitude': -73.98513}, 'transactions': [], 'price': '$$$$', 'location': {'address1': '110 Madison Ave', 'address2': None, 'address3': '', 'city': 'New York', 'zip_code': '10016', 'country': 'US', 'state': 'NY', 'display_address': ['110 Madison Ave', 'New York, NY 10016']}, 'phone': '+19172614969', 'display_phone': '(917) 261-4969', 'distance': 4455.724012679495}, {'id': 'W0sXHSSpkiMEDJiBmSLNYQ', 'alias': 'trestle-astoria', 'name': 'Trestle', 'image_url': 'https://s3-media2.fl.yelpcdn.com/bphoto/7xXAAfdDvxw8cz-X5f19mg/o.jpg', 'is_closed': False, 'url': 'https://www.yelp.com/biz/trestle-astoria?adjust_creative=cM1zrjoabjXir-vOTu86eg&utm_campaign=yelp_api_v3&utm_medium=api_v3_business_search&utm_source=cM1zrjoabjXir-vOTu86eg', 'review_count': 557, 'categories': [{'alias': 'cocktailbars', 'title': 'Cocktail Bars'}, {'alias': 'newamerican', 'title': 'New American'}, {'alias': 'breakfast_brunch', 'title': 'Breakfast & Brunch'}], 'rating': 4.5, 'coordinates': {'latitude': 40.7606154, 'longitude': -73.9229562}, 'transactions': ['restaurant_reservation', 'pickup', 'delivery'], 'price': '$$', 'location': {'address1': '34-02 Broadway', 'address2': '', 'address3': None, 'city': 'Astoria', 'zip_code': '11106', 'country': 'US', 'state': 'NY', 'display_address': ['34-02 Broadway', 'Astoria, NY 11106']}, 'phone': '+13478080290', 'display_phone': '(347) 808-0290', 'distance': 8578.833050925889}, {'id': 'Ck09FempamAKGSPsV_bX-A', 'alias': 'xixa-brooklyn', 'name': 'Xixa', 'image_url': 'https://s3-media2.fl.yelpcdn.com/bphoto/7j7icctpnnVJ6mYtJZ8hrQ/o.jpg', 'is_closed': False, 'url': 'https://www.yelp.com/biz/xixa-brooklyn?adjust_creative=cM1zrjoabjXir-vOTu86eg&utm_campaign=yelp_api_v3&utm_medium=api_v3_business_search&utm_source=cM1zrjoabjXir-vOTu86eg', 'review_count': 679, 'categories': [{'alias': 'mexican', 'title': 'Mexican'}, {'alias': 'tapasmallplates', 'title': 'Tapas/Small Plates'}, {'alias': 'cocktailbars', 'title': 'Cocktail Bars'}], 'rating': 4.5, 'coordinates': {'latitude': 40.7104, 'longitude': -73.95854}, 'transactions': ['delivery', 'pickup'], 'price': '$$$', 'location': {'address1': '241 S 4th St', 'address2': '', 'address3': '', 'city': 'Brooklyn', 'zip_code': '11211', 'country': 'US', 'state': 'NY', 'display_address': ['241 S 4th St', 'Brooklyn, NY 11211']}, 'phone': '+17183888860', 'display_phone': '(718) 388-8860', 'distance': 3064.6725503308166}], 'total': 15000, 'region': {'center': {'longitude': -73.99429321289062, 'latitude': 40.70544486444615}}}\n"
     ]
    },
    {
     "ename": "KeyboardInterrupt",
     "evalue": "",
     "output_type": "error",
     "traceback": [
      "\u001b[0;31m---------------------------------------------------------------------------\u001b[0m",
      "\u001b[0;31mKeyboardInterrupt\u001b[0m                         Traceback (most recent call last)",
      "Cell \u001b[0;32mIn[33], line 1\u001b[0m\n\u001b[0;32m----> 1\u001b[0m \u001b[43mget_all_business_ids\u001b[49m\u001b[43m(\u001b[49m\u001b[38;5;124;43m'\u001b[39;49m\u001b[38;5;124;43mhttps://api.yelp.com/v3/businesses/search?location=New\u001b[39;49m\u001b[38;5;124;43m%\u001b[39;49m\u001b[38;5;124;43m20York&limit=50\u001b[39;49m\u001b[38;5;124;43m'\u001b[39;49m\u001b[43m)\u001b[49m\n",
      "Cell \u001b[0;32mIn[32], line 27\u001b[0m, in \u001b[0;36mget_all_business_ids\u001b[0;34m(base_url)\u001b[0m\n\u001b[1;32m     24\u001b[0m     \u001b[38;5;28;01melse\u001b[39;00m:\n\u001b[1;32m     25\u001b[0m         base_url \u001b[38;5;241m+\u001b[39m\u001b[38;5;241m=\u001b[39m \u001b[38;5;124mf\u001b[39m\u001b[38;5;124m'\u001b[39m\u001b[38;5;124m&offset=\u001b[39m\u001b[38;5;132;01m{\u001b[39;00m\u001b[38;5;28mlen\u001b[39m(all_business_ids)\u001b[38;5;132;01m}\u001b[39;00m\u001b[38;5;124m'\u001b[39m\n\u001b[0;32m---> 27\u001b[0m     \u001b[43mtime\u001b[49m\u001b[38;5;241;43m.\u001b[39;49m\u001b[43msleep\u001b[49m\u001b[43m(\u001b[49m\u001b[38;5;241;43m1\u001b[39;49m\u001b[43m)\u001b[49m  \n\u001b[1;32m     29\u001b[0m \u001b[38;5;28;01mreturn\u001b[39;00m all_business_ids\n",
      "\u001b[0;31mKeyboardInterrupt\u001b[0m: "
     ]
    }
   ],
   "source": [
    "get_all_business_data('https://api.yelp.com/v3/businesses/search?location=New%20York&limit=50')"
   ]
  },
  {
   "cell_type": "markdown",
   "metadata": {},
   "source": [
    "### We get the reviews from the business"
   ]
  },
  {
   "cell_type": "code",
   "execution_count": 132,
   "metadata": {},
   "outputs": [],
   "source": [
    "def get_reviews(restaurant_ids, city):\n",
    "    list_of_reviews = []\n",
    "    count = 0\n",
    "    \n",
    "    for i in range(len(restaurant_ids)):\n",
    "        url2 = \"https://api.yelp.com/v3/businesses/\" + restaurant_ids[0][i] + \"/reviews?sort_by=yelp_sort\"\n",
    "        response = requests.get(url2, headers=headers)\n",
    "        reviews_data = response.json()\n",
    "        \n",
    "        try:\n",
    "            for review in reviews_data['reviews']:\n",
    "                review_dict = {'text': review['text'], 'rating': review['rating'],'location':city}\n",
    "                list_of_reviews.append(review_dict)\n",
    "                count += 1\n",
    "                \n",
    "                # We limit the number of reviews to 25 reviews per restaurant\n",
    "\n",
    "                if count == 25: \n",
    "                    return list_of_reviews\n",
    "        except:\n",
    "            print(\"No reviews for this restaurant\")\n",
    "        \n",
    "    return list_of_reviews"
   ]
  },
  {
   "cell_type": "markdown",
   "metadata": {},
   "source": [
    "#### New Orleans"
   ]
  },
  {
   "cell_type": "code",
   "execution_count": 133,
   "metadata": {},
   "outputs": [
    {
     "name": "stdout",
     "output_type": "stream",
     "text": [
      "25\n"
     ]
    }
   ],
   "source": [
    "import requests\n",
    "\n",
    "new_orleans_url = ('https://api.yelp.com/v3/businesses/search?location=New+Orleans&term=restaurants&categories=french&price=3&price=4&sort_by=best_match')\n",
    "\n",
    "new_orleans_restaurants_data = get_all_business_data(new_orleans_url)\n",
    "\n",
    "new_orleans_restaurants_ids = [restaurant['business_id'] for restaurant in new_orleans_restaurants_data]\n",
    "\n",
    "new_orleans_list_of_reviews = get_reviews(new_orleans_restaurants_ids,'New Orleans')\n",
    "\n",
    "print(len(new_orleans_list_of_reviews))"
   ]
  },
  {
   "cell_type": "markdown",
   "metadata": {},
   "source": [
    "#### New York City"
   ]
  },
  {
   "cell_type": "code",
   "execution_count": 134,
   "metadata": {},
   "outputs": [
    {
     "name": "stdout",
     "output_type": "stream",
     "text": [
      "25\n"
     ]
    }
   ],
   "source": [
    "nyc_url = ('https://api.yelp.com/v3/businesses/search?location=New+York+City&term=restaurants&categories=french&price=3&price=4&sort_by=best_match')\n",
    "\n",
    "nyc_restaurants_data = get_all_business_data(nyc_url)\n",
    "\n",
    "nyc_restaurants_ids = [restaurant['business_id'] for restaurant in nyc_restaurants_data]\n",
    "\n",
    "nyc_list_of_reviews = get_reviews(nyc_restaurants_ids,'New York City')\n",
    "\n",
    "print(len(nyc_list_of_reviews))"
   ]
  },
  {
   "cell_type": "markdown",
   "metadata": {},
   "source": [
    "#### Chicago"
   ]
  },
  {
   "cell_type": "code",
   "execution_count": 135,
   "metadata": {},
   "outputs": [
    {
     "name": "stdout",
     "output_type": "stream",
     "text": [
      "25\n"
     ]
    }
   ],
   "source": [
    "chicago_url = ('https://api.yelp.com/v3/businesses/search?location=Chicago&term=restaurants&categories=french&price=3&price=4&sort_by=best_match')\n",
    "\n",
    "chicago_restaurants_data = get_all_business_data(chicago_url)\n",
    "\n",
    "chicago_restaurants_ids = [restaurant['business_id'] for restaurant in chicago_restaurants_data]   \n",
    "\n",
    "chicago_list_of_reviews = get_reviews(chicago_restaurants_ids,'Chicago')\n",
    "\n",
    "print(len(chicago_list_of_reviews))"
   ]
  },
  {
   "cell_type": "markdown",
   "metadata": {},
   "source": [
    "#### Los Angeles"
   ]
  },
  {
   "cell_type": "code",
   "execution_count": 136,
   "metadata": {},
   "outputs": [
    {
     "name": "stdout",
     "output_type": "stream",
     "text": [
      "25\n"
     ]
    }
   ],
   "source": [
    "los_angeles_url = \"https://api.yelp.com/v3/businesses/search?location=Los+Angeles&term=restaurants&categories=french&price=4&price=3&sort_by=best_match\"\n",
    "\n",
    "los_angeles_restaurants_data = get_all_business_data(los_angeles_url)\n",
    "\n",
    "los_angeles_restaurants_ids = [restaurant['business_id'] for restaurant in los_angeles_restaurants_data]\n",
    "\n",
    "los_angeles_list_of_reviews = get_reviews(los_angeles_restaurants_ids,'Los Angeles')\n",
    "\n",
    "print(len(los_angeles_list_of_reviews))"
   ]
  },
  {
   "cell_type": "markdown",
   "metadata": {},
   "source": [
    "#### San Francisco"
   ]
  },
  {
   "cell_type": "code",
   "execution_count": 137,
   "metadata": {},
   "outputs": [
    {
     "name": "stdout",
     "output_type": "stream",
     "text": [
      "25\n"
     ]
    }
   ],
   "source": [
    "sf_url = \"https://api.yelp.com/v3/businesses/search?location=San+Francisco&term=restaurants&categories=french&price=4&price=3&sort_by=best_match\"\n",
    "\n",
    "san_francisco_restaurants = get_all_business_data(sf_url)\n",
    "\n",
    "san_francisco_restaurants_ids = [restaurant['business_id'] for restaurant in san_francisco_restaurants]\n",
    "\n",
    "sf_list_of_reviews = get_reviews(san_francisco_restaurants_ids,'San Francisco')\n",
    "\n",
    "print(len(sf_list_of_reviews))"
   ]
  },
  {
   "cell_type": "markdown",
   "metadata": {},
   "source": [
    "#### Philadelphia"
   ]
  },
  {
   "cell_type": "code",
   "execution_count": 138,
   "metadata": {},
   "outputs": [
    {
     "name": "stdout",
     "output_type": "stream",
     "text": [
      "24\n"
     ]
    }
   ],
   "source": [
    "philadelphia_url = \"https://api.yelp.com/v3/businesses/search?location=Philadelphia&term=restaurants&categories=french&price=4&price=3&sort_by=best_match\"\n",
    "\n",
    "philadelphia_restaurants = get_all_business_data(philadelphia_url)\n",
    "\n",
    "philadelphia_restaurants_ids = [restaurant['business_id'] for restaurant in philadelphia_restaurants]\n",
    "\n",
    "philadelphia_list_of_reviews = get_reviews(philadelphia_restaurants_ids,'Philadelphia')\n",
    "\n",
    "print(len(philadelphia_list_of_reviews))"
   ]
  },
  {
   "cell_type": "markdown",
   "metadata": {},
   "source": [
    "#### Las Vegas"
   ]
  },
  {
   "cell_type": "code",
   "execution_count": 139,
   "metadata": {},
   "outputs": [
    {
     "name": "stdout",
     "output_type": "stream",
     "text": [
      "25\n"
     ]
    }
   ],
   "source": [
    "las_vegas_url = \"https://api.yelp.com/v3/businesses/search?location=Las+Vegas&term=restaurants&categories=french&price=4&price=3&sort_by=best_match\"\n",
    "\n",
    "las_vegas_restaurants = get_all_business_data(las_vegas_url)\n",
    "\n",
    "las_vegas_restaurants_ids = [restaurant['business_id'] for restaurant in las_vegas_restaurants]\n",
    "\n",
    "las_vegas_list_of_reviews = get_reviews(las_vegas_restaurants_ids,'Las Vegas')\n",
    "\n",
    "print(len(las_vegas_list_of_reviews))"
   ]
  },
  {
   "cell_type": "markdown",
   "metadata": {},
   "source": [
    "#### Houston"
   ]
  },
  {
   "cell_type": "code",
   "execution_count": 140,
   "metadata": {},
   "outputs": [
    {
     "name": "stdout",
     "output_type": "stream",
     "text": [
      "25\n"
     ]
    }
   ],
   "source": [
    "houston_url = \"https://api.yelp.com/v3/businesses/search?location=Houston&term=restaurants&categories=french&price=4&price=3&sort_by=best_match\"\n",
    "\n",
    "houston_restaurants = get_all_business_data(houston_url)\n",
    "\n",
    "houston_restaurants_ids = [restaurant['business_id'] for restaurant in houston_restaurants]\n",
    "\n",
    "houston_list_of_reviews = get_reviews(houston_restaurants_ids,'Houston')\n",
    "\n",
    "print(len(houston_list_of_reviews))"
   ]
  },
  {
   "cell_type": "markdown",
   "metadata": {},
   "source": [
    "#### Phoenix"
   ]
  },
  {
   "cell_type": "code",
   "execution_count": 141,
   "metadata": {},
   "outputs": [
    {
     "name": "stdout",
     "output_type": "stream",
     "text": [
      "12\n"
     ]
    }
   ],
   "source": [
    "phoenix_url = \"https://api.yelp.com/v3/businesses/search?location=Phoenix&term=restaurants&categories=french&price=4&price=3&sort_by=best_match\"\n",
    "\n",
    "phoenix_restaurants = get_all_business_data(phoenix_url)\n",
    "\n",
    "phoenix_restaurants_ids = [restaurant['business_id'] for restaurant in phoenix_restaurants]\n",
    "\n",
    "phoenix_list_of_reviews = get_reviews(phoenix_restaurants_ids,'Phoenix')\n",
    "\n",
    "print(len(phoenix_list_of_reviews))"
   ]
  },
  {
   "cell_type": "markdown",
   "metadata": {},
   "source": [
    "#### Miami"
   ]
  },
  {
   "cell_type": "code",
   "execution_count": 142,
   "metadata": {},
   "outputs": [
    {
     "name": "stdout",
     "output_type": "stream",
     "text": [
      "15\n"
     ]
    }
   ],
   "source": [
    "miami_url = \"https://api.yelp.com/v3/businesses/search?location=Miami&term=restaurants&categories=french&price=4&price=3&sort_by=best_match\"\n",
    "\n",
    "miami_restaurants = get_all_business_data(miami_url)\n",
    "\n",
    "miami_restaurants_ids = [restaurant['business_id'] for restaurant in miami_restaurants]\n",
    "\n",
    "miami_list_of_reviews = get_reviews(miami_restaurants_ids,'Miami')\n",
    "\n",
    "print(len(miami_list_of_reviews))"
   ]
  },
  {
   "cell_type": "markdown",
   "metadata": {},
   "source": [
    "### Merge"
   ]
  },
  {
   "cell_type": "code",
   "execution_count": 153,
   "metadata": {},
   "outputs": [],
   "source": [
    "ouput_dfs = []\n",
    "\n",
    "cities = ['new_orleans', 'nyc', 'chicago', 'los_angeles', 'sf', 'philadelphia', 'las_vegas', 'houston', 'phoenix', 'miami']\n",
    "\n",
    "for city in cities:\n",
    "    reviews_list = globals()[f'{city}_list_of_reviews']\n",
    "    ouput_df = pd.DataFrame(reviews_list, columns=['text', 'rating', 'location'])\n",
    "    ouput_dfs.append(ouput_df)\n",
    "\n",
    "output = pd.concat(ouput_dfs, ignore_index=True)\n",
    "df = pd.concat([df, output], ignore_index=True)"
   ]
  },
  {
   "cell_type": "code",
   "execution_count": 157,
   "metadata": {},
   "outputs": [
    {
     "data": {
      "text/plain": [
       "rating\n",
       "5    367\n",
       "4    134\n",
       "3     69\n",
       "2     29\n",
       "1     19\n",
       "Name: count, dtype: int64"
      ]
     },
     "execution_count": 157,
     "metadata": {},
     "output_type": "execute_result"
    }
   ],
   "source": [
    "df.drop_duplicates(inplace=True)\n",
    "df['rating'].value_counts()"
   ]
  },
  {
   "cell_type": "code",
   "execution_count": 158,
   "metadata": {},
   "outputs": [
    {
     "data": {
      "text/html": [
       "<div>\n",
       "<style scoped>\n",
       "    .dataframe tbody tr th:only-of-type {\n",
       "        vertical-align: middle;\n",
       "    }\n",
       "\n",
       "    .dataframe tbody tr th {\n",
       "        vertical-align: top;\n",
       "    }\n",
       "\n",
       "    .dataframe thead th {\n",
       "        text-align: right;\n",
       "    }\n",
       "</style>\n",
       "<table border=\"1\" class=\"dataframe\">\n",
       "  <thead>\n",
       "    <tr style=\"text-align: right;\">\n",
       "      <th></th>\n",
       "      <th>text</th>\n",
       "      <th>rating</th>\n",
       "      <th>location</th>\n",
       "    </tr>\n",
       "  </thead>\n",
       "  <tbody>\n",
       "    <tr>\n",
       "      <th>0</th>\n",
       "      <td>Robyn gave amazing service! So attentive and f...</td>\n",
       "      <td>5</td>\n",
       "      <td>Los Angeles</td>\n",
       "    </tr>\n",
       "    <tr>\n",
       "      <th>1</th>\n",
       "      <td>Headed downtown on a Thursday evening for a Ki...</td>\n",
       "      <td>5</td>\n",
       "      <td>Los Angeles</td>\n",
       "    </tr>\n",
       "    <tr>\n",
       "      <th>2</th>\n",
       "      <td>Been here a few times, in just recent weeks. T...</td>\n",
       "      <td>4</td>\n",
       "      <td>Los Angeles</td>\n",
       "    </tr>\n",
       "    <tr>\n",
       "      <th>3</th>\n",
       "      <td>Service is fast. Staff is friendly. The food i...</td>\n",
       "      <td>5</td>\n",
       "      <td>Los Angeles</td>\n",
       "    </tr>\n",
       "    <tr>\n",
       "      <th>4</th>\n",
       "      <td>Walked by and asked to see a menu. Very helpfu...</td>\n",
       "      <td>3</td>\n",
       "      <td>Los Angeles</td>\n",
       "    </tr>\n",
       "    <tr>\n",
       "      <th>...</th>\n",
       "      <td>...</td>\n",
       "      <td>...</td>\n",
       "      <td>...</td>\n",
       "    </tr>\n",
       "    <tr>\n",
       "      <th>613</th>\n",
       "      <td>The Steak Tartare is absolutely yummy! Just as...</td>\n",
       "      <td>5</td>\n",
       "      <td>Phoenix</td>\n",
       "    </tr>\n",
       "    <tr>\n",
       "      <th>614</th>\n",
       "      <td>The culinary journey begins right at your tabl...</td>\n",
       "      <td>5</td>\n",
       "      <td>Miami</td>\n",
       "    </tr>\n",
       "    <tr>\n",
       "      <th>615</th>\n",
       "      <td>Very nice ambiance. We went there at night, an...</td>\n",
       "      <td>4</td>\n",
       "      <td>New York City</td>\n",
       "    </tr>\n",
       "    <tr>\n",
       "      <th>616</th>\n",
       "      <td>M. whatever ... this is a hard pass.... I know...</td>\n",
       "      <td>1</td>\n",
       "      <td>New York City</td>\n",
       "    </tr>\n",
       "    <tr>\n",
       "      <th>617</th>\n",
       "      <td>Food and service are over the moo wonderful, s...</td>\n",
       "      <td>5</td>\n",
       "      <td>New Orleans</td>\n",
       "    </tr>\n",
       "  </tbody>\n",
       "</table>\n",
       "<p>618 rows × 3 columns</p>\n",
       "</div>"
      ],
      "text/plain": [
       "                                                  text  rating       location\n",
       "0    Robyn gave amazing service! So attentive and f...       5    Los Angeles\n",
       "1    Headed downtown on a Thursday evening for a Ki...       5    Los Angeles\n",
       "2    Been here a few times, in just recent weeks. T...       4    Los Angeles\n",
       "3    Service is fast. Staff is friendly. The food i...       5    Los Angeles\n",
       "4    Walked by and asked to see a menu. Very helpfu...       3    Los Angeles\n",
       "..                                                 ...     ...            ...\n",
       "613  The Steak Tartare is absolutely yummy! Just as...       5        Phoenix\n",
       "614  The culinary journey begins right at your tabl...       5          Miami\n",
       "615  Very nice ambiance. We went there at night, an...       4  New York City\n",
       "616  M. whatever ... this is a hard pass.... I know...       1  New York City\n",
       "617  Food and service are over the moo wonderful, s...       5    New Orleans\n",
       "\n",
       "[618 rows x 3 columns]"
      ]
     },
     "execution_count": 158,
     "metadata": {},
     "output_type": "execute_result"
    }
   ],
   "source": [
    "df.to_csv('yelp_reviews.csv', index=False)\n",
    "df"
   ]
  }
 ],
 "metadata": {
  "kernelspec": {
   "display_name": "base",
   "language": "python",
   "name": "python3"
  },
  "language_info": {
   "codemirror_mode": {
    "name": "ipython",
    "version": 3
   },
   "file_extension": ".py",
   "mimetype": "text/x-python",
   "name": "python",
   "nbconvert_exporter": "python",
   "pygments_lexer": "ipython3",
   "version": "3.10.12"
  }
 },
 "nbformat": 4,
 "nbformat_minor": 2
}
