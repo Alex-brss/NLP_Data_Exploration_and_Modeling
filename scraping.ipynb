{
 "cells": [
  {
   "cell_type": "markdown",
   "metadata": {},
   "source": [
    "# Data Exploration and NLP Modeling \n",
    "## By BROSSEAU Alexandre & COGORDAN Alexandre"
   ]
  },
  {
   "cell_type": "code",
   "execution_count": 3,
   "metadata": {},
   "outputs": [
    {
     "name": "stderr",
     "output_type": "stream",
     "text": [
      "/Users/alexandrecogordan/miniconda3/envs/tensorflow/lib/python3.10/site-packages/huggingface_hub/inference/_text_generation.py:121: PydanticDeprecatedSince20: Pydantic V1 style `@validator` validators are deprecated. You should migrate to Pydantic V2 style `@field_validator` validators, see the migration guide for more details. Deprecated in Pydantic V2.0 to be removed in V3.0. See Pydantic V2 Migration Guide at https://errors.pydantic.dev/2.5/migration/\n",
      "  @validator(\"best_of\")\n",
      "/Users/alexandrecogordan/miniconda3/envs/tensorflow/lib/python3.10/site-packages/huggingface_hub/inference/_text_generation.py:140: PydanticDeprecatedSince20: Pydantic V1 style `@validator` validators are deprecated. You should migrate to Pydantic V2 style `@field_validator` validators, see the migration guide for more details. Deprecated in Pydantic V2.0 to be removed in V3.0. See Pydantic V2 Migration Guide at https://errors.pydantic.dev/2.5/migration/\n",
      "  @validator(\"repetition_penalty\")\n",
      "/Users/alexandrecogordan/miniconda3/envs/tensorflow/lib/python3.10/site-packages/huggingface_hub/inference/_text_generation.py:146: PydanticDeprecatedSince20: Pydantic V1 style `@validator` validators are deprecated. You should migrate to Pydantic V2 style `@field_validator` validators, see the migration guide for more details. Deprecated in Pydantic V2.0 to be removed in V3.0. See Pydantic V2 Migration Guide at https://errors.pydantic.dev/2.5/migration/\n",
      "  @validator(\"seed\")\n",
      "/Users/alexandrecogordan/miniconda3/envs/tensorflow/lib/python3.10/site-packages/huggingface_hub/inference/_text_generation.py:152: PydanticDeprecatedSince20: Pydantic V1 style `@validator` validators are deprecated. You should migrate to Pydantic V2 style `@field_validator` validators, see the migration guide for more details. Deprecated in Pydantic V2.0 to be removed in V3.0. See Pydantic V2 Migration Guide at https://errors.pydantic.dev/2.5/migration/\n",
      "  @validator(\"temperature\")\n",
      "/Users/alexandrecogordan/miniconda3/envs/tensorflow/lib/python3.10/site-packages/huggingface_hub/inference/_text_generation.py:158: PydanticDeprecatedSince20: Pydantic V1 style `@validator` validators are deprecated. You should migrate to Pydantic V2 style `@field_validator` validators, see the migration guide for more details. Deprecated in Pydantic V2.0 to be removed in V3.0. See Pydantic V2 Migration Guide at https://errors.pydantic.dev/2.5/migration/\n",
      "  @validator(\"top_k\")\n",
      "/Users/alexandrecogordan/miniconda3/envs/tensorflow/lib/python3.10/site-packages/huggingface_hub/inference/_text_generation.py:164: PydanticDeprecatedSince20: Pydantic V1 style `@validator` validators are deprecated. You should migrate to Pydantic V2 style `@field_validator` validators, see the migration guide for more details. Deprecated in Pydantic V2.0 to be removed in V3.0. See Pydantic V2 Migration Guide at https://errors.pydantic.dev/2.5/migration/\n",
      "  @validator(\"top_p\")\n",
      "/Users/alexandrecogordan/miniconda3/envs/tensorflow/lib/python3.10/site-packages/huggingface_hub/inference/_text_generation.py:170: PydanticDeprecatedSince20: Pydantic V1 style `@validator` validators are deprecated. You should migrate to Pydantic V2 style `@field_validator` validators, see the migration guide for more details. Deprecated in Pydantic V2.0 to be removed in V3.0. See Pydantic V2 Migration Guide at https://errors.pydantic.dev/2.5/migration/\n",
      "  @validator(\"truncate\")\n",
      "/Users/alexandrecogordan/miniconda3/envs/tensorflow/lib/python3.10/site-packages/huggingface_hub/inference/_text_generation.py:176: PydanticDeprecatedSince20: Pydantic V1 style `@validator` validators are deprecated. You should migrate to Pydantic V2 style `@field_validator` validators, see the migration guide for more details. Deprecated in Pydantic V2.0 to be removed in V3.0. See Pydantic V2 Migration Guide at https://errors.pydantic.dev/2.5/migration/\n",
      "  @validator(\"typical_p\")\n",
      "/Users/alexandrecogordan/miniconda3/envs/tensorflow/lib/python3.10/site-packages/huggingface_hub/inference/_text_generation.py:204: PydanticDeprecatedSince20: Pydantic V1 style `@validator` validators are deprecated. You should migrate to Pydantic V2 style `@field_validator` validators, see the migration guide for more details. Deprecated in Pydantic V2.0 to be removed in V3.0. See Pydantic V2 Migration Guide at https://errors.pydantic.dev/2.5/migration/\n",
      "  @validator(\"inputs\")\n",
      "/Users/alexandrecogordan/miniconda3/envs/tensorflow/lib/python3.10/site-packages/huggingface_hub/inference/_text_generation.py:210: PydanticDeprecatedSince20: Pydantic V1 style `@validator` validators are deprecated. You should migrate to Pydantic V2 style `@field_validator` validators, see the migration guide for more details. Deprecated in Pydantic V2.0 to be removed in V3.0. See Pydantic V2 Migration Guide at https://errors.pydantic.dev/2.5/migration/\n",
      "  @validator(\"stream\")\n"
     ]
    },
    {
     "data": {
      "text/plain": [
       "True"
      ]
     },
     "execution_count": 3,
     "metadata": {},
     "output_type": "execute_result"
    }
   ],
   "source": [
    "import nltk\n",
    "import requests\n",
    "import time\n",
    "import pandas as pd\n",
    "import os\n",
    "import re\n",
    "import gensim\n",
    "import gensim.corpora as corpora\n",
    "import spacy\n",
    "import pyLDAvis\n",
    "import pyLDAvis.gensim\n",
    "import matplotlib.pyplot as plt\n",
    "import streamlit as st\n",
    "import numpy as np\n",
    "import tensorflow as tf\n",
    "import tensorboard as tb\n",
    "\n",
    "from scipy.spatial.distance import euclidean\n",
    "from scipy.spatial.distance import cosine\n",
    "from nltk.corpus import stopwords\n",
    "from nltk.tokenize import word_tokenize\n",
    "from nltk.util import ngrams\n",
    "from textblob import TextBlob\n",
    "from collections import Counter\n",
    "from transformers import pipeline\n",
    "from langchain import PromptTemplate, LLMChain\n",
    "from dotenv import find_dotenv, load_dotenv\n",
    "from gensim.utils import simple_preprocess\n",
    "from gensim.models import CoherenceModel, Word2Vec\n",
    "from sklearn.manifold import TSNE\n",
    "from tensorboard.plugins import projector\n",
    "\n",
    "load_dotenv()"
   ]
  },
  {
   "cell_type": "markdown",
   "metadata": {},
   "source": [
    "## Parameters"
   ]
  },
  {
   "cell_type": "code",
   "execution_count": 4,
   "metadata": {},
   "outputs": [],
   "source": [
    "max_length_coef = 1.5\n",
    "min_length_coef = 2"
   ]
  },
  {
   "cell_type": "markdown",
   "metadata": {},
   "source": [
    "## Web scraping"
   ]
  },
  {
   "cell_type": "markdown",
   "metadata": {},
   "source": [
    "### We get the requests and the dataframe we've created so far"
   ]
  },
  {
   "cell_type": "code",
   "execution_count": 2,
   "metadata": {},
   "outputs": [
    {
     "ename": "NameError",
     "evalue": "name 'pd' is not defined",
     "output_type": "error",
     "traceback": [
      "\u001b[0;31m---------------------------------------------------------------------------\u001b[0m",
      "\u001b[0;31mNameError\u001b[0m                                 Traceback (most recent call last)",
      "Cell \u001b[0;32mIn[2], line 1\u001b[0m\n\u001b[0;32m----> 1\u001b[0m df \u001b[38;5;241m=\u001b[39m \u001b[43mpd\u001b[49m\u001b[38;5;241m.\u001b[39mread_csv(\u001b[38;5;124m'\u001b[39m\u001b[38;5;124myelp_reviews.csv\u001b[39m\u001b[38;5;124m'\u001b[39m)\n",
      "\u001b[0;31mNameError\u001b[0m: name 'pd' is not defined"
     ]
    }
   ],
   "source": [
    "df = pd.read_csv('yelp_reviews.csv')"
   ]
  },
  {
   "cell_type": "markdown",
   "metadata": {},
   "source": [
    "### We call our API key to start web scraping"
   ]
  },
  {
   "cell_type": "code",
   "execution_count": 3,
   "metadata": {},
   "outputs": [],
   "source": [
    "api_key = os.getenv('YELP_API_KEY')\n",
    "headers = {'Authorization': 'Bearer ' + api_key}"
   ]
  },
  {
   "cell_type": "markdown",
   "metadata": {},
   "source": [
    "### We get the businesses' IDs"
   ]
  },
  {
   "cell_type": "code",
   "execution_count": 32,
   "metadata": {},
   "outputs": [],
   "source": [
    "def get_all_business_ids(base_url):\n",
    "    \n",
    "    all_business_ids = []\n",
    "\n",
    "    while True:\n",
    "        response = requests.get(base_url, headers=headers)\n",
    "        if response.status_code != 200:\n",
    "            break  \n",
    "\n",
    "        data = response.json()\n",
    "        businesses = data.get('businesses', [])\n",
    "\n",
    "        # business_info = data.get('businesses')\n",
    "\n",
    "        if not businesses:\n",
    "            break  # Break the loop if no more businesses are returned\n",
    "\n",
    "        for business in businesses:\n",
    "            business_id = business.get('id') # 'name', 'price', 'url', 'review_count', 'display_address', 'image_url', 'display_phone', 'categories'\n",
    "            if business_id:\n",
    "                all_business_ids.append(business_id)\n",
    "\n",
    "        # Update the offset in the URL for the next request\n",
    "        if 'offset=' in base_url:\n",
    "            base_url = base_url.rsplit('offset=', 1)[0] + f'offset={len(all_business_ids)}'\n",
    "        else:\n",
    "            base_url += f'&offset={len(all_business_ids)}'\n",
    "\n",
    "        time.sleep(1)  \n",
    "\n",
    "    return all_business_ids\n"
   ]
  },
  {
   "cell_type": "code",
   "execution_count": 33,
   "metadata": {},
   "outputs": [
    {
     "name": "stdout",
     "output_type": "stream",
     "text": [
      "{'businesses': [{'id': 'veq1Bl1DW3UWMekZJUsG1Q', 'alias': 'gramercy-tavern-new-york', 'name': 'Gramercy Tavern', 'image_url': 'https://s3-media2.fl.yelpcdn.com/bphoto/l2oSnhyvJfWT6bufumBMzw/o.jpg', 'is_closed': False, 'url': 'https://www.yelp.com/biz/gramercy-tavern-new-york?adjust_creative=cM1zrjoabjXir-vOTu86eg&utm_campaign=yelp_api_v3&utm_medium=api_v3_business_search&utm_source=cM1zrjoabjXir-vOTu86eg', 'review_count': 3441, 'categories': [{'alias': 'newamerican', 'title': 'New American'}], 'rating': 4.5, 'coordinates': {'latitude': 40.73844, 'longitude': -73.98825}, 'transactions': ['pickup'], 'price': '$$$$', 'location': {'address1': '42 E 20th St', 'address2': '', 'address3': '', 'city': 'New York', 'zip_code': '10003', 'country': 'US', 'state': 'NY', 'display_address': ['42 E 20th St', 'New York, NY 10003']}, 'phone': '+12124770777', 'display_phone': '(212) 477-0777', 'distance': 3695.6399277648}, {'id': 'B3_K2kUVbYOU0VaLcj_LTw', 'alias': 'thai-villa-new-york-2', 'name': 'Thai Villa', 'image_url': 'https://s3-media2.fl.yelpcdn.com/bphoto/PYopFnTm-C0yA-v0lePQcQ/o.jpg', 'is_closed': False, 'url': 'https://www.yelp.com/biz/thai-villa-new-york-2?adjust_creative=cM1zrjoabjXir-vOTu86eg&utm_campaign=yelp_api_v3&utm_medium=api_v3_business_search&utm_source=cM1zrjoabjXir-vOTu86eg', 'review_count': 4920, 'categories': [{'alias': 'thai', 'title': 'Thai'}], 'rating': 4.5, 'coordinates': {'latitude': 40.73902, 'longitude': -73.99065}, 'transactions': ['pickup', 'delivery'], 'price': '$$', 'location': {'address1': '5 E 19th St', 'address2': 'G Floor', 'address3': '', 'city': 'New York', 'zip_code': '10003', 'country': 'US', 'state': 'NY', 'display_address': ['5 E 19th St', 'G Floor', 'New York, NY 10003']}, 'phone': '+12128029999', 'display_phone': '(212) 802-9999', 'distance': 3733.2340039118267}, {'id': 'nRO136GRieGtxz18uD61DA', 'alias': 'eleven-madison-park-new-york', 'name': 'Eleven Madison Park', 'image_url': 'https://s3-media1.fl.yelpcdn.com/bphoto/s_H7gm_Hwmz--O6bo1iU-A/o.jpg', 'is_closed': False, 'url': 'https://www.yelp.com/biz/eleven-madison-park-new-york?adjust_creative=cM1zrjoabjXir-vOTu86eg&utm_campaign=yelp_api_v3&utm_medium=api_v3_business_search&utm_source=cM1zrjoabjXir-vOTu86eg', 'review_count': 2473, 'categories': [{'alias': 'newamerican', 'title': 'New American'}, {'alias': 'french', 'title': 'French'}, {'alias': 'cocktailbars', 'title': 'Cocktail Bars'}], 'rating': 4.5, 'coordinates': {'latitude': 40.7416907417333, 'longitude': -73.9872074872255}, 'transactions': [], 'price': '$$$$', 'location': {'address1': '11 Madison Ave', 'address2': '', 'address3': '', 'city': 'New York', 'zip_code': '10010', 'country': 'US', 'state': 'NY', 'display_address': ['11 Madison Ave', 'New York, NY 10010']}, 'phone': '+12128890905', 'display_phone': '(212) 889-0905', 'distance': 4062.929570044286}, {'id': 'A_YpTLbAlEqeLVSs9bxbEA', 'alias': 'club-a-steakhouse-new-york', 'name': 'Club A Steakhouse', 'image_url': 'https://s3-media1.fl.yelpcdn.com/bphoto/KOAzq3JLOh-wxcAGV5_Bfw/o.jpg', 'is_closed': False, 'url': 'https://www.yelp.com/biz/club-a-steakhouse-new-york?adjust_creative=cM1zrjoabjXir-vOTu86eg&utm_campaign=yelp_api_v3&utm_medium=api_v3_business_search&utm_source=cM1zrjoabjXir-vOTu86eg', 'review_count': 3378, 'categories': [{'alias': 'steak', 'title': 'Steakhouses'}], 'rating': 4.5, 'coordinates': {'latitude': 40.76006, 'longitude': -73.96557}, 'transactions': ['pickup', 'delivery'], 'price': '$$$', 'location': {'address1': '240 E 58th St', 'address2': '', 'address3': '', 'city': 'New York', 'zip_code': '10022', 'country': 'US', 'state': 'NY', 'display_address': ['240 E 58th St', 'New York, NY 10022']}, 'phone': '+12126884190', 'display_phone': '(212) 688-4190', 'distance': 6525.903460021827}, {'id': 'ysqgdbSrezXgVwER2kQWKA', 'alias': 'julianas-brooklyn-3', 'name': \"Juliana's\", 'image_url': 'https://s3-media2.fl.yelpcdn.com/bphoto/od36nFW220aMFAnNP00ocw/o.jpg', 'is_closed': False, 'url': 'https://www.yelp.com/biz/julianas-brooklyn-3?adjust_creative=cM1zrjoabjXir-vOTu86eg&utm_campaign=yelp_api_v3&utm_medium=api_v3_business_search&utm_source=cM1zrjoabjXir-vOTu86eg', 'review_count': 2746, 'categories': [{'alias': 'pizza', 'title': 'Pizza'}], 'rating': 4.5, 'coordinates': {'latitude': 40.70274718768062, 'longitude': -73.99343490196397}, 'transactions': ['delivery'], 'price': '$$', 'location': {'address1': '19 Old Fulton St', 'address2': '', 'address3': '', 'city': 'Brooklyn', 'zip_code': '11201', 'country': 'US', 'state': 'NY', 'display_address': ['19 Old Fulton St', 'Brooklyn, NY 11201']}, 'phone': '+17185966700', 'display_phone': '(718) 596-6700', 'distance': 318.8762608116642}, {'id': '1DfbZ0VsSCg9g1KILmnvzQ', 'alias': 'per-se-new-york', 'name': 'Per Se', 'image_url': 'https://s3-media3.fl.yelpcdn.com/bphoto/531LmZ0PjJD523UNhldWjw/o.jpg', 'is_closed': False, 'url': 'https://www.yelp.com/biz/per-se-new-york?adjust_creative=cM1zrjoabjXir-vOTu86eg&utm_campaign=yelp_api_v3&utm_medium=api_v3_business_search&utm_source=cM1zrjoabjXir-vOTu86eg', 'review_count': 1884, 'categories': [{'alias': 'french', 'title': 'French'}], 'rating': 4.5, 'coordinates': {'latitude': 40.7681528889558, 'longitude': -73.9827629623657}, 'transactions': [], 'price': '$$$$', 'location': {'address1': '10 Columbus Cir', 'address2': 'Fl 4', 'address3': None, 'city': 'New York', 'zip_code': '10019', 'country': 'US', 'state': 'NY', 'display_address': ['10 Columbus Cir', 'Fl 4', 'New York, NY 10019']}, 'phone': '+12128239335', 'display_phone': '(212) 823-9335', 'distance': 7028.746060156897}, {'id': 'h37t9rA06Sr4EetJjKrfzw', 'alias': 'don-angie-new-york', 'name': 'Don Angie', 'image_url': 'https://s3-media2.fl.yelpcdn.com/bphoto/onJX6_vaMPHXUqIbMrq79A/o.jpg', 'is_closed': False, 'url': 'https://www.yelp.com/biz/don-angie-new-york?adjust_creative=cM1zrjoabjXir-vOTu86eg&utm_campaign=yelp_api_v3&utm_medium=api_v3_business_search&utm_source=cM1zrjoabjXir-vOTu86eg', 'review_count': 834, 'categories': [{'alias': 'italian', 'title': 'Italian'}, {'alias': 'newamerican', 'title': 'New American'}], 'rating': 4.5, 'coordinates': {'latitude': 40.73778, 'longitude': -74.00197}, 'transactions': ['delivery'], 'price': '$$$', 'location': {'address1': '103 Greenwich Ave', 'address2': '', 'address3': None, 'city': 'New York', 'zip_code': '10014', 'country': 'US', 'state': 'NY', 'display_address': ['103 Greenwich Ave', 'New York, NY 10014']}, 'phone': '+12128898884', 'display_phone': '(212) 889-8884', 'distance': 3646.541688095945}, {'id': 'ypqK8DWM8Bcs43YveSJnNw', 'alias': 'manhatta-new-york', 'name': 'Manhatta', 'image_url': 'https://s3-media3.fl.yelpcdn.com/bphoto/uHQHaX-Q6_Z0ptEGNFenIw/o.jpg', 'is_closed': False, 'url': 'https://www.yelp.com/biz/manhatta-new-york?adjust_creative=cM1zrjoabjXir-vOTu86eg&utm_campaign=yelp_api_v3&utm_medium=api_v3_business_search&utm_source=cM1zrjoabjXir-vOTu86eg', 'review_count': 696, 'categories': [{'alias': 'newamerican', 'title': 'New American'}], 'rating': 4.5, 'coordinates': {'latitude': 40.70800627689857, 'longitude': -74.00888226517013}, 'transactions': [], 'price': '$$$$', 'location': {'address1': '28 Liberty St', 'address2': 'Fl 60', 'address3': None, 'city': 'New York', 'zip_code': '10005', 'country': 'US', 'state': 'NY', 'display_address': ['28 Liberty St', 'Fl 60', 'New York, NY 10005']}, 'phone': '+12122305788', 'display_phone': '(212) 230-5788', 'distance': 1262.2789968123395}, {'id': 'ehUuSk5gPTCQmwS_ubgKRA', 'alias': 'upstate-craft-beer-and-oyster-bar-new-york-4', 'name': 'Upstate Craft Beer & Oyster Bar', 'image_url': 'https://s3-media2.fl.yelpcdn.com/bphoto/V3pVDPhGZdbBueIMxkc8uw/o.jpg', 'is_closed': False, 'url': 'https://www.yelp.com/biz/upstate-craft-beer-and-oyster-bar-new-york-4?adjust_creative=cM1zrjoabjXir-vOTu86eg&utm_campaign=yelp_api_v3&utm_medium=api_v3_business_search&utm_source=cM1zrjoabjXir-vOTu86eg', 'review_count': 2088, 'categories': [{'alias': 'seafood', 'title': 'Seafood'}], 'rating': 4.5, 'coordinates': {'latitude': 40.726373, 'longitude': -73.986557}, 'transactions': ['restaurant_reservation', 'delivery'], 'price': '$$', 'location': {'address1': '95 1st Ave', 'address2': None, 'address3': '', 'city': 'New York', 'zip_code': '10003', 'country': 'US', 'state': 'NY', 'display_address': ['95 1st Ave', 'New York, NY 10003']}, 'phone': '+16467915400', 'display_phone': '(646) 791-5400', 'distance': 2405.2814943834474}, {'id': '_LJFf9YqpYxvExTvVxb7Rw', 'alias': 'the-modern-new-york-3', 'name': 'The Modern', 'image_url': 'https://s3-media4.fl.yelpcdn.com/bphoto/Y25Ig0-ejUSJHoFnobCR2w/o.jpg', 'is_closed': False, 'url': 'https://www.yelp.com/biz/the-modern-new-york-3?adjust_creative=cM1zrjoabjXir-vOTu86eg&utm_campaign=yelp_api_v3&utm_medium=api_v3_business_search&utm_source=cM1zrjoabjXir-vOTu86eg', 'review_count': 1196, 'categories': [{'alias': 'newamerican', 'title': 'New American'}], 'rating': 4.5, 'coordinates': {'latitude': 40.761106128269006, 'longitude': -73.97670872686992}, 'transactions': [], 'price': '$$$$', 'location': {'address1': '9 W 53rd St', 'address2': '', 'address3': '', 'city': 'New York', 'zip_code': '10019', 'country': 'US', 'state': 'NY', 'display_address': ['9 W 53rd St', 'New York, NY 10019']}, 'phone': '+12123331220', 'display_phone': '(212) 333-1220', 'distance': 6352.669745324919}, {'id': 'OFfZUS-nu6NDnsWe1B2bUQ', 'alias': 'tonchin-new-york-2', 'name': 'Tonchin', 'image_url': 'https://s3-media2.fl.yelpcdn.com/bphoto/BgQKNO97PzwQSsvmAKHIkA/o.jpg', 'is_closed': False, 'url': 'https://www.yelp.com/biz/tonchin-new-york-2?adjust_creative=cM1zrjoabjXir-vOTu86eg&utm_campaign=yelp_api_v3&utm_medium=api_v3_business_search&utm_source=cM1zrjoabjXir-vOTu86eg', 'review_count': 2068, 'categories': [{'alias': 'ramen', 'title': 'Ramen'}, {'alias': 'cocktailbars', 'title': 'Cocktail Bars'}, {'alias': 'chicken_wings', 'title': 'Chicken Wings'}], 'rating': 4.5, 'coordinates': {'latitude': 40.7502727, 'longitude': -73.9844951}, 'transactions': ['pickup', 'delivery'], 'price': '$$', 'location': {'address1': '13 W 36th St', 'address2': None, 'address3': '', 'city': 'New York', 'zip_code': '10018', 'country': 'US', 'state': 'NY', 'display_address': ['13 W 36th St', 'New York, NY 10018']}, 'phone': '+16466929912', 'display_phone': '(646) 692-9912', 'distance': 5041.108503217421}, {'id': 'liZmIO0FqZwslLJfLDkfgw', 'alias': 'wayla-new-york', 'name': 'Wayla', 'image_url': 'https://s3-media2.fl.yelpcdn.com/bphoto/u17PWWBYzqe3p1uEPgKVuQ/o.jpg', 'is_closed': False, 'url': 'https://www.yelp.com/biz/wayla-new-york?adjust_creative=cM1zrjoabjXir-vOTu86eg&utm_campaign=yelp_api_v3&utm_medium=api_v3_business_search&utm_source=cM1zrjoabjXir-vOTu86eg', 'review_count': 680, 'categories': [{'alias': 'thai', 'title': 'Thai'}], 'rating': 4.5, 'coordinates': {'latitude': 40.7183, 'longitude': -73.9926038}, 'transactions': ['delivery'], 'price': '$$$', 'location': {'address1': '100 Forsyth St', 'address2': 'Basement', 'address3': None, 'city': 'New York', 'zip_code': '10002', 'country': 'US', 'state': 'NY', 'display_address': ['100 Forsyth St', 'Basement', 'New York, NY 10002']}, 'phone': '+12122062500', 'display_phone': '(212) 206-2500', 'distance': 1425.1367257566037}, {'id': 'DRitJoNGTkHXZvH_YpLIAw', 'alias': 'marc-forgione-new-york-2', 'name': 'Marc Forgione', 'image_url': 'https://s3-media3.fl.yelpcdn.com/bphoto/f_rrhoaW8XBineAC9IsVMA/o.jpg', 'is_closed': False, 'url': 'https://www.yelp.com/biz/marc-forgione-new-york-2?adjust_creative=cM1zrjoabjXir-vOTu86eg&utm_campaign=yelp_api_v3&utm_medium=api_v3_business_search&utm_source=cM1zrjoabjXir-vOTu86eg', 'review_count': 1020, 'categories': [{'alias': 'newamerican', 'title': 'New American'}], 'rating': 4.5, 'coordinates': {'latitude': 40.71647, 'longitude': -74.0095599}, 'transactions': ['pickup', 'delivery'], 'price': '$$$', 'location': {'address1': '134 Reade St', 'address2': '', 'address3': '', 'city': 'New York', 'zip_code': '10013', 'country': 'US', 'state': 'NY', 'display_address': ['134 Reade St', 'New York, NY 10013']}, 'phone': '+12129419401', 'display_phone': '(212) 941-9401', 'distance': 1775.8377525676901}, {'id': 'rp8S7scxOkVVeG7dNneMGQ', 'alias': 'l-artusi-new-york', 'name': \"L'Artusi\", 'image_url': 'https://s3-media3.fl.yelpcdn.com/bphoto/f3cXjK22cC0obBDUR3TzjA/o.jpg', 'is_closed': False, 'url': 'https://www.yelp.com/biz/l-artusi-new-york?adjust_creative=cM1zrjoabjXir-vOTu86eg&utm_campaign=yelp_api_v3&utm_medium=api_v3_business_search&utm_source=cM1zrjoabjXir-vOTu86eg', 'review_count': 2422, 'categories': [{'alias': 'italian', 'title': 'Italian'}, {'alias': 'cocktailbars', 'title': 'Cocktail Bars'}], 'rating': 4.5, 'coordinates': {'latitude': 40.73372, 'longitude': -74.00513}, 'transactions': ['pickup', 'delivery'], 'price': '$$$', 'location': {'address1': '228 W 10th St', 'address2': '', 'address3': '', 'city': 'New York', 'zip_code': '10014', 'country': 'US', 'state': 'NY', 'display_address': ['228 W 10th St', 'New York, NY 10014']}, 'phone': '+12122555757', 'display_phone': '(212) 255-5757', 'distance': 3262.979446879521}, {'id': '-Q8MYIWoE4EsGQtudIOY0w', 'alias': 'bua-thai-ramen-and-robata-grill-new-york', 'name': 'Bua Thai Ramen & Robata Grill', 'image_url': 'https://s3-media3.fl.yelpcdn.com/bphoto/STPkeCnzxNZTax2QYGhe-g/o.jpg', 'is_closed': False, 'url': 'https://www.yelp.com/biz/bua-thai-ramen-and-robata-grill-new-york?adjust_creative=cM1zrjoabjXir-vOTu86eg&utm_campaign=yelp_api_v3&utm_medium=api_v3_business_search&utm_source=cM1zrjoabjXir-vOTu86eg', 'review_count': 2650, 'categories': [{'alias': 'thai', 'title': 'Thai'}, {'alias': 'ramen', 'title': 'Ramen'}, {'alias': 'vegetarian', 'title': 'Vegetarian'}], 'rating': 4.5, 'coordinates': {'latitude': 40.7763615, 'longitude': -73.95308}, 'transactions': ['restaurant_reservation', 'pickup', 'delivery'], 'price': '$$', 'location': {'address1': '1611 2nd Ave', 'address2': None, 'address3': '', 'city': 'New York', 'zip_code': '10028', 'country': 'US', 'state': 'NY', 'display_address': ['1611 2nd Ave', 'New York, NY 10028']}, 'phone': '+12128797999', 'display_phone': '(212) 879-7999', 'distance': 8604.910580262833}, {'id': 'zj8Lq1T8KIC5zwFief15jg', 'alias': 'prince-street-pizza-new-york-2', 'name': 'Prince Street Pizza', 'image_url': 'https://s3-media4.fl.yelpcdn.com/bphoto/bckPg7Lznyf4rQSqvCJ2WA/o.jpg', 'is_closed': False, 'url': 'https://www.yelp.com/biz/prince-street-pizza-new-york-2?adjust_creative=cM1zrjoabjXir-vOTu86eg&utm_campaign=yelp_api_v3&utm_medium=api_v3_business_search&utm_source=cM1zrjoabjXir-vOTu86eg', 'review_count': 5171, 'categories': [{'alias': 'pizza', 'title': 'Pizza'}, {'alias': 'italian', 'title': 'Italian'}], 'rating': 4.5, 'coordinates': {'latitude': 40.72308755605564, 'longitude': -73.99453001177575}, 'transactions': ['pickup', 'delivery'], 'price': '$', 'location': {'address1': '27 Prince St', 'address2': None, 'address3': '', 'city': 'New York', 'zip_code': '10012', 'country': 'US', 'state': 'NY', 'display_address': ['27 Prince St', 'New York, NY 10012']}, 'phone': '+12129664100', 'display_phone': '(212) 966-4100', 'distance': 1950.7368390479296}, {'id': 'qY1o1MhoRyN84RRhUJtvpQ', 'alias': 'her-name-is-han-new-york-3', 'name': 'Her Name Is Han', 'image_url': 'https://s3-media4.fl.yelpcdn.com/bphoto/yTJ5aCvzs0nMfDUUzHK1XQ/o.jpg', 'is_closed': False, 'url': 'https://www.yelp.com/biz/her-name-is-han-new-york-3?adjust_creative=cM1zrjoabjXir-vOTu86eg&utm_campaign=yelp_api_v3&utm_medium=api_v3_business_search&utm_source=cM1zrjoabjXir-vOTu86eg', 'review_count': 1920, 'categories': [{'alias': 'korean', 'title': 'Korean'}, {'alias': 'breakfast_brunch', 'title': 'Breakfast & Brunch'}], 'rating': 4.5, 'coordinates': {'latitude': 40.7462615966797, 'longitude': -73.984733581543}, 'transactions': ['pickup', 'delivery'], 'price': '$$', 'location': {'address1': '17 E 31st St', 'address2': '', 'address3': '', 'city': 'New York', 'zip_code': '10016', 'country': 'US', 'state': 'NY', 'display_address': ['17 E 31st St', 'New York, NY 10016']}, 'phone': '+12127799990', 'display_phone': '(212) 779-9990', 'distance': 4593.676507866168}, {'id': 'klAhw3xLQi9GF1tf_HnS7w', 'alias': 'izakaya-mew-new-york-3', 'name': 'Izakaya MEW', 'image_url': 'https://s3-media4.fl.yelpcdn.com/bphoto/-56mpvzUi0nfYADw2uQXhg/o.jpg', 'is_closed': False, 'url': 'https://www.yelp.com/biz/izakaya-mew-new-york-3?adjust_creative=cM1zrjoabjXir-vOTu86eg&utm_campaign=yelp_api_v3&utm_medium=api_v3_business_search&utm_source=cM1zrjoabjXir-vOTu86eg', 'review_count': 2932, 'categories': [{'alias': 'tapas', 'title': 'Tapas Bars'}, {'alias': 'sushi', 'title': 'Sushi Bars'}, {'alias': 'izakaya', 'title': 'Izakaya'}], 'rating': 4.5, 'coordinates': {'latitude': 40.750148, 'longitude': -73.9863203465939}, 'transactions': ['pickup', 'delivery'], 'price': '$$', 'location': {'address1': '53 W 35th St', 'address2': '', 'address3': '', 'city': 'New York', 'zip_code': '10001', 'country': 'US', 'state': 'NY', 'display_address': ['53 W 35th St', 'New York, NY 10001']}, 'phone': '+16463689384', 'display_phone': '(646) 368-9384', 'distance': 5004.54792484731}, {'id': 'OgM6WwztLVavBQBmb_g5aw', 'alias': 'tara-rose-new-york', 'name': 'Tara Rose', 'image_url': 'https://s3-media3.fl.yelpcdn.com/bphoto/Pwf134BvgMWmd3Op6NhuKQ/o.jpg', 'is_closed': False, 'url': 'https://www.yelp.com/biz/tara-rose-new-york?adjust_creative=cM1zrjoabjXir-vOTu86eg&utm_campaign=yelp_api_v3&utm_medium=api_v3_business_search&utm_source=cM1zrjoabjXir-vOTu86eg', 'review_count': 796, 'categories': [{'alias': 'cocktailbars', 'title': 'Cocktail Bars'}, {'alias': 'newamerican', 'title': 'New American'}, {'alias': 'breakfast_brunch', 'title': 'Breakfast & Brunch'}], 'rating': 4.5, 'coordinates': {'latitude': 40.741803261063986, 'longitude': -73.98122457328056}, 'transactions': ['restaurant_reservation', 'pickup', 'delivery'], 'price': '$$', 'location': {'address1': '384 3rd Ave', 'address2': '', 'address3': '', 'city': 'New York', 'zip_code': '10016', 'country': 'US', 'state': 'NY', 'display_address': ['384 3rd Ave', 'New York, NY 10016']}, 'phone': '+19296025983', 'display_phone': '(929) 602-5983', 'distance': 4178.744042124024}, {'id': 'nI1UYDCYUTt23TpGxqnLKg', 'alias': 'buddakan-new-york', 'name': 'Buddakan', 'image_url': 'https://s3-media4.fl.yelpcdn.com/bphoto/JJ6WiHxZmX3gKyllSteBmA/o.jpg', 'is_closed': False, 'url': 'https://www.yelp.com/biz/buddakan-new-york?adjust_creative=cM1zrjoabjXir-vOTu86eg&utm_campaign=yelp_api_v3&utm_medium=api_v3_business_search&utm_source=cM1zrjoabjXir-vOTu86eg', 'review_count': 4608, 'categories': [{'alias': 'chinese', 'title': 'Chinese'}, {'alias': 'bars', 'title': 'Bars'}, {'alias': 'asianfusion', 'title': 'Asian Fusion'}], 'rating': 4.0, 'coordinates': {'latitude': 40.7422762672197, 'longitude': -74.0048000961542}, 'transactions': ['pickup', 'delivery'], 'price': '$$$$', 'location': {'address1': '75 9th Ave', 'address2': None, 'address3': '', 'city': 'New York', 'zip_code': '10011', 'country': 'US', 'state': 'NY', 'display_address': ['75 9th Ave', 'New York, NY 10011']}, 'phone': '+12129896699', 'display_phone': '(212) 989-6699', 'distance': 4179.698118919742}, {'id': '__EvomQ2tE1NtkWn32WEXg', 'alias': 'au-cheval-new-york-7', 'name': 'Au Cheval', 'image_url': 'https://s3-media3.fl.yelpcdn.com/bphoto/i3kwsfrNgtxP4L6nJE9lxQ/o.jpg', 'is_closed': False, 'url': 'https://www.yelp.com/biz/au-cheval-new-york-7?adjust_creative=cM1zrjoabjXir-vOTu86eg&utm_campaign=yelp_api_v3&utm_medium=api_v3_business_search&utm_source=cM1zrjoabjXir-vOTu86eg', 'review_count': 940, 'categories': [{'alias': 'burgers', 'title': 'Burgers'}, {'alias': 'newamerican', 'title': 'New American'}, {'alias': 'cocktailbars', 'title': 'Cocktail Bars'}], 'rating': 4.5, 'coordinates': {'latitude': 40.71812171604106, 'longitude': -74.00196237391103}, 'transactions': [], 'price': '$$$', 'location': {'address1': '33 Cortlandt Aly', 'address2': '', 'address3': None, 'city': 'New York', 'zip_code': '10013', 'country': 'US', 'state': 'NY', 'display_address': ['33 Cortlandt Aly', 'New York, NY 10013']}, 'phone': '+16463502429', 'display_phone': '(646) 350-2429', 'distance': 1541.6574236538356}, {'id': 'FiRB9Ek3Xo9JHwXgBYITYg', 'alias': 'la-sirene-new-york-4', 'name': 'La Sirene', 'image_url': 'https://s3-media4.fl.yelpcdn.com/bphoto/sin7wofXSXozdrxpuA4PhA/o.jpg', 'is_closed': False, 'url': 'https://www.yelp.com/biz/la-sirene-new-york-4?adjust_creative=cM1zrjoabjXir-vOTu86eg&utm_campaign=yelp_api_v3&utm_medium=api_v3_business_search&utm_source=cM1zrjoabjXir-vOTu86eg', 'review_count': 1713, 'categories': [{'alias': 'french', 'title': 'French'}], 'rating': 4.5, 'coordinates': {'latitude': 40.7243642217227, 'longitude': -74.005708694458}, 'transactions': ['pickup', 'delivery'], 'price': '$$$', 'location': {'address1': '558 Broome St', 'address2': '', 'address3': '', 'city': 'New York', 'zip_code': '10013', 'country': 'US', 'state': 'NY', 'display_address': ['558 Broome St', 'New York, NY 10013']}, 'phone': '+12129253061', 'display_phone': '(212) 925-3061', 'distance': 2304.203318775593}, {'id': 'mESab-FqL5QqSVsnX72asQ', 'alias': 'zen-ramen-and-sushi-new-york', 'name': 'Zen Ramen & Sushi', 'image_url': 'https://s3-media1.fl.yelpcdn.com/bphoto/lZ5lOYihsojZmYjnvSZGPg/o.jpg', 'is_closed': False, 'url': 'https://www.yelp.com/biz/zen-ramen-and-sushi-new-york?adjust_creative=cM1zrjoabjXir-vOTu86eg&utm_campaign=yelp_api_v3&utm_medium=api_v3_business_search&utm_source=cM1zrjoabjXir-vOTu86eg', 'review_count': 2739, 'categories': [{'alias': 'sushi', 'title': 'Sushi Bars'}, {'alias': 'ramen', 'title': 'Ramen'}, {'alias': 'salad', 'title': 'Salad'}], 'rating': 4.5, 'coordinates': {'latitude': 40.75177475474212, 'longitude': -73.98897630211589}, 'transactions': ['pickup', 'delivery'], 'price': '$$', 'location': {'address1': '150 W 36th street', 'address2': '', 'address3': '', 'city': 'New York', 'zip_code': '10018', 'country': 'US', 'state': 'NY', 'display_address': ['150 W 36th street', 'New York, NY 10018']}, 'phone': '+16468707509', 'display_phone': '(646) 870-7509', 'distance': 5159.743917374788}, {'id': 'V7lXZKBDzScDeGB8JmnzSA', 'alias': 'katzs-delicatessen-new-york', 'name': \"Katz's Delicatessen\", 'image_url': 'https://s3-media3.fl.yelpcdn.com/bphoto/CkSfFJLJbUItcMxIakKVjw/o.jpg', 'is_closed': False, 'url': 'https://www.yelp.com/biz/katzs-delicatessen-new-york?adjust_creative=cM1zrjoabjXir-vOTu86eg&utm_campaign=yelp_api_v3&utm_medium=api_v3_business_search&utm_source=cM1zrjoabjXir-vOTu86eg', 'review_count': 15361, 'categories': [{'alias': 'delis', 'title': 'Delis'}, {'alias': 'sandwiches', 'title': 'Sandwiches'}, {'alias': 'soup', 'title': 'Soup'}], 'rating': 4.0, 'coordinates': {'latitude': 40.722237, 'longitude': -73.9875259}, 'transactions': ['pickup', 'delivery'], 'price': '$$', 'location': {'address1': '205 E Houston St', 'address2': '', 'address3': '', 'city': 'New York', 'zip_code': '10002', 'country': 'US', 'state': 'NY', 'display_address': ['205 E Houston St', 'New York, NY 10002']}, 'phone': '+12122542246', 'display_phone': '(212) 254-2246', 'distance': 1940.9536370777244}, {'id': 'NN3mOWF5e_pnR1ArqM2bHQ', 'alias': 'obao-new-york-3', 'name': 'OBAO', 'image_url': 'https://s3-media4.fl.yelpcdn.com/bphoto/CpVI2XJLrvg09Fm83bfPog/o.jpg', 'is_closed': False, 'url': 'https://www.yelp.com/biz/obao-new-york-3?adjust_creative=cM1zrjoabjXir-vOTu86eg&utm_campaign=yelp_api_v3&utm_medium=api_v3_business_search&utm_source=cM1zrjoabjXir-vOTu86eg', 'review_count': 4113, 'categories': [{'alias': 'vietnamese', 'title': 'Vietnamese'}, {'alias': 'thai', 'title': 'Thai'}, {'alias': 'asianfusion', 'title': 'Asian Fusion'}], 'rating': 4.0, 'coordinates': {'latitude': 40.7606544, 'longitude': -73.991332}, 'transactions': ['pickup', 'delivery'], 'price': '$$', 'location': {'address1': '647 9th Ave', 'address2': '', 'address3': '', 'city': 'New York', 'zip_code': '10036', 'country': 'US', 'state': 'NY', 'display_address': ['647 9th Ave', 'New York, NY 10036']}, 'phone': '+12122458880', 'display_phone': '(212) 245-8880', 'distance': 6132.820728042439}, {'id': '4yPqqJDJOQX69gC66YUDkA', 'alias': 'peter-luger-brooklyn-2', 'name': 'Peter Luger', 'image_url': 'https://s3-media3.fl.yelpcdn.com/bphoto/rL7gJudmnBVLw3268m4Lcg/o.jpg', 'is_closed': False, 'url': 'https://www.yelp.com/biz/peter-luger-brooklyn-2?adjust_creative=cM1zrjoabjXir-vOTu86eg&utm_campaign=yelp_api_v3&utm_medium=api_v3_business_search&utm_source=cM1zrjoabjXir-vOTu86eg', 'review_count': 6915, 'categories': [{'alias': 'steak', 'title': 'Steakhouses'}], 'rating': 4.0, 'coordinates': {'latitude': 40.709945, 'longitude': -73.962478}, 'transactions': [], 'price': '$$$$', 'location': {'address1': '178 Broadway', 'address2': '', 'address3': '', 'city': 'Brooklyn', 'zip_code': '11211', 'country': 'US', 'state': 'NY', 'display_address': ['178 Broadway', 'Brooklyn, NY 11211']}, 'phone': '+17183877400', 'display_phone': '(718) 387-7400', 'distance': 2723.5099306751026}, {'id': 'obFs12x7mgYPGxgalBd22w', 'alias': 'le-coucou-new-york', 'name': 'Le Coucou', 'image_url': 'https://s3-media3.fl.yelpcdn.com/bphoto/jthA6f2P9SOzmIdAaol1gQ/o.jpg', 'is_closed': False, 'url': 'https://www.yelp.com/biz/le-coucou-new-york?adjust_creative=cM1zrjoabjXir-vOTu86eg&utm_campaign=yelp_api_v3&utm_medium=api_v3_business_search&utm_source=cM1zrjoabjXir-vOTu86eg', 'review_count': 730, 'categories': [{'alias': 'french', 'title': 'French'}], 'rating': 4.0, 'coordinates': {'latitude': 40.71909, 'longitude': -74.00013}, 'transactions': [], 'price': '$$$$', 'location': {'address1': '138 Lafayette St', 'address2': '', 'address3': '', 'city': 'New York', 'zip_code': '10013', 'country': 'US', 'state': 'NY', 'display_address': ['138 Lafayette St', 'New York, NY 10013']}, 'phone': '+12122714252', 'display_phone': '(212) 271-4252', 'distance': 1588.5172935450066}, {'id': 'Rc1lxc5lSKJYd162JHNMfQ', 'alias': 'bea-new-york', 'name': 'Bea', 'image_url': 'https://s3-media3.fl.yelpcdn.com/bphoto/Xti3b8-6LP8UnG016hJfVQ/o.jpg', 'is_closed': False, 'url': 'https://www.yelp.com/biz/bea-new-york?adjust_creative=cM1zrjoabjXir-vOTu86eg&utm_campaign=yelp_api_v3&utm_medium=api_v3_business_search&utm_source=cM1zrjoabjXir-vOTu86eg', 'review_count': 2924, 'categories': [{'alias': 'newamerican', 'title': 'New American'}, {'alias': 'cocktailbars', 'title': 'Cocktail Bars'}], 'rating': 4.0, 'coordinates': {'latitude': 40.7591968, 'longitude': -73.9923361}, 'transactions': ['restaurant_reservation', 'delivery'], 'price': '$$', 'location': {'address1': '403 W 43rd St', 'address2': '', 'address3': '', 'city': 'New York', 'zip_code': '10036', 'country': 'US', 'state': 'NY', 'display_address': ['403 W 43rd St', 'New York, NY 10036']}, 'phone': '+12126021910', 'display_phone': '(212) 602-1910', 'distance': 5967.977278673551}, {'id': 'An1_BlhLJDZomxI91SBv7g', 'alias': 'oiji-mi-new-york-2', 'name': 'Oiji Mi', 'image_url': 'https://s3-media1.fl.yelpcdn.com/bphoto/nDEv_tWcQNC8bIbcgSU1uw/o.jpg', 'is_closed': False, 'url': 'https://www.yelp.com/biz/oiji-mi-new-york-2?adjust_creative=cM1zrjoabjXir-vOTu86eg&utm_campaign=yelp_api_v3&utm_medium=api_v3_business_search&utm_source=cM1zrjoabjXir-vOTu86eg', 'review_count': 246, 'categories': [{'alias': 'korean', 'title': 'Korean'}, {'alias': 'bars', 'title': 'Bars'}], 'rating': 4.5, 'coordinates': {'latitude': 40.73966, 'longitude': -73.99247}, 'transactions': [], 'price': '$$$$', 'location': {'address1': '17 W 19th St', 'address2': None, 'address3': '', 'city': 'New York', 'zip_code': '10011', 'country': 'US', 'state': 'NY', 'display_address': ['17 W 19th St', 'New York, NY 10011']}, 'phone': '+12122561259', 'display_phone': '(212) 256-1259', 'distance': 3797.321060995411}, {'id': '_0WFGjXuenlBixOlbSlGeQ', 'alias': 'crown-shy-new-york-2', 'name': 'Crown Shy', 'image_url': 'https://s3-media2.fl.yelpcdn.com/bphoto/-OfMjpri7i5Ym2awNmCG_A/o.jpg', 'is_closed': False, 'url': 'https://www.yelp.com/biz/crown-shy-new-york-2?adjust_creative=cM1zrjoabjXir-vOTu86eg&utm_campaign=yelp_api_v3&utm_medium=api_v3_business_search&utm_source=cM1zrjoabjXir-vOTu86eg', 'review_count': 588, 'categories': [{'alias': 'newamerican', 'title': 'New American'}, {'alias': 'cocktailbars', 'title': 'Cocktail Bars'}], 'rating': 4.0, 'coordinates': {'latitude': 40.7063449, 'longitude': -74.0076944}, 'transactions': [], 'price': '$$$$', 'location': {'address1': '70 Pine St', 'address2': None, 'address3': '', 'city': 'New York', 'zip_code': '10005', 'country': 'US', 'state': 'NY', 'display_address': ['70 Pine St', 'New York, NY 10005']}, 'phone': '+12125171932', 'display_phone': '(212) 517-1932', 'distance': 1143.6309631425356}, {'id': 'TN4RnyqHMSupRFot4Q-_EA', 'alias': 'ippudo-westside-new-york', 'name': 'Ippudo Westside', 'image_url': 'https://s3-media2.fl.yelpcdn.com/bphoto/EmJBZo1FvHemEBgyJknEOQ/o.jpg', 'is_closed': False, 'url': 'https://www.yelp.com/biz/ippudo-westside-new-york?adjust_creative=cM1zrjoabjXir-vOTu86eg&utm_campaign=yelp_api_v3&utm_medium=api_v3_business_search&utm_source=cM1zrjoabjXir-vOTu86eg', 'review_count': 4081, 'categories': [{'alias': 'ramen', 'title': 'Ramen'}], 'rating': 4.0, 'coordinates': {'latitude': 40.76344, 'longitude': -73.98661}, 'transactions': ['pickup', 'delivery'], 'price': '$$', 'location': {'address1': '321 W 51st St', 'address2': None, 'address3': '', 'city': 'New York', 'zip_code': '10019', 'country': 'US', 'state': 'NY', 'display_address': ['321 W 51st St', 'New York, NY 10019']}, 'phone': '+12129742500', 'display_phone': '(212) 974-2500', 'distance': 6475.42528003275}, {'id': 'VoAuIReq_cPUrFwxbWqG_Q', 'alias': 'sala-thai-restaurant-new-york-2', 'name': 'Sala Thai Restaurant', 'image_url': 'https://s3-media1.fl.yelpcdn.com/bphoto/tRqbnqW8GA5RZHJ61gGOOA/o.jpg', 'is_closed': False, 'url': 'https://www.yelp.com/biz/sala-thai-restaurant-new-york-2?adjust_creative=cM1zrjoabjXir-vOTu86eg&utm_campaign=yelp_api_v3&utm_medium=api_v3_business_search&utm_source=cM1zrjoabjXir-vOTu86eg', 'review_count': 889, 'categories': [{'alias': 'thai', 'title': 'Thai'}], 'rating': 4.5, 'coordinates': {'latitude': 40.78012, 'longitude': -73.98032}, 'transactions': ['pickup', 'delivery'], 'price': '$$', 'location': {'address1': '307 Amsterdam Ave', 'address2': '', 'address3': '', 'city': 'New York', 'zip_code': '10023', 'country': 'US', 'state': 'NY', 'display_address': ['307 Amsterdam Ave', 'New York, NY 10023']}, 'phone': '+12124333999', 'display_phone': '(212) 433-3999', 'distance': 8372.40933719598}, {'id': 'FgPvSR_42MtGKy0_n055iw', 'alias': 'double-chicken-please-new-york', 'name': 'Double Chicken Please', 'image_url': 'https://s3-media4.fl.yelpcdn.com/bphoto/A7EJl6APwPzsbePi3fjDeg/o.jpg', 'is_closed': False, 'url': 'https://www.yelp.com/biz/double-chicken-please-new-york?adjust_creative=cM1zrjoabjXir-vOTu86eg&utm_campaign=yelp_api_v3&utm_medium=api_v3_business_search&utm_source=cM1zrjoabjXir-vOTu86eg', 'review_count': 590, 'categories': [{'alias': 'cocktailbars', 'title': 'Cocktail Bars'}, {'alias': 'burgers', 'title': 'Burgers'}, {'alias': 'sandwiches', 'title': 'Sandwiches'}], 'rating': 4.5, 'coordinates': {'latitude': 40.719584, 'longitude': -73.990486}, 'transactions': ['pickup', 'delivery'], 'price': '$$$', 'location': {'address1': '115 Allen St', 'address2': None, 'address3': '', 'city': 'New York', 'zip_code': '10002', 'country': 'US', 'state': 'NY', 'display_address': ['115 Allen St', 'New York, NY 10002']}, 'phone': '+16466785452', 'display_phone': '(646) 678-5452', 'distance': 1592.6679656244833}, {'id': 'iTj5T_jPYvznd1QTgs7NZw', 'alias': 'nai-new-york', 'name': 'Nai ', 'image_url': 'https://s3-media2.fl.yelpcdn.com/bphoto/YOINY6MFVayDl9v_M3RH8A/o.jpg', 'is_closed': False, 'url': 'https://www.yelp.com/biz/nai-new-york?adjust_creative=cM1zrjoabjXir-vOTu86eg&utm_campaign=yelp_api_v3&utm_medium=api_v3_business_search&utm_source=cM1zrjoabjXir-vOTu86eg', 'review_count': 1095, 'categories': [{'alias': 'tapasmallplates', 'title': 'Tapas/Small Plates'}, {'alias': 'spanish', 'title': 'Spanish'}], 'rating': 4.5, 'coordinates': {'latitude': 40.726512, 'longitude': -73.988796}, 'transactions': ['delivery'], 'price': '$$$', 'location': {'address1': '84 2nd Ave', 'address2': None, 'address3': '', 'city': 'New York', 'zip_code': '10003', 'country': 'US', 'state': 'NY', 'display_address': ['84 2nd Ave', 'New York, NY 10003']}, 'phone': '+12126771030', 'display_phone': '(212) 677-1030', 'distance': 2377.6711888511013}, {'id': 'RfxOtJ4SQmEeVX_XjFLWUQ', 'alias': 'otis-brooklyn-2', 'name': 'Otis', 'image_url': 'https://s3-media4.fl.yelpcdn.com/bphoto/rC5FzcJOLElAgQvWAcKi9w/o.jpg', 'is_closed': False, 'url': 'https://www.yelp.com/biz/otis-brooklyn-2?adjust_creative=cM1zrjoabjXir-vOTu86eg&utm_campaign=yelp_api_v3&utm_medium=api_v3_business_search&utm_source=cM1zrjoabjXir-vOTu86eg', 'review_count': 549, 'categories': [{'alias': 'newamerican', 'title': 'New American'}, {'alias': 'cocktailbars', 'title': 'Cocktail Bars'}], 'rating': 5.0, 'coordinates': {'latitude': 40.706011, 'longitude': -73.932598}, 'transactions': ['pickup', 'delivery'], 'price': '$$$', 'location': {'address1': '18 Harrison Pl', 'address2': None, 'address3': '', 'city': 'Brooklyn', 'zip_code': '11206', 'country': 'US', 'state': 'NY', 'display_address': ['18 Harrison Pl', 'Brooklyn, NY 11206']}, 'phone': '+16468860601', 'display_phone': '(646) 886-0601', 'distance': 5198.230452860656}, {'id': 'XsElXaLxUPKquI78poB8yw', 'alias': 'maison-pickle-new-york', 'name': 'Maison Pickle', 'image_url': 'https://s3-media3.fl.yelpcdn.com/bphoto/b4A2TY2SSJTeu7jkwvGJFw/o.jpg', 'is_closed': False, 'url': 'https://www.yelp.com/biz/maison-pickle-new-york?adjust_creative=cM1zrjoabjXir-vOTu86eg&utm_campaign=yelp_api_v3&utm_medium=api_v3_business_search&utm_source=cM1zrjoabjXir-vOTu86eg', 'review_count': 1848, 'categories': [{'alias': 'cocktailbars', 'title': 'Cocktail Bars'}, {'alias': 'comfortfood', 'title': 'Comfort Food'}, {'alias': 'breakfast_brunch', 'title': 'Breakfast & Brunch'}], 'rating': 4.5, 'coordinates': {'latitude': 40.7870473, 'longitude': -73.9781361}, 'transactions': ['pickup', 'delivery'], 'price': '$$', 'location': {'address1': '2315 Broadway', 'address2': '', 'address3': None, 'city': 'New York', 'zip_code': '10024', 'country': 'US', 'state': 'NY', 'display_address': ['2315 Broadway', 'New York, NY 10024']}, 'phone': '+12124969100', 'display_phone': '(212) 496-9100', 'distance': 9163.866806804153}, {'id': 'Xjswj531-FkRZPpcccU6kQ', 'alias': 'vida-verde-new-york', 'name': 'Vida Verde', 'image_url': 'https://s3-media2.fl.yelpcdn.com/bphoto/7GRTlHLkohNPrnNVETi1IQ/o.jpg', 'is_closed': False, 'url': 'https://www.yelp.com/biz/vida-verde-new-york?adjust_creative=cM1zrjoabjXir-vOTu86eg&utm_campaign=yelp_api_v3&utm_medium=api_v3_business_search&utm_source=cM1zrjoabjXir-vOTu86eg', 'review_count': 1625, 'categories': [{'alias': 'cocktailbars', 'title': 'Cocktail Bars'}, {'alias': 'mexican', 'title': 'Mexican'}, {'alias': 'venues', 'title': 'Venues & Event Spaces'}], 'rating': 4.5, 'coordinates': {'latitude': 40.7649503286729, 'longitude': -73.9828372257363}, 'transactions': ['pickup', 'delivery'], 'price': '$$', 'location': {'address1': '248 W 55th St', 'address2': '', 'address3': None, 'city': 'New York', 'zip_code': '10019', 'country': 'US', 'state': 'NY', 'display_address': ['248 W 55th St', 'New York, NY 10019']}, 'phone': '+16466570565', 'display_phone': '(646) 657-0565', 'distance': 6675.373290350414}, {'id': 'fVsH6QIJPzXpVbgmeiolsA', 'alias': 'jungsik-new-york', 'name': 'Jungsik', 'image_url': 'https://s3-media1.fl.yelpcdn.com/bphoto/_ncio5vx-9Xtd_7epbLB-g/o.jpg', 'is_closed': False, 'url': 'https://www.yelp.com/biz/jungsik-new-york?adjust_creative=cM1zrjoabjXir-vOTu86eg&utm_campaign=yelp_api_v3&utm_medium=api_v3_business_search&utm_source=cM1zrjoabjXir-vOTu86eg', 'review_count': 769, 'categories': [{'alias': 'korean', 'title': 'Korean'}], 'rating': 4.5, 'coordinates': {'latitude': 40.7188032533572, 'longitude': -74.0090829725856}, 'transactions': [], 'price': '$$$$', 'location': {'address1': '2 Harrison St', 'address2': '', 'address3': '', 'city': 'New York', 'zip_code': '10013', 'country': 'US', 'state': 'NY', 'display_address': ['2 Harrison St', 'New York, NY 10013']}, 'phone': '+12122190900', 'display_phone': '(212) 219-0900', 'distance': 1932.2276428730465}, {'id': 'pBNMZp_tKCAfRNx7-ybcHQ', 'alias': 'calle-dao-chelsea-new-york-3', 'name': 'Calle Dao Chelsea', 'image_url': 'https://s3-media1.fl.yelpcdn.com/bphoto/OI1LX38k0O11bu0ZLVZFaQ/o.jpg', 'is_closed': False, 'url': 'https://www.yelp.com/biz/calle-dao-chelsea-new-york-3?adjust_creative=cM1zrjoabjXir-vOTu86eg&utm_campaign=yelp_api_v3&utm_medium=api_v3_business_search&utm_source=cM1zrjoabjXir-vOTu86eg', 'review_count': 1072, 'categories': [{'alias': 'cuban', 'title': 'Cuban'}, {'alias': 'chinese', 'title': 'Chinese'}, {'alias': 'asianfusion', 'title': 'Asian Fusion'}], 'rating': 4.5, 'coordinates': {'latitude': 40.74765439999999, 'longitude': -74.00352547055276}, 'transactions': ['pickup', 'delivery'], 'price': '$$', 'location': {'address1': '461 W 23rd St', 'address2': '', 'address3': None, 'city': 'New York', 'zip_code': '10011', 'country': 'US', 'state': 'NY', 'display_address': ['461 W 23rd St', 'New York, NY 10011']}, 'phone': '+12124144104', 'display_phone': '(212) 414-4104', 'distance': 4746.917025282627}, {'id': 'FlZ1zdVEKWv7dwqm8Uw8-w', 'alias': 'raku-new-york-7', 'name': 'Raku', 'image_url': 'https://s3-media4.fl.yelpcdn.com/bphoto/GEbZnH1jR4n7D5WOJ3urPg/o.jpg', 'is_closed': False, 'url': 'https://www.yelp.com/biz/raku-new-york-7?adjust_creative=cM1zrjoabjXir-vOTu86eg&utm_campaign=yelp_api_v3&utm_medium=api_v3_business_search&utm_source=cM1zrjoabjXir-vOTu86eg', 'review_count': 1608, 'categories': [{'alias': 'japanese', 'title': 'Japanese'}, {'alias': 'noodles', 'title': 'Noodles'}], 'rating': 4.5, 'coordinates': {'latitude': 40.7264988089246, 'longitude': -73.9866526052356}, 'transactions': ['pickup', 'delivery'], 'price': '$$', 'location': {'address1': '342 E 6th St', 'address2': '', 'address3': '', 'city': 'New York', 'zip_code': '10003', 'country': 'US', 'state': 'NY', 'display_address': ['342 E 6th St', 'New York, NY 10003']}, 'phone': '+12122281324', 'display_phone': '(212) 228-1324', 'distance': 2416.6027147072045}, {'id': 'h0pRCiJDrCN7tm3VX5tILQ', 'alias': 'chili-new-york', 'name': 'CHILI', 'image_url': 'https://s3-media2.fl.yelpcdn.com/bphoto/kXEGv1n69TKeZuvkQxyKGw/o.jpg', 'is_closed': False, 'url': 'https://www.yelp.com/biz/chili-new-york?adjust_creative=cM1zrjoabjXir-vOTu86eg&utm_campaign=yelp_api_v3&utm_medium=api_v3_business_search&utm_source=cM1zrjoabjXir-vOTu86eg', 'review_count': 747, 'categories': [{'alias': 'szechuan', 'title': 'Szechuan'}, {'alias': 'dimsum', 'title': 'Dim Sum'}, {'alias': 'cocktailbars', 'title': 'Cocktail Bars'}], 'rating': 4.5, 'coordinates': {'latitude': 40.75002, 'longitude': -73.98215}, 'transactions': ['pickup', 'delivery'], 'price': '$$', 'location': {'address1': '13 E 37th St', 'address2': None, 'address3': '', 'city': 'New York', 'zip_code': '10016', 'country': 'US', 'state': 'NY', 'display_address': ['13 E 37th St', 'New York, NY 10016']}, 'phone': '+16468820666', 'display_phone': '(646) 882-0666', 'distance': 5060.03531662798}, {'id': 'oTL_nPII6x0HfPVpEQklUg', 'alias': 'planta-queen-nomad-new-york', 'name': 'PLANTA Queen Nomad', 'image_url': 'https://s3-media3.fl.yelpcdn.com/bphoto/3VhsoOZADtBaCLVNF--NnA/o.jpg', 'is_closed': False, 'url': 'https://www.yelp.com/biz/planta-queen-nomad-new-york?adjust_creative=cM1zrjoabjXir-vOTu86eg&utm_campaign=yelp_api_v3&utm_medium=api_v3_business_search&utm_source=cM1zrjoabjXir-vOTu86eg', 'review_count': 701, 'categories': [{'alias': 'vegetarian', 'title': 'Vegetarian'}, {'alias': 'sushi', 'title': 'Sushi Bars'}, {'alias': 'asianfusion', 'title': 'Asian Fusion'}], 'rating': 4.5, 'coordinates': {'latitude': 40.744435, 'longitude': -73.98832}, 'transactions': ['pickup', 'delivery'], 'price': '$$', 'location': {'address1': '15 W 27th St', 'address2': None, 'address3': None, 'city': 'New York', 'zip_code': '10001', 'country': 'US', 'state': 'NY', 'display_address': ['15 W 27th St', 'New York, NY 10001']}, 'phone': '+19176757700', 'display_phone': '(917) 675-7700', 'distance': 4357.073704322944}, {'id': 'pfmAcS-g6SiNG0KlLvrqnA', 'alias': 'beauty-and-essex-new-york-city', 'name': 'Beauty & Essex', 'image_url': 'https://s3-media3.fl.yelpcdn.com/bphoto/T0KCvQyqHSClgUQhO02slQ/o.jpg', 'is_closed': False, 'url': 'https://www.yelp.com/biz/beauty-and-essex-new-york-city?adjust_creative=cM1zrjoabjXir-vOTu86eg&utm_campaign=yelp_api_v3&utm_medium=api_v3_business_search&utm_source=cM1zrjoabjXir-vOTu86eg', 'review_count': 3895, 'categories': [{'alias': 'newamerican', 'title': 'New American'}], 'rating': 4.0, 'coordinates': {'latitude': 40.720434786101286, 'longitude': -73.98686057623863}, 'transactions': ['pickup', 'delivery'], 'price': '$$$', 'location': {'address1': '146 Essex St', 'address2': None, 'address3': None, 'city': 'New York City', 'zip_code': '10002', 'country': 'US', 'state': 'NY', 'display_address': ['146 Essex St', 'New York City, NY 10002']}, 'phone': '+12126140146', 'display_phone': '(212) 614-0146', 'distance': 1769.2978508996712}, {'id': 'E9NMNWvV70HV5gB369N0EA', 'alias': 'nerai-new-york', 'name': 'Nerai', 'image_url': 'https://s3-media3.fl.yelpcdn.com/bphoto/c1ApdiUwJ9MDh4x_eLwBPw/o.jpg', 'is_closed': False, 'url': 'https://www.yelp.com/biz/nerai-new-york?adjust_creative=cM1zrjoabjXir-vOTu86eg&utm_campaign=yelp_api_v3&utm_medium=api_v3_business_search&utm_source=cM1zrjoabjXir-vOTu86eg', 'review_count': 708, 'categories': [{'alias': 'greek', 'title': 'Greek'}, {'alias': 'seafood', 'title': 'Seafood'}, {'alias': 'mediterranean', 'title': 'Mediterranean'}], 'rating': 4.5, 'coordinates': {'latitude': 40.7602, 'longitude': -73.97308}, 'transactions': ['pickup', 'delivery'], 'price': '$$$', 'location': {'address1': '55 E 54th St', 'address2': None, 'address3': '', 'city': 'New York', 'zip_code': '10022', 'country': 'US', 'state': 'NY', 'display_address': ['55 E 54th St', 'New York, NY 10022']}, 'phone': '+12127595554', 'display_phone': '(212) 759-5554', 'distance': 6346.478371459573}, {'id': 'e5wK3I_THzF4Ce_OgoSCQw', 'alias': 'mokyo-new-york-2', 'name': 'Mokyo', 'image_url': 'https://s3-media2.fl.yelpcdn.com/bphoto/tIO2leoOqXxL6E-C1fwJvw/o.jpg', 'is_closed': False, 'url': 'https://www.yelp.com/biz/mokyo-new-york-2?adjust_creative=cM1zrjoabjXir-vOTu86eg&utm_campaign=yelp_api_v3&utm_medium=api_v3_business_search&utm_source=cM1zrjoabjXir-vOTu86eg', 'review_count': 356, 'categories': [{'alias': 'korean', 'title': 'Korean'}, {'alias': 'tapasmallplates', 'title': 'Tapas/Small Plates'}, {'alias': 'cocktailbars', 'title': 'Cocktail Bars'}], 'rating': 4.5, 'coordinates': {'latitude': 40.72714401116084, 'longitude': -73.98395721296154}, 'transactions': ['pickup', 'delivery'], 'location': {'address1': '109 St Marks Pl', 'address2': '', 'address3': None, 'city': 'New York', 'zip_code': '10009', 'country': 'US', 'state': 'NY', 'display_address': ['109 St Marks Pl', 'New York, NY 10009']}, 'phone': '', 'display_phone': '', 'distance': 2553.90929951772}, {'id': 'XgiG7K7ubHsj2JJ-c2sXnw', 'alias': 'thai-diner-new-york', 'name': 'Thai Diner', 'image_url': 'https://s3-media3.fl.yelpcdn.com/bphoto/ETLYsc6NuurL0X3aLpzrcw/o.jpg', 'is_closed': False, 'url': 'https://www.yelp.com/biz/thai-diner-new-york?adjust_creative=cM1zrjoabjXir-vOTu86eg&utm_campaign=yelp_api_v3&utm_medium=api_v3_business_search&utm_source=cM1zrjoabjXir-vOTu86eg', 'review_count': 814, 'categories': [{'alias': 'thai', 'title': 'Thai'}], 'rating': 4.0, 'coordinates': {'latitude': 40.72071042964739, 'longitude': -73.9956057}, 'transactions': ['delivery'], 'price': '$$', 'location': {'address1': '186 Mott St', 'address2': None, 'address3': None, 'city': 'New York', 'zip_code': '10012', 'country': 'US', 'state': 'NY', 'display_address': ['186 Mott St', 'New York, NY 10012']}, 'phone': '+16465594140', 'display_phone': '(646) 559-4140', 'distance': 1690.0745598587491}, {'id': '6Ct7OeTRn4caY9g0swFBsw', 'alias': 'la-contenta-new-york', 'name': 'La Contenta', 'image_url': 'https://s3-media2.fl.yelpcdn.com/bphoto/FwZAyPgdKdPGQ8aAGKh3-w/o.jpg', 'is_closed': False, 'url': 'https://www.yelp.com/biz/la-contenta-new-york?adjust_creative=cM1zrjoabjXir-vOTu86eg&utm_campaign=yelp_api_v3&utm_medium=api_v3_business_search&utm_source=cM1zrjoabjXir-vOTu86eg', 'review_count': 927, 'categories': [{'alias': 'mexican', 'title': 'Mexican'}, {'alias': 'bars', 'title': 'Bars'}, {'alias': 'breakfast_brunch', 'title': 'Breakfast & Brunch'}], 'rating': 4.5, 'coordinates': {'latitude': 40.71873, 'longitude': -73.98691}, 'transactions': ['pickup', 'delivery'], 'price': '$$', 'location': {'address1': '102 Norfolk St', 'address2': '', 'address3': '', 'city': 'New York', 'zip_code': '10002', 'country': 'US', 'state': 'NY', 'display_address': ['102 Norfolk St', 'New York, NY 10002']}, 'phone': '+12124324180', 'display_phone': '(212) 432-4180', 'distance': 1593.9475165549418}, {'id': 'pQuZDnefX038xurT1BhDXA', 'alias': 'keens-steakhouse-new-york', 'name': 'Keens Steakhouse', 'image_url': 'https://s3-media3.fl.yelpcdn.com/bphoto/rLz9cguf52vXFq5uE-Be7A/o.jpg', 'is_closed': False, 'url': 'https://www.yelp.com/biz/keens-steakhouse-new-york?adjust_creative=cM1zrjoabjXir-vOTu86eg&utm_campaign=yelp_api_v3&utm_medium=api_v3_business_search&utm_source=cM1zrjoabjXir-vOTu86eg', 'review_count': 3187, 'categories': [{'alias': 'steak', 'title': 'Steakhouses'}, {'alias': 'desserts', 'title': 'Desserts'}, {'alias': 'pubs', 'title': 'Pubs'}], 'rating': 4.0, 'coordinates': {'latitude': 40.75071, 'longitude': -73.98652}, 'transactions': ['delivery'], 'price': '$$$$', 'location': {'address1': '72 W 36th St', 'address2': '', 'address3': '', 'city': 'New York', 'zip_code': '10018', 'country': 'US', 'state': 'NY', 'display_address': ['72 W 36th St', 'New York, NY 10018']}, 'phone': '+12129473636', 'display_phone': '(212) 947-3636', 'distance': 5060.288143299038}, {'id': 'wx9mXol6jOrUoAK4vaFS9Q', 'alias': 'mission-ceviche-new-york-3', 'name': 'Mission Ceviche', 'image_url': 'https://s3-media3.fl.yelpcdn.com/bphoto/hvTr3j8Z-TNjZd3EQrcmbA/o.jpg', 'is_closed': False, 'url': 'https://www.yelp.com/biz/mission-ceviche-new-york-3?adjust_creative=cM1zrjoabjXir-vOTu86eg&utm_campaign=yelp_api_v3&utm_medium=api_v3_business_search&utm_source=cM1zrjoabjXir-vOTu86eg', 'review_count': 943, 'categories': [{'alias': 'peruvian', 'title': 'Peruvian'}], 'rating': 4.5, 'coordinates': {'latitude': 40.7692325, 'longitude': -73.9578759}, 'transactions': ['pickup', 'delivery'], 'price': '$$$$', 'location': {'address1': '1400 2nd Ave', 'address2': '', 'address3': None, 'city': 'New York', 'zip_code': '10021', 'country': 'US', 'state': 'NY', 'display_address': ['1400 2nd Ave', 'New York, NY 10021']}, 'phone': '+12126500014', 'display_phone': '(212) 650-0014', 'distance': 7703.772071685194}, {'id': 'YvWQMlMjtYmVmheH97tTlQ', 'alias': 'crab-house-all-you-can-eat-seafood-new-york', 'name': 'Crab House All You Can Eat Seafood', 'image_url': 'https://s3-media2.fl.yelpcdn.com/bphoto/1J0qtJbyF3aYyTobEOzjgg/o.jpg', 'is_closed': False, 'url': 'https://www.yelp.com/biz/crab-house-all-you-can-eat-seafood-new-york?adjust_creative=cM1zrjoabjXir-vOTu86eg&utm_campaign=yelp_api_v3&utm_medium=api_v3_business_search&utm_source=cM1zrjoabjXir-vOTu86eg', 'review_count': 954, 'categories': [{'alias': 'buffets', 'title': 'Buffets'}, {'alias': 'seafood', 'title': 'Seafood'}, {'alias': 'cajun', 'title': 'Cajun/Creole'}], 'rating': 4.5, 'coordinates': {'latitude': 40.759664, 'longitude': -73.969776}, 'transactions': ['pickup', 'delivery'], 'price': '$$$$', 'location': {'address1': '135 E 55th St', 'address2': None, 'address3': '', 'city': 'New York', 'zip_code': '10022', 'country': 'US', 'state': 'NY', 'display_address': ['135 E 55th St', 'New York, NY 10022']}, 'phone': '+12129330264', 'display_phone': '(212) 933-0264', 'distance': 6370.293102234111}], 'total': 15000, 'region': {'center': {'longitude': -73.99429321289062, 'latitude': 40.70544486444615}}}\n",
      "{'businesses': [{'id': 'pk89jzL1RsE9U0thf_z6tw', 'alias': 'locanda-verde-new-york', 'name': 'Locanda Verde', 'image_url': 'https://s3-media2.fl.yelpcdn.com/bphoto/jQ7yiW8VycqVXkozFiYM8Q/o.jpg', 'is_closed': False, 'url': 'https://www.yelp.com/biz/locanda-verde-new-york?adjust_creative=cM1zrjoabjXir-vOTu86eg&utm_campaign=yelp_api_v3&utm_medium=api_v3_business_search&utm_source=cM1zrjoabjXir-vOTu86eg', 'review_count': 1857, 'categories': [{'alias': 'italian', 'title': 'Italian'}, {'alias': 'cocktailbars', 'title': 'Cocktail Bars'}, {'alias': 'breakfast_brunch', 'title': 'Breakfast & Brunch'}], 'rating': 4.0, 'coordinates': {'latitude': 40.7198601300801, 'longitude': -74.010039072422}, 'transactions': ['delivery', 'pickup'], 'price': '$$$', 'location': {'address1': '377 Greenwich St', 'address2': '', 'address3': '', 'city': 'New York', 'zip_code': '10013', 'country': 'US', 'state': 'NY', 'display_address': ['377 Greenwich St', 'New York, NY 10013']}, 'phone': '+12129253797', 'display_phone': '(212) 925-3797', 'distance': 2074.0278096546217}, {'id': 'YvWQMlMjtYmVmheH97tTlQ', 'alias': 'crab-house-all-you-can-eat-seafood-new-york', 'name': 'Crab House All You Can Eat Seafood', 'image_url': 'https://s3-media2.fl.yelpcdn.com/bphoto/1J0qtJbyF3aYyTobEOzjgg/o.jpg', 'is_closed': False, 'url': 'https://www.yelp.com/biz/crab-house-all-you-can-eat-seafood-new-york?adjust_creative=cM1zrjoabjXir-vOTu86eg&utm_campaign=yelp_api_v3&utm_medium=api_v3_business_search&utm_source=cM1zrjoabjXir-vOTu86eg', 'review_count': 954, 'categories': [{'alias': 'buffets', 'title': 'Buffets'}, {'alias': 'seafood', 'title': 'Seafood'}, {'alias': 'cajun', 'title': 'Cajun/Creole'}], 'rating': 4.5, 'coordinates': {'latitude': 40.759664, 'longitude': -73.969776}, 'transactions': ['pickup', 'delivery'], 'price': '$$$$', 'location': {'address1': '135 E 55th St', 'address2': None, 'address3': '', 'city': 'New York', 'zip_code': '10022', 'country': 'US', 'state': 'NY', 'display_address': ['135 E 55th St', 'New York, NY 10022']}, 'phone': '+12129330264', 'display_phone': '(212) 933-0264', 'distance': 6370.293102234111}, {'id': 'xZ96vaoL-cQjfotmUKtjJQ', 'alias': 'barn-joo-35-new-york', 'name': 'Barn Joo 35', 'image_url': 'https://s3-media1.fl.yelpcdn.com/bphoto/R2On3eNr3a2MjgtrTCp0pA/o.jpg', 'is_closed': False, 'url': 'https://www.yelp.com/biz/barn-joo-35-new-york?adjust_creative=cM1zrjoabjXir-vOTu86eg&utm_campaign=yelp_api_v3&utm_medium=api_v3_business_search&utm_source=cM1zrjoabjXir-vOTu86eg', 'review_count': 2433, 'categories': [{'alias': 'korean', 'title': 'Korean'}, {'alias': 'gastropubs', 'title': 'Gastropubs'}, {'alias': 'tapasmallplates', 'title': 'Tapas/Small Plates'}], 'rating': 4.0, 'coordinates': {'latitude': 40.74964, 'longitude': -73.98582}, 'transactions': ['pickup', 'delivery'], 'price': '$$', 'location': {'address1': '34 W 35th St', 'address2': '', 'address3': '', 'city': 'New York', 'zip_code': '10001', 'country': 'US', 'state': 'NY', 'display_address': ['34 W 35th St', 'New York, NY 10001']}, 'phone': '+12125644430', 'display_phone': '(212) 564-4430', 'distance': 4957.058995250786}, {'id': 'axqp3pGJXnTLgq2QrPyDyQ', 'alias': 'benemon-new-york', 'name': 'Benemon', 'image_url': 'https://s3-media3.fl.yelpcdn.com/bphoto/5ZRHsFgkyoSzac8ofvhvvg/o.jpg', 'is_closed': False, 'url': 'https://www.yelp.com/biz/benemon-new-york?adjust_creative=cM1zrjoabjXir-vOTu86eg&utm_campaign=yelp_api_v3&utm_medium=api_v3_business_search&utm_source=cM1zrjoabjXir-vOTu86eg', 'review_count': 723, 'categories': [{'alias': 'japanese', 'title': 'Japanese'}, {'alias': 'tapasmallplates', 'title': 'Tapas/Small Plates'}, {'alias': 'cocktailbars', 'title': 'Cocktail Bars'}], 'rating': 4.5, 'coordinates': {'latitude': 40.72551, 'longitude': -73.98838}, 'transactions': ['pickup', 'delivery'], 'price': '$$', 'location': {'address1': '108 E 4th St', 'address2': None, 'address3': '', 'city': 'New York', 'zip_code': '10003', 'country': 'US', 'state': 'NY', 'display_address': ['108 E 4th St', 'New York, NY 10003']}, 'phone': '+12126143006', 'display_phone': '(212) 614-3006', 'distance': 2277.7549025717317}, {'id': 'zwOAiVT4pAmpNGXzj-t5MA', 'alias': 'lilia-brooklyn', 'name': 'Lilia', 'image_url': 'https://s3-media3.fl.yelpcdn.com/bphoto/iWOHtU8g0O3vvvlTlnM4vA/o.jpg', 'is_closed': False, 'url': 'https://www.yelp.com/biz/lilia-brooklyn?adjust_creative=cM1zrjoabjXir-vOTu86eg&utm_campaign=yelp_api_v3&utm_medium=api_v3_business_search&utm_source=cM1zrjoabjXir-vOTu86eg', 'review_count': 1253, 'categories': [{'alias': 'italian', 'title': 'Italian'}, {'alias': 'cocktailbars', 'title': 'Cocktail Bars'}], 'rating': 4.0, 'coordinates': {'latitude': 40.71757, 'longitude': -73.95236}, 'transactions': ['delivery'], 'price': '$$$$', 'location': {'address1': '567 Union Ave', 'address2': '', 'address3': '', 'city': 'Brooklyn', 'zip_code': '11211', 'country': 'US', 'state': 'NY', 'display_address': ['567 Union Ave', 'Brooklyn, NY 11211']}, 'phone': '+17185763095', 'display_phone': '(718) 576-3095', 'distance': 3770.1586954030954}, {'id': '4XX-zF8h5Lvrr22_tqU6-Q', 'alias': 'the-river-café-brooklyn-3', 'name': 'The River Café', 'image_url': 'https://s3-media4.fl.yelpcdn.com/bphoto/djXq8DWf8bYE9rUC3tcsxA/o.jpg', 'is_closed': False, 'url': 'https://www.yelp.com/biz/the-river-caf%C3%A9-brooklyn-3?adjust_creative=cM1zrjoabjXir-vOTu86eg&utm_campaign=yelp_api_v3&utm_medium=api_v3_business_search&utm_source=cM1zrjoabjXir-vOTu86eg', 'review_count': 1303, 'categories': [{'alias': 'newamerican', 'title': 'New American'}, {'alias': 'wine_bars', 'title': 'Wine Bars'}, {'alias': 'venues', 'title': 'Venues & Event Spaces'}], 'rating': 4.0, 'coordinates': {'latitude': 40.703866713051106, 'longitude': -73.99479360219303}, 'transactions': [], 'price': '$$$$', 'location': {'address1': '1 Water St', 'address2': '', 'address3': '', 'city': 'Brooklyn', 'zip_code': '11201', 'country': 'US', 'state': 'NY', 'display_address': ['1 Water St', 'Brooklyn, NY 11201']}, 'phone': '+17185225200', 'display_phone': '(718) 522-5200', 'distance': 191.92832823636888}, {'id': '3gqKLANaXNsHZnPDjKrcTg', 'alias': 'win-son-brooklyn-4', 'name': 'Win Son', 'image_url': 'https://s3-media1.fl.yelpcdn.com/bphoto/k_A5xz1D62WcHk4oiUuxlw/o.jpg', 'is_closed': False, 'url': 'https://www.yelp.com/biz/win-son-brooklyn-4?adjust_creative=cM1zrjoabjXir-vOTu86eg&utm_campaign=yelp_api_v3&utm_medium=api_v3_business_search&utm_source=cM1zrjoabjXir-vOTu86eg', 'review_count': 775, 'categories': [{'alias': 'taiwanese', 'title': 'Taiwanese'}, {'alias': 'newamerican', 'title': 'New American'}], 'rating': 4.0, 'coordinates': {'latitude': 40.70747, 'longitude': -73.94339}, 'transactions': ['delivery'], 'price': '$$', 'location': {'address1': '159 Graham Ave', 'address2': None, 'address3': '', 'city': 'Brooklyn', 'zip_code': '11206', 'country': 'US', 'state': 'NY', 'display_address': ['159 Graham Ave', 'Brooklyn, NY 11206']}, 'phone': '+13474576010', 'display_phone': '(347) 457-6010', 'distance': 4285.0354774254665}, {'id': 'AIKjw2QLvVNdha3TciJYzg', 'alias': 'boqueria-soho-new-york-2', 'name': 'Boqueria Soho', 'image_url': 'https://s3-media2.fl.yelpcdn.com/bphoto/Kf1_wOw2w0R_SdzMKrYiNw/o.jpg', 'is_closed': False, 'url': 'https://www.yelp.com/biz/boqueria-soho-new-york-2?adjust_creative=cM1zrjoabjXir-vOTu86eg&utm_campaign=yelp_api_v3&utm_medium=api_v3_business_search&utm_source=cM1zrjoabjXir-vOTu86eg', 'review_count': 1261, 'categories': [{'alias': 'spanish', 'title': 'Spanish'}, {'alias': 'tapas', 'title': 'Tapas Bars'}, {'alias': 'tapasmallplates', 'title': 'Tapas/Small Plates'}], 'rating': 4.0, 'coordinates': {'latitude': 40.7249227818105, 'longitude': -74.00215536627918}, 'transactions': ['delivery', 'pickup'], 'price': '$$', 'location': {'address1': '171 Spring St', 'address2': '', 'address3': '', 'city': 'New York', 'zip_code': '10012', 'country': 'US', 'state': 'NY', 'display_address': ['171 Spring St', 'New York, NY 10012']}, 'phone': '+12123434255', 'display_phone': '(212) 343-4255', 'distance': 2255.00574425852}, {'id': 'Sj3JYCbaEFrAqUzRrenQbg', 'alias': 'jora-long-island-city-5', 'name': 'Jora', 'image_url': 'https://s3-media4.fl.yelpcdn.com/bphoto/7dDVAp1mWjz_PPX88W170w/o.jpg', 'is_closed': False, 'url': 'https://www.yelp.com/biz/jora-long-island-city-5?adjust_creative=cM1zrjoabjXir-vOTu86eg&utm_campaign=yelp_api_v3&utm_medium=api_v3_business_search&utm_source=cM1zrjoabjXir-vOTu86eg', 'review_count': 953, 'categories': [{'alias': 'peruvian', 'title': 'Peruvian'}, {'alias': 'cocktailbars', 'title': 'Cocktail Bars'}], 'rating': 4.5, 'coordinates': {'latitude': 40.74378048345341, 'longitude': -73.95141330235197}, 'transactions': ['delivery', 'pickup'], 'price': '$$$', 'location': {'address1': '47-46 11th St', 'address2': '', 'address3': '', 'city': 'Long Island City', 'zip_code': '11101', 'country': 'US', 'state': 'NY', 'display_address': ['47-46 11th St', 'Long Island City, NY 11101']}, 'phone': '+17183922033', 'display_phone': '(718) 392-2033', 'distance': 5578.048459649403}, {'id': 'QhE50zhSMnQaudpHW1jp7g', 'alias': 'the-tyger-new-york-2', 'name': 'The Tyger', 'image_url': 'https://s3-media1.fl.yelpcdn.com/bphoto/3Tc6UjIZjJqalRwwFpFtJg/o.jpg', 'is_closed': False, 'url': 'https://www.yelp.com/biz/the-tyger-new-york-2?adjust_creative=cM1zrjoabjXir-vOTu86eg&utm_campaign=yelp_api_v3&utm_medium=api_v3_business_search&utm_source=cM1zrjoabjXir-vOTu86eg', 'review_count': 495, 'categories': [{'alias': 'cocktailbars', 'title': 'Cocktail Bars'}, {'alias': 'noodles', 'title': 'Noodles'}, {'alias': 'panasian', 'title': 'Pan Asian'}], 'rating': 4.0, 'coordinates': {'latitude': 40.7189, 'longitude': -73.99942}, 'transactions': ['delivery', 'pickup'], 'price': '$$$', 'location': {'address1': '1 Howard St', 'address2': None, 'address3': None, 'city': 'New York', 'zip_code': '10013', 'country': 'US', 'state': 'NY', 'display_address': ['1 Howard St', 'New York, NY 10013']}, 'phone': '+16463558693', 'display_phone': '(646) 355-8693', 'distance': 1545.9894211008036}, {'id': 'xMUZfoyzyJoTfZxrEZus4Q', 'alias': 'moms-kitchen-and-bar-new-york', 'name': \"Mom's Kitchen & Bar\", 'image_url': 'https://s3-media3.fl.yelpcdn.com/bphoto/2em4dLRX21eieAsYXp_xUw/o.jpg', 'is_closed': False, 'url': 'https://www.yelp.com/biz/moms-kitchen-and-bar-new-york?adjust_creative=cM1zrjoabjXir-vOTu86eg&utm_campaign=yelp_api_v3&utm_medium=api_v3_business_search&utm_source=cM1zrjoabjXir-vOTu86eg', 'review_count': 1867, 'categories': [{'alias': 'comfortfood', 'title': 'Comfort Food'}, {'alias': 'breakfast_brunch', 'title': 'Breakfast & Brunch'}, {'alias': 'bars', 'title': 'Bars'}], 'rating': 4.5, 'coordinates': {'latitude': 40.76247, 'longitude': -73.9901}, 'transactions': ['pickup', 'delivery'], 'price': '$$', 'location': {'address1': '701 9th Ave', 'address2': None, 'address3': '', 'city': 'New York', 'zip_code': '10019', 'country': 'US', 'state': 'NY', 'display_address': ['701 9th Ave', 'New York, NY 10019']}, 'phone': '+16466570080', 'display_phone': '(646) 657-0080', 'distance': 6337.506623388213}, {'id': 'vscYK65F_MUH8WqACKSdog', 'alias': 'the-musket-room-new-york', 'name': 'The Musket Room', 'image_url': 'https://s3-media2.fl.yelpcdn.com/bphoto/iescG5QWEy_kDlN7ERiPfg/o.jpg', 'is_closed': False, 'url': 'https://www.yelp.com/biz/the-musket-room-new-york?adjust_creative=cM1zrjoabjXir-vOTu86eg&utm_campaign=yelp_api_v3&utm_medium=api_v3_business_search&utm_source=cM1zrjoabjXir-vOTu86eg', 'review_count': 589, 'categories': [{'alias': 'newamerican', 'title': 'New American'}, {'alias': 'cocktailbars', 'title': 'Cocktail Bars'}, {'alias': 'wine_bars', 'title': 'Wine Bars'}], 'rating': 4.0, 'coordinates': {'latitude': 40.72392, 'longitude': -73.99378}, 'transactions': ['delivery'], 'price': '$$$$', 'location': {'address1': '265 Elizabeth St', 'address2': '', 'address3': '', 'city': 'New York', 'zip_code': '10012', 'country': 'US', 'state': 'NY', 'display_address': ['265 Elizabeth St', 'New York, NY 10012']}, 'phone': '+12122190764', 'display_phone': '(212) 219-0764', 'distance': 2042.898310063101}, {'id': '_gzXNKarTxagBp6_PkmQKw', 'alias': 'gotham-restaurant-new-york-city', 'name': 'Gotham Restaurant', 'image_url': 'https://s3-media3.fl.yelpcdn.com/bphoto/eK53bvWBsJbt5-jF6wEkww/o.jpg', 'is_closed': False, 'url': 'https://www.yelp.com/biz/gotham-restaurant-new-york-city?adjust_creative=cM1zrjoabjXir-vOTu86eg&utm_campaign=yelp_api_v3&utm_medium=api_v3_business_search&utm_source=cM1zrjoabjXir-vOTu86eg', 'review_count': 1692, 'categories': [{'alias': 'newamerican', 'title': 'New American'}, {'alias': 'bars', 'title': 'Bars'}], 'rating': 4.0, 'coordinates': {'latitude': 40.73419592274525, 'longitude': -73.99369554442922}, 'transactions': ['delivery', 'pickup'], 'price': '$$$$', 'location': {'address1': '12 E 12th St', 'address2': 'Flr 1', 'address3': '', 'city': 'New York City', 'zip_code': '10003', 'country': 'US', 'state': 'NY', 'display_address': ['12 E 12th St', 'Flr 1', 'New York City, NY 10003']}, 'phone': '+12123808660', 'display_phone': '(212) 380-8660', 'distance': 3186.159311750554}, {'id': 'k5NAz3-goMXKoUqPfOZ1Hw', 'alias': 'the-smith-new-york', 'name': 'The Smith', 'image_url': 'https://s3-media1.fl.yelpcdn.com/bphoto/vi1OGGZhHBnuB8pEyiuaYQ/o.jpg', 'is_closed': False, 'url': 'https://www.yelp.com/biz/the-smith-new-york?adjust_creative=cM1zrjoabjXir-vOTu86eg&utm_campaign=yelp_api_v3&utm_medium=api_v3_business_search&utm_source=cM1zrjoabjXir-vOTu86eg', 'review_count': 2197, 'categories': [{'alias': 'newamerican', 'title': 'New American'}, {'alias': 'breakfast_brunch', 'title': 'Breakfast & Brunch'}, {'alias': 'cocktailbars', 'title': 'Cocktail Bars'}], 'rating': 4.0, 'coordinates': {'latitude': 40.73101549145275, 'longitude': -73.9886217}, 'transactions': ['delivery', 'pickup'], 'price': '$$', 'location': {'address1': '55 3rd Ave', 'address2': '', 'address3': '', 'city': 'New York', 'zip_code': '10003', 'country': 'US', 'state': 'NY', 'display_address': ['55 3rd Ave', 'New York, NY 10003']}, 'phone': '+12124209800', 'display_phone': '(212) 420-9800', 'distance': 2871.7854771486172}, {'id': 'IOHaEgK1zDvUvB3SfKuGCw', 'alias': 'parker-and-quinn-new-york', 'name': 'Parker & Quinn', 'image_url': 'https://s3-media4.fl.yelpcdn.com/bphoto/6xuN0yyAi9PaxSAVVAgfrg/o.jpg', 'is_closed': False, 'url': 'https://www.yelp.com/biz/parker-and-quinn-new-york?adjust_creative=cM1zrjoabjXir-vOTu86eg&utm_campaign=yelp_api_v3&utm_medium=api_v3_business_search&utm_source=cM1zrjoabjXir-vOTu86eg', 'review_count': 1682, 'categories': [{'alias': 'newamerican', 'title': 'New American'}, {'alias': 'bars', 'title': 'Bars'}, {'alias': 'breakfast_brunch', 'title': 'Breakfast & Brunch'}], 'rating': 4.0, 'coordinates': {'latitude': 40.753260891087095, 'longitude': -73.9854967705314}, 'transactions': ['delivery', 'pickup'], 'price': '$$', 'location': {'address1': '64 W 39th St', 'address2': '', 'address3': '', 'city': 'New York', 'zip_code': '10018', 'country': 'US', 'state': 'NY', 'display_address': ['64 W 39th St', 'New York, NY 10018']}, 'phone': '+12127290277', 'display_phone': '(212) 729-0277', 'distance': 5356.901944735863}, {'id': 'BKMCAYb9EAivUm3p-vrC9w', 'alias': 'khe-yo-new-york', 'name': 'Khe-Yo', 'image_url': 'https://s3-media4.fl.yelpcdn.com/bphoto/yTPol4HKgtAa4FUhSctZMQ/o.jpg', 'is_closed': False, 'url': 'https://www.yelp.com/biz/khe-yo-new-york?adjust_creative=cM1zrjoabjXir-vOTu86eg&utm_campaign=yelp_api_v3&utm_medium=api_v3_business_search&utm_source=cM1zrjoabjXir-vOTu86eg', 'review_count': 970, 'categories': [{'alias': 'laotian', 'title': 'Laotian'}], 'rating': 4.0, 'coordinates': {'latitude': 40.716906, 'longitude': -74.008587}, 'transactions': ['delivery', 'pickup'], 'price': '$$', 'location': {'address1': '157 Duane St', 'address2': '', 'address3': '', 'city': 'New York', 'zip_code': '10013', 'country': 'US', 'state': 'NY', 'display_address': ['157 Duane St', 'New York, NY 10013']}, 'phone': '+12125871089', 'display_phone': '(212) 587-1089', 'distance': 1747.384723547762}, {'id': '0dDCDQz7DrKkSvu9h2hcQw', 'alias': 'chow-house-new-york', 'name': 'Chow House', 'image_url': 'https://s3-media3.fl.yelpcdn.com/bphoto/kzeClsI9_2tkHqKScotx1Q/o.jpg', 'is_closed': False, 'url': 'https://www.yelp.com/biz/chow-house-new-york?adjust_creative=cM1zrjoabjXir-vOTu86eg&utm_campaign=yelp_api_v3&utm_medium=api_v3_business_search&utm_source=cM1zrjoabjXir-vOTu86eg', 'review_count': 648, 'categories': [{'alias': 'szechuan', 'title': 'Szechuan'}, {'alias': 'noodles', 'title': 'Noodles'}, {'alias': 'soup', 'title': 'Soup'}], 'rating': 4.5, 'coordinates': {'latitude': 40.72915, 'longitude': -74.00072}, 'transactions': ['restaurant_reservation', 'delivery', 'pickup'], 'price': '$$', 'location': {'address1': '181 Bleecker St', 'address2': None, 'address3': '', 'city': 'New York', 'zip_code': '10012', 'country': 'US', 'state': 'NY', 'display_address': ['181 Bleecker St', 'New York, NY 10012']}, 'phone': '+12128371021', 'display_phone': '(212) 837-1021', 'distance': 2682.0146108416398}, {'id': 'PYcL2z9gHj6-ZTlViT9Nqw', 'alias': 'minetta-tavern-new-york', 'name': 'Minetta Tavern', 'image_url': 'https://s3-media1.fl.yelpcdn.com/bphoto/R1ZPWP8V2cHeKm7_EiPJ4A/o.jpg', 'is_closed': False, 'url': 'https://www.yelp.com/biz/minetta-tavern-new-york?adjust_creative=cM1zrjoabjXir-vOTu86eg&utm_campaign=yelp_api_v3&utm_medium=api_v3_business_search&utm_source=cM1zrjoabjXir-vOTu86eg', 'review_count': 2463, 'categories': [{'alias': 'french', 'title': 'French'}, {'alias': 'newamerican', 'title': 'New American'}, {'alias': 'breakfast_brunch', 'title': 'Breakfast & Brunch'}], 'rating': 4.0, 'coordinates': {'latitude': 40.72996, 'longitude': -74.00065}, 'transactions': ['delivery'], 'price': '$$$', 'location': {'address1': '113 Macdougal St', 'address2': '', 'address3': '', 'city': 'New York', 'zip_code': '10012', 'country': 'US', 'state': 'NY', 'display_address': ['113 Macdougal St', 'New York, NY 10012']}, 'phone': '+12124753850', 'display_phone': '(212) 475-3850', 'distance': 2771.545878987071}, {'id': 'x0k5kFArHLijdY8-NEQ7Xg', 'alias': 'bengal-tiger-indian-food-new-york', 'name': 'Bengal Tiger Indian Food', 'image_url': 'https://s3-media2.fl.yelpcdn.com/bphoto/65Q6vtiAqLDVFLrvu0ZdZA/o.jpg', 'is_closed': False, 'url': 'https://www.yelp.com/biz/bengal-tiger-indian-food-new-york?adjust_creative=cM1zrjoabjXir-vOTu86eg&utm_campaign=yelp_api_v3&utm_medium=api_v3_business_search&utm_source=cM1zrjoabjXir-vOTu86eg', 'review_count': 2358, 'categories': [{'alias': 'indpak', 'title': 'Indian'}], 'rating': 4.5, 'coordinates': {'latitude': 40.763167, 'longitude': -73.977131}, 'transactions': ['delivery', 'pickup'], 'price': '$$', 'location': {'address1': '58 W 56th St', 'address2': 'Fl 2', 'address3': '', 'city': 'New York', 'zip_code': '10019', 'country': 'US', 'state': 'NY', 'display_address': ['58 W 56th St', 'Fl 2', 'New York, NY 10019']}, 'phone': '+12122652703', 'display_phone': '(212) 265-2703', 'distance': 6567.829676918613}, {'id': 'X8yEmEDD9ZTkHoIRFqzcRw', 'alias': 'osamil-new-york', 'name': 'Osamil', 'image_url': 'https://s3-media2.fl.yelpcdn.com/bphoto/H6vmivma_q2fk_Vfbo9ZVA/o.jpg', 'is_closed': False, 'url': 'https://www.yelp.com/biz/osamil-new-york?adjust_creative=cM1zrjoabjXir-vOTu86eg&utm_campaign=yelp_api_v3&utm_medium=api_v3_business_search&utm_source=cM1zrjoabjXir-vOTu86eg', 'review_count': 745, 'categories': [{'alias': 'korean', 'title': 'Korean'}, {'alias': 'gastropubs', 'title': 'Gastropubs'}, {'alias': 'tapasmallplates', 'title': 'Tapas/Small Plates'}], 'rating': 4.5, 'coordinates': {'latitude': 40.74697, 'longitude': -73.9864}, 'transactions': ['delivery'], 'price': '$$$', 'location': {'address1': '5 West 31st St', 'address2': None, 'address3': '', 'city': 'New York', 'zip_code': '10001', 'country': 'US', 'state': 'NY', 'display_address': ['5 West 31st St', 'New York, NY 10001']}, 'phone': '+12123004713', 'display_phone': '(212) 300-4713', 'distance': 4652.26660359536}, {'id': '-qxQDGZc8Ejz7MUFlFWyuQ', 'alias': 'francie-brooklyn', 'name': 'Francie', 'image_url': 'https://s3-media2.fl.yelpcdn.com/bphoto/5L_jV9C0M3K0BPrbBhjaoQ/o.jpg', 'is_closed': False, 'url': 'https://www.yelp.com/biz/francie-brooklyn?adjust_creative=cM1zrjoabjXir-vOTu86eg&utm_campaign=yelp_api_v3&utm_medium=api_v3_business_search&utm_source=cM1zrjoabjXir-vOTu86eg', 'review_count': 210, 'categories': [{'alias': 'newamerican', 'title': 'New American'}, {'alias': 'brasseries', 'title': 'Brasseries'}], 'rating': 4.5, 'coordinates': {'latitude': 40.71002578663716, 'longitude': -73.96405744314846}, 'transactions': ['delivery'], 'price': '$$$$', 'location': {'address1': '136 Broadway', 'address2': None, 'address3': '', 'city': 'Brooklyn', 'zip_code': '11249', 'country': 'US', 'state': 'NY', 'display_address': ['136 Broadway', 'Brooklyn, NY 11249']}, 'phone': '+17182187572', 'display_phone': '(718) 218-7572', 'distance': 2594.3617531880454}, {'id': 'mPHPVJ2-8mOR-lFHafrc6w', 'alias': 'evelina-brooklyn-2', 'name': 'Evelina', 'image_url': 'https://s3-media1.fl.yelpcdn.com/bphoto/hG3aShzVvdnbAFm02sQgZw/o.jpg', 'is_closed': False, 'url': 'https://www.yelp.com/biz/evelina-brooklyn-2?adjust_creative=cM1zrjoabjXir-vOTu86eg&utm_campaign=yelp_api_v3&utm_medium=api_v3_business_search&utm_source=cM1zrjoabjXir-vOTu86eg', 'review_count': 384, 'categories': [{'alias': 'italian', 'title': 'Italian'}], 'rating': 4.5, 'coordinates': {'latitude': 40.689722, 'longitude': -73.971003}, 'transactions': ['delivery', 'pickup'], 'price': '$$', 'location': {'address1': '211 Dekalb Ave', 'address2': None, 'address3': '', 'city': 'Brooklyn', 'zip_code': '11205', 'country': 'US', 'state': 'NY', 'display_address': ['211 Dekalb Ave', 'Brooklyn, NY 11205']}, 'phone': '+19292980209', 'display_phone': '(929) 298-0209', 'distance': 2634.2701105554243}, {'id': '4Objcs7HXSGuzpb0SOa-Jw', 'alias': 'family-meal-at-blue-hill-new-york', 'name': 'Family Meal at Blue Hill', 'image_url': 'https://s3-media4.fl.yelpcdn.com/bphoto/6O1odo6ucUAiIiLfyxxKzg/o.jpg', 'is_closed': False, 'url': 'https://www.yelp.com/biz/family-meal-at-blue-hill-new-york?adjust_creative=cM1zrjoabjXir-vOTu86eg&utm_campaign=yelp_api_v3&utm_medium=api_v3_business_search&utm_source=cM1zrjoabjXir-vOTu86eg', 'review_count': 1090, 'categories': [{'alias': 'newamerican', 'title': 'New American'}], 'rating': 4.5, 'coordinates': {'latitude': 40.73204650000005, 'longitude': -73.99966984110456}, 'transactions': [], 'price': '$$$$', 'location': {'address1': '75 Washington Pl', 'address2': '', 'address3': '', 'city': 'New York', 'zip_code': '10011', 'country': 'US', 'state': 'NY', 'display_address': ['75 Washington Pl', 'New York, NY 10011']}, 'phone': '+12125391776', 'display_phone': '(212) 539-1776', 'distance': 2981.8139421873043}, {'id': 'FizBsTIAJwNrImIG1mPDcg', 'alias': 'barn-joo-new-york-3', 'name': 'Barn Joo', 'image_url': 'https://s3-media3.fl.yelpcdn.com/bphoto/3RuoWbbQeQGP_jOMxcJQ9g/o.jpg', 'is_closed': False, 'url': 'https://www.yelp.com/biz/barn-joo-new-york-3?adjust_creative=cM1zrjoabjXir-vOTu86eg&utm_campaign=yelp_api_v3&utm_medium=api_v3_business_search&utm_source=cM1zrjoabjXir-vOTu86eg', 'review_count': 1924, 'categories': [{'alias': 'korean', 'title': 'Korean'}, {'alias': 'cocktailbars', 'title': 'Cocktail Bars'}, {'alias': 'tapasmallplates', 'title': 'Tapas/Small Plates'}], 'rating': 4.0, 'coordinates': {'latitude': 40.73687872208401, 'longitude': -73.99076297177562}, 'transactions': ['delivery', 'pickup'], 'price': '$$', 'location': {'address1': '35 Union Sq W', 'address2': '', 'address3': None, 'city': 'New York', 'zip_code': '10003', 'country': 'US', 'state': 'NY', 'display_address': ['35 Union Sq W', 'New York, NY 10003']}, 'phone': '+16463989663', 'display_phone': '(646) 398-9663', 'distance': 3496.5788182983224}, {'id': '-bdxB20YveudeyL63chscg', 'alias': 'cull-and-pistol-oyster-bar-new-york', 'name': 'Cull & Pistol Oyster Bar', 'image_url': 'https://s3-media4.fl.yelpcdn.com/bphoto/Uvh5Uzb5LusBB2yQjAmYVA/o.jpg', 'is_closed': False, 'url': 'https://www.yelp.com/biz/cull-and-pistol-oyster-bar-new-york?adjust_creative=cM1zrjoabjXir-vOTu86eg&utm_campaign=yelp_api_v3&utm_medium=api_v3_business_search&utm_source=cM1zrjoabjXir-vOTu86eg', 'review_count': 751, 'categories': [{'alias': 'seafood', 'title': 'Seafood'}, {'alias': 'wine_bars', 'title': 'Wine Bars'}], 'rating': 4.5, 'coordinates': {'latitude': 40.742553, 'longitude': -74.006052}, 'transactions': ['delivery'], 'price': '$$', 'location': {'address1': '75 9th Ave', 'address2': '', 'address3': '', 'city': 'New York', 'zip_code': '10011', 'country': 'US', 'state': 'NY', 'display_address': ['75 9th Ave', 'New York, NY 10011']}, 'phone': '+16465681223', 'display_phone': '(646) 568-1223', 'distance': 4233.279864429955}, {'id': 'SULHf6nGQ8sK0UpG1XU30w', 'alias': 'los-tacos-no-1-new-york-3', 'name': 'Los Tacos No.1', 'image_url': 'https://s3-media4.fl.yelpcdn.com/bphoto/5wEe4FCwda16knmBHSsX0Q/o.jpg', 'is_closed': False, 'url': 'https://www.yelp.com/biz/los-tacos-no-1-new-york-3?adjust_creative=cM1zrjoabjXir-vOTu86eg&utm_campaign=yelp_api_v3&utm_medium=api_v3_business_search&utm_source=cM1zrjoabjXir-vOTu86eg', 'review_count': 2917, 'categories': [{'alias': 'tacos', 'title': 'Tacos'}], 'rating': 4.5, 'coordinates': {'latitude': 40.7575067, 'longitude': -73.9877717}, 'transactions': ['delivery'], 'price': '$$', 'location': {'address1': '229 W 43rd St', 'address2': '', 'address3': None, 'city': 'New York', 'zip_code': '10036', 'country': 'US', 'state': 'NY', 'display_address': ['229 W 43rd St', 'New York, NY 10036']}, 'phone': '+12125744696', 'display_phone': '(212) 574-4696', 'distance': 5803.671257634773}, {'id': '8YWLuLUKj0t_0_Xv06UUtw', 'alias': 'yes-apothecary-new-york-4', 'name': \"Ye's Apothecary\", 'image_url': 'https://s3-media1.fl.yelpcdn.com/bphoto/C9kLckBI7NTHBnHV-98qEw/o.jpg', 'is_closed': False, 'url': 'https://www.yelp.com/biz/yes-apothecary-new-york-4?adjust_creative=cM1zrjoabjXir-vOTu86eg&utm_campaign=yelp_api_v3&utm_medium=api_v3_business_search&utm_source=cM1zrjoabjXir-vOTu86eg', 'review_count': 499, 'categories': [{'alias': 'szechuan', 'title': 'Szechuan'}, {'alias': 'speakeasies', 'title': 'Speakeasies'}], 'rating': 4.5, 'coordinates': {'latitude': 40.71945, 'longitude': -73.9898}, 'transactions': [], 'price': '$$$', 'location': {'address1': '119 Orchard St', 'address2': None, 'address3': '', 'city': 'New York', 'zip_code': '10002', 'country': 'US', 'state': 'NY', 'display_address': ['119 Orchard St', 'New York, NY 10002']}, 'phone': '', 'display_phone': '', 'distance': 1591.3798693136603}, {'id': '9fG8-RRh1rzuCKN2TmF-QQ', 'alias': '5ive-spice-new-york-2', 'name': '5ive Spice', 'image_url': 'https://s3-media1.fl.yelpcdn.com/bphoto/Wb_tBXJVLhzwhvwLssnD5A/o.jpg', 'is_closed': False, 'url': 'https://www.yelp.com/biz/5ive-spice-new-york-2?adjust_creative=cM1zrjoabjXir-vOTu86eg&utm_campaign=yelp_api_v3&utm_medium=api_v3_business_search&utm_source=cM1zrjoabjXir-vOTu86eg', 'review_count': 735, 'categories': [{'alias': 'vietnamese', 'title': 'Vietnamese'}, {'alias': 'tacos', 'title': 'Tacos'}, {'alias': 'sandwiches', 'title': 'Sandwiches'}], 'rating': 4.5, 'coordinates': {'latitude': 40.722598, 'longitude': -73.996272}, 'transactions': ['delivery', 'pickup'], 'price': '$$', 'location': {'address1': '227 Mulberry St', 'address2': None, 'address3': '', 'city': 'New York', 'zip_code': '10012', 'country': 'US', 'state': 'NY', 'display_address': ['227 Mulberry St', 'New York, NY 10012']}, 'phone': '+19174092605', 'display_phone': '(917) 409-2605', 'distance': 1907.0352495436118}, {'id': 'jnEv25Y2DosTq2sNnvmC9g', 'alias': 'los-tacos-no-1-new-york', 'name': 'Los Tacos No.1', 'image_url': 'https://s3-media2.fl.yelpcdn.com/bphoto/FU44TYl3PzXsE06G4W5aog/o.jpg', 'is_closed': False, 'url': 'https://www.yelp.com/biz/los-tacos-no-1-new-york?adjust_creative=cM1zrjoabjXir-vOTu86eg&utm_campaign=yelp_api_v3&utm_medium=api_v3_business_search&utm_source=cM1zrjoabjXir-vOTu86eg', 'review_count': 3842, 'categories': [{'alias': 'tacos', 'title': 'Tacos'}], 'rating': 4.5, 'coordinates': {'latitude': 40.7422546402357, 'longitude': -74.0059581}, 'transactions': ['delivery'], 'price': '$$', 'location': {'address1': '75 9th Ave', 'address2': '', 'address3': 'Chelsea Market', 'city': 'New York', 'zip_code': '10011', 'country': 'US', 'state': 'NY', 'display_address': ['75 9th Ave', 'Chelsea Market', 'New York, NY 10011']}, 'phone': '', 'display_phone': '', 'distance': 4199.173831196387}, {'id': 'zGAQqDu0Ak2khVYs9WdQxw', 'alias': 'sushi-nakazawa-new-york', 'name': 'Sushi Nakazawa', 'image_url': 'https://s3-media2.fl.yelpcdn.com/bphoto/oaWPXbX-O9-duVWn50cyvQ/o.jpg', 'is_closed': False, 'url': 'https://www.yelp.com/biz/sushi-nakazawa-new-york?adjust_creative=cM1zrjoabjXir-vOTu86eg&utm_campaign=yelp_api_v3&utm_medium=api_v3_business_search&utm_source=cM1zrjoabjXir-vOTu86eg', 'review_count': 1772, 'categories': [{'alias': 'japanese', 'title': 'Japanese'}, {'alias': 'sushi', 'title': 'Sushi Bars'}], 'rating': 4.5, 'coordinates': {'latitude': 40.7317465228689, 'longitude': -74.0045493828034}, 'transactions': [], 'price': '$$$$', 'location': {'address1': '23 Commerce St', 'address2': '', 'address3': '', 'city': 'New York', 'zip_code': '10014', 'country': 'US', 'state': 'NY', 'display_address': ['23 Commerce St', 'New York, NY 10014']}, 'phone': '+12129242212', 'display_phone': '(212) 924-2212', 'distance': 3039.6722411304963}, {'id': 'EKkHfSYTm266-ZBve3SdgA', 'alias': 'yoon-haeundae-galbi-new-york-2', 'name': 'Yoon Haeundae Galbi', 'image_url': 'https://s3-media1.fl.yelpcdn.com/bphoto/BpXNPvOjoErxD5xnhBaa-A/o.jpg', 'is_closed': False, 'url': 'https://www.yelp.com/biz/yoon-haeundae-galbi-new-york-2?adjust_creative=cM1zrjoabjXir-vOTu86eg&utm_campaign=yelp_api_v3&utm_medium=api_v3_business_search&utm_source=cM1zrjoabjXir-vOTu86eg', 'review_count': 751, 'categories': [{'alias': 'korean', 'title': 'Korean'}, {'alias': 'bbq', 'title': 'Barbeque'}, {'alias': 'steak', 'title': 'Steakhouses'}], 'rating': 4.5, 'coordinates': {'latitude': 40.74996750318778, 'longitude': -73.98443095513923}, 'transactions': [], 'price': '$$$', 'location': {'address1': '8 W 36th St', 'address2': '', 'address3': None, 'city': 'New York', 'zip_code': '10018', 'country': 'US', 'state': 'NY', 'display_address': ['8 W 36th St', 'New York, NY 10018']}, 'phone': '+12126918078', 'display_phone': '(212) 691-8078', 'distance': 5008.522334412078}, {'id': 'H_KyiRhwho8rdlw_R93_0Q', 'alias': 'marea-new-york', 'name': 'Marea', 'image_url': 'https://s3-media1.fl.yelpcdn.com/bphoto/5Wn8lBnTPxx7Krir58WElg/o.jpg', 'is_closed': False, 'url': 'https://www.yelp.com/biz/marea-new-york?adjust_creative=cM1zrjoabjXir-vOTu86eg&utm_campaign=yelp_api_v3&utm_medium=api_v3_business_search&utm_source=cM1zrjoabjXir-vOTu86eg', 'review_count': 2380, 'categories': [{'alias': 'italian', 'title': 'Italian'}, {'alias': 'seafood', 'title': 'Seafood'}, {'alias': 'wine_bars', 'title': 'Wine Bars'}], 'rating': 4.0, 'coordinates': {'latitude': 40.767388, 'longitude': -73.981196}, 'transactions': ['delivery', 'pickup'], 'price': '$$$$', 'location': {'address1': '240 Central Park S', 'address2': '', 'address3': '', 'city': 'New York', 'zip_code': '10019', 'country': 'US', 'state': 'NY', 'display_address': ['240 Central Park S', 'New York, NY 10019']}, 'phone': '+12125825100', 'display_phone': '(212) 582-5100', 'distance': 6969.218632233465}, {'id': 'xtxcAUvrD4dWHJd0cwvW1A', 'alias': 'jeju-noodle-bar-new-york', 'name': 'JeJu Noodle Bar', 'image_url': 'https://s3-media2.fl.yelpcdn.com/bphoto/Y4pR--TEJCbfh8zOT0yE8g/o.jpg', 'is_closed': False, 'url': 'https://www.yelp.com/biz/jeju-noodle-bar-new-york?adjust_creative=cM1zrjoabjXir-vOTu86eg&utm_campaign=yelp_api_v3&utm_medium=api_v3_business_search&utm_source=cM1zrjoabjXir-vOTu86eg', 'review_count': 1035, 'categories': [{'alias': 'korean', 'title': 'Korean'}, {'alias': 'noodles', 'title': 'Noodles'}, {'alias': 'wine_bars', 'title': 'Wine Bars'}], 'rating': 4.0, 'coordinates': {'latitude': 40.73304, 'longitude': -74.00734}, 'transactions': ['delivery'], 'price': '$$', 'location': {'address1': '679 Greenwich St', 'address2': '', 'address3': None, 'city': 'New York', 'zip_code': '10014', 'country': 'US', 'state': 'NY', 'display_address': ['679 Greenwich St', 'New York, NY 10014']}, 'phone': '+16466660947', 'display_phone': '(646) 666-0947', 'distance': 3246.4669387254835}, {'id': '4FD0TAxe70nb3ngk3sXF9Q', 'alias': 'uluh-new-york', 'name': 'Uluh', 'image_url': 'https://s3-media3.fl.yelpcdn.com/bphoto/ebgBK2Y-BCVzwEZyDmhLsg/o.jpg', 'is_closed': False, 'url': 'https://www.yelp.com/biz/uluh-new-york?adjust_creative=cM1zrjoabjXir-vOTu86eg&utm_campaign=yelp_api_v3&utm_medium=api_v3_business_search&utm_source=cM1zrjoabjXir-vOTu86eg', 'review_count': 932, 'categories': [{'alias': 'tea', 'title': 'Tea Rooms'}, {'alias': 'asianfusion', 'title': 'Asian Fusion'}, {'alias': 'szechuan', 'title': 'Szechuan'}], 'rating': 4.5, 'coordinates': {'latitude': 40.729354, 'longitude': -73.98665}, 'transactions': ['restaurant_reservation', 'pickup', 'delivery'], 'price': '$$$', 'location': {'address1': '152 2nd Ave', 'address2': 'Ste A', 'address3': '', 'city': 'New York', 'zip_code': '10003', 'country': 'US', 'state': 'NY', 'display_address': ['152 2nd Ave', 'Ste A', 'New York, NY 10003']}, 'phone': '+19172615963', 'display_phone': '(917) 261-5963', 'distance': 2724.029106478522}, {'id': 'RYKGs45OjF-vlb2Ds2Jb_g', 'alias': 'izakaya-juraku-new-york-2', 'name': 'Izakaya Juraku', 'image_url': 'https://s3-media4.fl.yelpcdn.com/bphoto/h9MS1kCmfo-r1uPsZjoaiA/o.jpg', 'is_closed': False, 'url': 'https://www.yelp.com/biz/izakaya-juraku-new-york-2?adjust_creative=cM1zrjoabjXir-vOTu86eg&utm_campaign=yelp_api_v3&utm_medium=api_v3_business_search&utm_source=cM1zrjoabjXir-vOTu86eg', 'review_count': 217, 'categories': [{'alias': 'bars', 'title': 'Bars'}, {'alias': 'izakaya', 'title': 'Izakaya'}, {'alias': 'ramen', 'title': 'Ramen'}], 'rating': 4.5, 'coordinates': {'latitude': 40.7196796287355, 'longitude': -73.9887088537216}, 'transactions': ['delivery', 'pickup'], 'price': '$$$', 'location': {'address1': '121 Ludlow St', 'address2': '', 'address3': None, 'city': 'New York', 'zip_code': '10002', 'country': 'US', 'state': 'NY', 'display_address': ['121 Ludlow St', 'New York, NY 10002']}, 'phone': '+12124770100', 'display_phone': '(212) 477-0100', 'distance': 1639.9075076899728}, {'id': 'mlm40NxsVJUPnh3LTayaaw', 'alias': 'kimika-new-york', 'name': 'Kimika', 'image_url': 'https://s3-media2.fl.yelpcdn.com/bphoto/C9cNpM69DQ8vN-7yQfzUcw/o.jpg', 'is_closed': False, 'url': 'https://www.yelp.com/biz/kimika-new-york?adjust_creative=cM1zrjoabjXir-vOTu86eg&utm_campaign=yelp_api_v3&utm_medium=api_v3_business_search&utm_source=cM1zrjoabjXir-vOTu86eg', 'review_count': 367, 'categories': [{'alias': 'italian', 'title': 'Italian'}, {'alias': 'cocktailbars', 'title': 'Cocktail Bars'}, {'alias': 'asianfusion', 'title': 'Asian Fusion'}], 'rating': 4.0, 'coordinates': {'latitude': 40.720572, 'longitude': -73.995206}, 'transactions': ['delivery'], 'price': '$$$', 'location': {'address1': '40 Kenmare St', 'address2': '', 'address3': None, 'city': 'New York', 'zip_code': '10012', 'country': 'US', 'state': 'NY', 'display_address': ['40 Kenmare St', 'New York, NY 10012']}, 'phone': '+12122569280', 'display_phone': '(212) 256-9280', 'distance': 1677.4272173060592}, {'id': 'bEXTA_Gwo2oVg4gnFd9fNA', 'alias': 'ai-fiori-new-york', 'name': 'Ai Fiori', 'image_url': 'https://s3-media2.fl.yelpcdn.com/bphoto/9CeyBwG-Us8MaOgEwwFJaA/o.jpg', 'is_closed': False, 'url': 'https://www.yelp.com/biz/ai-fiori-new-york?adjust_creative=cM1zrjoabjXir-vOTu86eg&utm_campaign=yelp_api_v3&utm_medium=api_v3_business_search&utm_source=cM1zrjoabjXir-vOTu86eg', 'review_count': 1479, 'categories': [{'alias': 'italian', 'title': 'Italian'}, {'alias': 'french', 'title': 'French'}, {'alias': 'breakfast_brunch', 'title': 'Breakfast & Brunch'}], 'rating': 4.0, 'coordinates': {'latitude': 40.750066, 'longitude': -73.983788}, 'transactions': [], 'price': '$$$$', 'location': {'address1': '400 5th Ave', 'address2': '2nd Level', 'address3': 'The Langham', 'city': 'New York', 'zip_code': '10018', 'country': 'US', 'state': 'NY', 'display_address': ['400 5th Ave', '2nd Level', 'The Langham', 'New York, NY 10018']}, 'phone': '+12126138660', 'display_phone': '(212) 613-8660', 'distance': 5065.756870331272}, {'id': '8F81LrdFm6P5kkFpsw0n0w', 'alias': 'sweet-chick-new-york', 'name': 'Sweet Chick', 'image_url': 'https://s3-media2.fl.yelpcdn.com/bphoto/AH6EdkWp3m_Voa8YK5DFdw/o.jpg', 'is_closed': False, 'url': 'https://www.yelp.com/biz/sweet-chick-new-york?adjust_creative=cM1zrjoabjXir-vOTu86eg&utm_campaign=yelp_api_v3&utm_medium=api_v3_business_search&utm_source=cM1zrjoabjXir-vOTu86eg', 'review_count': 1928, 'categories': [{'alias': 'southern', 'title': 'Southern'}, {'alias': 'breakfast_brunch', 'title': 'Breakfast & Brunch'}, {'alias': 'chickenshop', 'title': 'Chicken Shop'}], 'rating': 4.0, 'coordinates': {'latitude': 40.7217399, 'longitude': -73.98739}, 'transactions': ['delivery', 'pickup'], 'price': '$$', 'location': {'address1': '178 Ludlow St', 'address2': '', 'address3': '', 'city': 'New York', 'zip_code': '10002', 'country': 'US', 'state': 'NY', 'display_address': ['178 Ludlow St', 'New York, NY 10002']}, 'phone': '+16466570233', 'display_phone': '(646) 657-0233', 'distance': 1889.7043577808397}, {'id': 'DoSU8IPq-Py_YV3kYmXPfQ', 'alias': 'trattoria-trecolori-new-york', 'name': 'Trattoria Trecolori', 'image_url': 'https://s3-media3.fl.yelpcdn.com/bphoto/nnfB_XDK58GS69n29d2E2A/o.jpg', 'is_closed': False, 'url': 'https://www.yelp.com/biz/trattoria-trecolori-new-york?adjust_creative=cM1zrjoabjXir-vOTu86eg&utm_campaign=yelp_api_v3&utm_medium=api_v3_business_search&utm_source=cM1zrjoabjXir-vOTu86eg', 'review_count': 2706, 'categories': [{'alias': 'italian', 'title': 'Italian'}], 'rating': 4.0, 'coordinates': {'latitude': 40.759876, 'longitude': -73.986767}, 'transactions': ['delivery', 'pickup'], 'price': '$$', 'location': {'address1': '254 West 47th St', 'address2': '', 'address3': '', 'city': 'New York', 'zip_code': '10036', 'country': 'US', 'state': 'NY', 'display_address': ['254 West 47th St', 'New York, NY 10036']}, 'phone': '+12129974540', 'display_phone': '(212) 997-4540', 'distance': 6073.019985095876}, {'id': 'AKHA6ZU8uM3vmLwH2hqH_A', 'alias': 'loring-place-new-york-2', 'name': 'Loring Place', 'image_url': 'https://s3-media3.fl.yelpcdn.com/bphoto/vB8Kr299Gno1QJ8_7Z2puQ/o.jpg', 'is_closed': False, 'url': 'https://www.yelp.com/biz/loring-place-new-york-2?adjust_creative=cM1zrjoabjXir-vOTu86eg&utm_campaign=yelp_api_v3&utm_medium=api_v3_business_search&utm_source=cM1zrjoabjXir-vOTu86eg', 'review_count': 571, 'categories': [{'alias': 'desserts', 'title': 'Desserts'}, {'alias': 'tapasmallplates', 'title': 'Tapas/Small Plates'}, {'alias': 'pizza', 'title': 'Pizza'}], 'rating': 4.5, 'coordinates': {'latitude': 40.73293764919451, 'longitude': -73.99758608256435}, 'transactions': ['delivery'], 'price': '$$$', 'location': {'address1': '21 W 8th St', 'address2': '', 'address3': None, 'city': 'New York', 'zip_code': '10011', 'country': 'US', 'state': 'NY', 'display_address': ['21 W 8th St', 'New York, NY 10011']}, 'phone': '+12123881831', 'display_phone': '(212) 388-1831', 'distance': 3058.7319705940245}, {'id': 'tnxb_qM5e7J5wIfYwJB3Ig', 'alias': 'the-elgin-new-york', 'name': 'The Elgin', 'image_url': 'https://s3-media3.fl.yelpcdn.com/bphoto/-1BDRPuwJhVh4OpIPSUCvA/o.jpg', 'is_closed': False, 'url': 'https://www.yelp.com/biz/the-elgin-new-york?adjust_creative=cM1zrjoabjXir-vOTu86eg&utm_campaign=yelp_api_v3&utm_medium=api_v3_business_search&utm_source=cM1zrjoabjXir-vOTu86eg', 'review_count': 296, 'categories': [{'alias': 'cocktailbars', 'title': 'Cocktail Bars'}, {'alias': 'beerbar', 'title': 'Beer Bar'}, {'alias': 'newamerican', 'title': 'New American'}], 'rating': 4.5, 'coordinates': {'latitude': 40.758339026848695, 'longitude': -73.98082697379752}, 'transactions': ['delivery', 'pickup'], 'price': '$$', 'location': {'address1': '64 West 48th St', 'address2': None, 'address3': '', 'city': 'New York', 'zip_code': '10036', 'country': 'US', 'state': 'NY', 'display_address': ['64 West 48th St', 'New York, NY 10036']}, 'phone': '+12122212100', 'display_phone': '(212) 221-2100', 'distance': 5978.562753243388}, {'id': 'zfiXI8AwYBRfWjPyv6oh3w', 'alias': 'lobster-place-new-york-4', 'name': 'Lobster Place', 'image_url': 'https://s3-media4.fl.yelpcdn.com/bphoto/zgCitW9dNXpxlehrZuGBTg/o.jpg', 'is_closed': False, 'url': 'https://www.yelp.com/biz/lobster-place-new-york-4?adjust_creative=cM1zrjoabjXir-vOTu86eg&utm_campaign=yelp_api_v3&utm_medium=api_v3_business_search&utm_source=cM1zrjoabjXir-vOTu86eg', 'review_count': 1528, 'categories': [{'alias': 'seafoodmarkets', 'title': 'Seafood Markets'}, {'alias': 'seafood', 'title': 'Seafood'}], 'rating': 4.0, 'coordinates': {'latitude': 40.7427413905213, 'longitude': -74.0060118057704}, 'transactions': ['delivery', 'pickup'], 'price': '$$', 'location': {'address1': '75 9th Ave', 'address2': '', 'address3': '', 'city': 'New York', 'zip_code': '10011', 'country': 'US', 'state': 'NY', 'display_address': ['75 9th Ave', 'New York, NY 10011']}, 'phone': '+12122555672', 'display_phone': '(212) 255-5672', 'distance': 4252.85564683203}, {'id': 'jc7lVTvmYMIK5RNpENtS6w', 'alias': 'szechuan-mountain-house-new-york-2', 'name': 'Szechuan Mountain House', 'image_url': 'https://s3-media3.fl.yelpcdn.com/bphoto/T6RdvGS66N-FV8EnWehx2A/o.jpg', 'is_closed': False, 'url': 'https://www.yelp.com/biz/szechuan-mountain-house-new-york-2?adjust_creative=cM1zrjoabjXir-vOTu86eg&utm_campaign=yelp_api_v3&utm_medium=api_v3_business_search&utm_source=cM1zrjoabjXir-vOTu86eg', 'review_count': 719, 'categories': [{'alias': 'szechuan', 'title': 'Szechuan'}], 'rating': 4.5, 'coordinates': {'latitude': 40.72911, 'longitude': -73.98858}, 'transactions': ['pickup', 'delivery'], 'price': '$$', 'location': {'address1': '23 St Marks Pl', 'address2': '', 'address3': None, 'city': 'New York', 'zip_code': '10003', 'country': 'US', 'state': 'NY', 'display_address': ['23 St Marks Pl', 'New York, NY 10003']}, 'phone': '+19173883866', 'display_phone': '(917) 388-3866', 'distance': 2675.1962888402086}, {'id': 'CuwHhq1MKX5hm8YyxtqukQ', 'alias': 'shukette-new-york', 'name': 'Shukette', 'image_url': 'https://s3-media2.fl.yelpcdn.com/bphoto/2QlGekOdWWrkmAKVfVPbnw/o.jpg', 'is_closed': False, 'url': 'https://www.yelp.com/biz/shukette-new-york?adjust_creative=cM1zrjoabjXir-vOTu86eg&utm_campaign=yelp_api_v3&utm_medium=api_v3_business_search&utm_source=cM1zrjoabjXir-vOTu86eg', 'review_count': 392, 'categories': [{'alias': 'mideastern', 'title': 'Middle Eastern'}], 'rating': 4.5, 'coordinates': {'latitude': 40.74745, 'longitude': -74.00041}, 'transactions': ['delivery'], 'price': '$$$', 'location': {'address1': '230 9th Ave', 'address2': '', 'address3': None, 'city': 'New York', 'zip_code': '10001', 'country': 'US', 'state': 'NY', 'display_address': ['230 9th Ave', 'New York, NY 10001']}, 'phone': '', 'display_phone': '', 'distance': 4688.284628063795}, {'id': 'nxTEuWKzkK1tCF4LrhFSUQ', 'alias': 'pig-and-khao-new-york', 'name': 'Pig and Khao', 'image_url': 'https://s3-media3.fl.yelpcdn.com/bphoto/6P2qNEUVFVk26140LmAd8g/o.jpg', 'is_closed': False, 'url': 'https://www.yelp.com/biz/pig-and-khao-new-york?adjust_creative=cM1zrjoabjXir-vOTu86eg&utm_campaign=yelp_api_v3&utm_medium=api_v3_business_search&utm_source=cM1zrjoabjXir-vOTu86eg', 'review_count': 1920, 'categories': [{'alias': 'filipino', 'title': 'Filipino'}, {'alias': 'thai', 'title': 'Thai'}, {'alias': 'panasian', 'title': 'Pan Asian'}], 'rating': 4.0, 'coordinates': {'latitude': 40.71926, 'longitude': -73.98475}, 'transactions': ['delivery', 'pickup'], 'price': '$$$', 'location': {'address1': '68 Clinton St', 'address2': '', 'address3': '', 'city': 'New York', 'zip_code': '10002', 'country': 'US', 'state': 'NY', 'display_address': ['68 Clinton St', 'New York, NY 10002']}, 'phone': '+12129204485', 'display_phone': '(212) 920-4485', 'distance': 1722.8766612704637}, {'id': '4zw8vEJNc4mcHh2ARzj2gw', 'alias': 'osteria-brooklyn-brooklyn', 'name': 'Osteria Brooklyn', 'image_url': 'https://s3-media2.fl.yelpcdn.com/bphoto/epI4tZGDoAA52iA18uNr6w/o.jpg', 'is_closed': False, 'url': 'https://www.yelp.com/biz/osteria-brooklyn-brooklyn?adjust_creative=cM1zrjoabjXir-vOTu86eg&utm_campaign=yelp_api_v3&utm_medium=api_v3_business_search&utm_source=cM1zrjoabjXir-vOTu86eg', 'review_count': 259, 'categories': [{'alias': 'italian', 'title': 'Italian'}], 'rating': 4.5, 'coordinates': {'latitude': 40.693154, 'longitude': -73.967177}, 'transactions': ['delivery', 'pickup'], 'price': '$$$', 'location': {'address1': '458 Myrtle Ave', 'address2': '', 'address3': None, 'city': 'Brooklyn', 'zip_code': '11205', 'country': 'US', 'state': 'NY', 'display_address': ['458 Myrtle Ave', 'Brooklyn, NY 11205']}, 'phone': '+16467509156', 'display_phone': '(646) 750-9156', 'distance': 2666.9182142264835}, {'id': 'G9SWgxH65OBQaJaE8dHkbw', 'alias': 'zest-ramen-new-york-8', 'name': 'Zest Ramen', 'image_url': 'https://s3-media3.fl.yelpcdn.com/bphoto/zVNJZIjOF2gd6DUWA2n_zQ/o.jpg', 'is_closed': False, 'url': 'https://www.yelp.com/biz/zest-ramen-new-york-8?adjust_creative=cM1zrjoabjXir-vOTu86eg&utm_campaign=yelp_api_v3&utm_medium=api_v3_business_search&utm_source=cM1zrjoabjXir-vOTu86eg', 'review_count': 338, 'categories': [{'alias': 'ramen', 'title': 'Ramen'}, {'alias': 'izakaya', 'title': 'Izakaya'}, {'alias': 'cocktailbars', 'title': 'Cocktail Bars'}], 'rating': 4.5, 'coordinates': {'latitude': 40.71816, 'longitude': -73.99186}, 'transactions': ['restaurant_reservation', 'pickup', 'delivery'], 'price': '$$', 'location': {'address1': '112 Eldridge St', 'address2': None, 'address3': '', 'city': 'New York', 'zip_code': '10002', 'country': 'US', 'state': 'NY', 'display_address': ['112 Eldridge St', 'New York, NY 10002']}, 'phone': '+12122262801', 'display_phone': '(212) 226-2801', 'distance': 1422.2036878286708}, {'id': 'SmLFW1Ncg26KfVRVX3GVFQ', 'alias': 'little-mad-new-york-2', 'name': 'Little Mad', 'image_url': 'https://s3-media2.fl.yelpcdn.com/bphoto/jgG9F5cbBo0F4l5i36iBgA/o.jpg', 'is_closed': False, 'url': 'https://www.yelp.com/biz/little-mad-new-york-2?adjust_creative=cM1zrjoabjXir-vOTu86eg&utm_campaign=yelp_api_v3&utm_medium=api_v3_business_search&utm_source=cM1zrjoabjXir-vOTu86eg', 'review_count': 202, 'categories': [{'alias': 'newamerican', 'title': 'New American'}, {'alias': 'korean', 'title': 'Korean'}], 'rating': 4.5, 'coordinates': {'latitude': 40.74502, 'longitude': -73.98513}, 'transactions': [], 'price': '$$$$', 'location': {'address1': '110 Madison Ave', 'address2': None, 'address3': '', 'city': 'New York', 'zip_code': '10016', 'country': 'US', 'state': 'NY', 'display_address': ['110 Madison Ave', 'New York, NY 10016']}, 'phone': '+19172614969', 'display_phone': '(917) 261-4969', 'distance': 4455.724012679495}, {'id': 'W0sXHSSpkiMEDJiBmSLNYQ', 'alias': 'trestle-astoria', 'name': 'Trestle', 'image_url': 'https://s3-media2.fl.yelpcdn.com/bphoto/7xXAAfdDvxw8cz-X5f19mg/o.jpg', 'is_closed': False, 'url': 'https://www.yelp.com/biz/trestle-astoria?adjust_creative=cM1zrjoabjXir-vOTu86eg&utm_campaign=yelp_api_v3&utm_medium=api_v3_business_search&utm_source=cM1zrjoabjXir-vOTu86eg', 'review_count': 557, 'categories': [{'alias': 'cocktailbars', 'title': 'Cocktail Bars'}, {'alias': 'newamerican', 'title': 'New American'}, {'alias': 'breakfast_brunch', 'title': 'Breakfast & Brunch'}], 'rating': 4.5, 'coordinates': {'latitude': 40.7606154, 'longitude': -73.9229562}, 'transactions': ['restaurant_reservation', 'pickup', 'delivery'], 'price': '$$', 'location': {'address1': '34-02 Broadway', 'address2': '', 'address3': None, 'city': 'Astoria', 'zip_code': '11106', 'country': 'US', 'state': 'NY', 'display_address': ['34-02 Broadway', 'Astoria, NY 11106']}, 'phone': '+13478080290', 'display_phone': '(347) 808-0290', 'distance': 8578.833050925889}, {'id': 'Ck09FempamAKGSPsV_bX-A', 'alias': 'xixa-brooklyn', 'name': 'Xixa', 'image_url': 'https://s3-media2.fl.yelpcdn.com/bphoto/7j7icctpnnVJ6mYtJZ8hrQ/o.jpg', 'is_closed': False, 'url': 'https://www.yelp.com/biz/xixa-brooklyn?adjust_creative=cM1zrjoabjXir-vOTu86eg&utm_campaign=yelp_api_v3&utm_medium=api_v3_business_search&utm_source=cM1zrjoabjXir-vOTu86eg', 'review_count': 679, 'categories': [{'alias': 'mexican', 'title': 'Mexican'}, {'alias': 'tapasmallplates', 'title': 'Tapas/Small Plates'}, {'alias': 'cocktailbars', 'title': 'Cocktail Bars'}], 'rating': 4.5, 'coordinates': {'latitude': 40.7104, 'longitude': -73.95854}, 'transactions': ['delivery', 'pickup'], 'price': '$$$', 'location': {'address1': '241 S 4th St', 'address2': '', 'address3': '', 'city': 'Brooklyn', 'zip_code': '11211', 'country': 'US', 'state': 'NY', 'display_address': ['241 S 4th St', 'Brooklyn, NY 11211']}, 'phone': '+17183888860', 'display_phone': '(718) 388-8860', 'distance': 3064.6725503308166}], 'total': 15000, 'region': {'center': {'longitude': -73.99429321289062, 'latitude': 40.70544486444615}}}\n"
     ]
    },
    {
     "ename": "KeyboardInterrupt",
     "evalue": "",
     "output_type": "error",
     "traceback": [
      "\u001b[0;31m---------------------------------------------------------------------------\u001b[0m",
      "\u001b[0;31mKeyboardInterrupt\u001b[0m                         Traceback (most recent call last)",
      "Cell \u001b[0;32mIn[33], line 1\u001b[0m\n\u001b[0;32m----> 1\u001b[0m \u001b[43mget_all_business_ids\u001b[49m\u001b[43m(\u001b[49m\u001b[38;5;124;43m'\u001b[39;49m\u001b[38;5;124;43mhttps://api.yelp.com/v3/businesses/search?location=New\u001b[39;49m\u001b[38;5;124;43m%\u001b[39;49m\u001b[38;5;124;43m20York&limit=50\u001b[39;49m\u001b[38;5;124;43m'\u001b[39;49m\u001b[43m)\u001b[49m\n",
      "Cell \u001b[0;32mIn[32], line 27\u001b[0m, in \u001b[0;36mget_all_business_ids\u001b[0;34m(base_url)\u001b[0m\n\u001b[1;32m     24\u001b[0m     \u001b[38;5;28;01melse\u001b[39;00m:\n\u001b[1;32m     25\u001b[0m         base_url \u001b[38;5;241m+\u001b[39m\u001b[38;5;241m=\u001b[39m \u001b[38;5;124mf\u001b[39m\u001b[38;5;124m'\u001b[39m\u001b[38;5;124m&offset=\u001b[39m\u001b[38;5;132;01m{\u001b[39;00m\u001b[38;5;28mlen\u001b[39m(all_business_ids)\u001b[38;5;132;01m}\u001b[39;00m\u001b[38;5;124m'\u001b[39m\n\u001b[0;32m---> 27\u001b[0m     \u001b[43mtime\u001b[49m\u001b[38;5;241;43m.\u001b[39;49m\u001b[43msleep\u001b[49m\u001b[43m(\u001b[49m\u001b[38;5;241;43m1\u001b[39;49m\u001b[43m)\u001b[49m  \n\u001b[1;32m     29\u001b[0m \u001b[38;5;28;01mreturn\u001b[39;00m all_business_ids\n",
      "\u001b[0;31mKeyboardInterrupt\u001b[0m: "
     ]
    }
   ],
   "source": [
    "get_all_business_ids('https://api.yelp.com/v3/businesses/search?location=New%20York&limit=50')"
   ]
  },
  {
   "cell_type": "code",
   "execution_count": 26,
   "metadata": {},
   "outputs": [
    {
     "data": {
      "text/html": [
       "<div>\n",
       "<style scoped>\n",
       "    .dataframe tbody tr th:only-of-type {\n",
       "        vertical-align: middle;\n",
       "    }\n",
       "\n",
       "    .dataframe tbody tr th {\n",
       "        vertical-align: top;\n",
       "    }\n",
       "\n",
       "    .dataframe thead th {\n",
       "        text-align: right;\n",
       "    }\n",
       "</style>\n",
       "<table border=\"1\" class=\"dataframe\">\n",
       "  <thead>\n",
       "    <tr style=\"text-align: right;\">\n",
       "      <th></th>\n",
       "      <th>name</th>\n",
       "      <th>review_count</th>\n",
       "      <th>url</th>\n",
       "    </tr>\n",
       "  </thead>\n",
       "  <tbody>\n",
       "  </tbody>\n",
       "</table>\n",
       "</div>"
      ],
      "text/plain": [
       "Empty DataFrame\n",
       "Columns: [name, review_count, url]\n",
       "Index: []"
      ]
     },
     "execution_count": 26,
     "metadata": {},
     "output_type": "execute_result"
    }
   ],
   "source": [
    "businesses_elements"
   ]
  },
  {
   "cell_type": "markdown",
   "metadata": {},
   "source": [
    "### We get the reviews from the business"
   ]
  },
  {
   "cell_type": "code",
   "execution_count": 132,
   "metadata": {},
   "outputs": [],
   "source": [
    "def get_reviews(restaurant_ids, city):\n",
    "    list_of_reviews = []\n",
    "    count = 0\n",
    "    \n",
    "    for i in range(len(restaurant_ids)):\n",
    "        url2 = \"https://api.yelp.com/v3/businesses/\" + restaurant_ids[0][i] + \"/reviews?sort_by=yelp_sort\"\n",
    "        response = requests.get(url2, headers=headers)\n",
    "        reviews_data = response.json()\n",
    "        \n",
    "        try:\n",
    "            for review in reviews_data['reviews']:\n",
    "                review_dict = {'text': review['text'], 'rating': review['rating'],'location':city}\n",
    "                list_of_reviews.append(review_dict)\n",
    "                count += 1\n",
    "                \n",
    "                # We limit the number of reviews to 25 reviews per restaurant\n",
    "\n",
    "                if count == 25: \n",
    "                    return list_of_reviews\n",
    "        except:\n",
    "            print(\"No reviews for this restaurant\")\n",
    "        \n",
    "    return list_of_reviews"
   ]
  },
  {
   "cell_type": "markdown",
   "metadata": {},
   "source": [
    "#### New Orleans"
   ]
  },
  {
   "cell_type": "code",
   "execution_count": 133,
   "metadata": {},
   "outputs": [
    {
     "name": "stdout",
     "output_type": "stream",
     "text": [
      "25\n"
     ]
    }
   ],
   "source": [
    "import requests\n",
    "\n",
    "new_orleans_url = ('https://api.yelp.com/v3/businesses/search?location=New+Orleans&term=restaurants&categories=french&price=3&price=4&sort_by=best_match')\n",
    "\n",
    "new_orleans_restaurant_ids = get_all_business_ids(new_orleans_url)\n",
    "\n",
    "new_orleans_list_of_reviews = get_reviews(new_orleans_restaurant_ids,'New Orleans')\n",
    "\n",
    "print(len(new_orleans_list_of_reviews))"
   ]
  },
  {
   "cell_type": "markdown",
   "metadata": {},
   "source": [
    "#### New York City"
   ]
  },
  {
   "cell_type": "code",
   "execution_count": 134,
   "metadata": {},
   "outputs": [
    {
     "name": "stdout",
     "output_type": "stream",
     "text": [
      "25\n"
     ]
    }
   ],
   "source": [
    "nyc_url = ('https://api.yelp.com/v3/businesses/search?location=New+York+City&term=restaurants&categories=french&price=3&price=4&sort_by=best_match')\n",
    "\n",
    "nyc_restaurant_ids = get_all_business_ids(nyc_url)\n",
    "\n",
    "nyc_list_of_reviews = get_reviews(nyc_restaurant_ids,'New York City')\n",
    "\n",
    "print(len(nyc_list_of_reviews))"
   ]
  },
  {
   "cell_type": "markdown",
   "metadata": {},
   "source": [
    "#### Chicago"
   ]
  },
  {
   "cell_type": "code",
   "execution_count": 135,
   "metadata": {},
   "outputs": [
    {
     "name": "stdout",
     "output_type": "stream",
     "text": [
      "25\n"
     ]
    }
   ],
   "source": [
    "chicago_url = ('https://api.yelp.com/v3/businesses/search?location=Chicago&term=restaurants&categories=french&price=3&price=4&sort_by=best_match')\n",
    "\n",
    "chicago_restaurant_ids = get_all_business_ids(chicago_url)\n",
    "\n",
    "chicago_list_of_reviews = get_reviews(chicago_restaurant_ids,'Chicago')\n",
    "\n",
    "print(len(chicago_list_of_reviews))"
   ]
  },
  {
   "cell_type": "markdown",
   "metadata": {},
   "source": [
    "#### Los Angeles"
   ]
  },
  {
   "cell_type": "code",
   "execution_count": 136,
   "metadata": {},
   "outputs": [
    {
     "name": "stdout",
     "output_type": "stream",
     "text": [
      "25\n"
     ]
    }
   ],
   "source": [
    "los_angeles_url = \"https://api.yelp.com/v3/businesses/search?location=Los+Angeles&term=restaurants&categories=french&price=4&price=3&sort_by=best_match\"\n",
    "\n",
    "los_angeles_restaurants = get_all_business_ids(los_angeles_url)\n",
    "\n",
    "los_angeles_list_of_reviews = get_reviews(los_angeles_restaurants,'Los Angeles')\n",
    "\n",
    "print(len(los_angeles_list_of_reviews))"
   ]
  },
  {
   "cell_type": "markdown",
   "metadata": {},
   "source": [
    "#### San Francisco"
   ]
  },
  {
   "cell_type": "code",
   "execution_count": 137,
   "metadata": {},
   "outputs": [
    {
     "name": "stdout",
     "output_type": "stream",
     "text": [
      "25\n"
     ]
    }
   ],
   "source": [
    "sf_url = \"https://api.yelp.com/v3/businesses/search?location=San+Francisco&term=restaurants&categories=french&price=4&price=3&sort_by=best_match\"\n",
    "\n",
    "san_francisco_restaurants = get_all_business_ids(sf_url)\n",
    "\n",
    "sf_list_of_reviews = get_reviews(san_francisco_restaurants,'San Francisco')\n",
    "\n",
    "print(len(sf_list_of_reviews))"
   ]
  },
  {
   "cell_type": "markdown",
   "metadata": {},
   "source": [
    "#### Philadelphia"
   ]
  },
  {
   "cell_type": "code",
   "execution_count": 138,
   "metadata": {},
   "outputs": [
    {
     "name": "stdout",
     "output_type": "stream",
     "text": [
      "24\n"
     ]
    }
   ],
   "source": [
    "philadelphia_url = \"https://api.yelp.com/v3/businesses/search?location=Philadelphia&term=restaurants&categories=french&price=4&price=3&sort_by=best_match\"\n",
    "\n",
    "philadelphia_restaurants = get_all_business_ids(philadelphia_url)\n",
    "\n",
    "philadelphia_list_of_reviews = get_reviews(philadelphia_restaurants,'Philadelphia')\n",
    "\n",
    "print(len(philadelphia_list_of_reviews))"
   ]
  },
  {
   "cell_type": "markdown",
   "metadata": {},
   "source": [
    "#### Las Vegas"
   ]
  },
  {
   "cell_type": "code",
   "execution_count": 139,
   "metadata": {},
   "outputs": [
    {
     "name": "stdout",
     "output_type": "stream",
     "text": [
      "25\n"
     ]
    }
   ],
   "source": [
    "las_vegas_url = \"https://api.yelp.com/v3/businesses/search?location=Las+Vegas&term=restaurants&categories=french&price=4&price=3&sort_by=best_match\"\n",
    "\n",
    "las_vegas_restaurants = get_all_business_ids(las_vegas_url)\n",
    "\n",
    "las_vegas_list_of_reviews = get_reviews(las_vegas_restaurants,'Las Vegas')\n",
    "\n",
    "print(len(las_vegas_list_of_reviews))"
   ]
  },
  {
   "cell_type": "markdown",
   "metadata": {},
   "source": [
    "#### Houston"
   ]
  },
  {
   "cell_type": "code",
   "execution_count": 140,
   "metadata": {},
   "outputs": [
    {
     "name": "stdout",
     "output_type": "stream",
     "text": [
      "25\n"
     ]
    }
   ],
   "source": [
    "houston_url = \"https://api.yelp.com/v3/businesses/search?location=Houston&term=restaurants&categories=french&price=4&price=3&sort_by=best_match\"\n",
    "\n",
    "houston_restaurants = get_all_business_ids(houston_url)\n",
    "\n",
    "houston_list_of_reviews = get_reviews(houston_restaurants,'Houston')\n",
    "\n",
    "print(len(houston_list_of_reviews))"
   ]
  },
  {
   "cell_type": "markdown",
   "metadata": {},
   "source": [
    "#### Phoenix"
   ]
  },
  {
   "cell_type": "code",
   "execution_count": 141,
   "metadata": {},
   "outputs": [
    {
     "name": "stdout",
     "output_type": "stream",
     "text": [
      "12\n"
     ]
    }
   ],
   "source": [
    "phoenix_url = \"https://api.yelp.com/v3/businesses/search?location=Phoenix&term=restaurants&categories=french&price=4&price=3&sort_by=best_match\"\n",
    "\n",
    "phoenix_restaurants = get_all_business_ids(phoenix_url)\n",
    "\n",
    "phoenix_list_of_reviews = get_reviews(phoenix_restaurants,'Phoenix')\n",
    "\n",
    "print(len(phoenix_list_of_reviews))"
   ]
  },
  {
   "cell_type": "markdown",
   "metadata": {},
   "source": [
    "#### Miami"
   ]
  },
  {
   "cell_type": "code",
   "execution_count": 142,
   "metadata": {},
   "outputs": [
    {
     "name": "stdout",
     "output_type": "stream",
     "text": [
      "15\n"
     ]
    }
   ],
   "source": [
    "miami_url = \"https://api.yelp.com/v3/businesses/search?location=Miami&term=restaurants&categories=french&price=4&price=3&sort_by=best_match\"\n",
    "\n",
    "miami_restaurants = get_all_business_ids(miami_url)\n",
    "\n",
    "miami_list_of_reviews = get_reviews(miami_restaurants,'Miami')\n",
    "\n",
    "print(len(miami_list_of_reviews))"
   ]
  },
  {
   "cell_type": "markdown",
   "metadata": {},
   "source": [
    "### Merge"
   ]
  },
  {
   "cell_type": "code",
   "execution_count": 153,
   "metadata": {},
   "outputs": [],
   "source": [
    "ouput_dfs = []\n",
    "\n",
    "cities = ['new_orleans', 'nyc', 'chicago', 'los_angeles', 'sf', 'philadelphia', 'las_vegas', 'houston', 'phoenix', 'miami']\n",
    "\n",
    "for city in cities:\n",
    "    reviews_list = globals()[f'{city}_list_of_reviews']\n",
    "    ouput_df = pd.DataFrame(reviews_list, columns=['text', 'rating', 'location'])\n",
    "    ouput_dfs.append(ouput_df)\n",
    "\n",
    "output = pd.concat(ouput_dfs, ignore_index=True)\n",
    "df = pd.concat([df, output], ignore_index=True)"
   ]
  },
  {
   "cell_type": "code",
   "execution_count": 157,
   "metadata": {},
   "outputs": [
    {
     "data": {
      "text/plain": [
       "rating\n",
       "5    367\n",
       "4    134\n",
       "3     69\n",
       "2     29\n",
       "1     19\n",
       "Name: count, dtype: int64"
      ]
     },
     "execution_count": 157,
     "metadata": {},
     "output_type": "execute_result"
    }
   ],
   "source": [
    "df.drop_duplicates(inplace=True)\n",
    "df['rating'].value_counts()"
   ]
  },
  {
   "cell_type": "code",
   "execution_count": 158,
   "metadata": {},
   "outputs": [
    {
     "data": {
      "text/html": [
       "<div>\n",
       "<style scoped>\n",
       "    .dataframe tbody tr th:only-of-type {\n",
       "        vertical-align: middle;\n",
       "    }\n",
       "\n",
       "    .dataframe tbody tr th {\n",
       "        vertical-align: top;\n",
       "    }\n",
       "\n",
       "    .dataframe thead th {\n",
       "        text-align: right;\n",
       "    }\n",
       "</style>\n",
       "<table border=\"1\" class=\"dataframe\">\n",
       "  <thead>\n",
       "    <tr style=\"text-align: right;\">\n",
       "      <th></th>\n",
       "      <th>text</th>\n",
       "      <th>rating</th>\n",
       "      <th>location</th>\n",
       "    </tr>\n",
       "  </thead>\n",
       "  <tbody>\n",
       "    <tr>\n",
       "      <th>0</th>\n",
       "      <td>Robyn gave amazing service! So attentive and f...</td>\n",
       "      <td>5</td>\n",
       "      <td>Los Angeles</td>\n",
       "    </tr>\n",
       "    <tr>\n",
       "      <th>1</th>\n",
       "      <td>Headed downtown on a Thursday evening for a Ki...</td>\n",
       "      <td>5</td>\n",
       "      <td>Los Angeles</td>\n",
       "    </tr>\n",
       "    <tr>\n",
       "      <th>2</th>\n",
       "      <td>Been here a few times, in just recent weeks. T...</td>\n",
       "      <td>4</td>\n",
       "      <td>Los Angeles</td>\n",
       "    </tr>\n",
       "    <tr>\n",
       "      <th>3</th>\n",
       "      <td>Service is fast. Staff is friendly. The food i...</td>\n",
       "      <td>5</td>\n",
       "      <td>Los Angeles</td>\n",
       "    </tr>\n",
       "    <tr>\n",
       "      <th>4</th>\n",
       "      <td>Walked by and asked to see a menu. Very helpfu...</td>\n",
       "      <td>3</td>\n",
       "      <td>Los Angeles</td>\n",
       "    </tr>\n",
       "    <tr>\n",
       "      <th>...</th>\n",
       "      <td>...</td>\n",
       "      <td>...</td>\n",
       "      <td>...</td>\n",
       "    </tr>\n",
       "    <tr>\n",
       "      <th>613</th>\n",
       "      <td>The Steak Tartare is absolutely yummy! Just as...</td>\n",
       "      <td>5</td>\n",
       "      <td>Phoenix</td>\n",
       "    </tr>\n",
       "    <tr>\n",
       "      <th>614</th>\n",
       "      <td>The culinary journey begins right at your tabl...</td>\n",
       "      <td>5</td>\n",
       "      <td>Miami</td>\n",
       "    </tr>\n",
       "    <tr>\n",
       "      <th>615</th>\n",
       "      <td>Very nice ambiance. We went there at night, an...</td>\n",
       "      <td>4</td>\n",
       "      <td>New York City</td>\n",
       "    </tr>\n",
       "    <tr>\n",
       "      <th>616</th>\n",
       "      <td>M. whatever ... this is a hard pass.... I know...</td>\n",
       "      <td>1</td>\n",
       "      <td>New York City</td>\n",
       "    </tr>\n",
       "    <tr>\n",
       "      <th>617</th>\n",
       "      <td>Food and service are over the moo wonderful, s...</td>\n",
       "      <td>5</td>\n",
       "      <td>New Orleans</td>\n",
       "    </tr>\n",
       "  </tbody>\n",
       "</table>\n",
       "<p>618 rows × 3 columns</p>\n",
       "</div>"
      ],
      "text/plain": [
       "                                                  text  rating       location\n",
       "0    Robyn gave amazing service! So attentive and f...       5    Los Angeles\n",
       "1    Headed downtown on a Thursday evening for a Ki...       5    Los Angeles\n",
       "2    Been here a few times, in just recent weeks. T...       4    Los Angeles\n",
       "3    Service is fast. Staff is friendly. The food i...       5    Los Angeles\n",
       "4    Walked by and asked to see a menu. Very helpfu...       3    Los Angeles\n",
       "..                                                 ...     ...            ...\n",
       "613  The Steak Tartare is absolutely yummy! Just as...       5        Phoenix\n",
       "614  The culinary journey begins right at your tabl...       5          Miami\n",
       "615  Very nice ambiance. We went there at night, an...       4  New York City\n",
       "616  M. whatever ... this is a hard pass.... I know...       1  New York City\n",
       "617  Food and service are over the moo wonderful, s...       5    New Orleans\n",
       "\n",
       "[618 rows x 3 columns]"
      ]
     },
     "execution_count": 158,
     "metadata": {},
     "output_type": "execute_result"
    }
   ],
   "source": [
    "df.to_csv('yelp_reviews.csv', index=False)\n",
    "df"
   ]
  },
  {
   "cell_type": "markdown",
   "metadata": {},
   "source": [
    "## Data Cleaning, Summarisation, Translation & Generation"
   ]
  },
  {
   "cell_type": "code",
   "execution_count": 16,
   "metadata": {},
   "outputs": [],
   "source": [
    "df = pd.read_csv('current_yelp_reviews.csv')"
   ]
  },
  {
   "cell_type": "code",
   "execution_count": 17,
   "metadata": {},
   "outputs": [],
   "source": [
    "df.drop_duplicates(inplace=True)\n",
    "df.dropna(subset=['text', 'rating', 'location'], inplace=True)"
   ]
  },
  {
   "cell_type": "code",
   "execution_count": 5,
   "metadata": {},
   "outputs": [],
   "source": [
    "# Test phase, therefore we use 20 rows\n",
    "df = df[0:20]"
   ]
  },
  {
   "cell_type": "markdown",
   "metadata": {},
   "source": [
    "### Translation"
   ]
  },
  {
   "cell_type": "markdown",
   "metadata": {},
   "source": [
    "#### We'll check the sentences with any accents (as it is a good indicator of non-english latin languages)."
   ]
  },
  {
   "cell_type": "code",
   "execution_count": 8,
   "metadata": {},
   "outputs": [
    {
     "data": {
      "text/plain": [
       "['生活的本質就是快樂，如果日子都過得不快樂，那人生還有什麼意義，年底了，是不是該好好清清自己的心房，遠離那些讓你不開心的人和事物呢～\\n\\n再介紹一家也是美美的環境， 很有自己特色的法國料理，這一家跟之前我介紹過卓別林故居的.  Republique brunch ，米其林一星 Manzke都是同一個老闆，關係企業，...',\n",
       " \"OMG.\\xa0 Yes !!\\xa0 Top notch !!  Delicious !!  Perfection !!  Gorgeous !!  I can't say enough about 208 Rodeo.\\xa0 It's in a class by itself !\\n\\nFirst of all the...\",\n",
       " 'Delicious French food with the perfect twist. The big mec is heavenly and everyone should try it. We also enjoyed the fennel salad and mushroom soup. Crème...',\n",
       " \"The most amazing filet I've ever eaten. It was cooked to perfection, so tender, easy to eat. The crème brûlée is also the best ive ever had. Ozzy is an...\",\n",
       " \"Escargot\\nRoasted beet salad vinegar être\\nBaked potato tartine\\nFilet with foie gras\\nWatermelon salad\\nMussels\\nFrench onion soup\\nIt's good food, good service...\",\n",
       " \"My friend and I came to La Sirène and overall had a good experience. \\n\\nI would say the only thing is this restaurant's deals were amazing and the food is...\",\n",
       " \"Brunch in France? Oui s'il vous plaît (yes please).\\n\\nI was excited to try my first-ever omelet and French. Let's not forget the croissants and wine!\\n\\nThe...\",\n",
       " 'My fiancé and I went here for the first time on my birthday and recently returned for our anniversary dinner. The ambiance is cozy, romantic, and intimate -...',\n",
       " 'Missed the burger but had a lamb special to die for. \\n\\n\\nLong live Señor Raoul.   \\n\\nService was a delight as was all the food.  Had fries, lamb and artichoke...',\n",
       " \"This has become a favorite for my fiancé and I.\\nWe came here one night prior to going to Bemelman's.\\n\\nThe seafood platter is our go-to along with steak (for...\",\n",
       " 'This is a classic French restaurant that serves traditional food like the French onion soup, La meunière sole, and soufflé. The decor is also set up to a...',\n",
       " 'This is quite honestly the best hidden gem for the quality, quantity, and uniqueness of food. Came here for my annual Christmas Dinner with my fiancé. I got...',\n",
       " 'Booked a dinner here for Thanksgiving and was really excited about the menu (Dungeness Crab Salad, Beef Wellington, and Banana Crème Brûlée). Website stated...',\n",
       " \"I've been a regular at La Société, and the experience keeps me coming back. The steak tartare is a culinary masterpiece, and the steaks are consistently...\",\n",
       " 'In love with this restaurant! My fiancée took me here on one of our first dates and we recently came back again. Even better than the first time we came...',\n",
       " 'I have been a fan since when I lived in SF in 2000 but this venerable intimate French soufflé bistro has been in business since 1979.  Chef Jacqueline...',\n",
       " \"Soufflés are excellent here though definitely really over-priced.  You can't just do desserts here anymore so you'll need to have dinner to get to their...\",\n",
       " 'Food was excellent. Service was excellent. Ambiance was excellent. So happy the restaurant has reopened. Hopefully their Grand Marnier Soufflé will be back...',\n",
       " 'Really liked the onion soup - full of cheese on top and a rich taste - salty but sweet. \\nCrème brûlée is also a highlight, very crispy on the top and not...',\n",
       " 'Cathédrale offers a French-Mediterranean fare, and they also offer HH specials and take-out/delivery options.\\n\\nTheir dinner menu is split into hors...',\n",
       " 'What I ordered:\\n\\n7/10: French Onion Soup - $22\\n- a little too salty\\n- bread and Gruyère combo was yummy\\n- they split this for us to share! \\n- even a half...',\n",
       " \"Spin the asparagus! Want to play a fun game? At the end of your meal, if you don't know what to get for dessert (and you are doing à la carte...) spin the...\",\n",
       " 'Came here for a quick lunch with a group of people and the restaurant staff were very accommodating\\xa0and so pleasant! I got 2 appetizers but my friend got...']"
      ]
     },
     "execution_count": 8,
     "metadata": {},
     "output_type": "execute_result"
    }
   ],
   "source": [
    "def contains_accents(text):\n",
    "    return bool(re.search('[^\\x00-\\x7F]', text))\n",
    "\n",
    "accent_sentences = []\n",
    "\n",
    "for i, text in enumerate(df['text']):\n",
    "    if contains_accents(text):\n",
    "        accent_sentences.append(text)\n",
    "\n",
    "accent_sentences"
   ]
  },
  {
   "cell_type": "markdown",
   "metadata": {},
   "source": [
    "#### From what we've seen, the only language that needed to be translated was Chinese. The rest of the reviews are in english."
   ]
  },
  {
   "cell_type": "code",
   "execution_count": 9,
   "metadata": {},
   "outputs": [],
   "source": [
    "# We've used a chinese translator model to translate the chinese sentences\n",
    "translator = pipeline(\"translation\", model=\"Helsinki-NLP/opus-mt-zh-en\")\n",
    "\n",
    "def contains_chinese(text):\n",
    "    return bool(re.search('[\\u4e00-\\u9fff]', text))\n",
    "\n",
    "def translate_text(text):\n",
    "    if contains_chinese(text):\n",
    "        return translator(text)[0]['translation_text']\n",
    "    else:\n",
    "        return text"
   ]
  },
  {
   "cell_type": "markdown",
   "metadata": {},
   "source": [
    "### Data cleaning & Preprocessing"
   ]
  },
  {
   "cell_type": "code",
   "execution_count": 10,
   "metadata": {},
   "outputs": [],
   "source": [
    "stop_words = set(stopwords.words('english'))\n",
    "\n",
    "df['text'] = df['text'].astype(str)  # Convert the column to string\n",
    "\n",
    "def preprocessing(text):\n",
    "    # Corrected spelling\n",
    "    corrected_text = TextBlob(text).correct()\n",
    "\n",
    "    # Translation\n",
    "    translated_text = translate_text(str(corrected_text))\n",
    "\n",
    "    # Lower case\n",
    "    lowercase_text = translated_text.lower()\n",
    "\n",
    "    # Tokenization\n",
    "    tokenised_text = word_tokenize(lowercase_text)\n",
    "\n",
    "    # Remove punctuation and stop words\n",
    "    cleaned_text = [word for word in tokenised_text if word.isalpha() and word not in stop_words]\n",
    "\n",
    "    return cleaned_text\n",
    "\n",
    "df['tokens'] = df['text'].apply(preprocessing)"
   ]
  },
  {
   "cell_type": "code",
   "execution_count": 4,
   "metadata": {},
   "outputs": [
    {
     "name": "stdout",
     "output_type": "stream",
     "text": [
      "[(\"'\", 16712), (',', 7738), (' ', 7738), ('e', 6985), ('a', 3959), ('r', 3677), ('t', 3668), ('i', 3541), ('n', 3434), ('s', 3148)]\n",
      "[((\"'\", ','), 7738), ((',', ' '), 7738), ((' ', \"'\"), 7738), (('e', \"'\"), 1720), (('t', \"'\"), 1139), (('d', \"'\"), 1069), (('e', 'r'), 994), ((\"'\", 's'), 982), (('i', 'n'), 966), (('r', 'e'), 942)]\n",
      "[((\"'\", ',', ' '), 7738), ((',', ' ', \"'\"), 7738), (('e', \"'\", ','), 1599), (('t', \"'\", ','), 1050), (('d', \"'\", ','), 984), ((' ', \"'\", 's'), 927), (('y', \"'\", ','), 697), (('s', \"'\", ','), 693), ((\"'\", ']', '['), 617), ((']', '[', \"'\"), 617)]\n"
     ]
    }
   ],
   "source": [
    "# Word Frequency Analysis\n",
    "all_words = [word for tokens in df['tokens'] for word in tokens]\n",
    "word_freq = Counter(all_words)\n",
    "\n",
    "# N-gram Analysis\n",
    "bigrams = ngrams(all_words, 2)\n",
    "bigram_freq = Counter(bigrams)\n",
    "\n",
    "# Tri-gram Analysis\n",
    "trigrams = ngrams(all_words, 3)\n",
    "trigram_freq = Counter(trigrams)\n",
    "\n",
    "# Example: Display most common words and bigrams\n",
    "print(word_freq.most_common(10))\n",
    "print(bigram_freq.most_common(10))\n",
    "print(trigram_freq.most_common(10))"
   ]
  },
  {
   "cell_type": "markdown",
   "metadata": {},
   "source": [
    "### Summarisation"
   ]
  },
  {
   "cell_type": "code",
   "execution_count": 96,
   "metadata": {},
   "outputs": [
    {
     "name": "stdout",
     "output_type": "stream",
     "text": [
      "minimum: 147 \n",
      "average 154.33333333333334  \n",
      "maximum 159\n"
     ]
    }
   ],
   "source": [
    "average_length = df['text'].str.len().mean()\n",
    "min_length = df['text'].str.len().min()\n",
    "max_length = df['text'].str.len().max()\n",
    "print('minimum:', min_length, \n",
    "      '\\naverage', average_length, \n",
    "      ' \\nmaximum', max_length)"
   ]
  },
  {
   "cell_type": "code",
   "execution_count": 97,
   "metadata": {},
   "outputs": [
    {
     "name": "stderr",
     "output_type": "stream",
     "text": [
      "Your max_length is set to 106, but your input_length is only 37. Since this is a summarization task, where outputs shorter than the input are typically wanted, you might consider decreasing max_length manually, e.g. summarizer('...', max_length=18)\n",
      "Your max_length is set to 105, but your input_length is only 41. Since this is a summarization task, where outputs shorter than the input are typically wanted, you might consider decreasing max_length manually, e.g. summarizer('...', max_length=20)\n",
      "Your max_length is set to 103, but your input_length is only 38. Since this is a summarization task, where outputs shorter than the input are typically wanted, you might consider decreasing max_length manually, e.g. summarizer('...', max_length=19)\n",
      "Your max_length is set to 106, but your input_length is only 56. Since this is a summarization task, where outputs shorter than the input are typically wanted, you might consider decreasing max_length manually, e.g. summarizer('...', max_length=28)\n",
      "Your max_length is set to 105, but your input_length is only 39. Since this is a summarization task, where outputs shorter than the input are typically wanted, you might consider decreasing max_length manually, e.g. summarizer('...', max_length=19)\n",
      "Your max_length is set to 99, but your input_length is only 36. Since this is a summarization task, where outputs shorter than the input are typically wanted, you might consider decreasing max_length manually, e.g. summarizer('...', max_length=18)\n",
      "Your max_length is set to 98, but your input_length is only 40. Since this is a summarization task, where outputs shorter than the input are typically wanted, you might consider decreasing max_length manually, e.g. summarizer('...', max_length=20)\n",
      "Your max_length is set to 101, but your input_length is only 31. Since this is a summarization task, where outputs shorter than the input are typically wanted, you might consider decreasing max_length manually, e.g. summarizer('...', max_length=15)\n",
      "Your max_length is set to 105, but your input_length is only 43. Since this is a summarization task, where outputs shorter than the input are typically wanted, you might consider decreasing max_length manually, e.g. summarizer('...', max_length=21)\n",
      "Your max_length is set to 101, but your input_length is only 35. Since this is a summarization task, where outputs shorter than the input are typically wanted, you might consider decreasing max_length manually, e.g. summarizer('...', max_length=17)\n",
      "Your max_length is set to 101, but your input_length is only 39. Since this is a summarization task, where outputs shorter than the input are typically wanted, you might consider decreasing max_length manually, e.g. summarizer('...', max_length=19)\n",
      "Your max_length is set to 106, but your input_length is only 38. Since this is a summarization task, where outputs shorter than the input are typically wanted, you might consider decreasing max_length manually, e.g. summarizer('...', max_length=19)\n",
      "Your max_length is set to 99, but your input_length is only 34. Since this is a summarization task, where outputs shorter than the input are typically wanted, you might consider decreasing max_length manually, e.g. summarizer('...', max_length=17)\n",
      "Your max_length is set to 101, but your input_length is only 41. Since this is a summarization task, where outputs shorter than the input are typically wanted, you might consider decreasing max_length manually, e.g. summarizer('...', max_length=20)\n"
     ]
    }
   ],
   "source": [
    "summariser = pipeline(\"summarization\", model=\"facebook/bart-large-cnn\")\n",
    "\n",
    "summarised_text = df['text'].apply(lambda x: summariser(x, max_length=round(len(x)/max_length_coef), min_length=round(len(x)/min_length_coef), do_sample=False))\n",
    "\n",
    "df['summarised_text'] = summarised_text.apply(lambda x: x[0]['summary_text'])"
   ]
  },
  {
   "cell_type": "markdown",
   "metadata": {},
   "source": [
    "### Generation"
   ]
  },
  {
   "cell_type": "markdown",
   "metadata": {},
   "source": [
    "#### With OpenAI"
   ]
  },
  {
   "cell_type": "code",
   "execution_count": 59,
   "metadata": {},
   "outputs": [
    {
     "name": "stdout",
     "output_type": "stream",
     "text": [
      "\n",
      "\n",
      "\u001b[1m> Entering new LLMChain chain...\u001b[0m\n",
      "Prompt after formatting:\n",
      "\u001b[32;1m\u001b[1;3mCan you correct the spelling mistakes in that review and make sure that its phrasing is correct.: Robyn gave amazing service! So attentive and friendly, and she knew her stuff and was very knowledgeable. Best server I've had in a while! And the steak frites\u001b[0m\n"
     ]
    },
    {
     "ename": "RateLimitError",
     "evalue": "Error code: 429 - {'error': {'message': 'You exceeded your current quota, please check your plan and billing details. For more information on this error, read the docs: https://platform.openai.com/docs/guides/error-codes/api-errors.', 'type': 'insufficient_quota', 'param': None, 'code': 'insufficient_quota'}}",
     "output_type": "error",
     "traceback": [
      "\u001b[0;31m---------------------------------------------------------------------------\u001b[0m",
      "\u001b[0;31mRateLimitError\u001b[0m                            Traceback (most recent call last)",
      "Cell \u001b[0;32mIn[59], line 20\u001b[0m\n\u001b[1;32m     16\u001b[0m     generation \u001b[38;5;241m=\u001b[39m generation_llm\u001b[38;5;241m.\u001b[39mrun(review)\n\u001b[1;32m     18\u001b[0m     \u001b[38;5;28;01mreturn\u001b[39;00m generation\n\u001b[0;32m---> 20\u001b[0m \u001b[43mgenerate_review\u001b[49m\u001b[43m(\u001b[49m\u001b[43mdf\u001b[49m\u001b[43m[\u001b[49m\u001b[38;5;124;43m'\u001b[39;49m\u001b[38;5;124;43mtext\u001b[39;49m\u001b[38;5;124;43m'\u001b[39;49m\u001b[43m]\u001b[49m\u001b[43m[\u001b[49m\u001b[38;5;241;43m0\u001b[39;49m\u001b[43m]\u001b[49m\u001b[43m)\u001b[49m\n",
      "Cell \u001b[0;32mIn[59], line 16\u001b[0m, in \u001b[0;36mgenerate_review\u001b[0;34m(review)\u001b[0m\n\u001b[1;32m      9\u001b[0m prompt \u001b[38;5;241m=\u001b[39m PromptTemplate(template\u001b[38;5;241m=\u001b[39mtemplate, input_variables\u001b[38;5;241m=\u001b[39m[\u001b[38;5;124m\"\u001b[39m\u001b[38;5;124mreview\u001b[39m\u001b[38;5;124m\"\u001b[39m])\n\u001b[1;32m     11\u001b[0m generation_llm \u001b[38;5;241m=\u001b[39m LLMChain(prompt\u001b[38;5;241m=\u001b[39mprompt,\n\u001b[1;32m     12\u001b[0m                           llm\u001b[38;5;241m=\u001b[39mChatOpenAI(model_name\u001b[38;5;241m=\u001b[39m\u001b[38;5;124m\"\u001b[39m\u001b[38;5;124mgpt-3.5-turbo\u001b[39m\u001b[38;5;124m\"\u001b[39m, \n\u001b[1;32m     13\u001b[0m                                      temperature\u001b[38;5;241m=\u001b[39m\u001b[38;5;241m0.3\u001b[39m), \n\u001b[1;32m     14\u001b[0m                           verbose\u001b[38;5;241m=\u001b[39m\u001b[38;5;28;01mTrue\u001b[39;00m)\n\u001b[0;32m---> 16\u001b[0m generation \u001b[38;5;241m=\u001b[39m \u001b[43mgeneration_llm\u001b[49m\u001b[38;5;241;43m.\u001b[39;49m\u001b[43mrun\u001b[49m\u001b[43m(\u001b[49m\u001b[43mreview\u001b[49m\u001b[43m)\u001b[49m\n\u001b[1;32m     18\u001b[0m \u001b[38;5;28;01mreturn\u001b[39;00m generation\n",
      "File \u001b[0;32m~/miniconda3/envs/tensorflow/lib/python3.10/site-packages/langchain_core/_api/deprecation.py:145\u001b[0m, in \u001b[0;36mdeprecated.<locals>.deprecate.<locals>.warning_emitting_wrapper\u001b[0;34m(*args, **kwargs)\u001b[0m\n\u001b[1;32m    143\u001b[0m     warned \u001b[38;5;241m=\u001b[39m \u001b[38;5;28;01mTrue\u001b[39;00m\n\u001b[1;32m    144\u001b[0m     emit_warning()\n\u001b[0;32m--> 145\u001b[0m \u001b[38;5;28;01mreturn\u001b[39;00m \u001b[43mwrapped\u001b[49m\u001b[43m(\u001b[49m\u001b[38;5;241;43m*\u001b[39;49m\u001b[43margs\u001b[49m\u001b[43m,\u001b[49m\u001b[43m \u001b[49m\u001b[38;5;241;43m*\u001b[39;49m\u001b[38;5;241;43m*\u001b[39;49m\u001b[43mkwargs\u001b[49m\u001b[43m)\u001b[49m\n",
      "File \u001b[0;32m~/miniconda3/envs/tensorflow/lib/python3.10/site-packages/langchain/chains/base.py:538\u001b[0m, in \u001b[0;36mChain.run\u001b[0;34m(self, callbacks, tags, metadata, *args, **kwargs)\u001b[0m\n\u001b[1;32m    536\u001b[0m     \u001b[38;5;28;01mif\u001b[39;00m \u001b[38;5;28mlen\u001b[39m(args) \u001b[38;5;241m!=\u001b[39m \u001b[38;5;241m1\u001b[39m:\n\u001b[1;32m    537\u001b[0m         \u001b[38;5;28;01mraise\u001b[39;00m \u001b[38;5;167;01mValueError\u001b[39;00m(\u001b[38;5;124m\"\u001b[39m\u001b[38;5;124m`run` supports only one positional argument.\u001b[39m\u001b[38;5;124m\"\u001b[39m)\n\u001b[0;32m--> 538\u001b[0m     \u001b[38;5;28;01mreturn\u001b[39;00m \u001b[38;5;28;43mself\u001b[39;49m\u001b[43m(\u001b[49m\u001b[43margs\u001b[49m\u001b[43m[\u001b[49m\u001b[38;5;241;43m0\u001b[39;49m\u001b[43m]\u001b[49m\u001b[43m,\u001b[49m\u001b[43m \u001b[49m\u001b[43mcallbacks\u001b[49m\u001b[38;5;241;43m=\u001b[39;49m\u001b[43mcallbacks\u001b[49m\u001b[43m,\u001b[49m\u001b[43m \u001b[49m\u001b[43mtags\u001b[49m\u001b[38;5;241;43m=\u001b[39;49m\u001b[43mtags\u001b[49m\u001b[43m,\u001b[49m\u001b[43m \u001b[49m\u001b[43mmetadata\u001b[49m\u001b[38;5;241;43m=\u001b[39;49m\u001b[43mmetadata\u001b[49m\u001b[43m)\u001b[49m[\n\u001b[1;32m    539\u001b[0m         _output_key\n\u001b[1;32m    540\u001b[0m     ]\n\u001b[1;32m    542\u001b[0m \u001b[38;5;28;01mif\u001b[39;00m kwargs \u001b[38;5;129;01mand\u001b[39;00m \u001b[38;5;129;01mnot\u001b[39;00m args:\n\u001b[1;32m    543\u001b[0m     \u001b[38;5;28;01mreturn\u001b[39;00m \u001b[38;5;28mself\u001b[39m(kwargs, callbacks\u001b[38;5;241m=\u001b[39mcallbacks, tags\u001b[38;5;241m=\u001b[39mtags, metadata\u001b[38;5;241m=\u001b[39mmetadata)[\n\u001b[1;32m    544\u001b[0m         _output_key\n\u001b[1;32m    545\u001b[0m     ]\n",
      "File \u001b[0;32m~/miniconda3/envs/tensorflow/lib/python3.10/site-packages/langchain_core/_api/deprecation.py:145\u001b[0m, in \u001b[0;36mdeprecated.<locals>.deprecate.<locals>.warning_emitting_wrapper\u001b[0;34m(*args, **kwargs)\u001b[0m\n\u001b[1;32m    143\u001b[0m     warned \u001b[38;5;241m=\u001b[39m \u001b[38;5;28;01mTrue\u001b[39;00m\n\u001b[1;32m    144\u001b[0m     emit_warning()\n\u001b[0;32m--> 145\u001b[0m \u001b[38;5;28;01mreturn\u001b[39;00m \u001b[43mwrapped\u001b[49m\u001b[43m(\u001b[49m\u001b[38;5;241;43m*\u001b[39;49m\u001b[43margs\u001b[49m\u001b[43m,\u001b[49m\u001b[43m \u001b[49m\u001b[38;5;241;43m*\u001b[39;49m\u001b[38;5;241;43m*\u001b[39;49m\u001b[43mkwargs\u001b[49m\u001b[43m)\u001b[49m\n",
      "File \u001b[0;32m~/miniconda3/envs/tensorflow/lib/python3.10/site-packages/langchain/chains/base.py:363\u001b[0m, in \u001b[0;36mChain.__call__\u001b[0;34m(self, inputs, return_only_outputs, callbacks, tags, metadata, run_name, include_run_info)\u001b[0m\n\u001b[1;32m    331\u001b[0m \u001b[38;5;250m\u001b[39m\u001b[38;5;124;03m\"\"\"Execute the chain.\u001b[39;00m\n\u001b[1;32m    332\u001b[0m \n\u001b[1;32m    333\u001b[0m \u001b[38;5;124;03mArgs:\u001b[39;00m\n\u001b[0;32m   (...)\u001b[0m\n\u001b[1;32m    354\u001b[0m \u001b[38;5;124;03m        `Chain.output_keys`.\u001b[39;00m\n\u001b[1;32m    355\u001b[0m \u001b[38;5;124;03m\"\"\"\u001b[39;00m\n\u001b[1;32m    356\u001b[0m config \u001b[38;5;241m=\u001b[39m {\n\u001b[1;32m    357\u001b[0m     \u001b[38;5;124m\"\u001b[39m\u001b[38;5;124mcallbacks\u001b[39m\u001b[38;5;124m\"\u001b[39m: callbacks,\n\u001b[1;32m    358\u001b[0m     \u001b[38;5;124m\"\u001b[39m\u001b[38;5;124mtags\u001b[39m\u001b[38;5;124m\"\u001b[39m: tags,\n\u001b[1;32m    359\u001b[0m     \u001b[38;5;124m\"\u001b[39m\u001b[38;5;124mmetadata\u001b[39m\u001b[38;5;124m\"\u001b[39m: metadata,\n\u001b[1;32m    360\u001b[0m     \u001b[38;5;124m\"\u001b[39m\u001b[38;5;124mrun_name\u001b[39m\u001b[38;5;124m\"\u001b[39m: run_name,\n\u001b[1;32m    361\u001b[0m }\n\u001b[0;32m--> 363\u001b[0m \u001b[38;5;28;01mreturn\u001b[39;00m \u001b[38;5;28;43mself\u001b[39;49m\u001b[38;5;241;43m.\u001b[39;49m\u001b[43minvoke\u001b[49m\u001b[43m(\u001b[49m\n\u001b[1;32m    364\u001b[0m \u001b[43m    \u001b[49m\u001b[43minputs\u001b[49m\u001b[43m,\u001b[49m\n\u001b[1;32m    365\u001b[0m \u001b[43m    \u001b[49m\u001b[43mcast\u001b[49m\u001b[43m(\u001b[49m\u001b[43mRunnableConfig\u001b[49m\u001b[43m,\u001b[49m\u001b[43m \u001b[49m\u001b[43m{\u001b[49m\u001b[43mk\u001b[49m\u001b[43m:\u001b[49m\u001b[43m \u001b[49m\u001b[43mv\u001b[49m\u001b[43m \u001b[49m\u001b[38;5;28;43;01mfor\u001b[39;49;00m\u001b[43m \u001b[49m\u001b[43mk\u001b[49m\u001b[43m,\u001b[49m\u001b[43m \u001b[49m\u001b[43mv\u001b[49m\u001b[43m \u001b[49m\u001b[38;5;129;43;01min\u001b[39;49;00m\u001b[43m \u001b[49m\u001b[43mconfig\u001b[49m\u001b[38;5;241;43m.\u001b[39;49m\u001b[43mitems\u001b[49m\u001b[43m(\u001b[49m\u001b[43m)\u001b[49m\u001b[43m \u001b[49m\u001b[38;5;28;43;01mif\u001b[39;49;00m\u001b[43m \u001b[49m\u001b[43mv\u001b[49m\u001b[43m \u001b[49m\u001b[38;5;129;43;01mis\u001b[39;49;00m\u001b[43m \u001b[49m\u001b[38;5;129;43;01mnot\u001b[39;49;00m\u001b[43m \u001b[49m\u001b[38;5;28;43;01mNone\u001b[39;49;00m\u001b[43m}\u001b[49m\u001b[43m)\u001b[49m\u001b[43m,\u001b[49m\n\u001b[1;32m    366\u001b[0m \u001b[43m    \u001b[49m\u001b[43mreturn_only_outputs\u001b[49m\u001b[38;5;241;43m=\u001b[39;49m\u001b[43mreturn_only_outputs\u001b[49m\u001b[43m,\u001b[49m\n\u001b[1;32m    367\u001b[0m \u001b[43m    \u001b[49m\u001b[43minclude_run_info\u001b[49m\u001b[38;5;241;43m=\u001b[39;49m\u001b[43minclude_run_info\u001b[49m\u001b[43m,\u001b[49m\n\u001b[1;32m    368\u001b[0m \u001b[43m\u001b[49m\u001b[43m)\u001b[49m\n",
      "File \u001b[0;32m~/miniconda3/envs/tensorflow/lib/python3.10/site-packages/langchain/chains/base.py:162\u001b[0m, in \u001b[0;36mChain.invoke\u001b[0;34m(self, input, config, **kwargs)\u001b[0m\n\u001b[1;32m    160\u001b[0m \u001b[38;5;28;01mexcept\u001b[39;00m \u001b[38;5;167;01mBaseException\u001b[39;00m \u001b[38;5;28;01mas\u001b[39;00m e:\n\u001b[1;32m    161\u001b[0m     run_manager\u001b[38;5;241m.\u001b[39mon_chain_error(e)\n\u001b[0;32m--> 162\u001b[0m     \u001b[38;5;28;01mraise\u001b[39;00m e\n\u001b[1;32m    163\u001b[0m run_manager\u001b[38;5;241m.\u001b[39mon_chain_end(outputs)\n\u001b[1;32m    164\u001b[0m final_outputs: Dict[\u001b[38;5;28mstr\u001b[39m, Any] \u001b[38;5;241m=\u001b[39m \u001b[38;5;28mself\u001b[39m\u001b[38;5;241m.\u001b[39mprep_outputs(\n\u001b[1;32m    165\u001b[0m     inputs, outputs, return_only_outputs\n\u001b[1;32m    166\u001b[0m )\n",
      "File \u001b[0;32m~/miniconda3/envs/tensorflow/lib/python3.10/site-packages/langchain/chains/base.py:156\u001b[0m, in \u001b[0;36mChain.invoke\u001b[0;34m(self, input, config, **kwargs)\u001b[0m\n\u001b[1;32m    149\u001b[0m run_manager \u001b[38;5;241m=\u001b[39m callback_manager\u001b[38;5;241m.\u001b[39mon_chain_start(\n\u001b[1;32m    150\u001b[0m     dumpd(\u001b[38;5;28mself\u001b[39m),\n\u001b[1;32m    151\u001b[0m     inputs,\n\u001b[1;32m    152\u001b[0m     name\u001b[38;5;241m=\u001b[39mrun_name,\n\u001b[1;32m    153\u001b[0m )\n\u001b[1;32m    154\u001b[0m \u001b[38;5;28;01mtry\u001b[39;00m:\n\u001b[1;32m    155\u001b[0m     outputs \u001b[38;5;241m=\u001b[39m (\n\u001b[0;32m--> 156\u001b[0m         \u001b[38;5;28;43mself\u001b[39;49m\u001b[38;5;241;43m.\u001b[39;49m\u001b[43m_call\u001b[49m\u001b[43m(\u001b[49m\u001b[43minputs\u001b[49m\u001b[43m,\u001b[49m\u001b[43m \u001b[49m\u001b[43mrun_manager\u001b[49m\u001b[38;5;241;43m=\u001b[39;49m\u001b[43mrun_manager\u001b[49m\u001b[43m)\u001b[49m\n\u001b[1;32m    157\u001b[0m         \u001b[38;5;28;01mif\u001b[39;00m new_arg_supported\n\u001b[1;32m    158\u001b[0m         \u001b[38;5;28;01melse\u001b[39;00m \u001b[38;5;28mself\u001b[39m\u001b[38;5;241m.\u001b[39m_call(inputs)\n\u001b[1;32m    159\u001b[0m     )\n\u001b[1;32m    160\u001b[0m \u001b[38;5;28;01mexcept\u001b[39;00m \u001b[38;5;167;01mBaseException\u001b[39;00m \u001b[38;5;28;01mas\u001b[39;00m e:\n\u001b[1;32m    161\u001b[0m     run_manager\u001b[38;5;241m.\u001b[39mon_chain_error(e)\n",
      "File \u001b[0;32m~/miniconda3/envs/tensorflow/lib/python3.10/site-packages/langchain/chains/llm.py:103\u001b[0m, in \u001b[0;36mLLMChain._call\u001b[0;34m(self, inputs, run_manager)\u001b[0m\n\u001b[1;32m     98\u001b[0m \u001b[38;5;28;01mdef\u001b[39;00m \u001b[38;5;21m_call\u001b[39m(\n\u001b[1;32m     99\u001b[0m     \u001b[38;5;28mself\u001b[39m,\n\u001b[1;32m    100\u001b[0m     inputs: Dict[\u001b[38;5;28mstr\u001b[39m, Any],\n\u001b[1;32m    101\u001b[0m     run_manager: Optional[CallbackManagerForChainRun] \u001b[38;5;241m=\u001b[39m \u001b[38;5;28;01mNone\u001b[39;00m,\n\u001b[1;32m    102\u001b[0m ) \u001b[38;5;241m-\u001b[39m\u001b[38;5;241m>\u001b[39m Dict[\u001b[38;5;28mstr\u001b[39m, \u001b[38;5;28mstr\u001b[39m]:\n\u001b[0;32m--> 103\u001b[0m     response \u001b[38;5;241m=\u001b[39m \u001b[38;5;28;43mself\u001b[39;49m\u001b[38;5;241;43m.\u001b[39;49m\u001b[43mgenerate\u001b[49m\u001b[43m(\u001b[49m\u001b[43m[\u001b[49m\u001b[43minputs\u001b[49m\u001b[43m]\u001b[49m\u001b[43m,\u001b[49m\u001b[43m \u001b[49m\u001b[43mrun_manager\u001b[49m\u001b[38;5;241;43m=\u001b[39;49m\u001b[43mrun_manager\u001b[49m\u001b[43m)\u001b[49m\n\u001b[1;32m    104\u001b[0m     \u001b[38;5;28;01mreturn\u001b[39;00m \u001b[38;5;28mself\u001b[39m\u001b[38;5;241m.\u001b[39mcreate_outputs(response)[\u001b[38;5;241m0\u001b[39m]\n",
      "File \u001b[0;32m~/miniconda3/envs/tensorflow/lib/python3.10/site-packages/langchain/chains/llm.py:115\u001b[0m, in \u001b[0;36mLLMChain.generate\u001b[0;34m(self, input_list, run_manager)\u001b[0m\n\u001b[1;32m    113\u001b[0m callbacks \u001b[38;5;241m=\u001b[39m run_manager\u001b[38;5;241m.\u001b[39mget_child() \u001b[38;5;28;01mif\u001b[39;00m run_manager \u001b[38;5;28;01melse\u001b[39;00m \u001b[38;5;28;01mNone\u001b[39;00m\n\u001b[1;32m    114\u001b[0m \u001b[38;5;28;01mif\u001b[39;00m \u001b[38;5;28misinstance\u001b[39m(\u001b[38;5;28mself\u001b[39m\u001b[38;5;241m.\u001b[39mllm, BaseLanguageModel):\n\u001b[0;32m--> 115\u001b[0m     \u001b[38;5;28;01mreturn\u001b[39;00m \u001b[38;5;28;43mself\u001b[39;49m\u001b[38;5;241;43m.\u001b[39;49m\u001b[43mllm\u001b[49m\u001b[38;5;241;43m.\u001b[39;49m\u001b[43mgenerate_prompt\u001b[49m\u001b[43m(\u001b[49m\n\u001b[1;32m    116\u001b[0m \u001b[43m        \u001b[49m\u001b[43mprompts\u001b[49m\u001b[43m,\u001b[49m\n\u001b[1;32m    117\u001b[0m \u001b[43m        \u001b[49m\u001b[43mstop\u001b[49m\u001b[43m,\u001b[49m\n\u001b[1;32m    118\u001b[0m \u001b[43m        \u001b[49m\u001b[43mcallbacks\u001b[49m\u001b[38;5;241;43m=\u001b[39;49m\u001b[43mcallbacks\u001b[49m\u001b[43m,\u001b[49m\n\u001b[1;32m    119\u001b[0m \u001b[43m        \u001b[49m\u001b[38;5;241;43m*\u001b[39;49m\u001b[38;5;241;43m*\u001b[39;49m\u001b[38;5;28;43mself\u001b[39;49m\u001b[38;5;241;43m.\u001b[39;49m\u001b[43mllm_kwargs\u001b[49m\u001b[43m,\u001b[49m\n\u001b[1;32m    120\u001b[0m \u001b[43m    \u001b[49m\u001b[43m)\u001b[49m\n\u001b[1;32m    121\u001b[0m \u001b[38;5;28;01melse\u001b[39;00m:\n\u001b[1;32m    122\u001b[0m     results \u001b[38;5;241m=\u001b[39m \u001b[38;5;28mself\u001b[39m\u001b[38;5;241m.\u001b[39mllm\u001b[38;5;241m.\u001b[39mbind(stop\u001b[38;5;241m=\u001b[39mstop, \u001b[38;5;241m*\u001b[39m\u001b[38;5;241m*\u001b[39m\u001b[38;5;28mself\u001b[39m\u001b[38;5;241m.\u001b[39mllm_kwargs)\u001b[38;5;241m.\u001b[39mbatch(\n\u001b[1;32m    123\u001b[0m         cast(List, prompts), {\u001b[38;5;124m\"\u001b[39m\u001b[38;5;124mcallbacks\u001b[39m\u001b[38;5;124m\"\u001b[39m: callbacks}\n\u001b[1;32m    124\u001b[0m     )\n",
      "File \u001b[0;32m~/miniconda3/envs/tensorflow/lib/python3.10/site-packages/langchain_core/language_models/chat_models.py:543\u001b[0m, in \u001b[0;36mBaseChatModel.generate_prompt\u001b[0;34m(self, prompts, stop, callbacks, **kwargs)\u001b[0m\n\u001b[1;32m    535\u001b[0m \u001b[38;5;28;01mdef\u001b[39;00m \u001b[38;5;21mgenerate_prompt\u001b[39m(\n\u001b[1;32m    536\u001b[0m     \u001b[38;5;28mself\u001b[39m,\n\u001b[1;32m    537\u001b[0m     prompts: List[PromptValue],\n\u001b[0;32m   (...)\u001b[0m\n\u001b[1;32m    540\u001b[0m     \u001b[38;5;241m*\u001b[39m\u001b[38;5;241m*\u001b[39mkwargs: Any,\n\u001b[1;32m    541\u001b[0m ) \u001b[38;5;241m-\u001b[39m\u001b[38;5;241m>\u001b[39m LLMResult:\n\u001b[1;32m    542\u001b[0m     prompt_messages \u001b[38;5;241m=\u001b[39m [p\u001b[38;5;241m.\u001b[39mto_messages() \u001b[38;5;28;01mfor\u001b[39;00m p \u001b[38;5;129;01min\u001b[39;00m prompts]\n\u001b[0;32m--> 543\u001b[0m     \u001b[38;5;28;01mreturn\u001b[39;00m \u001b[38;5;28;43mself\u001b[39;49m\u001b[38;5;241;43m.\u001b[39;49m\u001b[43mgenerate\u001b[49m\u001b[43m(\u001b[49m\u001b[43mprompt_messages\u001b[49m\u001b[43m,\u001b[49m\u001b[43m \u001b[49m\u001b[43mstop\u001b[49m\u001b[38;5;241;43m=\u001b[39;49m\u001b[43mstop\u001b[49m\u001b[43m,\u001b[49m\u001b[43m \u001b[49m\u001b[43mcallbacks\u001b[49m\u001b[38;5;241;43m=\u001b[39;49m\u001b[43mcallbacks\u001b[49m\u001b[43m,\u001b[49m\u001b[43m \u001b[49m\u001b[38;5;241;43m*\u001b[39;49m\u001b[38;5;241;43m*\u001b[39;49m\u001b[43mkwargs\u001b[49m\u001b[43m)\u001b[49m\n",
      "File \u001b[0;32m~/miniconda3/envs/tensorflow/lib/python3.10/site-packages/langchain_core/language_models/chat_models.py:407\u001b[0m, in \u001b[0;36mBaseChatModel.generate\u001b[0;34m(self, messages, stop, callbacks, tags, metadata, run_name, **kwargs)\u001b[0m\n\u001b[1;32m    405\u001b[0m         \u001b[38;5;28;01mif\u001b[39;00m run_managers:\n\u001b[1;32m    406\u001b[0m             run_managers[i]\u001b[38;5;241m.\u001b[39mon_llm_error(e, response\u001b[38;5;241m=\u001b[39mLLMResult(generations\u001b[38;5;241m=\u001b[39m[]))\n\u001b[0;32m--> 407\u001b[0m         \u001b[38;5;28;01mraise\u001b[39;00m e\n\u001b[1;32m    408\u001b[0m flattened_outputs \u001b[38;5;241m=\u001b[39m [\n\u001b[1;32m    409\u001b[0m     LLMResult(generations\u001b[38;5;241m=\u001b[39m[res\u001b[38;5;241m.\u001b[39mgenerations], llm_output\u001b[38;5;241m=\u001b[39mres\u001b[38;5;241m.\u001b[39mllm_output)\n\u001b[1;32m    410\u001b[0m     \u001b[38;5;28;01mfor\u001b[39;00m res \u001b[38;5;129;01min\u001b[39;00m results\n\u001b[1;32m    411\u001b[0m ]\n\u001b[1;32m    412\u001b[0m llm_output \u001b[38;5;241m=\u001b[39m \u001b[38;5;28mself\u001b[39m\u001b[38;5;241m.\u001b[39m_combine_llm_outputs([res\u001b[38;5;241m.\u001b[39mllm_output \u001b[38;5;28;01mfor\u001b[39;00m res \u001b[38;5;129;01min\u001b[39;00m results])\n",
      "File \u001b[0;32m~/miniconda3/envs/tensorflow/lib/python3.10/site-packages/langchain_core/language_models/chat_models.py:397\u001b[0m, in \u001b[0;36mBaseChatModel.generate\u001b[0;34m(self, messages, stop, callbacks, tags, metadata, run_name, **kwargs)\u001b[0m\n\u001b[1;32m    394\u001b[0m \u001b[38;5;28;01mfor\u001b[39;00m i, m \u001b[38;5;129;01min\u001b[39;00m \u001b[38;5;28menumerate\u001b[39m(messages):\n\u001b[1;32m    395\u001b[0m     \u001b[38;5;28;01mtry\u001b[39;00m:\n\u001b[1;32m    396\u001b[0m         results\u001b[38;5;241m.\u001b[39mappend(\n\u001b[0;32m--> 397\u001b[0m             \u001b[38;5;28;43mself\u001b[39;49m\u001b[38;5;241;43m.\u001b[39;49m\u001b[43m_generate_with_cache\u001b[49m\u001b[43m(\u001b[49m\n\u001b[1;32m    398\u001b[0m \u001b[43m                \u001b[49m\u001b[43mm\u001b[49m\u001b[43m,\u001b[49m\n\u001b[1;32m    399\u001b[0m \u001b[43m                \u001b[49m\u001b[43mstop\u001b[49m\u001b[38;5;241;43m=\u001b[39;49m\u001b[43mstop\u001b[49m\u001b[43m,\u001b[49m\n\u001b[1;32m    400\u001b[0m \u001b[43m                \u001b[49m\u001b[43mrun_manager\u001b[49m\u001b[38;5;241;43m=\u001b[39;49m\u001b[43mrun_managers\u001b[49m\u001b[43m[\u001b[49m\u001b[43mi\u001b[49m\u001b[43m]\u001b[49m\u001b[43m \u001b[49m\u001b[38;5;28;43;01mif\u001b[39;49;00m\u001b[43m \u001b[49m\u001b[43mrun_managers\u001b[49m\u001b[43m \u001b[49m\u001b[38;5;28;43;01melse\u001b[39;49;00m\u001b[43m \u001b[49m\u001b[38;5;28;43;01mNone\u001b[39;49;00m\u001b[43m,\u001b[49m\n\u001b[1;32m    401\u001b[0m \u001b[43m                \u001b[49m\u001b[38;5;241;43m*\u001b[39;49m\u001b[38;5;241;43m*\u001b[39;49m\u001b[43mkwargs\u001b[49m\u001b[43m,\u001b[49m\n\u001b[1;32m    402\u001b[0m \u001b[43m            \u001b[49m\u001b[43m)\u001b[49m\n\u001b[1;32m    403\u001b[0m         )\n\u001b[1;32m    404\u001b[0m     \u001b[38;5;28;01mexcept\u001b[39;00m \u001b[38;5;167;01mBaseException\u001b[39;00m \u001b[38;5;28;01mas\u001b[39;00m e:\n\u001b[1;32m    405\u001b[0m         \u001b[38;5;28;01mif\u001b[39;00m run_managers:\n",
      "File \u001b[0;32m~/miniconda3/envs/tensorflow/lib/python3.10/site-packages/langchain_core/language_models/chat_models.py:576\u001b[0m, in \u001b[0;36mBaseChatModel._generate_with_cache\u001b[0;34m(self, messages, stop, run_manager, **kwargs)\u001b[0m\n\u001b[1;32m    572\u001b[0m     \u001b[38;5;28;01mraise\u001b[39;00m \u001b[38;5;167;01mValueError\u001b[39;00m(\n\u001b[1;32m    573\u001b[0m         \u001b[38;5;124m\"\u001b[39m\u001b[38;5;124mAsked to cache, but no cache found at `langchain.cache`.\u001b[39m\u001b[38;5;124m\"\u001b[39m\n\u001b[1;32m    574\u001b[0m     )\n\u001b[1;32m    575\u001b[0m \u001b[38;5;28;01mif\u001b[39;00m new_arg_supported:\n\u001b[0;32m--> 576\u001b[0m     \u001b[38;5;28;01mreturn\u001b[39;00m \u001b[38;5;28;43mself\u001b[39;49m\u001b[38;5;241;43m.\u001b[39;49m\u001b[43m_generate\u001b[49m\u001b[43m(\u001b[49m\n\u001b[1;32m    577\u001b[0m \u001b[43m        \u001b[49m\u001b[43mmessages\u001b[49m\u001b[43m,\u001b[49m\u001b[43m \u001b[49m\u001b[43mstop\u001b[49m\u001b[38;5;241;43m=\u001b[39;49m\u001b[43mstop\u001b[49m\u001b[43m,\u001b[49m\u001b[43m \u001b[49m\u001b[43mrun_manager\u001b[49m\u001b[38;5;241;43m=\u001b[39;49m\u001b[43mrun_manager\u001b[49m\u001b[43m,\u001b[49m\u001b[43m \u001b[49m\u001b[38;5;241;43m*\u001b[39;49m\u001b[38;5;241;43m*\u001b[39;49m\u001b[43mkwargs\u001b[49m\n\u001b[1;32m    578\u001b[0m \u001b[43m    \u001b[49m\u001b[43m)\u001b[49m\n\u001b[1;32m    579\u001b[0m \u001b[38;5;28;01melse\u001b[39;00m:\n\u001b[1;32m    580\u001b[0m     \u001b[38;5;28;01mreturn\u001b[39;00m \u001b[38;5;28mself\u001b[39m\u001b[38;5;241m.\u001b[39m_generate(messages, stop\u001b[38;5;241m=\u001b[39mstop, \u001b[38;5;241m*\u001b[39m\u001b[38;5;241m*\u001b[39mkwargs)\n",
      "File \u001b[0;32m~/miniconda3/envs/tensorflow/lib/python3.10/site-packages/langchain_community/chat_models/openai.py:439\u001b[0m, in \u001b[0;36mChatOpenAI._generate\u001b[0;34m(self, messages, stop, run_manager, stream, **kwargs)\u001b[0m\n\u001b[1;32m    433\u001b[0m message_dicts, params \u001b[38;5;241m=\u001b[39m \u001b[38;5;28mself\u001b[39m\u001b[38;5;241m.\u001b[39m_create_message_dicts(messages, stop)\n\u001b[1;32m    434\u001b[0m params \u001b[38;5;241m=\u001b[39m {\n\u001b[1;32m    435\u001b[0m     \u001b[38;5;241m*\u001b[39m\u001b[38;5;241m*\u001b[39mparams,\n\u001b[1;32m    436\u001b[0m     \u001b[38;5;241m*\u001b[39m\u001b[38;5;241m*\u001b[39m({\u001b[38;5;124m\"\u001b[39m\u001b[38;5;124mstream\u001b[39m\u001b[38;5;124m\"\u001b[39m: stream} \u001b[38;5;28;01mif\u001b[39;00m stream \u001b[38;5;129;01mis\u001b[39;00m \u001b[38;5;129;01mnot\u001b[39;00m \u001b[38;5;28;01mNone\u001b[39;00m \u001b[38;5;28;01melse\u001b[39;00m {}),\n\u001b[1;32m    437\u001b[0m     \u001b[38;5;241m*\u001b[39m\u001b[38;5;241m*\u001b[39mkwargs,\n\u001b[1;32m    438\u001b[0m }\n\u001b[0;32m--> 439\u001b[0m response \u001b[38;5;241m=\u001b[39m \u001b[38;5;28;43mself\u001b[39;49m\u001b[38;5;241;43m.\u001b[39;49m\u001b[43mcompletion_with_retry\u001b[49m\u001b[43m(\u001b[49m\n\u001b[1;32m    440\u001b[0m \u001b[43m    \u001b[49m\u001b[43mmessages\u001b[49m\u001b[38;5;241;43m=\u001b[39;49m\u001b[43mmessage_dicts\u001b[49m\u001b[43m,\u001b[49m\u001b[43m \u001b[49m\u001b[43mrun_manager\u001b[49m\u001b[38;5;241;43m=\u001b[39;49m\u001b[43mrun_manager\u001b[49m\u001b[43m,\u001b[49m\u001b[43m \u001b[49m\u001b[38;5;241;43m*\u001b[39;49m\u001b[38;5;241;43m*\u001b[39;49m\u001b[43mparams\u001b[49m\n\u001b[1;32m    441\u001b[0m \u001b[43m\u001b[49m\u001b[43m)\u001b[49m\n\u001b[1;32m    442\u001b[0m \u001b[38;5;28;01mreturn\u001b[39;00m \u001b[38;5;28mself\u001b[39m\u001b[38;5;241m.\u001b[39m_create_chat_result(response)\n",
      "File \u001b[0;32m~/miniconda3/envs/tensorflow/lib/python3.10/site-packages/langchain_community/chat_models/openai.py:356\u001b[0m, in \u001b[0;36mChatOpenAI.completion_with_retry\u001b[0;34m(self, run_manager, **kwargs)\u001b[0m\n\u001b[1;32m    354\u001b[0m \u001b[38;5;250m\u001b[39m\u001b[38;5;124;03m\"\"\"Use tenacity to retry the completion call.\"\"\"\u001b[39;00m\n\u001b[1;32m    355\u001b[0m \u001b[38;5;28;01mif\u001b[39;00m is_openai_v1():\n\u001b[0;32m--> 356\u001b[0m     \u001b[38;5;28;01mreturn\u001b[39;00m \u001b[38;5;28;43mself\u001b[39;49m\u001b[38;5;241;43m.\u001b[39;49m\u001b[43mclient\u001b[49m\u001b[38;5;241;43m.\u001b[39;49m\u001b[43mcreate\u001b[49m\u001b[43m(\u001b[49m\u001b[38;5;241;43m*\u001b[39;49m\u001b[38;5;241;43m*\u001b[39;49m\u001b[43mkwargs\u001b[49m\u001b[43m)\u001b[49m\n\u001b[1;32m    358\u001b[0m retry_decorator \u001b[38;5;241m=\u001b[39m _create_retry_decorator(\u001b[38;5;28mself\u001b[39m, run_manager\u001b[38;5;241m=\u001b[39mrun_manager)\n\u001b[1;32m    360\u001b[0m \u001b[38;5;129m@retry_decorator\u001b[39m\n\u001b[1;32m    361\u001b[0m \u001b[38;5;28;01mdef\u001b[39;00m \u001b[38;5;21m_completion_with_retry\u001b[39m(\u001b[38;5;241m*\u001b[39m\u001b[38;5;241m*\u001b[39mkwargs: Any) \u001b[38;5;241m-\u001b[39m\u001b[38;5;241m>\u001b[39m Any:\n",
      "File \u001b[0;32m~/miniconda3/envs/tensorflow/lib/python3.10/site-packages/openai/_utils/_utils.py:271\u001b[0m, in \u001b[0;36mrequired_args.<locals>.inner.<locals>.wrapper\u001b[0;34m(*args, **kwargs)\u001b[0m\n\u001b[1;32m    269\u001b[0m             msg \u001b[38;5;241m=\u001b[39m \u001b[38;5;124mf\u001b[39m\u001b[38;5;124m\"\u001b[39m\u001b[38;5;124mMissing required argument: \u001b[39m\u001b[38;5;132;01m{\u001b[39;00mquote(missing[\u001b[38;5;241m0\u001b[39m])\u001b[38;5;132;01m}\u001b[39;00m\u001b[38;5;124m\"\u001b[39m\n\u001b[1;32m    270\u001b[0m     \u001b[38;5;28;01mraise\u001b[39;00m \u001b[38;5;167;01mTypeError\u001b[39;00m(msg)\n\u001b[0;32m--> 271\u001b[0m \u001b[38;5;28;01mreturn\u001b[39;00m \u001b[43mfunc\u001b[49m\u001b[43m(\u001b[49m\u001b[38;5;241;43m*\u001b[39;49m\u001b[43margs\u001b[49m\u001b[43m,\u001b[49m\u001b[43m \u001b[49m\u001b[38;5;241;43m*\u001b[39;49m\u001b[38;5;241;43m*\u001b[39;49m\u001b[43mkwargs\u001b[49m\u001b[43m)\u001b[49m\n",
      "File \u001b[0;32m~/miniconda3/envs/tensorflow/lib/python3.10/site-packages/openai/resources/chat/completions.py:643\u001b[0m, in \u001b[0;36mCompletions.create\u001b[0;34m(self, messages, model, frequency_penalty, function_call, functions, logit_bias, logprobs, max_tokens, n, presence_penalty, response_format, seed, stop, stream, temperature, tool_choice, tools, top_logprobs, top_p, user, extra_headers, extra_query, extra_body, timeout)\u001b[0m\n\u001b[1;32m    594\u001b[0m \u001b[38;5;129m@required_args\u001b[39m([\u001b[38;5;124m\"\u001b[39m\u001b[38;5;124mmessages\u001b[39m\u001b[38;5;124m\"\u001b[39m, \u001b[38;5;124m\"\u001b[39m\u001b[38;5;124mmodel\u001b[39m\u001b[38;5;124m\"\u001b[39m], [\u001b[38;5;124m\"\u001b[39m\u001b[38;5;124mmessages\u001b[39m\u001b[38;5;124m\"\u001b[39m, \u001b[38;5;124m\"\u001b[39m\u001b[38;5;124mmodel\u001b[39m\u001b[38;5;124m\"\u001b[39m, \u001b[38;5;124m\"\u001b[39m\u001b[38;5;124mstream\u001b[39m\u001b[38;5;124m\"\u001b[39m])\n\u001b[1;32m    595\u001b[0m \u001b[38;5;28;01mdef\u001b[39;00m \u001b[38;5;21mcreate\u001b[39m(\n\u001b[1;32m    596\u001b[0m     \u001b[38;5;28mself\u001b[39m,\n\u001b[0;32m   (...)\u001b[0m\n\u001b[1;32m    641\u001b[0m     timeout: \u001b[38;5;28mfloat\u001b[39m \u001b[38;5;241m|\u001b[39m httpx\u001b[38;5;241m.\u001b[39mTimeout \u001b[38;5;241m|\u001b[39m \u001b[38;5;28;01mNone\u001b[39;00m \u001b[38;5;241m|\u001b[39m NotGiven \u001b[38;5;241m=\u001b[39m NOT_GIVEN,\n\u001b[1;32m    642\u001b[0m ) \u001b[38;5;241m-\u001b[39m\u001b[38;5;241m>\u001b[39m ChatCompletion \u001b[38;5;241m|\u001b[39m Stream[ChatCompletionChunk]:\n\u001b[0;32m--> 643\u001b[0m     \u001b[38;5;28;01mreturn\u001b[39;00m \u001b[38;5;28;43mself\u001b[39;49m\u001b[38;5;241;43m.\u001b[39;49m\u001b[43m_post\u001b[49m\u001b[43m(\u001b[49m\n\u001b[1;32m    644\u001b[0m \u001b[43m        \u001b[49m\u001b[38;5;124;43m\"\u001b[39;49m\u001b[38;5;124;43m/chat/completions\u001b[39;49m\u001b[38;5;124;43m\"\u001b[39;49m\u001b[43m,\u001b[49m\n\u001b[1;32m    645\u001b[0m \u001b[43m        \u001b[49m\u001b[43mbody\u001b[49m\u001b[38;5;241;43m=\u001b[39;49m\u001b[43mmaybe_transform\u001b[49m\u001b[43m(\u001b[49m\n\u001b[1;32m    646\u001b[0m \u001b[43m            \u001b[49m\u001b[43m{\u001b[49m\n\u001b[1;32m    647\u001b[0m \u001b[43m                \u001b[49m\u001b[38;5;124;43m\"\u001b[39;49m\u001b[38;5;124;43mmessages\u001b[39;49m\u001b[38;5;124;43m\"\u001b[39;49m\u001b[43m:\u001b[49m\u001b[43m \u001b[49m\u001b[43mmessages\u001b[49m\u001b[43m,\u001b[49m\n\u001b[1;32m    648\u001b[0m \u001b[43m                \u001b[49m\u001b[38;5;124;43m\"\u001b[39;49m\u001b[38;5;124;43mmodel\u001b[39;49m\u001b[38;5;124;43m\"\u001b[39;49m\u001b[43m:\u001b[49m\u001b[43m \u001b[49m\u001b[43mmodel\u001b[49m\u001b[43m,\u001b[49m\n\u001b[1;32m    649\u001b[0m \u001b[43m                \u001b[49m\u001b[38;5;124;43m\"\u001b[39;49m\u001b[38;5;124;43mfrequency_penalty\u001b[39;49m\u001b[38;5;124;43m\"\u001b[39;49m\u001b[43m:\u001b[49m\u001b[43m \u001b[49m\u001b[43mfrequency_penalty\u001b[49m\u001b[43m,\u001b[49m\n\u001b[1;32m    650\u001b[0m \u001b[43m                \u001b[49m\u001b[38;5;124;43m\"\u001b[39;49m\u001b[38;5;124;43mfunction_call\u001b[39;49m\u001b[38;5;124;43m\"\u001b[39;49m\u001b[43m:\u001b[49m\u001b[43m \u001b[49m\u001b[43mfunction_call\u001b[49m\u001b[43m,\u001b[49m\n\u001b[1;32m    651\u001b[0m \u001b[43m                \u001b[49m\u001b[38;5;124;43m\"\u001b[39;49m\u001b[38;5;124;43mfunctions\u001b[39;49m\u001b[38;5;124;43m\"\u001b[39;49m\u001b[43m:\u001b[49m\u001b[43m \u001b[49m\u001b[43mfunctions\u001b[49m\u001b[43m,\u001b[49m\n\u001b[1;32m    652\u001b[0m \u001b[43m                \u001b[49m\u001b[38;5;124;43m\"\u001b[39;49m\u001b[38;5;124;43mlogit_bias\u001b[39;49m\u001b[38;5;124;43m\"\u001b[39;49m\u001b[43m:\u001b[49m\u001b[43m \u001b[49m\u001b[43mlogit_bias\u001b[49m\u001b[43m,\u001b[49m\n\u001b[1;32m    653\u001b[0m \u001b[43m                \u001b[49m\u001b[38;5;124;43m\"\u001b[39;49m\u001b[38;5;124;43mlogprobs\u001b[39;49m\u001b[38;5;124;43m\"\u001b[39;49m\u001b[43m:\u001b[49m\u001b[43m \u001b[49m\u001b[43mlogprobs\u001b[49m\u001b[43m,\u001b[49m\n\u001b[1;32m    654\u001b[0m \u001b[43m                \u001b[49m\u001b[38;5;124;43m\"\u001b[39;49m\u001b[38;5;124;43mmax_tokens\u001b[39;49m\u001b[38;5;124;43m\"\u001b[39;49m\u001b[43m:\u001b[49m\u001b[43m \u001b[49m\u001b[43mmax_tokens\u001b[49m\u001b[43m,\u001b[49m\n\u001b[1;32m    655\u001b[0m \u001b[43m                \u001b[49m\u001b[38;5;124;43m\"\u001b[39;49m\u001b[38;5;124;43mn\u001b[39;49m\u001b[38;5;124;43m\"\u001b[39;49m\u001b[43m:\u001b[49m\u001b[43m \u001b[49m\u001b[43mn\u001b[49m\u001b[43m,\u001b[49m\n\u001b[1;32m    656\u001b[0m \u001b[43m                \u001b[49m\u001b[38;5;124;43m\"\u001b[39;49m\u001b[38;5;124;43mpresence_penalty\u001b[39;49m\u001b[38;5;124;43m\"\u001b[39;49m\u001b[43m:\u001b[49m\u001b[43m \u001b[49m\u001b[43mpresence_penalty\u001b[49m\u001b[43m,\u001b[49m\n\u001b[1;32m    657\u001b[0m \u001b[43m                \u001b[49m\u001b[38;5;124;43m\"\u001b[39;49m\u001b[38;5;124;43mresponse_format\u001b[39;49m\u001b[38;5;124;43m\"\u001b[39;49m\u001b[43m:\u001b[49m\u001b[43m \u001b[49m\u001b[43mresponse_format\u001b[49m\u001b[43m,\u001b[49m\n\u001b[1;32m    658\u001b[0m \u001b[43m                \u001b[49m\u001b[38;5;124;43m\"\u001b[39;49m\u001b[38;5;124;43mseed\u001b[39;49m\u001b[38;5;124;43m\"\u001b[39;49m\u001b[43m:\u001b[49m\u001b[43m \u001b[49m\u001b[43mseed\u001b[49m\u001b[43m,\u001b[49m\n\u001b[1;32m    659\u001b[0m \u001b[43m                \u001b[49m\u001b[38;5;124;43m\"\u001b[39;49m\u001b[38;5;124;43mstop\u001b[39;49m\u001b[38;5;124;43m\"\u001b[39;49m\u001b[43m:\u001b[49m\u001b[43m \u001b[49m\u001b[43mstop\u001b[49m\u001b[43m,\u001b[49m\n\u001b[1;32m    660\u001b[0m \u001b[43m                \u001b[49m\u001b[38;5;124;43m\"\u001b[39;49m\u001b[38;5;124;43mstream\u001b[39;49m\u001b[38;5;124;43m\"\u001b[39;49m\u001b[43m:\u001b[49m\u001b[43m \u001b[49m\u001b[43mstream\u001b[49m\u001b[43m,\u001b[49m\n\u001b[1;32m    661\u001b[0m \u001b[43m                \u001b[49m\u001b[38;5;124;43m\"\u001b[39;49m\u001b[38;5;124;43mtemperature\u001b[39;49m\u001b[38;5;124;43m\"\u001b[39;49m\u001b[43m:\u001b[49m\u001b[43m \u001b[49m\u001b[43mtemperature\u001b[49m\u001b[43m,\u001b[49m\n\u001b[1;32m    662\u001b[0m \u001b[43m                \u001b[49m\u001b[38;5;124;43m\"\u001b[39;49m\u001b[38;5;124;43mtool_choice\u001b[39;49m\u001b[38;5;124;43m\"\u001b[39;49m\u001b[43m:\u001b[49m\u001b[43m \u001b[49m\u001b[43mtool_choice\u001b[49m\u001b[43m,\u001b[49m\n\u001b[1;32m    663\u001b[0m \u001b[43m                \u001b[49m\u001b[38;5;124;43m\"\u001b[39;49m\u001b[38;5;124;43mtools\u001b[39;49m\u001b[38;5;124;43m\"\u001b[39;49m\u001b[43m:\u001b[49m\u001b[43m \u001b[49m\u001b[43mtools\u001b[49m\u001b[43m,\u001b[49m\n\u001b[1;32m    664\u001b[0m \u001b[43m                \u001b[49m\u001b[38;5;124;43m\"\u001b[39;49m\u001b[38;5;124;43mtop_logprobs\u001b[39;49m\u001b[38;5;124;43m\"\u001b[39;49m\u001b[43m:\u001b[49m\u001b[43m \u001b[49m\u001b[43mtop_logprobs\u001b[49m\u001b[43m,\u001b[49m\n\u001b[1;32m    665\u001b[0m \u001b[43m                \u001b[49m\u001b[38;5;124;43m\"\u001b[39;49m\u001b[38;5;124;43mtop_p\u001b[39;49m\u001b[38;5;124;43m\"\u001b[39;49m\u001b[43m:\u001b[49m\u001b[43m \u001b[49m\u001b[43mtop_p\u001b[49m\u001b[43m,\u001b[49m\n\u001b[1;32m    666\u001b[0m \u001b[43m                \u001b[49m\u001b[38;5;124;43m\"\u001b[39;49m\u001b[38;5;124;43muser\u001b[39;49m\u001b[38;5;124;43m\"\u001b[39;49m\u001b[43m:\u001b[49m\u001b[43m \u001b[49m\u001b[43muser\u001b[49m\u001b[43m,\u001b[49m\n\u001b[1;32m    667\u001b[0m \u001b[43m            \u001b[49m\u001b[43m}\u001b[49m\u001b[43m,\u001b[49m\n\u001b[1;32m    668\u001b[0m \u001b[43m            \u001b[49m\u001b[43mcompletion_create_params\u001b[49m\u001b[38;5;241;43m.\u001b[39;49m\u001b[43mCompletionCreateParams\u001b[49m\u001b[43m,\u001b[49m\n\u001b[1;32m    669\u001b[0m \u001b[43m        \u001b[49m\u001b[43m)\u001b[49m\u001b[43m,\u001b[49m\n\u001b[1;32m    670\u001b[0m \u001b[43m        \u001b[49m\u001b[43moptions\u001b[49m\u001b[38;5;241;43m=\u001b[39;49m\u001b[43mmake_request_options\u001b[49m\u001b[43m(\u001b[49m\n\u001b[1;32m    671\u001b[0m \u001b[43m            \u001b[49m\u001b[43mextra_headers\u001b[49m\u001b[38;5;241;43m=\u001b[39;49m\u001b[43mextra_headers\u001b[49m\u001b[43m,\u001b[49m\u001b[43m \u001b[49m\u001b[43mextra_query\u001b[49m\u001b[38;5;241;43m=\u001b[39;49m\u001b[43mextra_query\u001b[49m\u001b[43m,\u001b[49m\u001b[43m \u001b[49m\u001b[43mextra_body\u001b[49m\u001b[38;5;241;43m=\u001b[39;49m\u001b[43mextra_body\u001b[49m\u001b[43m,\u001b[49m\u001b[43m \u001b[49m\u001b[43mtimeout\u001b[49m\u001b[38;5;241;43m=\u001b[39;49m\u001b[43mtimeout\u001b[49m\n\u001b[1;32m    672\u001b[0m \u001b[43m        \u001b[49m\u001b[43m)\u001b[49m\u001b[43m,\u001b[49m\n\u001b[1;32m    673\u001b[0m \u001b[43m        \u001b[49m\u001b[43mcast_to\u001b[49m\u001b[38;5;241;43m=\u001b[39;49m\u001b[43mChatCompletion\u001b[49m\u001b[43m,\u001b[49m\n\u001b[1;32m    674\u001b[0m \u001b[43m        \u001b[49m\u001b[43mstream\u001b[49m\u001b[38;5;241;43m=\u001b[39;49m\u001b[43mstream\u001b[49m\u001b[43m \u001b[49m\u001b[38;5;129;43;01mor\u001b[39;49;00m\u001b[43m \u001b[49m\u001b[38;5;28;43;01mFalse\u001b[39;49;00m\u001b[43m,\u001b[49m\n\u001b[1;32m    675\u001b[0m \u001b[43m        \u001b[49m\u001b[43mstream_cls\u001b[49m\u001b[38;5;241;43m=\u001b[39;49m\u001b[43mStream\u001b[49m\u001b[43m[\u001b[49m\u001b[43mChatCompletionChunk\u001b[49m\u001b[43m]\u001b[49m\u001b[43m,\u001b[49m\n\u001b[1;32m    676\u001b[0m \u001b[43m    \u001b[49m\u001b[43m)\u001b[49m\n",
      "File \u001b[0;32m~/miniconda3/envs/tensorflow/lib/python3.10/site-packages/openai/_base_client.py:1112\u001b[0m, in \u001b[0;36mSyncAPIClient.post\u001b[0;34m(self, path, cast_to, body, options, files, stream, stream_cls)\u001b[0m\n\u001b[1;32m   1098\u001b[0m \u001b[38;5;28;01mdef\u001b[39;00m \u001b[38;5;21mpost\u001b[39m(\n\u001b[1;32m   1099\u001b[0m     \u001b[38;5;28mself\u001b[39m,\n\u001b[1;32m   1100\u001b[0m     path: \u001b[38;5;28mstr\u001b[39m,\n\u001b[0;32m   (...)\u001b[0m\n\u001b[1;32m   1107\u001b[0m     stream_cls: \u001b[38;5;28mtype\u001b[39m[_StreamT] \u001b[38;5;241m|\u001b[39m \u001b[38;5;28;01mNone\u001b[39;00m \u001b[38;5;241m=\u001b[39m \u001b[38;5;28;01mNone\u001b[39;00m,\n\u001b[1;32m   1108\u001b[0m ) \u001b[38;5;241m-\u001b[39m\u001b[38;5;241m>\u001b[39m ResponseT \u001b[38;5;241m|\u001b[39m _StreamT:\n\u001b[1;32m   1109\u001b[0m     opts \u001b[38;5;241m=\u001b[39m FinalRequestOptions\u001b[38;5;241m.\u001b[39mconstruct(\n\u001b[1;32m   1110\u001b[0m         method\u001b[38;5;241m=\u001b[39m\u001b[38;5;124m\"\u001b[39m\u001b[38;5;124mpost\u001b[39m\u001b[38;5;124m\"\u001b[39m, url\u001b[38;5;241m=\u001b[39mpath, json_data\u001b[38;5;241m=\u001b[39mbody, files\u001b[38;5;241m=\u001b[39mto_httpx_files(files), \u001b[38;5;241m*\u001b[39m\u001b[38;5;241m*\u001b[39moptions\n\u001b[1;32m   1111\u001b[0m     )\n\u001b[0;32m-> 1112\u001b[0m     \u001b[38;5;28;01mreturn\u001b[39;00m cast(ResponseT, \u001b[38;5;28;43mself\u001b[39;49m\u001b[38;5;241;43m.\u001b[39;49m\u001b[43mrequest\u001b[49m\u001b[43m(\u001b[49m\u001b[43mcast_to\u001b[49m\u001b[43m,\u001b[49m\u001b[43m \u001b[49m\u001b[43mopts\u001b[49m\u001b[43m,\u001b[49m\u001b[43m \u001b[49m\u001b[43mstream\u001b[49m\u001b[38;5;241;43m=\u001b[39;49m\u001b[43mstream\u001b[49m\u001b[43m,\u001b[49m\u001b[43m \u001b[49m\u001b[43mstream_cls\u001b[49m\u001b[38;5;241;43m=\u001b[39;49m\u001b[43mstream_cls\u001b[49m\u001b[43m)\u001b[49m)\n",
      "File \u001b[0;32m~/miniconda3/envs/tensorflow/lib/python3.10/site-packages/openai/_base_client.py:859\u001b[0m, in \u001b[0;36mSyncAPIClient.request\u001b[0;34m(self, cast_to, options, remaining_retries, stream, stream_cls)\u001b[0m\n\u001b[1;32m    850\u001b[0m \u001b[38;5;28;01mdef\u001b[39;00m \u001b[38;5;21mrequest\u001b[39m(\n\u001b[1;32m    851\u001b[0m     \u001b[38;5;28mself\u001b[39m,\n\u001b[1;32m    852\u001b[0m     cast_to: Type[ResponseT],\n\u001b[0;32m   (...)\u001b[0m\n\u001b[1;32m    857\u001b[0m     stream_cls: \u001b[38;5;28mtype\u001b[39m[_StreamT] \u001b[38;5;241m|\u001b[39m \u001b[38;5;28;01mNone\u001b[39;00m \u001b[38;5;241m=\u001b[39m \u001b[38;5;28;01mNone\u001b[39;00m,\n\u001b[1;32m    858\u001b[0m ) \u001b[38;5;241m-\u001b[39m\u001b[38;5;241m>\u001b[39m ResponseT \u001b[38;5;241m|\u001b[39m _StreamT:\n\u001b[0;32m--> 859\u001b[0m     \u001b[38;5;28;01mreturn\u001b[39;00m \u001b[38;5;28;43mself\u001b[39;49m\u001b[38;5;241;43m.\u001b[39;49m\u001b[43m_request\u001b[49m\u001b[43m(\u001b[49m\n\u001b[1;32m    860\u001b[0m \u001b[43m        \u001b[49m\u001b[43mcast_to\u001b[49m\u001b[38;5;241;43m=\u001b[39;49m\u001b[43mcast_to\u001b[49m\u001b[43m,\u001b[49m\n\u001b[1;32m    861\u001b[0m \u001b[43m        \u001b[49m\u001b[43moptions\u001b[49m\u001b[38;5;241;43m=\u001b[39;49m\u001b[43moptions\u001b[49m\u001b[43m,\u001b[49m\n\u001b[1;32m    862\u001b[0m \u001b[43m        \u001b[49m\u001b[43mstream\u001b[49m\u001b[38;5;241;43m=\u001b[39;49m\u001b[43mstream\u001b[49m\u001b[43m,\u001b[49m\n\u001b[1;32m    863\u001b[0m \u001b[43m        \u001b[49m\u001b[43mstream_cls\u001b[49m\u001b[38;5;241;43m=\u001b[39;49m\u001b[43mstream_cls\u001b[49m\u001b[43m,\u001b[49m\n\u001b[1;32m    864\u001b[0m \u001b[43m        \u001b[49m\u001b[43mremaining_retries\u001b[49m\u001b[38;5;241;43m=\u001b[39;49m\u001b[43mremaining_retries\u001b[49m\u001b[43m,\u001b[49m\n\u001b[1;32m    865\u001b[0m \u001b[43m    \u001b[49m\u001b[43m)\u001b[49m\n",
      "File \u001b[0;32m~/miniconda3/envs/tensorflow/lib/python3.10/site-packages/openai/_base_client.py:934\u001b[0m, in \u001b[0;36mSyncAPIClient._request\u001b[0;34m(self, cast_to, options, remaining_retries, stream, stream_cls)\u001b[0m\n\u001b[1;32m    932\u001b[0m \u001b[38;5;28;01mif\u001b[39;00m retries \u001b[38;5;241m>\u001b[39m \u001b[38;5;241m0\u001b[39m \u001b[38;5;129;01mand\u001b[39;00m \u001b[38;5;28mself\u001b[39m\u001b[38;5;241m.\u001b[39m_should_retry(err\u001b[38;5;241m.\u001b[39mresponse):\n\u001b[1;32m    933\u001b[0m     err\u001b[38;5;241m.\u001b[39mresponse\u001b[38;5;241m.\u001b[39mclose()\n\u001b[0;32m--> 934\u001b[0m     \u001b[38;5;28;01mreturn\u001b[39;00m \u001b[38;5;28;43mself\u001b[39;49m\u001b[38;5;241;43m.\u001b[39;49m\u001b[43m_retry_request\u001b[49m\u001b[43m(\u001b[49m\n\u001b[1;32m    935\u001b[0m \u001b[43m        \u001b[49m\u001b[43moptions\u001b[49m\u001b[43m,\u001b[49m\n\u001b[1;32m    936\u001b[0m \u001b[43m        \u001b[49m\u001b[43mcast_to\u001b[49m\u001b[43m,\u001b[49m\n\u001b[1;32m    937\u001b[0m \u001b[43m        \u001b[49m\u001b[43mretries\u001b[49m\u001b[43m,\u001b[49m\n\u001b[1;32m    938\u001b[0m \u001b[43m        \u001b[49m\u001b[43merr\u001b[49m\u001b[38;5;241;43m.\u001b[39;49m\u001b[43mresponse\u001b[49m\u001b[38;5;241;43m.\u001b[39;49m\u001b[43mheaders\u001b[49m\u001b[43m,\u001b[49m\n\u001b[1;32m    939\u001b[0m \u001b[43m        \u001b[49m\u001b[43mstream\u001b[49m\u001b[38;5;241;43m=\u001b[39;49m\u001b[43mstream\u001b[49m\u001b[43m,\u001b[49m\n\u001b[1;32m    940\u001b[0m \u001b[43m        \u001b[49m\u001b[43mstream_cls\u001b[49m\u001b[38;5;241;43m=\u001b[39;49m\u001b[43mstream_cls\u001b[49m\u001b[43m,\u001b[49m\n\u001b[1;32m    941\u001b[0m \u001b[43m    \u001b[49m\u001b[43m)\u001b[49m\n\u001b[1;32m    943\u001b[0m \u001b[38;5;66;03m# If the response is streamed then we need to explicitly read the response\u001b[39;00m\n\u001b[1;32m    944\u001b[0m \u001b[38;5;66;03m# to completion before attempting to access the response text.\u001b[39;00m\n\u001b[1;32m    945\u001b[0m \u001b[38;5;28;01mif\u001b[39;00m \u001b[38;5;129;01mnot\u001b[39;00m err\u001b[38;5;241m.\u001b[39mresponse\u001b[38;5;241m.\u001b[39mis_closed:\n",
      "File \u001b[0;32m~/miniconda3/envs/tensorflow/lib/python3.10/site-packages/openai/_base_client.py:982\u001b[0m, in \u001b[0;36mSyncAPIClient._retry_request\u001b[0;34m(self, options, cast_to, remaining_retries, response_headers, stream, stream_cls)\u001b[0m\n\u001b[1;32m    978\u001b[0m \u001b[38;5;66;03m# In a synchronous context we are blocking the entire thread. Up to the library user to run the client in a\u001b[39;00m\n\u001b[1;32m    979\u001b[0m \u001b[38;5;66;03m# different thread if necessary.\u001b[39;00m\n\u001b[1;32m    980\u001b[0m time\u001b[38;5;241m.\u001b[39msleep(timeout)\n\u001b[0;32m--> 982\u001b[0m \u001b[38;5;28;01mreturn\u001b[39;00m \u001b[38;5;28;43mself\u001b[39;49m\u001b[38;5;241;43m.\u001b[39;49m\u001b[43m_request\u001b[49m\u001b[43m(\u001b[49m\n\u001b[1;32m    983\u001b[0m \u001b[43m    \u001b[49m\u001b[43moptions\u001b[49m\u001b[38;5;241;43m=\u001b[39;49m\u001b[43moptions\u001b[49m\u001b[43m,\u001b[49m\n\u001b[1;32m    984\u001b[0m \u001b[43m    \u001b[49m\u001b[43mcast_to\u001b[49m\u001b[38;5;241;43m=\u001b[39;49m\u001b[43mcast_to\u001b[49m\u001b[43m,\u001b[49m\n\u001b[1;32m    985\u001b[0m \u001b[43m    \u001b[49m\u001b[43mremaining_retries\u001b[49m\u001b[38;5;241;43m=\u001b[39;49m\u001b[43mremaining\u001b[49m\u001b[43m,\u001b[49m\n\u001b[1;32m    986\u001b[0m \u001b[43m    \u001b[49m\u001b[43mstream\u001b[49m\u001b[38;5;241;43m=\u001b[39;49m\u001b[43mstream\u001b[49m\u001b[43m,\u001b[49m\n\u001b[1;32m    987\u001b[0m \u001b[43m    \u001b[49m\u001b[43mstream_cls\u001b[49m\u001b[38;5;241;43m=\u001b[39;49m\u001b[43mstream_cls\u001b[49m\u001b[43m,\u001b[49m\n\u001b[1;32m    988\u001b[0m \u001b[43m\u001b[49m\u001b[43m)\u001b[49m\n",
      "File \u001b[0;32m~/miniconda3/envs/tensorflow/lib/python3.10/site-packages/openai/_base_client.py:934\u001b[0m, in \u001b[0;36mSyncAPIClient._request\u001b[0;34m(self, cast_to, options, remaining_retries, stream, stream_cls)\u001b[0m\n\u001b[1;32m    932\u001b[0m \u001b[38;5;28;01mif\u001b[39;00m retries \u001b[38;5;241m>\u001b[39m \u001b[38;5;241m0\u001b[39m \u001b[38;5;129;01mand\u001b[39;00m \u001b[38;5;28mself\u001b[39m\u001b[38;5;241m.\u001b[39m_should_retry(err\u001b[38;5;241m.\u001b[39mresponse):\n\u001b[1;32m    933\u001b[0m     err\u001b[38;5;241m.\u001b[39mresponse\u001b[38;5;241m.\u001b[39mclose()\n\u001b[0;32m--> 934\u001b[0m     \u001b[38;5;28;01mreturn\u001b[39;00m \u001b[38;5;28;43mself\u001b[39;49m\u001b[38;5;241;43m.\u001b[39;49m\u001b[43m_retry_request\u001b[49m\u001b[43m(\u001b[49m\n\u001b[1;32m    935\u001b[0m \u001b[43m        \u001b[49m\u001b[43moptions\u001b[49m\u001b[43m,\u001b[49m\n\u001b[1;32m    936\u001b[0m \u001b[43m        \u001b[49m\u001b[43mcast_to\u001b[49m\u001b[43m,\u001b[49m\n\u001b[1;32m    937\u001b[0m \u001b[43m        \u001b[49m\u001b[43mretries\u001b[49m\u001b[43m,\u001b[49m\n\u001b[1;32m    938\u001b[0m \u001b[43m        \u001b[49m\u001b[43merr\u001b[49m\u001b[38;5;241;43m.\u001b[39;49m\u001b[43mresponse\u001b[49m\u001b[38;5;241;43m.\u001b[39;49m\u001b[43mheaders\u001b[49m\u001b[43m,\u001b[49m\n\u001b[1;32m    939\u001b[0m \u001b[43m        \u001b[49m\u001b[43mstream\u001b[49m\u001b[38;5;241;43m=\u001b[39;49m\u001b[43mstream\u001b[49m\u001b[43m,\u001b[49m\n\u001b[1;32m    940\u001b[0m \u001b[43m        \u001b[49m\u001b[43mstream_cls\u001b[49m\u001b[38;5;241;43m=\u001b[39;49m\u001b[43mstream_cls\u001b[49m\u001b[43m,\u001b[49m\n\u001b[1;32m    941\u001b[0m \u001b[43m    \u001b[49m\u001b[43m)\u001b[49m\n\u001b[1;32m    943\u001b[0m \u001b[38;5;66;03m# If the response is streamed then we need to explicitly read the response\u001b[39;00m\n\u001b[1;32m    944\u001b[0m \u001b[38;5;66;03m# to completion before attempting to access the response text.\u001b[39;00m\n\u001b[1;32m    945\u001b[0m \u001b[38;5;28;01mif\u001b[39;00m \u001b[38;5;129;01mnot\u001b[39;00m err\u001b[38;5;241m.\u001b[39mresponse\u001b[38;5;241m.\u001b[39mis_closed:\n",
      "File \u001b[0;32m~/miniconda3/envs/tensorflow/lib/python3.10/site-packages/openai/_base_client.py:982\u001b[0m, in \u001b[0;36mSyncAPIClient._retry_request\u001b[0;34m(self, options, cast_to, remaining_retries, response_headers, stream, stream_cls)\u001b[0m\n\u001b[1;32m    978\u001b[0m \u001b[38;5;66;03m# In a synchronous context we are blocking the entire thread. Up to the library user to run the client in a\u001b[39;00m\n\u001b[1;32m    979\u001b[0m \u001b[38;5;66;03m# different thread if necessary.\u001b[39;00m\n\u001b[1;32m    980\u001b[0m time\u001b[38;5;241m.\u001b[39msleep(timeout)\n\u001b[0;32m--> 982\u001b[0m \u001b[38;5;28;01mreturn\u001b[39;00m \u001b[38;5;28;43mself\u001b[39;49m\u001b[38;5;241;43m.\u001b[39;49m\u001b[43m_request\u001b[49m\u001b[43m(\u001b[49m\n\u001b[1;32m    983\u001b[0m \u001b[43m    \u001b[49m\u001b[43moptions\u001b[49m\u001b[38;5;241;43m=\u001b[39;49m\u001b[43moptions\u001b[49m\u001b[43m,\u001b[49m\n\u001b[1;32m    984\u001b[0m \u001b[43m    \u001b[49m\u001b[43mcast_to\u001b[49m\u001b[38;5;241;43m=\u001b[39;49m\u001b[43mcast_to\u001b[49m\u001b[43m,\u001b[49m\n\u001b[1;32m    985\u001b[0m \u001b[43m    \u001b[49m\u001b[43mremaining_retries\u001b[49m\u001b[38;5;241;43m=\u001b[39;49m\u001b[43mremaining\u001b[49m\u001b[43m,\u001b[49m\n\u001b[1;32m    986\u001b[0m \u001b[43m    \u001b[49m\u001b[43mstream\u001b[49m\u001b[38;5;241;43m=\u001b[39;49m\u001b[43mstream\u001b[49m\u001b[43m,\u001b[49m\n\u001b[1;32m    987\u001b[0m \u001b[43m    \u001b[49m\u001b[43mstream_cls\u001b[49m\u001b[38;5;241;43m=\u001b[39;49m\u001b[43mstream_cls\u001b[49m\u001b[43m,\u001b[49m\n\u001b[1;32m    988\u001b[0m \u001b[43m\u001b[49m\u001b[43m)\u001b[49m\n",
      "File \u001b[0;32m~/miniconda3/envs/tensorflow/lib/python3.10/site-packages/openai/_base_client.py:949\u001b[0m, in \u001b[0;36mSyncAPIClient._request\u001b[0;34m(self, cast_to, options, remaining_retries, stream, stream_cls)\u001b[0m\n\u001b[1;32m    946\u001b[0m         err\u001b[38;5;241m.\u001b[39mresponse\u001b[38;5;241m.\u001b[39mread()\n\u001b[1;32m    948\u001b[0m     log\u001b[38;5;241m.\u001b[39mdebug(\u001b[38;5;124m\"\u001b[39m\u001b[38;5;124mRe-raising status error\u001b[39m\u001b[38;5;124m\"\u001b[39m)\n\u001b[0;32m--> 949\u001b[0m     \u001b[38;5;28;01mraise\u001b[39;00m \u001b[38;5;28mself\u001b[39m\u001b[38;5;241m.\u001b[39m_make_status_error_from_response(err\u001b[38;5;241m.\u001b[39mresponse) \u001b[38;5;28;01mfrom\u001b[39;00m \u001b[38;5;28;01mNone\u001b[39;00m\n\u001b[1;32m    951\u001b[0m \u001b[38;5;28;01mreturn\u001b[39;00m \u001b[38;5;28mself\u001b[39m\u001b[38;5;241m.\u001b[39m_process_response(\n\u001b[1;32m    952\u001b[0m     cast_to\u001b[38;5;241m=\u001b[39mcast_to,\n\u001b[1;32m    953\u001b[0m     options\u001b[38;5;241m=\u001b[39moptions,\n\u001b[0;32m   (...)\u001b[0m\n\u001b[1;32m    956\u001b[0m     stream_cls\u001b[38;5;241m=\u001b[39mstream_cls,\n\u001b[1;32m    957\u001b[0m )\n",
      "\u001b[0;31mRateLimitError\u001b[0m: Error code: 429 - {'error': {'message': 'You exceeded your current quota, please check your plan and billing details. For more information on this error, read the docs: https://platform.openai.com/docs/guides/error-codes/api-errors.', 'type': 'insufficient_quota', 'param': None, 'code': 'insufficient_quota'}}"
     ]
    }
   ],
   "source": [
    "from langchain.chat_models import ChatOpenAI\n",
    "\n",
    "api_token = os.getenv('HUGGINGFACEHUB_API_TOKEN')\n",
    "\n",
    "def generate_review(review):\n",
    "    template = \"Can you correct the spelling mistakes in that review and make sure that its phrasing is correct.: {review}\"\n",
    "\n",
    "    prompt = PromptTemplate(template=template, input_variables=[\"review\"])\n",
    "\n",
    "    generation_llm = LLMChain(prompt=prompt,\n",
    "                              llm=ChatOpenAI(model_name=\"gpt-3.5-turbo\", # Essayer avec gpt-4 - Il faut un compte pro pour faire les requêtes\n",
    "                                         temperature=0.3), \n",
    "                              verbose=True)\n",
    "\n",
    "    generation = generation_llm.run(review)\n",
    "\n",
    "    return generation\n",
    "\n",
    "generate_review(df['text'][0])"
   ]
  },
  {
   "cell_type": "markdown",
   "metadata": {},
   "source": [
    "#### With HuggingFace"
   ]
  },
  {
   "cell_type": "code",
   "execution_count": 63,
   "metadata": {},
   "outputs": [
    {
     "name": "stderr",
     "output_type": "stream",
     "text": [
      "/Users/alexandrecogordan/miniconda3/envs/tensorflow/lib/python3.10/site-packages/huggingface_hub/utils/_deprecation.py:127: FutureWarning: '__init__' (from 'huggingface_hub.inference_api') is deprecated and will be removed from version '1.0'. `InferenceApi` client is deprecated in favor of the more feature-complete `InferenceClient`. Check out this guide to learn how to convert your script to use it: https://huggingface.co/docs/huggingface_hub/guides/inference#legacy-inferenceapi-client.\n",
      "  warnings.warn(warning_message, FutureWarning)\n"
     ]
    },
    {
     "ename": "ConnectionError",
     "evalue": "(ProtocolError('Connection aborted.', RemoteDisconnected('Remote end closed connection without response')), '(Request ID: ab155e09-aaa5-47bb-91d8-89e654649a51)')",
     "output_type": "error",
     "traceback": [
      "\u001b[0;31m---------------------------------------------------------------------------\u001b[0m",
      "\u001b[0;31mRemoteDisconnected\u001b[0m                        Traceback (most recent call last)",
      "File \u001b[0;32m~/miniconda3/envs/tensorflow/lib/python3.10/site-packages/urllib3/connectionpool.py:703\u001b[0m, in \u001b[0;36mHTTPConnectionPool.urlopen\u001b[0;34m(self, method, url, body, headers, retries, redirect, assert_same_host, timeout, pool_timeout, release_conn, chunked, body_pos, **response_kw)\u001b[0m\n\u001b[1;32m    702\u001b[0m \u001b[38;5;66;03m# Make the request on the httplib connection object.\u001b[39;00m\n\u001b[0;32m--> 703\u001b[0m httplib_response \u001b[38;5;241m=\u001b[39m \u001b[38;5;28;43mself\u001b[39;49m\u001b[38;5;241;43m.\u001b[39;49m\u001b[43m_make_request\u001b[49m\u001b[43m(\u001b[49m\n\u001b[1;32m    704\u001b[0m \u001b[43m    \u001b[49m\u001b[43mconn\u001b[49m\u001b[43m,\u001b[49m\n\u001b[1;32m    705\u001b[0m \u001b[43m    \u001b[49m\u001b[43mmethod\u001b[49m\u001b[43m,\u001b[49m\n\u001b[1;32m    706\u001b[0m \u001b[43m    \u001b[49m\u001b[43murl\u001b[49m\u001b[43m,\u001b[49m\n\u001b[1;32m    707\u001b[0m \u001b[43m    \u001b[49m\u001b[43mtimeout\u001b[49m\u001b[38;5;241;43m=\u001b[39;49m\u001b[43mtimeout_obj\u001b[49m\u001b[43m,\u001b[49m\n\u001b[1;32m    708\u001b[0m \u001b[43m    \u001b[49m\u001b[43mbody\u001b[49m\u001b[38;5;241;43m=\u001b[39;49m\u001b[43mbody\u001b[49m\u001b[43m,\u001b[49m\n\u001b[1;32m    709\u001b[0m \u001b[43m    \u001b[49m\u001b[43mheaders\u001b[49m\u001b[38;5;241;43m=\u001b[39;49m\u001b[43mheaders\u001b[49m\u001b[43m,\u001b[49m\n\u001b[1;32m    710\u001b[0m \u001b[43m    \u001b[49m\u001b[43mchunked\u001b[49m\u001b[38;5;241;43m=\u001b[39;49m\u001b[43mchunked\u001b[49m\u001b[43m,\u001b[49m\n\u001b[1;32m    711\u001b[0m \u001b[43m\u001b[49m\u001b[43m)\u001b[49m\n\u001b[1;32m    713\u001b[0m \u001b[38;5;66;03m# If we're going to release the connection in ``finally:``, then\u001b[39;00m\n\u001b[1;32m    714\u001b[0m \u001b[38;5;66;03m# the response doesn't need to know about the connection. Otherwise\u001b[39;00m\n\u001b[1;32m    715\u001b[0m \u001b[38;5;66;03m# it will also try to release it and we'll have a double-release\u001b[39;00m\n\u001b[1;32m    716\u001b[0m \u001b[38;5;66;03m# mess.\u001b[39;00m\n",
      "File \u001b[0;32m~/miniconda3/envs/tensorflow/lib/python3.10/site-packages/urllib3/connectionpool.py:449\u001b[0m, in \u001b[0;36mHTTPConnectionPool._make_request\u001b[0;34m(self, conn, method, url, timeout, chunked, **httplib_request_kw)\u001b[0m\n\u001b[1;32m    445\u001b[0m         \u001b[38;5;28;01mexcept\u001b[39;00m \u001b[38;5;167;01mBaseException\u001b[39;00m \u001b[38;5;28;01mas\u001b[39;00m e:\n\u001b[1;32m    446\u001b[0m             \u001b[38;5;66;03m# Remove the TypeError from the exception chain in\u001b[39;00m\n\u001b[1;32m    447\u001b[0m             \u001b[38;5;66;03m# Python 3 (including for exceptions like SystemExit).\u001b[39;00m\n\u001b[1;32m    448\u001b[0m             \u001b[38;5;66;03m# Otherwise it looks like a bug in the code.\u001b[39;00m\n\u001b[0;32m--> 449\u001b[0m             \u001b[43msix\u001b[49m\u001b[38;5;241;43m.\u001b[39;49m\u001b[43mraise_from\u001b[49m\u001b[43m(\u001b[49m\u001b[43me\u001b[49m\u001b[43m,\u001b[49m\u001b[43m \u001b[49m\u001b[38;5;28;43;01mNone\u001b[39;49;00m\u001b[43m)\u001b[49m\n\u001b[1;32m    450\u001b[0m \u001b[38;5;28;01mexcept\u001b[39;00m (SocketTimeout, BaseSSLError, SocketError) \u001b[38;5;28;01mas\u001b[39;00m e:\n",
      "File \u001b[0;32m<string>:3\u001b[0m, in \u001b[0;36mraise_from\u001b[0;34m(value, from_value)\u001b[0m\n",
      "File \u001b[0;32m~/miniconda3/envs/tensorflow/lib/python3.10/site-packages/urllib3/connectionpool.py:444\u001b[0m, in \u001b[0;36mHTTPConnectionPool._make_request\u001b[0;34m(self, conn, method, url, timeout, chunked, **httplib_request_kw)\u001b[0m\n\u001b[1;32m    443\u001b[0m \u001b[38;5;28;01mtry\u001b[39;00m:\n\u001b[0;32m--> 444\u001b[0m     httplib_response \u001b[38;5;241m=\u001b[39m \u001b[43mconn\u001b[49m\u001b[38;5;241;43m.\u001b[39;49m\u001b[43mgetresponse\u001b[49m\u001b[43m(\u001b[49m\u001b[43m)\u001b[49m\n\u001b[1;32m    445\u001b[0m \u001b[38;5;28;01mexcept\u001b[39;00m \u001b[38;5;167;01mBaseException\u001b[39;00m \u001b[38;5;28;01mas\u001b[39;00m e:\n\u001b[1;32m    446\u001b[0m     \u001b[38;5;66;03m# Remove the TypeError from the exception chain in\u001b[39;00m\n\u001b[1;32m    447\u001b[0m     \u001b[38;5;66;03m# Python 3 (including for exceptions like SystemExit).\u001b[39;00m\n\u001b[1;32m    448\u001b[0m     \u001b[38;5;66;03m# Otherwise it looks like a bug in the code.\u001b[39;00m\n",
      "File \u001b[0;32m~/miniconda3/envs/tensorflow/lib/python3.10/http/client.py:1375\u001b[0m, in \u001b[0;36mHTTPConnection.getresponse\u001b[0;34m(self)\u001b[0m\n\u001b[1;32m   1374\u001b[0m \u001b[38;5;28;01mtry\u001b[39;00m:\n\u001b[0;32m-> 1375\u001b[0m     \u001b[43mresponse\u001b[49m\u001b[38;5;241;43m.\u001b[39;49m\u001b[43mbegin\u001b[49m\u001b[43m(\u001b[49m\u001b[43m)\u001b[49m\n\u001b[1;32m   1376\u001b[0m \u001b[38;5;28;01mexcept\u001b[39;00m \u001b[38;5;167;01mConnectionError\u001b[39;00m:\n",
      "File \u001b[0;32m~/miniconda3/envs/tensorflow/lib/python3.10/http/client.py:318\u001b[0m, in \u001b[0;36mHTTPResponse.begin\u001b[0;34m(self)\u001b[0m\n\u001b[1;32m    317\u001b[0m \u001b[38;5;28;01mwhile\u001b[39;00m \u001b[38;5;28;01mTrue\u001b[39;00m:\n\u001b[0;32m--> 318\u001b[0m     version, status, reason \u001b[38;5;241m=\u001b[39m \u001b[38;5;28;43mself\u001b[39;49m\u001b[38;5;241;43m.\u001b[39;49m\u001b[43m_read_status\u001b[49m\u001b[43m(\u001b[49m\u001b[43m)\u001b[49m\n\u001b[1;32m    319\u001b[0m     \u001b[38;5;28;01mif\u001b[39;00m status \u001b[38;5;241m!=\u001b[39m CONTINUE:\n",
      "File \u001b[0;32m~/miniconda3/envs/tensorflow/lib/python3.10/http/client.py:287\u001b[0m, in \u001b[0;36mHTTPResponse._read_status\u001b[0;34m(self)\u001b[0m\n\u001b[1;32m    284\u001b[0m \u001b[38;5;28;01mif\u001b[39;00m \u001b[38;5;129;01mnot\u001b[39;00m line:\n\u001b[1;32m    285\u001b[0m     \u001b[38;5;66;03m# Presumably, the server closed the connection before\u001b[39;00m\n\u001b[1;32m    286\u001b[0m     \u001b[38;5;66;03m# sending a valid response.\u001b[39;00m\n\u001b[0;32m--> 287\u001b[0m     \u001b[38;5;28;01mraise\u001b[39;00m RemoteDisconnected(\u001b[38;5;124m\"\u001b[39m\u001b[38;5;124mRemote end closed connection without\u001b[39m\u001b[38;5;124m\"\u001b[39m\n\u001b[1;32m    288\u001b[0m                              \u001b[38;5;124m\"\u001b[39m\u001b[38;5;124m response\u001b[39m\u001b[38;5;124m\"\u001b[39m)\n\u001b[1;32m    289\u001b[0m \u001b[38;5;28;01mtry\u001b[39;00m:\n",
      "\u001b[0;31mRemoteDisconnected\u001b[0m: Remote end closed connection without response",
      "\nDuring handling of the above exception, another exception occurred:\n",
      "\u001b[0;31mProtocolError\u001b[0m                             Traceback (most recent call last)",
      "File \u001b[0;32m~/miniconda3/envs/tensorflow/lib/python3.10/site-packages/requests/adapters.py:486\u001b[0m, in \u001b[0;36mHTTPAdapter.send\u001b[0;34m(self, request, stream, timeout, verify, cert, proxies)\u001b[0m\n\u001b[1;32m    485\u001b[0m \u001b[38;5;28;01mtry\u001b[39;00m:\n\u001b[0;32m--> 486\u001b[0m     resp \u001b[38;5;241m=\u001b[39m \u001b[43mconn\u001b[49m\u001b[38;5;241;43m.\u001b[39;49m\u001b[43murlopen\u001b[49m\u001b[43m(\u001b[49m\n\u001b[1;32m    487\u001b[0m \u001b[43m        \u001b[49m\u001b[43mmethod\u001b[49m\u001b[38;5;241;43m=\u001b[39;49m\u001b[43mrequest\u001b[49m\u001b[38;5;241;43m.\u001b[39;49m\u001b[43mmethod\u001b[49m\u001b[43m,\u001b[49m\n\u001b[1;32m    488\u001b[0m \u001b[43m        \u001b[49m\u001b[43murl\u001b[49m\u001b[38;5;241;43m=\u001b[39;49m\u001b[43murl\u001b[49m\u001b[43m,\u001b[49m\n\u001b[1;32m    489\u001b[0m \u001b[43m        \u001b[49m\u001b[43mbody\u001b[49m\u001b[38;5;241;43m=\u001b[39;49m\u001b[43mrequest\u001b[49m\u001b[38;5;241;43m.\u001b[39;49m\u001b[43mbody\u001b[49m\u001b[43m,\u001b[49m\n\u001b[1;32m    490\u001b[0m \u001b[43m        \u001b[49m\u001b[43mheaders\u001b[49m\u001b[38;5;241;43m=\u001b[39;49m\u001b[43mrequest\u001b[49m\u001b[38;5;241;43m.\u001b[39;49m\u001b[43mheaders\u001b[49m\u001b[43m,\u001b[49m\n\u001b[1;32m    491\u001b[0m \u001b[43m        \u001b[49m\u001b[43mredirect\u001b[49m\u001b[38;5;241;43m=\u001b[39;49m\u001b[38;5;28;43;01mFalse\u001b[39;49;00m\u001b[43m,\u001b[49m\n\u001b[1;32m    492\u001b[0m \u001b[43m        \u001b[49m\u001b[43massert_same_host\u001b[49m\u001b[38;5;241;43m=\u001b[39;49m\u001b[38;5;28;43;01mFalse\u001b[39;49;00m\u001b[43m,\u001b[49m\n\u001b[1;32m    493\u001b[0m \u001b[43m        \u001b[49m\u001b[43mpreload_content\u001b[49m\u001b[38;5;241;43m=\u001b[39;49m\u001b[38;5;28;43;01mFalse\u001b[39;49;00m\u001b[43m,\u001b[49m\n\u001b[1;32m    494\u001b[0m \u001b[43m        \u001b[49m\u001b[43mdecode_content\u001b[49m\u001b[38;5;241;43m=\u001b[39;49m\u001b[38;5;28;43;01mFalse\u001b[39;49;00m\u001b[43m,\u001b[49m\n\u001b[1;32m    495\u001b[0m \u001b[43m        \u001b[49m\u001b[43mretries\u001b[49m\u001b[38;5;241;43m=\u001b[39;49m\u001b[38;5;28;43mself\u001b[39;49m\u001b[38;5;241;43m.\u001b[39;49m\u001b[43mmax_retries\u001b[49m\u001b[43m,\u001b[49m\n\u001b[1;32m    496\u001b[0m \u001b[43m        \u001b[49m\u001b[43mtimeout\u001b[49m\u001b[38;5;241;43m=\u001b[39;49m\u001b[43mtimeout\u001b[49m\u001b[43m,\u001b[49m\n\u001b[1;32m    497\u001b[0m \u001b[43m        \u001b[49m\u001b[43mchunked\u001b[49m\u001b[38;5;241;43m=\u001b[39;49m\u001b[43mchunked\u001b[49m\u001b[43m,\u001b[49m\n\u001b[1;32m    498\u001b[0m \u001b[43m    \u001b[49m\u001b[43m)\u001b[49m\n\u001b[1;32m    500\u001b[0m \u001b[38;5;28;01mexcept\u001b[39;00m (ProtocolError, \u001b[38;5;167;01mOSError\u001b[39;00m) \u001b[38;5;28;01mas\u001b[39;00m err:\n",
      "File \u001b[0;32m~/miniconda3/envs/tensorflow/lib/python3.10/site-packages/urllib3/connectionpool.py:787\u001b[0m, in \u001b[0;36mHTTPConnectionPool.urlopen\u001b[0;34m(self, method, url, body, headers, retries, redirect, assert_same_host, timeout, pool_timeout, release_conn, chunked, body_pos, **response_kw)\u001b[0m\n\u001b[1;32m    785\u001b[0m     e \u001b[38;5;241m=\u001b[39m ProtocolError(\u001b[38;5;124m\"\u001b[39m\u001b[38;5;124mConnection aborted.\u001b[39m\u001b[38;5;124m\"\u001b[39m, e)\n\u001b[0;32m--> 787\u001b[0m retries \u001b[38;5;241m=\u001b[39m \u001b[43mretries\u001b[49m\u001b[38;5;241;43m.\u001b[39;49m\u001b[43mincrement\u001b[49m\u001b[43m(\u001b[49m\n\u001b[1;32m    788\u001b[0m \u001b[43m    \u001b[49m\u001b[43mmethod\u001b[49m\u001b[43m,\u001b[49m\u001b[43m \u001b[49m\u001b[43murl\u001b[49m\u001b[43m,\u001b[49m\u001b[43m \u001b[49m\u001b[43merror\u001b[49m\u001b[38;5;241;43m=\u001b[39;49m\u001b[43me\u001b[49m\u001b[43m,\u001b[49m\u001b[43m \u001b[49m\u001b[43m_pool\u001b[49m\u001b[38;5;241;43m=\u001b[39;49m\u001b[38;5;28;43mself\u001b[39;49m\u001b[43m,\u001b[49m\u001b[43m \u001b[49m\u001b[43m_stacktrace\u001b[49m\u001b[38;5;241;43m=\u001b[39;49m\u001b[43msys\u001b[49m\u001b[38;5;241;43m.\u001b[39;49m\u001b[43mexc_info\u001b[49m\u001b[43m(\u001b[49m\u001b[43m)\u001b[49m\u001b[43m[\u001b[49m\u001b[38;5;241;43m2\u001b[39;49m\u001b[43m]\u001b[49m\n\u001b[1;32m    789\u001b[0m \u001b[43m\u001b[49m\u001b[43m)\u001b[49m\n\u001b[1;32m    790\u001b[0m retries\u001b[38;5;241m.\u001b[39msleep()\n",
      "File \u001b[0;32m~/miniconda3/envs/tensorflow/lib/python3.10/site-packages/urllib3/util/retry.py:550\u001b[0m, in \u001b[0;36mRetry.increment\u001b[0;34m(self, method, url, response, error, _pool, _stacktrace)\u001b[0m\n\u001b[1;32m    549\u001b[0m \u001b[38;5;28;01mif\u001b[39;00m read \u001b[38;5;129;01mis\u001b[39;00m \u001b[38;5;28;01mFalse\u001b[39;00m \u001b[38;5;129;01mor\u001b[39;00m \u001b[38;5;129;01mnot\u001b[39;00m \u001b[38;5;28mself\u001b[39m\u001b[38;5;241m.\u001b[39m_is_method_retryable(method):\n\u001b[0;32m--> 550\u001b[0m     \u001b[38;5;28;01mraise\u001b[39;00m \u001b[43msix\u001b[49m\u001b[38;5;241;43m.\u001b[39;49m\u001b[43mreraise\u001b[49m\u001b[43m(\u001b[49m\u001b[38;5;28;43mtype\u001b[39;49m\u001b[43m(\u001b[49m\u001b[43merror\u001b[49m\u001b[43m)\u001b[49m\u001b[43m,\u001b[49m\u001b[43m \u001b[49m\u001b[43merror\u001b[49m\u001b[43m,\u001b[49m\u001b[43m \u001b[49m\u001b[43m_stacktrace\u001b[49m\u001b[43m)\u001b[49m\n\u001b[1;32m    551\u001b[0m \u001b[38;5;28;01melif\u001b[39;00m read \u001b[38;5;129;01mis\u001b[39;00m \u001b[38;5;129;01mnot\u001b[39;00m \u001b[38;5;28;01mNone\u001b[39;00m:\n",
      "File \u001b[0;32m~/miniconda3/envs/tensorflow/lib/python3.10/site-packages/urllib3/packages/six.py:769\u001b[0m, in \u001b[0;36mreraise\u001b[0;34m(tp, value, tb)\u001b[0m\n\u001b[1;32m    768\u001b[0m \u001b[38;5;28;01mif\u001b[39;00m value\u001b[38;5;241m.\u001b[39m__traceback__ \u001b[38;5;129;01mis\u001b[39;00m \u001b[38;5;129;01mnot\u001b[39;00m tb:\n\u001b[0;32m--> 769\u001b[0m     \u001b[38;5;28;01mraise\u001b[39;00m value\u001b[38;5;241m.\u001b[39mwith_traceback(tb)\n\u001b[1;32m    770\u001b[0m \u001b[38;5;28;01mraise\u001b[39;00m value\n",
      "File \u001b[0;32m~/miniconda3/envs/tensorflow/lib/python3.10/site-packages/urllib3/connectionpool.py:703\u001b[0m, in \u001b[0;36mHTTPConnectionPool.urlopen\u001b[0;34m(self, method, url, body, headers, retries, redirect, assert_same_host, timeout, pool_timeout, release_conn, chunked, body_pos, **response_kw)\u001b[0m\n\u001b[1;32m    702\u001b[0m \u001b[38;5;66;03m# Make the request on the httplib connection object.\u001b[39;00m\n\u001b[0;32m--> 703\u001b[0m httplib_response \u001b[38;5;241m=\u001b[39m \u001b[38;5;28;43mself\u001b[39;49m\u001b[38;5;241;43m.\u001b[39;49m\u001b[43m_make_request\u001b[49m\u001b[43m(\u001b[49m\n\u001b[1;32m    704\u001b[0m \u001b[43m    \u001b[49m\u001b[43mconn\u001b[49m\u001b[43m,\u001b[49m\n\u001b[1;32m    705\u001b[0m \u001b[43m    \u001b[49m\u001b[43mmethod\u001b[49m\u001b[43m,\u001b[49m\n\u001b[1;32m    706\u001b[0m \u001b[43m    \u001b[49m\u001b[43murl\u001b[49m\u001b[43m,\u001b[49m\n\u001b[1;32m    707\u001b[0m \u001b[43m    \u001b[49m\u001b[43mtimeout\u001b[49m\u001b[38;5;241;43m=\u001b[39;49m\u001b[43mtimeout_obj\u001b[49m\u001b[43m,\u001b[49m\n\u001b[1;32m    708\u001b[0m \u001b[43m    \u001b[49m\u001b[43mbody\u001b[49m\u001b[38;5;241;43m=\u001b[39;49m\u001b[43mbody\u001b[49m\u001b[43m,\u001b[49m\n\u001b[1;32m    709\u001b[0m \u001b[43m    \u001b[49m\u001b[43mheaders\u001b[49m\u001b[38;5;241;43m=\u001b[39;49m\u001b[43mheaders\u001b[49m\u001b[43m,\u001b[49m\n\u001b[1;32m    710\u001b[0m \u001b[43m    \u001b[49m\u001b[43mchunked\u001b[49m\u001b[38;5;241;43m=\u001b[39;49m\u001b[43mchunked\u001b[49m\u001b[43m,\u001b[49m\n\u001b[1;32m    711\u001b[0m \u001b[43m\u001b[49m\u001b[43m)\u001b[49m\n\u001b[1;32m    713\u001b[0m \u001b[38;5;66;03m# If we're going to release the connection in ``finally:``, then\u001b[39;00m\n\u001b[1;32m    714\u001b[0m \u001b[38;5;66;03m# the response doesn't need to know about the connection. Otherwise\u001b[39;00m\n\u001b[1;32m    715\u001b[0m \u001b[38;5;66;03m# it will also try to release it and we'll have a double-release\u001b[39;00m\n\u001b[1;32m    716\u001b[0m \u001b[38;5;66;03m# mess.\u001b[39;00m\n",
      "File \u001b[0;32m~/miniconda3/envs/tensorflow/lib/python3.10/site-packages/urllib3/connectionpool.py:449\u001b[0m, in \u001b[0;36mHTTPConnectionPool._make_request\u001b[0;34m(self, conn, method, url, timeout, chunked, **httplib_request_kw)\u001b[0m\n\u001b[1;32m    445\u001b[0m         \u001b[38;5;28;01mexcept\u001b[39;00m \u001b[38;5;167;01mBaseException\u001b[39;00m \u001b[38;5;28;01mas\u001b[39;00m e:\n\u001b[1;32m    446\u001b[0m             \u001b[38;5;66;03m# Remove the TypeError from the exception chain in\u001b[39;00m\n\u001b[1;32m    447\u001b[0m             \u001b[38;5;66;03m# Python 3 (including for exceptions like SystemExit).\u001b[39;00m\n\u001b[1;32m    448\u001b[0m             \u001b[38;5;66;03m# Otherwise it looks like a bug in the code.\u001b[39;00m\n\u001b[0;32m--> 449\u001b[0m             \u001b[43msix\u001b[49m\u001b[38;5;241;43m.\u001b[39;49m\u001b[43mraise_from\u001b[49m\u001b[43m(\u001b[49m\u001b[43me\u001b[49m\u001b[43m,\u001b[49m\u001b[43m \u001b[49m\u001b[38;5;28;43;01mNone\u001b[39;49;00m\u001b[43m)\u001b[49m\n\u001b[1;32m    450\u001b[0m \u001b[38;5;28;01mexcept\u001b[39;00m (SocketTimeout, BaseSSLError, SocketError) \u001b[38;5;28;01mas\u001b[39;00m e:\n",
      "File \u001b[0;32m<string>:3\u001b[0m, in \u001b[0;36mraise_from\u001b[0;34m(value, from_value)\u001b[0m\n",
      "File \u001b[0;32m~/miniconda3/envs/tensorflow/lib/python3.10/site-packages/urllib3/connectionpool.py:444\u001b[0m, in \u001b[0;36mHTTPConnectionPool._make_request\u001b[0;34m(self, conn, method, url, timeout, chunked, **httplib_request_kw)\u001b[0m\n\u001b[1;32m    443\u001b[0m \u001b[38;5;28;01mtry\u001b[39;00m:\n\u001b[0;32m--> 444\u001b[0m     httplib_response \u001b[38;5;241m=\u001b[39m \u001b[43mconn\u001b[49m\u001b[38;5;241;43m.\u001b[39;49m\u001b[43mgetresponse\u001b[49m\u001b[43m(\u001b[49m\u001b[43m)\u001b[49m\n\u001b[1;32m    445\u001b[0m \u001b[38;5;28;01mexcept\u001b[39;00m \u001b[38;5;167;01mBaseException\u001b[39;00m \u001b[38;5;28;01mas\u001b[39;00m e:\n\u001b[1;32m    446\u001b[0m     \u001b[38;5;66;03m# Remove the TypeError from the exception chain in\u001b[39;00m\n\u001b[1;32m    447\u001b[0m     \u001b[38;5;66;03m# Python 3 (including for exceptions like SystemExit).\u001b[39;00m\n\u001b[1;32m    448\u001b[0m     \u001b[38;5;66;03m# Otherwise it looks like a bug in the code.\u001b[39;00m\n",
      "File \u001b[0;32m~/miniconda3/envs/tensorflow/lib/python3.10/http/client.py:1375\u001b[0m, in \u001b[0;36mHTTPConnection.getresponse\u001b[0;34m(self)\u001b[0m\n\u001b[1;32m   1374\u001b[0m \u001b[38;5;28;01mtry\u001b[39;00m:\n\u001b[0;32m-> 1375\u001b[0m     \u001b[43mresponse\u001b[49m\u001b[38;5;241;43m.\u001b[39;49m\u001b[43mbegin\u001b[49m\u001b[43m(\u001b[49m\u001b[43m)\u001b[49m\n\u001b[1;32m   1376\u001b[0m \u001b[38;5;28;01mexcept\u001b[39;00m \u001b[38;5;167;01mConnectionError\u001b[39;00m:\n",
      "File \u001b[0;32m~/miniconda3/envs/tensorflow/lib/python3.10/http/client.py:318\u001b[0m, in \u001b[0;36mHTTPResponse.begin\u001b[0;34m(self)\u001b[0m\n\u001b[1;32m    317\u001b[0m \u001b[38;5;28;01mwhile\u001b[39;00m \u001b[38;5;28;01mTrue\u001b[39;00m:\n\u001b[0;32m--> 318\u001b[0m     version, status, reason \u001b[38;5;241m=\u001b[39m \u001b[38;5;28;43mself\u001b[39;49m\u001b[38;5;241;43m.\u001b[39;49m\u001b[43m_read_status\u001b[49m\u001b[43m(\u001b[49m\u001b[43m)\u001b[49m\n\u001b[1;32m    319\u001b[0m     \u001b[38;5;28;01mif\u001b[39;00m status \u001b[38;5;241m!=\u001b[39m CONTINUE:\n",
      "File \u001b[0;32m~/miniconda3/envs/tensorflow/lib/python3.10/http/client.py:287\u001b[0m, in \u001b[0;36mHTTPResponse._read_status\u001b[0;34m(self)\u001b[0m\n\u001b[1;32m    284\u001b[0m \u001b[38;5;28;01mif\u001b[39;00m \u001b[38;5;129;01mnot\u001b[39;00m line:\n\u001b[1;32m    285\u001b[0m     \u001b[38;5;66;03m# Presumably, the server closed the connection before\u001b[39;00m\n\u001b[1;32m    286\u001b[0m     \u001b[38;5;66;03m# sending a valid response.\u001b[39;00m\n\u001b[0;32m--> 287\u001b[0m     \u001b[38;5;28;01mraise\u001b[39;00m RemoteDisconnected(\u001b[38;5;124m\"\u001b[39m\u001b[38;5;124mRemote end closed connection without\u001b[39m\u001b[38;5;124m\"\u001b[39m\n\u001b[1;32m    288\u001b[0m                              \u001b[38;5;124m\"\u001b[39m\u001b[38;5;124m response\u001b[39m\u001b[38;5;124m\"\u001b[39m)\n\u001b[1;32m    289\u001b[0m \u001b[38;5;28;01mtry\u001b[39;00m:\n",
      "\u001b[0;31mProtocolError\u001b[0m: ('Connection aborted.', RemoteDisconnected('Remote end closed connection without response'))",
      "\nDuring handling of the above exception, another exception occurred:\n",
      "\u001b[0;31mConnectionError\u001b[0m                           Traceback (most recent call last)",
      "Cell \u001b[0;32mIn[63], line 16\u001b[0m\n\u001b[1;32m     12\u001b[0m     generation \u001b[38;5;241m=\u001b[39m llm_chain\u001b[38;5;241m.\u001b[39mrun(review)\n\u001b[1;32m     14\u001b[0m     \u001b[38;5;28;01mreturn\u001b[39;00m generation\n\u001b[0;32m---> 16\u001b[0m \u001b[43mgenerate_review\u001b[49m\u001b[43m(\u001b[49m\u001b[43mdf\u001b[49m\u001b[43m[\u001b[49m\u001b[38;5;124;43m'\u001b[39;49m\u001b[38;5;124;43mtext\u001b[39;49m\u001b[38;5;124;43m'\u001b[39;49m\u001b[43m]\u001b[49m\u001b[43m[\u001b[49m\u001b[38;5;241;43m0\u001b[39;49m\u001b[43m]\u001b[49m\u001b[43m)\u001b[49m\n",
      "Cell \u001b[0;32mIn[63], line 12\u001b[0m, in \u001b[0;36mgenerate_review\u001b[0;34m(review)\u001b[0m\n\u001b[1;32m      6\u001b[0m prompt \u001b[38;5;241m=\u001b[39m PromptTemplate(template\u001b[38;5;241m=\u001b[39mtemplate, input_variables\u001b[38;5;241m=\u001b[39m[\u001b[38;5;124m\"\u001b[39m\u001b[38;5;124mreview\u001b[39m\u001b[38;5;124m\"\u001b[39m])\n\u001b[1;32m      8\u001b[0m llm_chain \u001b[38;5;241m=\u001b[39m LLMChain(prompt\u001b[38;5;241m=\u001b[39mprompt, \n\u001b[1;32m      9\u001b[0m                     llm\u001b[38;5;241m=\u001b[39mHuggingFaceHub(repo_id\u001b[38;5;241m=\u001b[39m\u001b[38;5;124m\"\u001b[39m\u001b[38;5;124mgoogle/flan-t5-xl\u001b[39m\u001b[38;5;124m\"\u001b[39m,\n\u001b[1;32m     10\u001b[0m                                        model_kwargs\u001b[38;5;241m=\u001b[39m{\u001b[38;5;124m\"\u001b[39m\u001b[38;5;124mtemperature\u001b[39m\u001b[38;5;124m\"\u001b[39m:\u001b[38;5;241m0.25\u001b[39m}))\n\u001b[0;32m---> 12\u001b[0m generation \u001b[38;5;241m=\u001b[39m \u001b[43mllm_chain\u001b[49m\u001b[38;5;241;43m.\u001b[39;49m\u001b[43mrun\u001b[49m\u001b[43m(\u001b[49m\u001b[43mreview\u001b[49m\u001b[43m)\u001b[49m\n\u001b[1;32m     14\u001b[0m \u001b[38;5;28;01mreturn\u001b[39;00m generation\n",
      "File \u001b[0;32m~/miniconda3/envs/tensorflow/lib/python3.10/site-packages/langchain_core/_api/deprecation.py:145\u001b[0m, in \u001b[0;36mdeprecated.<locals>.deprecate.<locals>.warning_emitting_wrapper\u001b[0;34m(*args, **kwargs)\u001b[0m\n\u001b[1;32m    143\u001b[0m     warned \u001b[38;5;241m=\u001b[39m \u001b[38;5;28;01mTrue\u001b[39;00m\n\u001b[1;32m    144\u001b[0m     emit_warning()\n\u001b[0;32m--> 145\u001b[0m \u001b[38;5;28;01mreturn\u001b[39;00m \u001b[43mwrapped\u001b[49m\u001b[43m(\u001b[49m\u001b[38;5;241;43m*\u001b[39;49m\u001b[43margs\u001b[49m\u001b[43m,\u001b[49m\u001b[43m \u001b[49m\u001b[38;5;241;43m*\u001b[39;49m\u001b[38;5;241;43m*\u001b[39;49m\u001b[43mkwargs\u001b[49m\u001b[43m)\u001b[49m\n",
      "File \u001b[0;32m~/miniconda3/envs/tensorflow/lib/python3.10/site-packages/langchain/chains/base.py:538\u001b[0m, in \u001b[0;36mChain.run\u001b[0;34m(self, callbacks, tags, metadata, *args, **kwargs)\u001b[0m\n\u001b[1;32m    536\u001b[0m     \u001b[38;5;28;01mif\u001b[39;00m \u001b[38;5;28mlen\u001b[39m(args) \u001b[38;5;241m!=\u001b[39m \u001b[38;5;241m1\u001b[39m:\n\u001b[1;32m    537\u001b[0m         \u001b[38;5;28;01mraise\u001b[39;00m \u001b[38;5;167;01mValueError\u001b[39;00m(\u001b[38;5;124m\"\u001b[39m\u001b[38;5;124m`run` supports only one positional argument.\u001b[39m\u001b[38;5;124m\"\u001b[39m)\n\u001b[0;32m--> 538\u001b[0m     \u001b[38;5;28;01mreturn\u001b[39;00m \u001b[38;5;28;43mself\u001b[39;49m\u001b[43m(\u001b[49m\u001b[43margs\u001b[49m\u001b[43m[\u001b[49m\u001b[38;5;241;43m0\u001b[39;49m\u001b[43m]\u001b[49m\u001b[43m,\u001b[49m\u001b[43m \u001b[49m\u001b[43mcallbacks\u001b[49m\u001b[38;5;241;43m=\u001b[39;49m\u001b[43mcallbacks\u001b[49m\u001b[43m,\u001b[49m\u001b[43m \u001b[49m\u001b[43mtags\u001b[49m\u001b[38;5;241;43m=\u001b[39;49m\u001b[43mtags\u001b[49m\u001b[43m,\u001b[49m\u001b[43m \u001b[49m\u001b[43mmetadata\u001b[49m\u001b[38;5;241;43m=\u001b[39;49m\u001b[43mmetadata\u001b[49m\u001b[43m)\u001b[49m[\n\u001b[1;32m    539\u001b[0m         _output_key\n\u001b[1;32m    540\u001b[0m     ]\n\u001b[1;32m    542\u001b[0m \u001b[38;5;28;01mif\u001b[39;00m kwargs \u001b[38;5;129;01mand\u001b[39;00m \u001b[38;5;129;01mnot\u001b[39;00m args:\n\u001b[1;32m    543\u001b[0m     \u001b[38;5;28;01mreturn\u001b[39;00m \u001b[38;5;28mself\u001b[39m(kwargs, callbacks\u001b[38;5;241m=\u001b[39mcallbacks, tags\u001b[38;5;241m=\u001b[39mtags, metadata\u001b[38;5;241m=\u001b[39mmetadata)[\n\u001b[1;32m    544\u001b[0m         _output_key\n\u001b[1;32m    545\u001b[0m     ]\n",
      "File \u001b[0;32m~/miniconda3/envs/tensorflow/lib/python3.10/site-packages/langchain_core/_api/deprecation.py:145\u001b[0m, in \u001b[0;36mdeprecated.<locals>.deprecate.<locals>.warning_emitting_wrapper\u001b[0;34m(*args, **kwargs)\u001b[0m\n\u001b[1;32m    143\u001b[0m     warned \u001b[38;5;241m=\u001b[39m \u001b[38;5;28;01mTrue\u001b[39;00m\n\u001b[1;32m    144\u001b[0m     emit_warning()\n\u001b[0;32m--> 145\u001b[0m \u001b[38;5;28;01mreturn\u001b[39;00m \u001b[43mwrapped\u001b[49m\u001b[43m(\u001b[49m\u001b[38;5;241;43m*\u001b[39;49m\u001b[43margs\u001b[49m\u001b[43m,\u001b[49m\u001b[43m \u001b[49m\u001b[38;5;241;43m*\u001b[39;49m\u001b[38;5;241;43m*\u001b[39;49m\u001b[43mkwargs\u001b[49m\u001b[43m)\u001b[49m\n",
      "File \u001b[0;32m~/miniconda3/envs/tensorflow/lib/python3.10/site-packages/langchain/chains/base.py:363\u001b[0m, in \u001b[0;36mChain.__call__\u001b[0;34m(self, inputs, return_only_outputs, callbacks, tags, metadata, run_name, include_run_info)\u001b[0m\n\u001b[1;32m    331\u001b[0m \u001b[38;5;250m\u001b[39m\u001b[38;5;124;03m\"\"\"Execute the chain.\u001b[39;00m\n\u001b[1;32m    332\u001b[0m \n\u001b[1;32m    333\u001b[0m \u001b[38;5;124;03mArgs:\u001b[39;00m\n\u001b[0;32m   (...)\u001b[0m\n\u001b[1;32m    354\u001b[0m \u001b[38;5;124;03m        `Chain.output_keys`.\u001b[39;00m\n\u001b[1;32m    355\u001b[0m \u001b[38;5;124;03m\"\"\"\u001b[39;00m\n\u001b[1;32m    356\u001b[0m config \u001b[38;5;241m=\u001b[39m {\n\u001b[1;32m    357\u001b[0m     \u001b[38;5;124m\"\u001b[39m\u001b[38;5;124mcallbacks\u001b[39m\u001b[38;5;124m\"\u001b[39m: callbacks,\n\u001b[1;32m    358\u001b[0m     \u001b[38;5;124m\"\u001b[39m\u001b[38;5;124mtags\u001b[39m\u001b[38;5;124m\"\u001b[39m: tags,\n\u001b[1;32m    359\u001b[0m     \u001b[38;5;124m\"\u001b[39m\u001b[38;5;124mmetadata\u001b[39m\u001b[38;5;124m\"\u001b[39m: metadata,\n\u001b[1;32m    360\u001b[0m     \u001b[38;5;124m\"\u001b[39m\u001b[38;5;124mrun_name\u001b[39m\u001b[38;5;124m\"\u001b[39m: run_name,\n\u001b[1;32m    361\u001b[0m }\n\u001b[0;32m--> 363\u001b[0m \u001b[38;5;28;01mreturn\u001b[39;00m \u001b[38;5;28;43mself\u001b[39;49m\u001b[38;5;241;43m.\u001b[39;49m\u001b[43minvoke\u001b[49m\u001b[43m(\u001b[49m\n\u001b[1;32m    364\u001b[0m \u001b[43m    \u001b[49m\u001b[43minputs\u001b[49m\u001b[43m,\u001b[49m\n\u001b[1;32m    365\u001b[0m \u001b[43m    \u001b[49m\u001b[43mcast\u001b[49m\u001b[43m(\u001b[49m\u001b[43mRunnableConfig\u001b[49m\u001b[43m,\u001b[49m\u001b[43m \u001b[49m\u001b[43m{\u001b[49m\u001b[43mk\u001b[49m\u001b[43m:\u001b[49m\u001b[43m \u001b[49m\u001b[43mv\u001b[49m\u001b[43m \u001b[49m\u001b[38;5;28;43;01mfor\u001b[39;49;00m\u001b[43m \u001b[49m\u001b[43mk\u001b[49m\u001b[43m,\u001b[49m\u001b[43m \u001b[49m\u001b[43mv\u001b[49m\u001b[43m \u001b[49m\u001b[38;5;129;43;01min\u001b[39;49;00m\u001b[43m \u001b[49m\u001b[43mconfig\u001b[49m\u001b[38;5;241;43m.\u001b[39;49m\u001b[43mitems\u001b[49m\u001b[43m(\u001b[49m\u001b[43m)\u001b[49m\u001b[43m \u001b[49m\u001b[38;5;28;43;01mif\u001b[39;49;00m\u001b[43m \u001b[49m\u001b[43mv\u001b[49m\u001b[43m \u001b[49m\u001b[38;5;129;43;01mis\u001b[39;49;00m\u001b[43m \u001b[49m\u001b[38;5;129;43;01mnot\u001b[39;49;00m\u001b[43m \u001b[49m\u001b[38;5;28;43;01mNone\u001b[39;49;00m\u001b[43m}\u001b[49m\u001b[43m)\u001b[49m\u001b[43m,\u001b[49m\n\u001b[1;32m    366\u001b[0m \u001b[43m    \u001b[49m\u001b[43mreturn_only_outputs\u001b[49m\u001b[38;5;241;43m=\u001b[39;49m\u001b[43mreturn_only_outputs\u001b[49m\u001b[43m,\u001b[49m\n\u001b[1;32m    367\u001b[0m \u001b[43m    \u001b[49m\u001b[43minclude_run_info\u001b[49m\u001b[38;5;241;43m=\u001b[39;49m\u001b[43minclude_run_info\u001b[49m\u001b[43m,\u001b[49m\n\u001b[1;32m    368\u001b[0m \u001b[43m\u001b[49m\u001b[43m)\u001b[49m\n",
      "File \u001b[0;32m~/miniconda3/envs/tensorflow/lib/python3.10/site-packages/langchain/chains/base.py:162\u001b[0m, in \u001b[0;36mChain.invoke\u001b[0;34m(self, input, config, **kwargs)\u001b[0m\n\u001b[1;32m    160\u001b[0m \u001b[38;5;28;01mexcept\u001b[39;00m \u001b[38;5;167;01mBaseException\u001b[39;00m \u001b[38;5;28;01mas\u001b[39;00m e:\n\u001b[1;32m    161\u001b[0m     run_manager\u001b[38;5;241m.\u001b[39mon_chain_error(e)\n\u001b[0;32m--> 162\u001b[0m     \u001b[38;5;28;01mraise\u001b[39;00m e\n\u001b[1;32m    163\u001b[0m run_manager\u001b[38;5;241m.\u001b[39mon_chain_end(outputs)\n\u001b[1;32m    164\u001b[0m final_outputs: Dict[\u001b[38;5;28mstr\u001b[39m, Any] \u001b[38;5;241m=\u001b[39m \u001b[38;5;28mself\u001b[39m\u001b[38;5;241m.\u001b[39mprep_outputs(\n\u001b[1;32m    165\u001b[0m     inputs, outputs, return_only_outputs\n\u001b[1;32m    166\u001b[0m )\n",
      "File \u001b[0;32m~/miniconda3/envs/tensorflow/lib/python3.10/site-packages/langchain/chains/base.py:156\u001b[0m, in \u001b[0;36mChain.invoke\u001b[0;34m(self, input, config, **kwargs)\u001b[0m\n\u001b[1;32m    149\u001b[0m run_manager \u001b[38;5;241m=\u001b[39m callback_manager\u001b[38;5;241m.\u001b[39mon_chain_start(\n\u001b[1;32m    150\u001b[0m     dumpd(\u001b[38;5;28mself\u001b[39m),\n\u001b[1;32m    151\u001b[0m     inputs,\n\u001b[1;32m    152\u001b[0m     name\u001b[38;5;241m=\u001b[39mrun_name,\n\u001b[1;32m    153\u001b[0m )\n\u001b[1;32m    154\u001b[0m \u001b[38;5;28;01mtry\u001b[39;00m:\n\u001b[1;32m    155\u001b[0m     outputs \u001b[38;5;241m=\u001b[39m (\n\u001b[0;32m--> 156\u001b[0m         \u001b[38;5;28;43mself\u001b[39;49m\u001b[38;5;241;43m.\u001b[39;49m\u001b[43m_call\u001b[49m\u001b[43m(\u001b[49m\u001b[43minputs\u001b[49m\u001b[43m,\u001b[49m\u001b[43m \u001b[49m\u001b[43mrun_manager\u001b[49m\u001b[38;5;241;43m=\u001b[39;49m\u001b[43mrun_manager\u001b[49m\u001b[43m)\u001b[49m\n\u001b[1;32m    157\u001b[0m         \u001b[38;5;28;01mif\u001b[39;00m new_arg_supported\n\u001b[1;32m    158\u001b[0m         \u001b[38;5;28;01melse\u001b[39;00m \u001b[38;5;28mself\u001b[39m\u001b[38;5;241m.\u001b[39m_call(inputs)\n\u001b[1;32m    159\u001b[0m     )\n\u001b[1;32m    160\u001b[0m \u001b[38;5;28;01mexcept\u001b[39;00m \u001b[38;5;167;01mBaseException\u001b[39;00m \u001b[38;5;28;01mas\u001b[39;00m e:\n\u001b[1;32m    161\u001b[0m     run_manager\u001b[38;5;241m.\u001b[39mon_chain_error(e)\n",
      "File \u001b[0;32m~/miniconda3/envs/tensorflow/lib/python3.10/site-packages/langchain/chains/llm.py:103\u001b[0m, in \u001b[0;36mLLMChain._call\u001b[0;34m(self, inputs, run_manager)\u001b[0m\n\u001b[1;32m     98\u001b[0m \u001b[38;5;28;01mdef\u001b[39;00m \u001b[38;5;21m_call\u001b[39m(\n\u001b[1;32m     99\u001b[0m     \u001b[38;5;28mself\u001b[39m,\n\u001b[1;32m    100\u001b[0m     inputs: Dict[\u001b[38;5;28mstr\u001b[39m, Any],\n\u001b[1;32m    101\u001b[0m     run_manager: Optional[CallbackManagerForChainRun] \u001b[38;5;241m=\u001b[39m \u001b[38;5;28;01mNone\u001b[39;00m,\n\u001b[1;32m    102\u001b[0m ) \u001b[38;5;241m-\u001b[39m\u001b[38;5;241m>\u001b[39m Dict[\u001b[38;5;28mstr\u001b[39m, \u001b[38;5;28mstr\u001b[39m]:\n\u001b[0;32m--> 103\u001b[0m     response \u001b[38;5;241m=\u001b[39m \u001b[38;5;28;43mself\u001b[39;49m\u001b[38;5;241;43m.\u001b[39;49m\u001b[43mgenerate\u001b[49m\u001b[43m(\u001b[49m\u001b[43m[\u001b[49m\u001b[43minputs\u001b[49m\u001b[43m]\u001b[49m\u001b[43m,\u001b[49m\u001b[43m \u001b[49m\u001b[43mrun_manager\u001b[49m\u001b[38;5;241;43m=\u001b[39;49m\u001b[43mrun_manager\u001b[49m\u001b[43m)\u001b[49m\n\u001b[1;32m    104\u001b[0m     \u001b[38;5;28;01mreturn\u001b[39;00m \u001b[38;5;28mself\u001b[39m\u001b[38;5;241m.\u001b[39mcreate_outputs(response)[\u001b[38;5;241m0\u001b[39m]\n",
      "File \u001b[0;32m~/miniconda3/envs/tensorflow/lib/python3.10/site-packages/langchain/chains/llm.py:115\u001b[0m, in \u001b[0;36mLLMChain.generate\u001b[0;34m(self, input_list, run_manager)\u001b[0m\n\u001b[1;32m    113\u001b[0m callbacks \u001b[38;5;241m=\u001b[39m run_manager\u001b[38;5;241m.\u001b[39mget_child() \u001b[38;5;28;01mif\u001b[39;00m run_manager \u001b[38;5;28;01melse\u001b[39;00m \u001b[38;5;28;01mNone\u001b[39;00m\n\u001b[1;32m    114\u001b[0m \u001b[38;5;28;01mif\u001b[39;00m \u001b[38;5;28misinstance\u001b[39m(\u001b[38;5;28mself\u001b[39m\u001b[38;5;241m.\u001b[39mllm, BaseLanguageModel):\n\u001b[0;32m--> 115\u001b[0m     \u001b[38;5;28;01mreturn\u001b[39;00m \u001b[38;5;28;43mself\u001b[39;49m\u001b[38;5;241;43m.\u001b[39;49m\u001b[43mllm\u001b[49m\u001b[38;5;241;43m.\u001b[39;49m\u001b[43mgenerate_prompt\u001b[49m\u001b[43m(\u001b[49m\n\u001b[1;32m    116\u001b[0m \u001b[43m        \u001b[49m\u001b[43mprompts\u001b[49m\u001b[43m,\u001b[49m\n\u001b[1;32m    117\u001b[0m \u001b[43m        \u001b[49m\u001b[43mstop\u001b[49m\u001b[43m,\u001b[49m\n\u001b[1;32m    118\u001b[0m \u001b[43m        \u001b[49m\u001b[43mcallbacks\u001b[49m\u001b[38;5;241;43m=\u001b[39;49m\u001b[43mcallbacks\u001b[49m\u001b[43m,\u001b[49m\n\u001b[1;32m    119\u001b[0m \u001b[43m        \u001b[49m\u001b[38;5;241;43m*\u001b[39;49m\u001b[38;5;241;43m*\u001b[39;49m\u001b[38;5;28;43mself\u001b[39;49m\u001b[38;5;241;43m.\u001b[39;49m\u001b[43mllm_kwargs\u001b[49m\u001b[43m,\u001b[49m\n\u001b[1;32m    120\u001b[0m \u001b[43m    \u001b[49m\u001b[43m)\u001b[49m\n\u001b[1;32m    121\u001b[0m \u001b[38;5;28;01melse\u001b[39;00m:\n\u001b[1;32m    122\u001b[0m     results \u001b[38;5;241m=\u001b[39m \u001b[38;5;28mself\u001b[39m\u001b[38;5;241m.\u001b[39mllm\u001b[38;5;241m.\u001b[39mbind(stop\u001b[38;5;241m=\u001b[39mstop, \u001b[38;5;241m*\u001b[39m\u001b[38;5;241m*\u001b[39m\u001b[38;5;28mself\u001b[39m\u001b[38;5;241m.\u001b[39mllm_kwargs)\u001b[38;5;241m.\u001b[39mbatch(\n\u001b[1;32m    123\u001b[0m         cast(List, prompts), {\u001b[38;5;124m\"\u001b[39m\u001b[38;5;124mcallbacks\u001b[39m\u001b[38;5;124m\"\u001b[39m: callbacks}\n\u001b[1;32m    124\u001b[0m     )\n",
      "File \u001b[0;32m~/miniconda3/envs/tensorflow/lib/python3.10/site-packages/langchain_core/language_models/llms.py:525\u001b[0m, in \u001b[0;36mBaseLLM.generate_prompt\u001b[0;34m(self, prompts, stop, callbacks, **kwargs)\u001b[0m\n\u001b[1;32m    517\u001b[0m \u001b[38;5;28;01mdef\u001b[39;00m \u001b[38;5;21mgenerate_prompt\u001b[39m(\n\u001b[1;32m    518\u001b[0m     \u001b[38;5;28mself\u001b[39m,\n\u001b[1;32m    519\u001b[0m     prompts: List[PromptValue],\n\u001b[0;32m   (...)\u001b[0m\n\u001b[1;32m    522\u001b[0m     \u001b[38;5;241m*\u001b[39m\u001b[38;5;241m*\u001b[39mkwargs: Any,\n\u001b[1;32m    523\u001b[0m ) \u001b[38;5;241m-\u001b[39m\u001b[38;5;241m>\u001b[39m LLMResult:\n\u001b[1;32m    524\u001b[0m     prompt_strings \u001b[38;5;241m=\u001b[39m [p\u001b[38;5;241m.\u001b[39mto_string() \u001b[38;5;28;01mfor\u001b[39;00m p \u001b[38;5;129;01min\u001b[39;00m prompts]\n\u001b[0;32m--> 525\u001b[0m     \u001b[38;5;28;01mreturn\u001b[39;00m \u001b[38;5;28;43mself\u001b[39;49m\u001b[38;5;241;43m.\u001b[39;49m\u001b[43mgenerate\u001b[49m\u001b[43m(\u001b[49m\u001b[43mprompt_strings\u001b[49m\u001b[43m,\u001b[49m\u001b[43m \u001b[49m\u001b[43mstop\u001b[49m\u001b[38;5;241;43m=\u001b[39;49m\u001b[43mstop\u001b[49m\u001b[43m,\u001b[49m\u001b[43m \u001b[49m\u001b[43mcallbacks\u001b[49m\u001b[38;5;241;43m=\u001b[39;49m\u001b[43mcallbacks\u001b[49m\u001b[43m,\u001b[49m\u001b[43m \u001b[49m\u001b[38;5;241;43m*\u001b[39;49m\u001b[38;5;241;43m*\u001b[39;49m\u001b[43mkwargs\u001b[49m\u001b[43m)\u001b[49m\n",
      "File \u001b[0;32m~/miniconda3/envs/tensorflow/lib/python3.10/site-packages/langchain_core/language_models/llms.py:698\u001b[0m, in \u001b[0;36mBaseLLM.generate\u001b[0;34m(self, prompts, stop, callbacks, tags, metadata, run_name, **kwargs)\u001b[0m\n\u001b[1;32m    682\u001b[0m         \u001b[38;5;28;01mraise\u001b[39;00m \u001b[38;5;167;01mValueError\u001b[39;00m(\n\u001b[1;32m    683\u001b[0m             \u001b[38;5;124m\"\u001b[39m\u001b[38;5;124mAsked to cache, but no cache found at `langchain.cache`.\u001b[39m\u001b[38;5;124m\"\u001b[39m\n\u001b[1;32m    684\u001b[0m         )\n\u001b[1;32m    685\u001b[0m     run_managers \u001b[38;5;241m=\u001b[39m [\n\u001b[1;32m    686\u001b[0m         callback_manager\u001b[38;5;241m.\u001b[39mon_llm_start(\n\u001b[1;32m    687\u001b[0m             dumpd(\u001b[38;5;28mself\u001b[39m),\n\u001b[0;32m   (...)\u001b[0m\n\u001b[1;32m    696\u001b[0m         )\n\u001b[1;32m    697\u001b[0m     ]\n\u001b[0;32m--> 698\u001b[0m     output \u001b[38;5;241m=\u001b[39m \u001b[38;5;28;43mself\u001b[39;49m\u001b[38;5;241;43m.\u001b[39;49m\u001b[43m_generate_helper\u001b[49m\u001b[43m(\u001b[49m\n\u001b[1;32m    699\u001b[0m \u001b[43m        \u001b[49m\u001b[43mprompts\u001b[49m\u001b[43m,\u001b[49m\u001b[43m \u001b[49m\u001b[43mstop\u001b[49m\u001b[43m,\u001b[49m\u001b[43m \u001b[49m\u001b[43mrun_managers\u001b[49m\u001b[43m,\u001b[49m\u001b[43m \u001b[49m\u001b[38;5;28;43mbool\u001b[39;49m\u001b[43m(\u001b[49m\u001b[43mnew_arg_supported\u001b[49m\u001b[43m)\u001b[49m\u001b[43m,\u001b[49m\u001b[43m \u001b[49m\u001b[38;5;241;43m*\u001b[39;49m\u001b[38;5;241;43m*\u001b[39;49m\u001b[43mkwargs\u001b[49m\n\u001b[1;32m    700\u001b[0m \u001b[43m    \u001b[49m\u001b[43m)\u001b[49m\n\u001b[1;32m    701\u001b[0m     \u001b[38;5;28;01mreturn\u001b[39;00m output\n\u001b[1;32m    702\u001b[0m \u001b[38;5;28;01mif\u001b[39;00m \u001b[38;5;28mlen\u001b[39m(missing_prompts) \u001b[38;5;241m>\u001b[39m \u001b[38;5;241m0\u001b[39m:\n",
      "File \u001b[0;32m~/miniconda3/envs/tensorflow/lib/python3.10/site-packages/langchain_core/language_models/llms.py:562\u001b[0m, in \u001b[0;36mBaseLLM._generate_helper\u001b[0;34m(self, prompts, stop, run_managers, new_arg_supported, **kwargs)\u001b[0m\n\u001b[1;32m    560\u001b[0m     \u001b[38;5;28;01mfor\u001b[39;00m run_manager \u001b[38;5;129;01min\u001b[39;00m run_managers:\n\u001b[1;32m    561\u001b[0m         run_manager\u001b[38;5;241m.\u001b[39mon_llm_error(e, response\u001b[38;5;241m=\u001b[39mLLMResult(generations\u001b[38;5;241m=\u001b[39m[]))\n\u001b[0;32m--> 562\u001b[0m     \u001b[38;5;28;01mraise\u001b[39;00m e\n\u001b[1;32m    563\u001b[0m flattened_outputs \u001b[38;5;241m=\u001b[39m output\u001b[38;5;241m.\u001b[39mflatten()\n\u001b[1;32m    564\u001b[0m \u001b[38;5;28;01mfor\u001b[39;00m manager, flattened_output \u001b[38;5;129;01min\u001b[39;00m \u001b[38;5;28mzip\u001b[39m(run_managers, flattened_outputs):\n",
      "File \u001b[0;32m~/miniconda3/envs/tensorflow/lib/python3.10/site-packages/langchain_core/language_models/llms.py:549\u001b[0m, in \u001b[0;36mBaseLLM._generate_helper\u001b[0;34m(self, prompts, stop, run_managers, new_arg_supported, **kwargs)\u001b[0m\n\u001b[1;32m    539\u001b[0m \u001b[38;5;28;01mdef\u001b[39;00m \u001b[38;5;21m_generate_helper\u001b[39m(\n\u001b[1;32m    540\u001b[0m     \u001b[38;5;28mself\u001b[39m,\n\u001b[1;32m    541\u001b[0m     prompts: List[\u001b[38;5;28mstr\u001b[39m],\n\u001b[0;32m   (...)\u001b[0m\n\u001b[1;32m    545\u001b[0m     \u001b[38;5;241m*\u001b[39m\u001b[38;5;241m*\u001b[39mkwargs: Any,\n\u001b[1;32m    546\u001b[0m ) \u001b[38;5;241m-\u001b[39m\u001b[38;5;241m>\u001b[39m LLMResult:\n\u001b[1;32m    547\u001b[0m     \u001b[38;5;28;01mtry\u001b[39;00m:\n\u001b[1;32m    548\u001b[0m         output \u001b[38;5;241m=\u001b[39m (\n\u001b[0;32m--> 549\u001b[0m             \u001b[38;5;28;43mself\u001b[39;49m\u001b[38;5;241;43m.\u001b[39;49m\u001b[43m_generate\u001b[49m\u001b[43m(\u001b[49m\n\u001b[1;32m    550\u001b[0m \u001b[43m                \u001b[49m\u001b[43mprompts\u001b[49m\u001b[43m,\u001b[49m\n\u001b[1;32m    551\u001b[0m \u001b[43m                \u001b[49m\u001b[43mstop\u001b[49m\u001b[38;5;241;43m=\u001b[39;49m\u001b[43mstop\u001b[49m\u001b[43m,\u001b[49m\n\u001b[1;32m    552\u001b[0m \u001b[43m                \u001b[49m\u001b[38;5;66;43;03m# TODO: support multiple run managers\u001b[39;49;00m\n\u001b[1;32m    553\u001b[0m \u001b[43m                \u001b[49m\u001b[43mrun_manager\u001b[49m\u001b[38;5;241;43m=\u001b[39;49m\u001b[43mrun_managers\u001b[49m\u001b[43m[\u001b[49m\u001b[38;5;241;43m0\u001b[39;49m\u001b[43m]\u001b[49m\u001b[43m \u001b[49m\u001b[38;5;28;43;01mif\u001b[39;49;00m\u001b[43m \u001b[49m\u001b[43mrun_managers\u001b[49m\u001b[43m \u001b[49m\u001b[38;5;28;43;01melse\u001b[39;49;00m\u001b[43m \u001b[49m\u001b[38;5;28;43;01mNone\u001b[39;49;00m\u001b[43m,\u001b[49m\n\u001b[1;32m    554\u001b[0m \u001b[43m                \u001b[49m\u001b[38;5;241;43m*\u001b[39;49m\u001b[38;5;241;43m*\u001b[39;49m\u001b[43mkwargs\u001b[49m\u001b[43m,\u001b[49m\n\u001b[1;32m    555\u001b[0m \u001b[43m            \u001b[49m\u001b[43m)\u001b[49m\n\u001b[1;32m    556\u001b[0m             \u001b[38;5;28;01mif\u001b[39;00m new_arg_supported\n\u001b[1;32m    557\u001b[0m             \u001b[38;5;28;01melse\u001b[39;00m \u001b[38;5;28mself\u001b[39m\u001b[38;5;241m.\u001b[39m_generate(prompts, stop\u001b[38;5;241m=\u001b[39mstop)\n\u001b[1;32m    558\u001b[0m         )\n\u001b[1;32m    559\u001b[0m     \u001b[38;5;28;01mexcept\u001b[39;00m \u001b[38;5;167;01mBaseException\u001b[39;00m \u001b[38;5;28;01mas\u001b[39;00m e:\n\u001b[1;32m    560\u001b[0m         \u001b[38;5;28;01mfor\u001b[39;00m run_manager \u001b[38;5;129;01min\u001b[39;00m run_managers:\n",
      "File \u001b[0;32m~/miniconda3/envs/tensorflow/lib/python3.10/site-packages/langchain_core/language_models/llms.py:1134\u001b[0m, in \u001b[0;36mLLM._generate\u001b[0;34m(self, prompts, stop, run_manager, **kwargs)\u001b[0m\n\u001b[1;32m   1131\u001b[0m new_arg_supported \u001b[38;5;241m=\u001b[39m inspect\u001b[38;5;241m.\u001b[39msignature(\u001b[38;5;28mself\u001b[39m\u001b[38;5;241m.\u001b[39m_call)\u001b[38;5;241m.\u001b[39mparameters\u001b[38;5;241m.\u001b[39mget(\u001b[38;5;124m\"\u001b[39m\u001b[38;5;124mrun_manager\u001b[39m\u001b[38;5;124m\"\u001b[39m)\n\u001b[1;32m   1132\u001b[0m \u001b[38;5;28;01mfor\u001b[39;00m prompt \u001b[38;5;129;01min\u001b[39;00m prompts:\n\u001b[1;32m   1133\u001b[0m     text \u001b[38;5;241m=\u001b[39m (\n\u001b[0;32m-> 1134\u001b[0m         \u001b[38;5;28;43mself\u001b[39;49m\u001b[38;5;241;43m.\u001b[39;49m\u001b[43m_call\u001b[49m\u001b[43m(\u001b[49m\u001b[43mprompt\u001b[49m\u001b[43m,\u001b[49m\u001b[43m \u001b[49m\u001b[43mstop\u001b[49m\u001b[38;5;241;43m=\u001b[39;49m\u001b[43mstop\u001b[49m\u001b[43m,\u001b[49m\u001b[43m \u001b[49m\u001b[43mrun_manager\u001b[49m\u001b[38;5;241;43m=\u001b[39;49m\u001b[43mrun_manager\u001b[49m\u001b[43m,\u001b[49m\u001b[43m \u001b[49m\u001b[38;5;241;43m*\u001b[39;49m\u001b[38;5;241;43m*\u001b[39;49m\u001b[43mkwargs\u001b[49m\u001b[43m)\u001b[49m\n\u001b[1;32m   1135\u001b[0m         \u001b[38;5;28;01mif\u001b[39;00m new_arg_supported\n\u001b[1;32m   1136\u001b[0m         \u001b[38;5;28;01melse\u001b[39;00m \u001b[38;5;28mself\u001b[39m\u001b[38;5;241m.\u001b[39m_call(prompt, stop\u001b[38;5;241m=\u001b[39mstop, \u001b[38;5;241m*\u001b[39m\u001b[38;5;241m*\u001b[39mkwargs)\n\u001b[1;32m   1137\u001b[0m     )\n\u001b[1;32m   1138\u001b[0m     generations\u001b[38;5;241m.\u001b[39mappend([Generation(text\u001b[38;5;241m=\u001b[39mtext)])\n\u001b[1;32m   1139\u001b[0m \u001b[38;5;28;01mreturn\u001b[39;00m LLMResult(generations\u001b[38;5;241m=\u001b[39mgenerations)\n",
      "File \u001b[0;32m~/miniconda3/envs/tensorflow/lib/python3.10/site-packages/langchain_community/llms/huggingface_hub.py:111\u001b[0m, in \u001b[0;36mHuggingFaceHub._call\u001b[0;34m(self, prompt, stop, run_manager, **kwargs)\u001b[0m\n\u001b[1;32m    109\u001b[0m _model_kwargs \u001b[38;5;241m=\u001b[39m \u001b[38;5;28mself\u001b[39m\u001b[38;5;241m.\u001b[39mmodel_kwargs \u001b[38;5;129;01mor\u001b[39;00m {}\n\u001b[1;32m    110\u001b[0m params \u001b[38;5;241m=\u001b[39m {\u001b[38;5;241m*\u001b[39m\u001b[38;5;241m*\u001b[39m_model_kwargs, \u001b[38;5;241m*\u001b[39m\u001b[38;5;241m*\u001b[39mkwargs}\n\u001b[0;32m--> 111\u001b[0m response \u001b[38;5;241m=\u001b[39m \u001b[38;5;28;43mself\u001b[39;49m\u001b[38;5;241;43m.\u001b[39;49m\u001b[43mclient\u001b[49m\u001b[43m(\u001b[49m\u001b[43minputs\u001b[49m\u001b[38;5;241;43m=\u001b[39;49m\u001b[43mprompt\u001b[49m\u001b[43m,\u001b[49m\u001b[43m \u001b[49m\u001b[43mparams\u001b[49m\u001b[38;5;241;43m=\u001b[39;49m\u001b[43mparams\u001b[49m\u001b[43m)\u001b[49m\n\u001b[1;32m    112\u001b[0m \u001b[38;5;28;01mif\u001b[39;00m \u001b[38;5;124m\"\u001b[39m\u001b[38;5;124merror\u001b[39m\u001b[38;5;124m\"\u001b[39m \u001b[38;5;129;01min\u001b[39;00m response:\n\u001b[1;32m    113\u001b[0m     \u001b[38;5;28;01mraise\u001b[39;00m \u001b[38;5;167;01mValueError\u001b[39;00m(\u001b[38;5;124mf\u001b[39m\u001b[38;5;124m\"\u001b[39m\u001b[38;5;124mError raised by inference API: \u001b[39m\u001b[38;5;132;01m{\u001b[39;00mresponse[\u001b[38;5;124m'\u001b[39m\u001b[38;5;124merror\u001b[39m\u001b[38;5;124m'\u001b[39m]\u001b[38;5;132;01m}\u001b[39;00m\u001b[38;5;124m\"\u001b[39m)\n",
      "File \u001b[0;32m~/miniconda3/envs/tensorflow/lib/python3.10/site-packages/huggingface_hub/inference_api.py:190\u001b[0m, in \u001b[0;36mInferenceApi.__call__\u001b[0;34m(self, inputs, params, data, raw_response)\u001b[0m\n\u001b[1;32m    187\u001b[0m     payload[\u001b[38;5;124m\"\u001b[39m\u001b[38;5;124mparameters\u001b[39m\u001b[38;5;124m\"\u001b[39m] \u001b[38;5;241m=\u001b[39m params\n\u001b[1;32m    189\u001b[0m \u001b[38;5;66;03m# Make API call\u001b[39;00m\n\u001b[0;32m--> 190\u001b[0m response \u001b[38;5;241m=\u001b[39m \u001b[43mget_session\u001b[49m\u001b[43m(\u001b[49m\u001b[43m)\u001b[49m\u001b[38;5;241;43m.\u001b[39;49m\u001b[43mpost\u001b[49m\u001b[43m(\u001b[49m\u001b[38;5;28;43mself\u001b[39;49m\u001b[38;5;241;43m.\u001b[39;49m\u001b[43mapi_url\u001b[49m\u001b[43m,\u001b[49m\u001b[43m \u001b[49m\u001b[43mheaders\u001b[49m\u001b[38;5;241;43m=\u001b[39;49m\u001b[38;5;28;43mself\u001b[39;49m\u001b[38;5;241;43m.\u001b[39;49m\u001b[43mheaders\u001b[49m\u001b[43m,\u001b[49m\u001b[43m \u001b[49m\u001b[43mjson\u001b[49m\u001b[38;5;241;43m=\u001b[39;49m\u001b[43mpayload\u001b[49m\u001b[43m,\u001b[49m\u001b[43m \u001b[49m\u001b[43mdata\u001b[49m\u001b[38;5;241;43m=\u001b[39;49m\u001b[43mdata\u001b[49m\u001b[43m)\u001b[49m\n\u001b[1;32m    192\u001b[0m \u001b[38;5;66;03m# Let the user handle the response\u001b[39;00m\n\u001b[1;32m    193\u001b[0m \u001b[38;5;28;01mif\u001b[39;00m raw_response:\n",
      "File \u001b[0;32m~/miniconda3/envs/tensorflow/lib/python3.10/site-packages/requests/sessions.py:637\u001b[0m, in \u001b[0;36mSession.post\u001b[0;34m(self, url, data, json, **kwargs)\u001b[0m\n\u001b[1;32m    626\u001b[0m \u001b[38;5;28;01mdef\u001b[39;00m \u001b[38;5;21mpost\u001b[39m(\u001b[38;5;28mself\u001b[39m, url, data\u001b[38;5;241m=\u001b[39m\u001b[38;5;28;01mNone\u001b[39;00m, json\u001b[38;5;241m=\u001b[39m\u001b[38;5;28;01mNone\u001b[39;00m, \u001b[38;5;241m*\u001b[39m\u001b[38;5;241m*\u001b[39mkwargs):\n\u001b[1;32m    627\u001b[0m \u001b[38;5;250m    \u001b[39m\u001b[38;5;124mr\u001b[39m\u001b[38;5;124;03m\"\"\"Sends a POST request. Returns :class:`Response` object.\u001b[39;00m\n\u001b[1;32m    628\u001b[0m \n\u001b[1;32m    629\u001b[0m \u001b[38;5;124;03m    :param url: URL for the new :class:`Request` object.\u001b[39;00m\n\u001b[0;32m   (...)\u001b[0m\n\u001b[1;32m    634\u001b[0m \u001b[38;5;124;03m    :rtype: requests.Response\u001b[39;00m\n\u001b[1;32m    635\u001b[0m \u001b[38;5;124;03m    \"\"\"\u001b[39;00m\n\u001b[0;32m--> 637\u001b[0m     \u001b[38;5;28;01mreturn\u001b[39;00m \u001b[38;5;28;43mself\u001b[39;49m\u001b[38;5;241;43m.\u001b[39;49m\u001b[43mrequest\u001b[49m\u001b[43m(\u001b[49m\u001b[38;5;124;43m\"\u001b[39;49m\u001b[38;5;124;43mPOST\u001b[39;49m\u001b[38;5;124;43m\"\u001b[39;49m\u001b[43m,\u001b[49m\u001b[43m \u001b[49m\u001b[43murl\u001b[49m\u001b[43m,\u001b[49m\u001b[43m \u001b[49m\u001b[43mdata\u001b[49m\u001b[38;5;241;43m=\u001b[39;49m\u001b[43mdata\u001b[49m\u001b[43m,\u001b[49m\u001b[43m \u001b[49m\u001b[43mjson\u001b[49m\u001b[38;5;241;43m=\u001b[39;49m\u001b[43mjson\u001b[49m\u001b[43m,\u001b[49m\u001b[43m \u001b[49m\u001b[38;5;241;43m*\u001b[39;49m\u001b[38;5;241;43m*\u001b[39;49m\u001b[43mkwargs\u001b[49m\u001b[43m)\u001b[49m\n",
      "File \u001b[0;32m~/miniconda3/envs/tensorflow/lib/python3.10/site-packages/requests/sessions.py:589\u001b[0m, in \u001b[0;36mSession.request\u001b[0;34m(self, method, url, params, data, headers, cookies, files, auth, timeout, allow_redirects, proxies, hooks, stream, verify, cert, json)\u001b[0m\n\u001b[1;32m    584\u001b[0m send_kwargs \u001b[38;5;241m=\u001b[39m {\n\u001b[1;32m    585\u001b[0m     \u001b[38;5;124m\"\u001b[39m\u001b[38;5;124mtimeout\u001b[39m\u001b[38;5;124m\"\u001b[39m: timeout,\n\u001b[1;32m    586\u001b[0m     \u001b[38;5;124m\"\u001b[39m\u001b[38;5;124mallow_redirects\u001b[39m\u001b[38;5;124m\"\u001b[39m: allow_redirects,\n\u001b[1;32m    587\u001b[0m }\n\u001b[1;32m    588\u001b[0m send_kwargs\u001b[38;5;241m.\u001b[39mupdate(settings)\n\u001b[0;32m--> 589\u001b[0m resp \u001b[38;5;241m=\u001b[39m \u001b[38;5;28;43mself\u001b[39;49m\u001b[38;5;241;43m.\u001b[39;49m\u001b[43msend\u001b[49m\u001b[43m(\u001b[49m\u001b[43mprep\u001b[49m\u001b[43m,\u001b[49m\u001b[43m \u001b[49m\u001b[38;5;241;43m*\u001b[39;49m\u001b[38;5;241;43m*\u001b[39;49m\u001b[43msend_kwargs\u001b[49m\u001b[43m)\u001b[49m\n\u001b[1;32m    591\u001b[0m \u001b[38;5;28;01mreturn\u001b[39;00m resp\n",
      "File \u001b[0;32m~/miniconda3/envs/tensorflow/lib/python3.10/site-packages/requests/sessions.py:703\u001b[0m, in \u001b[0;36mSession.send\u001b[0;34m(self, request, **kwargs)\u001b[0m\n\u001b[1;32m    700\u001b[0m start \u001b[38;5;241m=\u001b[39m preferred_clock()\n\u001b[1;32m    702\u001b[0m \u001b[38;5;66;03m# Send the request\u001b[39;00m\n\u001b[0;32m--> 703\u001b[0m r \u001b[38;5;241m=\u001b[39m \u001b[43madapter\u001b[49m\u001b[38;5;241;43m.\u001b[39;49m\u001b[43msend\u001b[49m\u001b[43m(\u001b[49m\u001b[43mrequest\u001b[49m\u001b[43m,\u001b[49m\u001b[43m \u001b[49m\u001b[38;5;241;43m*\u001b[39;49m\u001b[38;5;241;43m*\u001b[39;49m\u001b[43mkwargs\u001b[49m\u001b[43m)\u001b[49m\n\u001b[1;32m    705\u001b[0m \u001b[38;5;66;03m# Total elapsed time of the request (approximately)\u001b[39;00m\n\u001b[1;32m    706\u001b[0m elapsed \u001b[38;5;241m=\u001b[39m preferred_clock() \u001b[38;5;241m-\u001b[39m start\n",
      "File \u001b[0;32m~/miniconda3/envs/tensorflow/lib/python3.10/site-packages/huggingface_hub/utils/_http.py:63\u001b[0m, in \u001b[0;36mUniqueRequestIdAdapter.send\u001b[0;34m(self, request, *args, **kwargs)\u001b[0m\n\u001b[1;32m     61\u001b[0m \u001b[38;5;250m\u001b[39m\u001b[38;5;124;03m\"\"\"Catch any RequestException to append request id to the error message for debugging.\"\"\"\u001b[39;00m\n\u001b[1;32m     62\u001b[0m \u001b[38;5;28;01mtry\u001b[39;00m:\n\u001b[0;32m---> 63\u001b[0m     \u001b[38;5;28;01mreturn\u001b[39;00m \u001b[38;5;28;43msuper\u001b[39;49m\u001b[43m(\u001b[49m\u001b[43m)\u001b[49m\u001b[38;5;241;43m.\u001b[39;49m\u001b[43msend\u001b[49m\u001b[43m(\u001b[49m\u001b[43mrequest\u001b[49m\u001b[43m,\u001b[49m\u001b[43m \u001b[49m\u001b[38;5;241;43m*\u001b[39;49m\u001b[43margs\u001b[49m\u001b[43m,\u001b[49m\u001b[43m \u001b[49m\u001b[38;5;241;43m*\u001b[39;49m\u001b[38;5;241;43m*\u001b[39;49m\u001b[43mkwargs\u001b[49m\u001b[43m)\u001b[49m\n\u001b[1;32m     64\u001b[0m \u001b[38;5;28;01mexcept\u001b[39;00m requests\u001b[38;5;241m.\u001b[39mRequestException \u001b[38;5;28;01mas\u001b[39;00m e:\n\u001b[1;32m     65\u001b[0m     request_id \u001b[38;5;241m=\u001b[39m request\u001b[38;5;241m.\u001b[39mheaders\u001b[38;5;241m.\u001b[39mget(X_AMZN_TRACE_ID)\n",
      "File \u001b[0;32m~/miniconda3/envs/tensorflow/lib/python3.10/site-packages/requests/adapters.py:501\u001b[0m, in \u001b[0;36mHTTPAdapter.send\u001b[0;34m(self, request, stream, timeout, verify, cert, proxies)\u001b[0m\n\u001b[1;32m    486\u001b[0m     resp \u001b[38;5;241m=\u001b[39m conn\u001b[38;5;241m.\u001b[39murlopen(\n\u001b[1;32m    487\u001b[0m         method\u001b[38;5;241m=\u001b[39mrequest\u001b[38;5;241m.\u001b[39mmethod,\n\u001b[1;32m    488\u001b[0m         url\u001b[38;5;241m=\u001b[39murl,\n\u001b[0;32m   (...)\u001b[0m\n\u001b[1;32m    497\u001b[0m         chunked\u001b[38;5;241m=\u001b[39mchunked,\n\u001b[1;32m    498\u001b[0m     )\n\u001b[1;32m    500\u001b[0m \u001b[38;5;28;01mexcept\u001b[39;00m (ProtocolError, \u001b[38;5;167;01mOSError\u001b[39;00m) \u001b[38;5;28;01mas\u001b[39;00m err:\n\u001b[0;32m--> 501\u001b[0m     \u001b[38;5;28;01mraise\u001b[39;00m \u001b[38;5;167;01mConnectionError\u001b[39;00m(err, request\u001b[38;5;241m=\u001b[39mrequest)\n\u001b[1;32m    503\u001b[0m \u001b[38;5;28;01mexcept\u001b[39;00m MaxRetryError \u001b[38;5;28;01mas\u001b[39;00m e:\n\u001b[1;32m    504\u001b[0m     \u001b[38;5;28;01mif\u001b[39;00m \u001b[38;5;28misinstance\u001b[39m(e\u001b[38;5;241m.\u001b[39mreason, ConnectTimeoutError):\n\u001b[1;32m    505\u001b[0m         \u001b[38;5;66;03m# TODO: Remove this in 3.0.0: see #2811\u001b[39;00m\n",
      "\u001b[0;31mConnectionError\u001b[0m: (ProtocolError('Connection aborted.', RemoteDisconnected('Remote end closed connection without response')), '(Request ID: ab155e09-aaa5-47bb-91d8-89e654649a51)')"
     ]
    }
   ],
   "source": [
    "from langchain import HuggingFaceHub\n",
    "\n",
    "def generate_review(review):\n",
    "    template = \"Can you correct the spelling mistakes in that review and make sure that its phrasing is correct.: {review}\"\n",
    "\n",
    "    prompt = PromptTemplate(template=template, input_variables=[\"review\"])\n",
    "\n",
    "    llm_chain = LLMChain(prompt=prompt, \n",
    "                        llm=HuggingFaceHub(repo_id=\"google/flan-t5-xl\",\n",
    "                                           model_kwargs={\"temperature\":0.25}))\n",
    "\n",
    "    generation = llm_chain.run(review)\n",
    "\n",
    "    return generation\n",
    "\n",
    "generate_review(df['text'][0])"
   ]
  },
  {
   "cell_type": "markdown",
   "metadata": {},
   "source": [
    "## Topic Modeling"
   ]
  },
  {
   "cell_type": "markdown",
   "metadata": {},
   "source": [
    "### For our topic modeling, we'll use LDA (Latent Dirichlet Allocation)"
   ]
  },
  {
   "cell_type": "markdown",
   "metadata": {},
   "source": [
    "### Lemmatisation"
   ]
  },
  {
   "cell_type": "code",
   "execution_count": 109,
   "metadata": {},
   "outputs": [],
   "source": [
    "def lemmatisation(reviews, allowed_postags=[\"NOUN\", \"ADJ\", \"VERBS\", \"ADV\"]):\n",
    "    nlp = spacy.load('en_core_web_sm', disable=['parser', 'ner'])\n",
    "\n",
    "    reviews_out = []\n",
    "\n",
    "    for review in reviews:\n",
    "        doc = nlp(review) \n",
    "        reviews_out.append(\" \".join([token.lemma_ for token in doc if token.pos_ in allowed_postags and token.lemma_ not in stopwords]))\n",
    "\n",
    "    return reviews_out\n",
    "\n",
    "lemmatised_text = lemmatisation(df['summarised_text'])"
   ]
  },
  {
   "cell_type": "markdown",
   "metadata": {},
   "source": [
    "### Further formatting - We're removing the stopwords and outputting the reviews like keywords."
   ]
  },
  {
   "cell_type": "code",
   "execution_count": 110,
   "metadata": {},
   "outputs": [],
   "source": [
    "def gen_words(texts):\n",
    "    final = []\n",
    "    for text in texts:\n",
    "        new = gensim.utils.simple_preprocess(text, deacc=True)\n",
    "        final.append(new)\n",
    "    return final\n",
    "\n",
    "data_words = gen_words(lemmatised_text)"
   ]
  },
  {
   "cell_type": "markdown",
   "metadata": {},
   "source": [
    "### On convertit nos mots en tuples. Ces tuples auront l'index du mot (son emplacement) et sa fréquence."
   ]
  },
  {
   "cell_type": "code",
   "execution_count": 111,
   "metadata": {},
   "outputs": [],
   "source": [
    "id2word = corpora.Dictionary(data_words)\n",
    "\n",
    "corpus = [id2word.doc2bow(text) for text in data_words]"
   ]
  },
  {
   "cell_type": "markdown",
   "metadata": {},
   "source": [
    "### The LDA Model"
   ]
  },
  {
   "cell_type": "code",
   "execution_count": 118,
   "metadata": {},
   "outputs": [],
   "source": [
    "lda_model = gensim.models.ldamodel.LdaModel(corpus=corpus,\n",
    "                                            id2word=id2word,\n",
    "                                            num_topics=10,\n",
    "                                            random_state=100,\n",
    "                                            update_every=1,\n",
    "                                            chunksize=100,\n",
    "                                            passes=10,\n",
    "                                            alpha='auto',\n",
    "                                            per_word_topics=True)"
   ]
  },
  {
   "cell_type": "code",
   "execution_count": 119,
   "metadata": {},
   "outputs": [
    {
     "name": "stderr",
     "output_type": "stream",
     "text": [
      "/Users/alexandrecogordan/miniconda3/envs/tensorflow/lib/python3.10/site-packages/sklearn/manifold/_mds.py:298: FutureWarning: The default value of `normalized_stress` will change to `'auto'` in version 1.4. To suppress this warning, manually set the value of `normalized_stress`.\n",
      "  warnings.warn(\n"
     ]
    },
    {
     "data": {
      "text/html": [
       "\n",
       "<link rel=\"stylesheet\" type=\"text/css\" href=\"https://cdn.jsdelivr.net/gh/bmabey/pyLDAvis@3.4.0/pyLDAvis/js/ldavis.v1.0.0.css\">\n",
       "\n",
       "\n",
       "<div id=\"ldavis_el90971148697278248224168984\" style=\"background-color:white;\"></div>\n",
       "<script type=\"text/javascript\">\n",
       "\n",
       "var ldavis_el90971148697278248224168984_data = {\"mdsDat\": {\"x\": [0.18294638832872534, 0.025747721264454373, -0.1275188716190467, 0.0030822516605157513, 0.05572439940303764, -0.16477943209016407, 0.00872622935046077, -0.15028016481367334, 0.1689537415650895, -0.002602263049399289], \"y\": [0.11890349699543408, 0.23388883518564385, 0.16023456485016388, 0.09668669443864021, -0.09717652745214822, -0.024664025014257095, -0.1987304776847707, -0.15192138101384625, -0.10631667445964031, -0.030904505845219584], \"topics\": [1, 2, 3, 4, 5, 6, 7, 8, 9, 10], \"cluster\": [1, 1, 1, 1, 1, 1, 1, 1, 1, 1], \"Freq\": [35.54522683879033, 14.023583205941181, 13.74261538383964, 8.248865486766087, 6.19357586480511, 5.899449180976161, 5.607207320141291, 5.601203483519094, 5.014905272554942, 0.12336796266616055]}, \"tinfo\": {\"Term\": [\"time\", \"great\", \"brunch\", \"dark\", \"good\", \"restaurant\", \"food\", \"thought\", \"tier\", \"top\", \"lovely\", \"efficient\", \"much\", \"meal\", \"restaurant\", \"small\", \"chef\", \"run\", \"stuff\", \"operation\", \"family\", \"friendly\", \"well\", \"service\", \"great\", \"food\", \"good\", \"owner\", \"also\", \"tier\", \"top\", \"love\", \"ambiance\", \"bonsoir\", \"really\", \"somewhere\", \"real\", \"charm\", \"pleasure\", \"back\", \"amazing\", \"food\", \"service\", \"good\", \"staff\", \"friendly\", \"also\", \"dark\", \"change\", \"hot\", \"decent\", \"personally\", \"thing\", \"scene\", \"concept\", \"price\", \"night\", \"nice\", \"good\", \"food\", \"also\", \"staff\", \"friend\", \"service\", \"friendly\", \"wonderful\", \"trendy\", \"casual\", \"team\", \"dining\", \"member\", \"fabulous\", \"husband\", \"vibe\", \"experience\", \"owner\", \"great\", \"food\", \"good\", \"game\", \"happy\", \"king\", \"never\", \"choice\", \"dinner\", \"evening\", \"downtown\", \"reservation\", \"hubby\", \"great\", \"time\", \"friend\", \"restaurant\", \"family\", \"brunch\", \"fun\", \"fan\", \"big\", \"people\", \"manzke\", \"republique\", \"day\", \"idea\", \"little\", \"good\", \"restaurant\", \"french\", \"thought\", \"hotel\", \"rooftop\", \"recent\", \"visit\", \"bar\", \"photo\", \"week\", \"time\", \"experience\", \"also\", \"back\", \"dish\", \"soft\", \"soda\", \"classic\", \"co\", \"quality\", \"www\", \"egg\", \"uk\", \"bicarbonate\", \"french\", \"neighborhood\", \"essence\", \"club\", \"vibrant\", \"energy\", \"website\", \"call\", \"corner\", \"gem\", \"beautifully\", \"adkt\", \"information\", \"heart\", \"essence\", \"club\", \"vibrant\", \"energy\", \"website\", \"call\", \"corner\", \"gem\", \"beautifully\", \"absolute\", \"week\", \"photo\", \"bar\", \"visit\", \"recent\", \"rooftop\", \"thought\", \"hotel\", \"time\", \"well\", \"also\"], \"Freq\": [4.0, 8.0, 2.0, 4.0, 12.0, 7.0, 12.0, 2.0, 3.0, 3.0, 5.343509009482423, 2.715545261091157, 2.715545035321386, 2.7155443580120724, 6.2195052038377865, 1.8395562913684695, 1.8395562913684695, 1.8395560655986984, 1.8395560655986984, 1.8395558398289273, 5.347437403500267, 6.22592790228719, 2.715545486860928, 6.230165149351954, 4.473438368540411, 4.478599917048225, 3.6034438120112746, 2.724315513620879, 2.7194043437892605, 3.0516303233071853, 3.050126780004214, 1.562257915966647, 1.5606939815286396, 0.8198312136569507, 0.8196921715304141, 0.8196678547459525, 0.8195829686815135, 0.8194744784123773, 0.8193234115023157, 1.561650798007343, 1.5612136303218584, 3.0527672443213514, 3.0483047135465378, 3.053271038214811, 1.5638523131895843, 2.309090855249766, 1.5645846670424888, 3.7714096285236143, 1.552924699009732, 0.813433912322852, 0.813433912322852, 0.8134338250349822, 0.8134338250349822, 0.8134327775805453, 0.8134325157169362, 0.8134324284290664, 0.8134323411411967, 1.5529267939186058, 3.7745177749892136, 3.0369471468608107, 2.29241950093862, 1.5529231278280766, 1.5529238261310345, 2.299835478351486, 1.5529199854647662, 1.9673699275604557, 1.3335271662076538, 1.3334407166712763, 1.333428666129842, 0.6990550522300247, 0.698688401408468, 0.6985454715083241, 0.6983107479186451, 1.3341854401319233, 0.6980060264013296, 1.3320414916297654, 1.3341239299769494, 1.3334331719844652, 1.333901152141388, 0.6241123201382404, 0.6239363557182146, 0.623899534189678, 0.6238378109222914, 0.6238114142923256, 0.623785961804117, 0.6237628696703019, 0.6237364730403361, 0.62367097320592, 0.6236108235081289, 1.7581946279461955, 1.1903707018468965, 0.6247547299256361, 0.6243172775780648, 0.6238605490029475, 2.2768121392878817, 1.1665728398551782, 0.6111299647840384, 0.6110978895575488, 0.6110371489709373, 0.6110337765756289, 0.6108696533372828, 0.6108254374876828, 0.6108082382716096, 0.6106905791464027, 0.6112931512459098, 0.61103999677142, 0.6109238739596314, 1.6823155795001241, 1.1396604476432486, 0.5970393635827397, 0.5969769307511175, 0.5969648217022004, 0.5969608684538775, 0.5969248974556239, 0.5968291647394799, 2.226898685633689, 0.5977646956128698, 0.5976850608088154, 0.5970070965288607, 1.138089741954715, 1.1378234858146583, 0.5964308305502644, 0.5962906227138182, 0.5962894131054854, 0.5962547258077096, 0.596161336929082, 0.5961483158511477, 0.5959832043137342, 0.5959550275549254, 1.1377616534828279, 1.0808654726027676, 0.5665127032393684, 0.5661679288323501, 0.5661214874903848, 0.5661139702361297, 0.5659501195755882, 0.5658714432280886, 0.5658390171059208, 0.5658248107694897, 0.5658086932667226, 1.079500517605581, 0.5662085729697628, 0.5661437207254272, 0.0025956581927912073, 0.00259565838868781, 0.00259565838868781, 0.00259565838868781, 0.00259565838868781, 0.00259565838868781, 0.00259565838868781, 0.00259565838868781, 0.00259565838868781, 0.00259565838868781, 0.002612018105759291, 0.0026074496010914106, 0.002605728257644875, 0.002605541176389447, 0.0026049621060323333, 0.002601979188465427, 0.002625760448324209, 0.0026146934656602057, 0.0026314432128673477, 0.0026080551174898674, 0.0026065766858304838], \"Total\": [4.0, 8.0, 2.0, 4.0, 12.0, 7.0, 12.0, 2.0, 3.0, 3.0, 5.831088208033282, 3.2031243351440826, 3.2031241363859424, 3.203123819655962, 7.830880845718525, 2.3271353204880585, 2.3271353412697735, 2.327135134967741, 2.327135139916844, 2.327134927227944, 7.037215924367555, 10.427165908922337, 3.745760548244395, 12.551848046446523, 8.674048534084593, 12.17714507536328, 12.596760366472267, 4.4802015270676065, 8.02596627746721, 3.5620891670003654, 3.5620742186151273, 2.06862085586794, 2.0686053261904194, 1.3221449829556124, 1.3221487246134191, 1.3221792157543077, 1.32219493361886, 1.3222067684391523, 1.3222387076059612, 2.611341260215214, 3.8205679532812487, 12.17714507536328, 12.551848046446523, 12.596760366472267, 4.424265419788869, 10.427165908922337, 8.02596627746721, 4.272638320018845, 2.0541581860011453, 1.3146623884363033, 1.3146623996332634, 1.314662306778364, 1.3146623078935373, 1.314662827565403, 1.3146629043564506, 1.3146628523451076, 1.314662849720902, 2.8011480426129918, 12.596760366472267, 12.17714507536328, 8.02596627746721, 4.424265419788869, 4.692291756138481, 12.551848046446523, 10.427165908922337, 2.4903560896396044, 1.8516978914536728, 1.8517304781614832, 1.8517348650975116, 1.2132747493201144, 1.2134120681904068, 1.2134656124915943, 1.2135534523491307, 2.727418088241802, 2.3240976427062137, 4.4802015270676065, 8.674048534084593, 12.17714507536328, 12.596760366472267, 1.1429049645890683, 1.142897216360409, 1.1428956439525515, 1.1428928362675737, 1.1428917470620683, 1.1428906237758727, 1.1428895577704512, 1.1428884048214305, 1.1428855425306144, 1.1428828502979227, 8.674048534084593, 4.620904259883862, 4.692291756138481, 7.830880845718525, 7.037215924367555, 2.7995757536104033, 1.6873674825592693, 1.131269538577926, 1.1312703099849417, 1.131271559187764, 1.1312716479115823, 1.1312750740094137, 1.1312758973217067, 1.1312763289445127, 1.1312786989535104, 12.596760366472267, 7.830880845718525, 2.220123120018951, 2.2032349914887805, 1.660568722749894, 1.1179348555285624, 1.117875403749182, 1.1178638913423509, 1.1178601251752833, 1.1178258755204764, 1.117734752048021, 4.620904259883862, 2.3240976427062137, 8.02596627746721, 2.611341260215214, 1.6639088766109114, 1.6640046568971538, 1.119468272857006, 1.1195186034247688, 1.1195191496566106, 1.1195315368302852, 1.1195651380032603, 1.1195699291062442, 1.1196293050652322, 1.1196395035458526, 2.220123120018951, 1.6073591141394332, 1.0911979391926108, 1.0912791243306512, 1.0912901768477818, 1.0912918526046844, 1.0913304154526928, 1.0913490032207012, 1.091356589285466, 1.0913599261374949, 1.0913637072644093, 2.347165162471307, 1.6357968410744022, 1.9672506980744755, 1.0911979391926108, 1.0912791243306512, 1.0912901768477818, 1.0912918526046844, 1.0913304154526928, 1.0913490032207012, 1.091356589285466, 1.0913599261374949, 1.0913637072644093, 1.0913664164838743, 1.117734752048021, 1.1178258755204764, 1.1178601251752833, 1.1178638913423509, 1.117875403749182, 1.1179348555285624, 2.2032349914887805, 1.660568722749894, 4.620904259883862, 3.745760548244395, 8.02596627746721], \"Category\": [\"Default\", \"Default\", \"Default\", \"Default\", \"Default\", \"Default\", \"Default\", \"Default\", \"Default\", \"Default\", \"Topic1\", \"Topic1\", \"Topic1\", \"Topic1\", \"Topic1\", \"Topic1\", \"Topic1\", \"Topic1\", \"Topic1\", \"Topic1\", \"Topic1\", \"Topic1\", \"Topic1\", \"Topic1\", \"Topic1\", \"Topic1\", \"Topic1\", \"Topic1\", \"Topic1\", \"Topic2\", \"Topic2\", \"Topic2\", \"Topic2\", \"Topic2\", \"Topic2\", \"Topic2\", \"Topic2\", \"Topic2\", \"Topic2\", \"Topic2\", \"Topic2\", \"Topic2\", \"Topic2\", \"Topic2\", \"Topic2\", \"Topic2\", \"Topic2\", \"Topic3\", \"Topic3\", \"Topic3\", \"Topic3\", \"Topic3\", \"Topic3\", \"Topic3\", \"Topic3\", \"Topic3\", \"Topic3\", \"Topic3\", \"Topic3\", \"Topic3\", \"Topic3\", \"Topic3\", \"Topic3\", \"Topic3\", \"Topic3\", \"Topic4\", \"Topic4\", \"Topic4\", \"Topic4\", \"Topic4\", \"Topic4\", \"Topic4\", \"Topic4\", \"Topic4\", \"Topic4\", \"Topic4\", \"Topic4\", \"Topic4\", \"Topic4\", \"Topic5\", \"Topic5\", \"Topic5\", \"Topic5\", \"Topic5\", \"Topic5\", \"Topic5\", \"Topic5\", \"Topic5\", \"Topic5\", \"Topic5\", \"Topic5\", \"Topic5\", \"Topic5\", \"Topic5\", \"Topic6\", \"Topic6\", \"Topic6\", \"Topic6\", \"Topic6\", \"Topic6\", \"Topic6\", \"Topic6\", \"Topic6\", \"Topic6\", \"Topic6\", \"Topic6\", \"Topic6\", \"Topic7\", \"Topic7\", \"Topic7\", \"Topic7\", \"Topic7\", \"Topic7\", \"Topic7\", \"Topic7\", \"Topic7\", \"Topic7\", \"Topic7\", \"Topic7\", \"Topic8\", \"Topic8\", \"Topic8\", \"Topic8\", \"Topic8\", \"Topic8\", \"Topic8\", \"Topic8\", \"Topic8\", \"Topic8\", \"Topic8\", \"Topic9\", \"Topic9\", \"Topic9\", \"Topic9\", \"Topic9\", \"Topic9\", \"Topic9\", \"Topic9\", \"Topic9\", \"Topic9\", \"Topic9\", \"Topic9\", \"Topic9\", \"Topic10\", \"Topic10\", \"Topic10\", \"Topic10\", \"Topic10\", \"Topic10\", \"Topic10\", \"Topic10\", \"Topic10\", \"Topic10\", \"Topic10\", \"Topic10\", \"Topic10\", \"Topic10\", \"Topic10\", \"Topic10\", \"Topic10\", \"Topic10\", \"Topic10\", \"Topic10\", \"Topic10\"], \"logprob\": [10.0, 9.0, 8.0, 7.0, 6.0, 5.0, 4.0, 3.0, 2.0, 1.0, -3.1216, -3.7985, -3.7985, -3.7985, -2.9698, -4.188, -4.188, -4.188, -4.188, -4.188, -3.1209, -2.9688, -3.7985, -2.9681, -3.2994, -3.2982, -3.5156, -3.7953, -3.7971, -2.7518, -2.7523, -3.4213, -3.4223, -4.0661, -4.0663, -4.0663, -4.0664, -4.0665, -4.0667, -3.4217, -3.422, -2.7514, -2.7529, -2.7512, -3.4203, -3.0306, -3.4198, -2.5198, -3.4071, -4.0537, -4.0537, -4.0537, -4.0537, -4.0537, -4.0537, -4.0537, -4.0537, -3.4071, -2.5189, -2.7364, -3.0176, -3.4071, -3.4071, -3.0144, -3.4071, -2.6601, -3.049, -3.049, -3.049, -3.6948, -3.6953, -3.6955, -3.6959, -3.0485, -3.6963, -3.0501, -3.0485, -3.049, -3.0487, -3.5216, -3.5219, -3.522, -3.5221, -3.5221, -3.5222, -3.5222, -3.5223, -3.5224, -3.5225, -2.4859, -2.876, -3.5206, -3.5213, -3.5221, -2.1788, -2.8475, -3.494, -3.4941, -3.4942, -3.4942, -3.4944, -3.4945, -3.4945, -3.4947, -3.4937, -3.4942, -3.4944, -2.4306, -2.82, -3.4665, -3.4666, -3.4667, -3.4667, -3.4667, -3.4669, -2.1502, -3.4653, -3.4655, -3.4666, -2.8203, -2.8206, -3.4665, -3.4667, -3.4667, -3.4668, -3.4669, -3.467, -3.4672, -3.4673, -2.8206, -2.7614, -3.4074, -3.408, -3.4081, -3.4081, -3.4084, -3.4085, -3.4086, -3.4086, -3.4086, -2.7626, -3.4079, -3.408, -5.088, -5.088, -5.088, -5.088, -5.088, -5.088, -5.088, -5.088, -5.088, -5.088, -5.0818, -5.0835, -5.0842, -5.0842, -5.0845, -5.0856, -5.0765, -5.0807, -5.0744, -5.0833, -5.0838], \"loglift\": [10.0, 9.0, 8.0, 7.0, 6.0, 5.0, 4.0, 3.0, 2.0, 1.0, 0.947, 0.8692, 0.8692, 0.8692, 0.804, 0.7993, 0.7993, 0.7993, 0.7993, 0.7993, 0.7598, 0.5187, 0.7127, 0.3339, 0.3722, 0.0341, -0.2172, 0.5369, -0.0479, 1.8098, 1.8093, 1.6837, 1.6827, 1.4865, 1.4863, 1.4863, 1.4862, 1.486, 1.4858, 1.4503, 1.0695, 0.5809, 0.5491, 0.5472, 0.9245, 0.4569, 0.3294, 1.8599, 1.7049, 1.5046, 1.5046, 1.5046, 1.5046, 1.5046, 1.5046, 1.5046, 1.5046, 1.3948, 0.7795, 0.596, 0.7316, 0.9377, 0.8789, 0.2876, 0.0804, 2.2594, 2.1668, 2.1667, 2.1667, 1.9437, 1.9431, 1.9429, 1.9425, 1.7801, 1.2922, 1.2821, 0.623, 0.2833, 0.2498, 2.1767, 2.1764, 2.1763, 2.1762, 2.1762, 2.1761, 2.1761, 2.1761, 2.176, 2.1759, 1.1856, 1.4253, 0.7653, 0.2525, 0.3586, 2.6236, 2.4612, 2.2145, 2.2145, 2.2144, 2.2144, 2.2141, 2.214, 2.214, 2.2138, -0.1953, 0.2796, 1.54, 2.6114, 2.5047, 2.2539, 2.2538, 2.2538, 2.2538, 2.2538, 2.2537, 2.1511, 1.5232, 0.2837, 1.4054, 2.5024, 2.5021, 2.2525, 2.2523, 2.2523, 2.2522, 2.252, 2.252, 2.2516, 2.2516, 2.2137, 2.5959, 2.3372, 2.3365, 2.3364, 2.3364, 2.3361, 2.336, 2.3359, 2.3359, 2.3358, 2.216, 1.9318, 1.7472, 0.6566, 0.6565, 0.6565, 0.6565, 0.6564, 0.6564, 0.6564, 0.6564, 0.6564, 0.6564, 0.6388, 0.637, 0.6363, 0.6362, 0.636, 0.6348, -0.0346, 0.244, -0.7731, -0.572, -1.3346]}, \"token.table\": {\"Topic\": [9, 3, 9, 1, 2, 3, 5, 7, 1, 2, 2, 2, 7, 7, 9, 8, 6, 2, 6, 9, 4, 3, 2, 1, 5, 8, 9, 8, 3, 9, 3, 6, 3, 4, 5, 8, 5, 1, 8, 9, 9, 5, 4, 5, 7, 4, 1, 4, 5, 6, 1, 2, 3, 4, 6, 8, 1, 3, 4, 5, 6, 1, 2, 3, 6, 5, 9, 1, 2, 3, 4, 6, 1, 3, 4, 5, 5, 1, 9, 3, 7, 5, 4, 6, 8, 9, 5, 6, 2, 1, 6, 1, 4, 1, 9, 5, 2, 3, 3, 1, 1, 4, 6, 3, 7, 2, 3, 8, 2, 2, 7, 6, 5, 1, 5, 6, 7, 1, 3, 1, 2, 3, 4, 1, 8, 8, 2, 1, 2, 3, 1, 4, 3, 7, 2, 3, 5, 7, 2, 4, 8, 1, 4, 9, 7, 9, 7, 1, 7, 4, 8], \"Freq\": [0.9162825471776607, 0.4260458599117541, 0.4260458599117541, 0.3737867686315178, 0.2491911790876785, 0.2491911790876785, 0.12459558954383924, 0.12459558954383924, 0.5234823786558551, 0.5234823786558551, 0.966834985232894, 0.7658899395765568, 0.3829449697882784, 0.8945663034927536, 0.9162848217727344, 0.8931446209543704, 0.8839620302713601, 0.7563467039481043, 0.7143939568060446, 0.9162971671288292, 0.5400353948879559, 0.9736348513127046, 0.7563113605752351, 0.8594257345207623, 0.8749735069577783, 0.89324107428037, 0.916355841236642, 0.89324063845333, 0.7606512640512335, 0.9162907979093441, 0.9361897030363098, 0.8839576644101566, 0.7606515560793089, 0.8242156202132883, 0.874974366922539, 0.6009944499105164, 0.874976065713296, 0.9365855602558288, 0.8932001244426981, 0.9163451533274165, 0.9164240181207737, 0.8749751830358831, 0.43027452101177005, 0.43027452101177005, 0.43027452101177005, 0.8240859812637887, 0.7105082540790956, 0.1421016508158191, 0.1421016508158191, 0.8839626330406283, 0.32848421984335013, 0.24636316488251261, 0.24636316488251261, 0.08212105496083753, 0.45042547009350725, 0.45042547009350725, 0.21311547788813318, 0.42623095577626635, 0.21311547788813318, 0.21311547788813318, 0.21311547788813318, 0.5754200184794134, 0.19180667282647113, 0.19180667282647113, 0.5926391318643149, 0.8749633880184869, 0.9162879963342314, 0.3175419618719161, 0.23815647140393703, 0.3175419618719161, 0.07938549046797902, 0.07938549046797902, 0.46114567889285346, 0.11528641972321337, 0.11528641972321337, 0.23057283944642673, 0.874969319799842, 0.5083236218844855, 0.5083236218844855, 0.7606515625577669, 0.6022033212476775, 0.874980318183376, 0.824026331979242, 0.8839573271483597, 0.6113228580042943, 0.6113228580042943, 0.8749705235918425, 0.8839554752732904, 0.9668277269499206, 0.8574728801241042, 0.8839609848316095, 0.9365857109832929, 0.8241223457512881, 0.9365856183722165, 0.6221385073213037, 0.8749726730861058, 0.35699648315166205, 0.7139929663033241, 0.7606512956628356, 0.8594258874290442, 0.6696127354707564, 0.2232042451569188, 0.8839610541592551, 0.7606516098043022, 0.8945937125801324, 0.7562930915935709, 0.7606512941444956, 0.8932307550989468, 0.7563181302343902, 0.7563445635001375, 0.8945540769983434, 0.8839583077313331, 0.8749782570403047, 0.7661973305698369, 0.1276995550949728, 0.1276995550949728, 0.8945065046095172, 0.8594258107094086, 0.7606513084817947, 0.4780172591157701, 0.23900862955788504, 0.15933908637192337, 0.07966954318596169, 0.8594257421955807, 0.8932812338199547, 0.6009598566056216, 0.756327121228794, 0.2260262224610659, 0.4520524449221318, 0.4520524449221318, 0.8594258088816734, 0.5400341154927384, 0.7606516091590731, 0.9077560985215428, 0.8422023872373469, 0.2164078595355129, 0.2164078595355129, 0.4328157190710258, 0.8422059215729503, 0.5400448985849152, 0.8931527564310562, 0.3666471247335014, 0.3666471247335014, 0.9163465604432767, 0.8945632896319624, 0.9163127736939246, 0.8946666444500396, 0.8009054399929738, 0.26696847999765794, 0.8030980020569801, 0.8932039468319778], \"Term\": [\"absolute\", \"adkt\", \"adkt\", \"also\", \"also\", \"also\", \"also\", \"also\", \"amazing\", \"amazing\", \"ambiance\", \"back\", \"back\", \"bar\", \"beautifully\", \"bicarbonate\", \"big\", \"bonsoir\", \"brunch\", \"call\", \"casual\", \"change\", \"charm\", \"chef\", \"choice\", \"classic\", \"club\", \"co\", \"concept\", \"corner\", \"dark\", \"day\", \"decent\", \"dining\", \"dinner\", \"dish\", \"downtown\", \"efficient\", \"egg\", \"energy\", \"essence\", \"evening\", \"experience\", \"experience\", \"experience\", \"fabulous\", \"family\", \"family\", \"family\", \"fan\", \"food\", \"food\", \"food\", \"food\", \"french\", \"french\", \"friend\", \"friend\", \"friend\", \"friend\", \"friend\", \"friendly\", \"friendly\", \"friendly\", \"fun\", \"game\", \"gem\", \"good\", \"good\", \"good\", \"good\", \"good\", \"great\", \"great\", \"great\", \"great\", \"happy\", \"heart\", \"heart\", \"hot\", \"hotel\", \"hubby\", \"husband\", \"idea\", \"information\", \"information\", \"king\", \"little\", \"love\", \"lovely\", \"manzke\", \"meal\", \"member\", \"much\", \"neighborhood\", \"never\", \"nice\", \"nice\", \"night\", \"operation\", \"owner\", \"owner\", \"people\", \"personally\", \"photo\", \"pleasure\", \"price\", \"quality\", \"real\", \"really\", \"recent\", \"republique\", \"reservation\", \"restaurant\", \"restaurant\", \"restaurant\", \"rooftop\", \"run\", \"scene\", \"service\", \"service\", \"service\", \"service\", \"small\", \"soda\", \"soft\", \"somewhere\", \"staff\", \"staff\", \"staff\", \"stuff\", \"team\", \"thing\", \"thought\", \"tier\", \"time\", \"time\", \"time\", \"top\", \"trendy\", \"uk\", \"vibe\", \"vibe\", \"vibrant\", \"visit\", \"website\", \"week\", \"well\", \"well\", \"wonderful\", \"www\"]}, \"R\": 10, \"lambda.step\": 0.01, \"plot.opts\": {\"xlab\": \"PC1\", \"ylab\": \"PC2\"}, \"topic.order\": [2, 8, 4, 3, 10, 9, 5, 1, 7, 6]};\n",
       "\n",
       "function LDAvis_load_lib(url, callback){\n",
       "  var s = document.createElement('script');\n",
       "  s.src = url;\n",
       "  s.async = true;\n",
       "  s.onreadystatechange = s.onload = callback;\n",
       "  s.onerror = function(){console.warn(\"failed to load library \" + url);};\n",
       "  document.getElementsByTagName(\"head\")[0].appendChild(s);\n",
       "}\n",
       "\n",
       "if(typeof(LDAvis) !== \"undefined\"){\n",
       "   // already loaded: just create the visualization\n",
       "   !function(LDAvis){\n",
       "       new LDAvis(\"#\" + \"ldavis_el90971148697278248224168984\", ldavis_el90971148697278248224168984_data);\n",
       "   }(LDAvis);\n",
       "}else if(typeof define === \"function\" && define.amd){\n",
       "   // require.js is available: use it to load d3/LDAvis\n",
       "   require.config({paths: {d3: \"https://d3js.org/d3.v5\"}});\n",
       "   require([\"d3\"], function(d3){\n",
       "      window.d3 = d3;\n",
       "      LDAvis_load_lib(\"https://cdn.jsdelivr.net/gh/bmabey/pyLDAvis@3.4.0/pyLDAvis/js/ldavis.v3.0.0.js\", function(){\n",
       "        new LDAvis(\"#\" + \"ldavis_el90971148697278248224168984\", ldavis_el90971148697278248224168984_data);\n",
       "      });\n",
       "    });\n",
       "}else{\n",
       "    // require.js not available: dynamically load d3 & LDAvis\n",
       "    LDAvis_load_lib(\"https://d3js.org/d3.v5.js\", function(){\n",
       "         LDAvis_load_lib(\"https://cdn.jsdelivr.net/gh/bmabey/pyLDAvis@3.4.0/pyLDAvis/js/ldavis.v3.0.0.js\", function(){\n",
       "                 new LDAvis(\"#\" + \"ldavis_el90971148697278248224168984\", ldavis_el90971148697278248224168984_data);\n",
       "            })\n",
       "         });\n",
       "}\n",
       "</script>"
      ],
      "text/plain": [
       "<IPython.core.display.HTML object>"
      ]
     },
     "execution_count": 119,
     "metadata": {},
     "output_type": "execute_result"
    }
   ],
   "source": [
    "pyLDAvis.enable_notebook(local=True)\n",
    "\n",
    "vis = pyLDAvis.gensim.prepare(lda_model, corpus, id2word, mds='mmds', R=10)\n",
    "\n",
    "pyLDAvis.display(vis)"
   ]
  },
  {
   "cell_type": "markdown",
   "metadata": {},
   "source": [
    "## Embedding to Identify Similar Words / Model with pretrained-embedding"
   ]
  },
  {
   "cell_type": "markdown",
   "metadata": {},
   "source": [
    "### Using word2vec"
   ]
  },
  {
   "cell_type": "code",
   "execution_count": 18,
   "metadata": {},
   "outputs": [],
   "source": [
    "# Word2Vec Model based on the tokenised reviews\n",
    "\n",
    "model_w2v = Word2Vec(sentences=df['tokens'], vector_size=100, window=5, min_count=1, workers=4)\n",
    "model_w2v.save(\"word2vec.model\")"
   ]
  },
  {
   "cell_type": "markdown",
   "metadata": {},
   "source": [
    "### Using GloVe"
   ]
  },
  {
   "cell_type": "markdown",
   "metadata": {},
   "source": [
    "TO DO!"
   ]
  },
  {
   "cell_type": "markdown",
   "metadata": {},
   "source": [
    "### Visualization of Embeddings"
   ]
  },
  {
   "cell_type": "code",
   "execution_count": 19,
   "metadata": {},
   "outputs": [],
   "source": [
    "# Load your Word2Vec model\n",
    "model_w2v = Word2Vec.load(\"word2vec.model\")\n",
    "\n",
    "# Prepare the embedding matrix\n",
    "max_size = len(model_w2v.wv.index_to_key)\n",
    "embedding_dim = model_w2v.vector_size\n",
    "w2v = np.zeros((max_size, embedding_dim))\n",
    "\n",
    "# Create a directory for TensorBoard logs if it doesn't exist\n",
    "if not os.path.exists(\"runs\"):\n",
    "    os.makedirs(\"runs\")\n",
    "\n",
    "# Save the metadata (words)\n",
    "with open(\"runs/metadata.tsv\", \"w+\") as file_metadata:\n",
    "    for i, word in enumerate(model_w2v.wv.index_to_key[:max_size]):\n",
    "        w2v[i] = model_w2v.wv[word]\n",
    "        file_metadata.write(word + '\\n')\n",
    "\n",
    "# Create a TensorFlow embedding variable\n",
    "embedding_var = tf.Variable(w2v, trainable=False, name='embedding')\n",
    "\n",
    "# Create a checkpoint from embedding\n",
    "checkpoint = tf.train.Checkpoint(embedding=embedding_var)\n",
    "checkpoint.save(os.path.join(\"runs\", \"embedding.ckpt\"))\n",
    "\n",
    "# Set up the projector config\n",
    "config = projector.ProjectorConfig()\n",
    "embedding_config = config.embeddings.add()\n",
    "embedding_config.tensor_name = \"embedding/.ATTRIBUTES/VARIABLE_VALUE\"\n",
    "embedding_config.metadata_path = 'metadata.tsv'\n",
    "\n",
    "# Write the projector config file\n",
    "projector.visualize_embeddings(\"runs\", config)\n",
    "\n",
    "# Start TensorBoard: tensorboard --logdir=runs.\n",
    "# Access TensorBoard: http://localhost:6006"
   ]
  },
  {
   "cell_type": "markdown",
   "metadata": {},
   "source": [
    "### Euclidian / Cosine distance"
   ]
  },
  {
   "cell_type": "code",
   "execution_count": 14,
   "metadata": {},
   "outputs": [
    {
     "name": "stdout",
     "output_type": "stream",
     "text": [
      "distance 0.08259755373001099\n",
      "similarity: 0.7025662064552307\n"
     ]
    }
   ],
   "source": [
    "# Distance between two words\n",
    "dist = euclidean(model_w2v.wv['french'], model_w2v.wv['good'])\n",
    "print('distance', dist)\n",
    "\n",
    "# Similarity between two words\n",
    "similarity = 1 - cosine(model_w2v.wv['french'], model_w2v.wv['good'])\n",
    "print('similarity:', similarity)"
   ]
  },
  {
   "cell_type": "markdown",
   "metadata": {},
   "source": [
    "### Semantic search with an implementation of the cosine distance"
   ]
  },
  {
   "cell_type": "code",
   "execution_count": 24,
   "metadata": {},
   "outputs": [
    {
     "name": "stdout",
     "output_type": "stream",
     "text": [
      "[('experience', 0.7815940380096436), ('french', 0.7814168334007263), ('menu', 0.7722441554069519), ('restaurant', 0.7664408683776855), ('food', 0.7536170482635498)]\n"
     ]
    }
   ],
   "source": [
    "def semantic_search(query, model, top_n=5):\n",
    "    query_vector = model.wv[query]\n",
    "    similarities = {}\n",
    "\n",
    "    for word in model.wv.index_to_key:\n",
    "        if word != query:\n",
    "            similarities[word] = 1 - cosine(query_vector, model.wv[word])\n",
    "    \n",
    "    return sorted(similarities.items(), key=lambda x: x[1], reverse=True)[:top_n]\n",
    "\n",
    "# Example usage - We'll have to use this in our application for our user\n",
    "results = semantic_search('service', model_w2v)\n",
    "print(results)"
   ]
  },
  {
   "cell_type": "markdown",
   "metadata": {},
   "source": [
    "## Supervised Learning"
   ]
  },
  {
   "cell_type": "markdown",
   "metadata": {},
   "source": [
    "### TF-IDF"
   ]
  },
  {
   "cell_type": "markdown",
   "metadata": {},
   "source": [
    "Maybe use the n-grams here!"
   ]
  },
  {
   "cell_type": "code",
   "execution_count": 21,
   "metadata": {},
   "outputs": [
    {
     "ename": "NameError",
     "evalue": "name 'labels' is not defined",
     "output_type": "error",
     "traceback": [
      "\u001b[0;31m---------------------------------------------------------------------------\u001b[0m",
      "\u001b[0;31mNameError\u001b[0m                                 Traceback (most recent call last)",
      "Cell \u001b[0;32mIn[21], line 13\u001b[0m\n\u001b[1;32m     10\u001b[0m X_tfidf \u001b[38;5;241m=\u001b[39m tfidf_vectorizer\u001b[38;5;241m.\u001b[39mfit_transform(df[\u001b[38;5;124m'\u001b[39m\u001b[38;5;124mtokens\u001b[39m\u001b[38;5;124m'\u001b[39m])\n\u001b[1;32m     12\u001b[0m \u001b[38;5;66;03m# Example with a Naive Bayes classifier for a classification task\u001b[39;00m\n\u001b[0;32m---> 13\u001b[0m X_train, X_test, y_train, y_test \u001b[38;5;241m=\u001b[39m train_test_split(X_tfidf, \u001b[43mlabels\u001b[49m, test_size\u001b[38;5;241m=\u001b[39m\u001b[38;5;241m0.2\u001b[39m)\n\u001b[1;32m     14\u001b[0m model \u001b[38;5;241m=\u001b[39m MultinomialNB()\n\u001b[1;32m     15\u001b[0m model\u001b[38;5;241m.\u001b[39mfit(X_train, y_train)\n",
      "\u001b[0;31mNameError\u001b[0m: name 'labels' is not defined"
     ]
    }
   ],
   "source": [
    "from sklearn.feature_extraction.text import TfidfVectorizer\n",
    "from sklearn.model_selection import train_test_split\n",
    "from sklearn.naive_bayes import MultinomialNB\n",
    "from sklearn.metrics import classification_report\n",
    "\n",
    "df = pd.read_csv('current_yelp_reviews.csv')\n",
    "\n",
    "# Assuming 'cleaned_texts' is your preprocessed text data\n",
    "tfidf_vectorizer = TfidfVectorizer()\n",
    "X_tfidf = tfidf_vectorizer.fit_transform(df['tokens'])\n",
    "\n",
    "# Example with a Naive Bayes classifier for a classification task\n",
    "X_train, X_test, y_train, y_test = train_test_split(X_tfidf, labels, test_size=0.2)\n",
    "model = MultinomialNB()\n",
    "model.fit(X_train, y_train)\n",
    "\n",
    "# Evaluate the model\n",
    "predictions = model.predict(X_test)\n",
    "print(classification_report(y_test, predictions))\n",
    "\n",
    "# tfidf_vectorizer = TfidfVectorizer(ngram_range=(1, 2), min_df=3, max_df=0.9)"
   ]
  },
  {
   "cell_type": "code",
   "execution_count": 22,
   "metadata": {},
   "outputs": [
    {
     "ename": "NameError",
     "evalue": "name 'labels' is not defined",
     "output_type": "error",
     "traceback": [
      "\u001b[0;31m---------------------------------------------------------------------------\u001b[0m",
      "\u001b[0;31mNameError\u001b[0m                                 Traceback (most recent call last)",
      "Cell \u001b[0;32mIn[22], line 13\u001b[0m\n\u001b[1;32m     10\u001b[0m X_tfidf \u001b[38;5;241m=\u001b[39m tfidf_vectorizer\u001b[38;5;241m.\u001b[39mfit_transform(df[\u001b[38;5;124m'\u001b[39m\u001b[38;5;124mtokens\u001b[39m\u001b[38;5;124m'\u001b[39m])  \u001b[38;5;66;03m# cleaned_texts is your preprocessed text data\u001b[39;00m\n\u001b[1;32m     12\u001b[0m \u001b[38;5;66;03m# Splitting data for training and testing\u001b[39;00m\n\u001b[0;32m---> 13\u001b[0m X_train, X_test, y_train, y_test \u001b[38;5;241m=\u001b[39m train_test_split(X_tfidf, \u001b[43mlabels\u001b[49m, test_size\u001b[38;5;241m=\u001b[39m\u001b[38;5;241m0.2\u001b[39m)\n\u001b[1;32m     15\u001b[0m \u001b[38;5;66;03m# Training a classifier (e.g., Naive Bayes)\u001b[39;00m\n\u001b[1;32m     16\u001b[0m clf \u001b[38;5;241m=\u001b[39m MultinomialNB()\n",
      "\u001b[0;31mNameError\u001b[0m: name 'labels' is not defined"
     ]
    }
   ],
   "source": [
    "from sklearn.feature_extraction.text import TfidfVectorizer\n",
    "from sklearn.naive_bayes import MultinomialNB\n",
    "from sklearn.model_selection import train_test_split\n",
    "from sklearn.metrics import classification_report\n",
    "\n",
    "df = pd.read_csv('current_yelp_reviews.csv')\n",
    "\n",
    "# Vectorization\n",
    "tfidf_vectorizer = TfidfVectorizer()\n",
    "X_tfidf = tfidf_vectorizer.fit_transform(df['tokens'])  # cleaned_texts is your preprocessed text data\n",
    "\n",
    "# Splitting data for training and testing\n",
    "X_train, X_test, y_train, y_test = train_test_split(X_tfidf, labels, test_size=0.2)\n",
    "\n",
    "# Training a classifier (e.g., Naive Bayes)\n",
    "clf = MultinomialNB()\n",
    "clf.fit(X_train, y_train)\n",
    "\n",
    "# Evaluation\n",
    "y_pred = clf.predict(X_test)\n",
    "print(classification_report(y_test, y_pred))"
   ]
  },
  {
   "cell_type": "code",
   "execution_count": null,
   "metadata": {},
   "outputs": [],
   "source": [
    "from tensorflow.keras.models import Sequential\n",
    "from tensorflow.keras.layers import Embedding, Flatten, Dense\n",
    "\n",
    "model = Sequential()\n",
    "model.add(Embedding(input_dim=vocab_size, output_dim=embedding_dim, input_length=max_length))\n",
    "model.add(Flatten())\n",
    "model.add(Dense(1, activation='sigmoid'))  # Assuming binary classification\n",
    "\n",
    "model.compile(optimizer='adam', loss='binary_crossentropy', metrics=['accuracy'])\n",
    "model.summary()\n",
    "\n",
    "# Train your model\n",
    "# model.fit(...)"
   ]
  },
  {
   "cell_type": "code",
   "execution_count": 27,
   "metadata": {},
   "outputs": [
    {
     "name": "stderr",
     "output_type": "stream",
     "text": [
      "2024-01-16 00:23:44.385607: I tensorflow/core/grappler/optimizers/custom_graph_optimizer_registry.cc:114] Plugin optimizer for device_type GPU is enabled.\n",
      "2024-01-16 00:23:46.592932: I tensorflow/core/grappler/optimizers/custom_graph_optimizer_registry.cc:114] Plugin optimizer for device_type GPU is enabled.\n"
     ]
    },
    {
     "name": "stdout",
     "output_type": "stream",
     "text": [
      "tf.Tensor(\n",
      "[[-0.05521629  0.00166136  0.01443822 ... -0.03156644 -0.03464142\n",
      "  -0.00233329]\n",
      " [-0.01928866 -0.01288783  0.01626975 ... -0.04711485 -0.04085484\n",
      "  -0.00710738]\n",
      " [ 0.01989324  0.01594443 -0.0640111  ...  0.03277976 -0.0025236\n",
      "   0.02216191]\n",
      " ...\n",
      " [-0.00392908  0.07070225  0.07606924 ... -0.03801232  0.06217748\n",
      "   0.03279895]\n",
      " [-0.05066155 -0.01717728  0.02526633 ... -0.06212594  0.00733587\n",
      "   0.00824614]\n",
      " [ 0.02396129 -0.04169538  0.03485788 ... -0.03459991 -0.04811675\n",
      "  -0.00109951]], shape=(618, 512), dtype=float32)\n"
     ]
    }
   ],
   "source": [
    "import tensorflow_hub as hub\n",
    "\n",
    "# Load the pre-trained Universal Sentence Encoder model\n",
    "embed = hub.load(\"https://tfhub.dev/google/universal-sentence-encoder/4\")\n",
    "\n",
    "df = pd.read_csv('current_yelp_reviews.csv')\n",
    "\n",
    "# Embed a list of sentences\n",
    "embeddings = embed(df['text'])\n",
    "\n",
    "print(embeddings)\n",
    "\n",
    "# Use these embeddings for further tasks\n",
    "\n",
    "# Let's juste use BERT but still try USE"
   ]
  },
  {
   "cell_type": "code",
   "execution_count": null,
   "metadata": {},
   "outputs": [],
   "source": [
    "# Let's use gpt 2!"
   ]
  }
 ],
 "metadata": {
  "kernelspec": {
   "display_name": "base",
   "language": "python",
   "name": "python3"
  },
  "language_info": {
   "codemirror_mode": {
    "name": "ipython",
    "version": 3
   },
   "file_extension": ".py",
   "mimetype": "text/x-python",
   "name": "python",
   "nbconvert_exporter": "python",
   "pygments_lexer": "ipython3",
   "version": "3.10.12"
  }
 },
 "nbformat": 4,
 "nbformat_minor": 2
}
